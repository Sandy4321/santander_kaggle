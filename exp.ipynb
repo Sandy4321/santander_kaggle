{
 "cells": [
  {
   "cell_type": "code",
   "execution_count": 1,
   "metadata": {
    "collapsed": true
   },
   "outputs": [],
   "source": [
    "import numpy as np\n",
    "import pandas as pd\n",
    "import matplotlib.pyplot as plt\n",
    "%matplotlib inline"
   ]
  },
  {
   "cell_type": "code",
   "execution_count": 4,
   "metadata": {
    "collapsed": false
   },
   "outputs": [],
   "source": [
    "train = pd.read_csv('data/train.csv.gz', index_col='ID')\n",
    "test = pd.read_csv('data/test.csv.gz', index_col='ID')"
   ]
  },
  {
   "cell_type": "code",
   "execution_count": 5,
   "metadata": {
    "collapsed": true
   },
   "outputs": [],
   "source": [
    "dlist = list()\n",
    "for c in train.columns:\n",
    "    if train[c].unique().shape[0] == 1:\n",
    "        #print(c)\n",
    "        dlist.append(c)\n",
    "train.drop(dlist, axis=1, inplace=True)\n",
    "test.drop(dlist, axis=1, inplace=True)"
   ]
  },
  {
   "cell_type": "code",
   "execution_count": 4,
   "metadata": {
    "collapsed": true
   },
   "outputs": [],
   "source": [
    "for cone in train.columns:\n",
    "    for ctwo in train.columns:\n",
    "        if cone not in train.columns:\n",
    "            continue\n",
    "        if ctwo not in train.columns:\n",
    "            continue\n",
    "        if cone != ctwo and np.all(train[cone] == train[ctwo]):\n",
    "            #print(cone, ctwo)\n",
    "            train.drop(ctwo, axis=1, inplace=True)\n",
    "            test.drop(ctwo, axis=1, inplace=True)"
   ]
  },
  {
   "cell_type": "code",
   "execution_count": 7,
   "metadata": {
    "collapsed": true
   },
   "outputs": [],
   "source": [
    "target = train.TARGET.values.copy()\n",
    "train.drop('TARGET', axis=1, inplace=True)"
   ]
  },
  {
   "cell_type": "code",
   "execution_count": 6,
   "metadata": {
    "collapsed": false
   },
   "outputs": [],
   "source": [
    "train.loc[:, 'var3'] += 1\n",
    "train.loc[train['var3']==-999998, 'var3'] = 0"
   ]
  },
  {
   "cell_type": "code",
   "execution_count": 7,
   "metadata": {
    "collapsed": true
   },
   "outputs": [],
   "source": [
    "test.loc[:, 'var3'] += 1\n",
    "test.loc[test['var3']==-999998, 'var3'] = 0"
   ]
  },
  {
   "cell_type": "markdown",
   "metadata": {},
   "source": [
    "# imp_ent_var16_ult1"
   ]
  },
  {
   "cell_type": "code",
   "execution_count": 8,
   "metadata": {
    "collapsed": false,
    "scrolled": true
   },
   "outputs": [
    {
     "name": "stdout",
     "output_type": "stream",
     "text": [
      "imp_ent_var16_ult1 float64 596 72301 (76020,)\n",
      "3719 0.0\n"
     ]
    },
    {
     "name": "stderr",
     "output_type": "stream",
     "text": [
      "/Library/Frameworks/Python.framework/Versions/3.5/lib/python3.5/site-packages/ipykernel/__main__.py:6: FutureWarning: in the future, boolean array-likes will be handled as a boolean array index\n"
     ]
    },
    {
     "data": {
      "image/png": "[encoded data removed]",
      "text/plain": [
       "<matplotlib.figure.Figure at 0x10be14048>"
      ]
     },
     "metadata": {},
     "output_type": "display_data"
    },
    {
     "data": {
      "image/png": "[encoded data removed]",
      "text/plain": [
       "<matplotlib.figure.Figure at 0x108c2e6a0>"
      ]
     },
     "metadata": {},
     "output_type": "display_data"
    },
    {
     "data": {
      "image/png": "[encoded data removed]",
      "text/plain": [
       "<matplotlib.figure.Figure at 0x108c27860>"
      ]
     },
     "metadata": {},
     "output_type": "display_data"
    }
   ],
   "source": [
    "i = 2\n",
    "print(train.columns[i], train.dtypes[i], \n",
    "      len(np.unique(train.ix[:, i])), np.sum(train.ix[:, i]==0),\n",
    "      train.ix[:, i].shape)\n",
    "ar = train.ix[train.ix[:, i] != 0, i]\n",
    "print(len(ar), target[train.ix[:, i] != 0].mean())\n",
    "plt.boxplot(ar.values)\n",
    "plt.show()\n",
    "plt.hist(ar.values, bins=50)\n",
    "plt.show()\n",
    "plt.hist(np.log(ar.values), bins=50);"
   ]
  },
  {
   "cell_type": "code",
   "execution_count": 8,
   "metadata": {
    "collapsed": false
   },
   "outputs": [
    {
     "name": "stdout",
     "output_type": "stream",
     "text": [
      "108\n"
     ]
    }
   ],
   "source": [
    "fbinfeats = []\n",
    "for i in range(len(train.columns)):\n",
    "    #ar = train.loc[train.loc[:, c] != 0, c]\n",
    "    if target[(train.ix[:, i] != 0).values].mean() == 0.0:\n",
    "        fbinfeats.append(i)\n",
    "    #elif train[c].dtype == 'int64' and target[(train.loc[:, c] != 0).values].mean() == 0.0:\n",
    "    #    print(c, '\\t', len(train[c].unique()))\n",
    "    #print(len(ar), target[train.ix[:, i] != 0].mean())\n",
    "print(len(fbinfeats))"
   ]
  },
  {
   "cell_type": "code",
   "execution_count": 9,
   "metadata": {
    "collapsed": false
   },
   "outputs": [
    {
     "data": {
      "text/plain": [
       "array(['ind_var6_0', 'ind_var6', 'ind_var13_medio_0', 'ind_var13_medio',\n",
       "       'ind_var18_0', 'ind_var18', 'ind_var20_0', 'ind_var20',\n",
       "       'ind_var29_0', 'ind_var29', 'ind_var33_0', 'ind_var33',\n",
       "       'ind_var34_0', 'ind_var34', 'num_var6_0', 'num_var6',\n",
       "       'num_var13_medio_0', 'num_var13_medio', 'num_var18_0', 'num_var18',\n",
       "       'num_var20_0', 'num_var20', 'num_op_var40_hace3', 'num_var29_0',\n",
       "       'num_var29', 'num_var33_0', 'num_var33', 'num_var34_0', 'num_var34',\n",
       "       'saldo_var6', 'saldo_var13_medio', 'saldo_var18', 'saldo_var20',\n",
       "       'saldo_var29', 'saldo_var33', 'saldo_var34',\n",
       "       'delta_imp_amort_var18_1y3', 'delta_imp_amort_var34_1y3',\n",
       "       'delta_imp_aport_var33_1y3', 'delta_imp_reemb_var33_1y3',\n",
       "       'delta_imp_trasp_var17_in_1y3', 'delta_imp_trasp_var17_out_1y3',\n",
       "       'delta_imp_trasp_var33_in_1y3', 'delta_imp_trasp_var33_out_1y3',\n",
       "       'delta_imp_venta_var44_1y3', 'delta_num_aport_var33_1y3',\n",
       "       'delta_num_reemb_var33_1y3', 'delta_num_trasp_var17_in_1y3',\n",
       "       'delta_num_trasp_var17_out_1y3', 'delta_num_trasp_var33_in_1y3',\n",
       "       'delta_num_trasp_var33_out_1y3', 'delta_num_venta_var44_1y3',\n",
       "       'imp_amort_var18_ult1', 'imp_amort_var34_ult1',\n",
       "       'imp_aport_var17_hace3', 'imp_aport_var33_hace3',\n",
       "       'imp_aport_var33_ult1', 'imp_var7_emit_ult1',\n",
       "       'imp_compra_var44_hace3', 'imp_reemb_var17_hace3',\n",
       "       'imp_reemb_var33_ult1', 'imp_trasp_var17_in_hace3',\n",
       "       'imp_trasp_var17_in_ult1', 'imp_trasp_var17_out_ult1',\n",
       "       'imp_trasp_var33_in_hace3', 'imp_trasp_var33_in_ult1',\n",
       "       'imp_trasp_var33_out_ult1', 'imp_venta_var44_hace3',\n",
       "       'imp_venta_var44_ult1', 'ind_var7_emit_ult1',\n",
       "       'num_aport_var17_hace3', 'num_aport_var33_hace3',\n",
       "       'num_aport_var33_ult1', 'num_var7_emit_ult1',\n",
       "       'num_compra_var44_hace3', 'num_meses_var13_largo_ult3',\n",
       "       'num_meses_var13_medio_ult3', 'num_meses_var29_ult3',\n",
       "       'num_meses_var33_ult3', 'num_reemb_var17_hace3',\n",
       "       'num_reemb_var33_ult1', 'num_trasp_var17_in_hace3',\n",
       "       'num_trasp_var17_in_ult1', 'num_trasp_var17_out_ult1',\n",
       "       'num_trasp_var33_in_hace3', 'num_trasp_var33_in_ult1',\n",
       "       'num_trasp_var33_out_ult1', 'num_venta_var44_hace3',\n",
       "       'num_venta_var44_ult1', 'saldo_medio_var13_largo_hace2',\n",
       "       'saldo_medio_var13_largo_hace3', 'saldo_medio_var13_largo_ult1',\n",
       "       'saldo_medio_var13_largo_ult3', 'saldo_medio_var13_medio_hace2',\n",
       "       'saldo_medio_var13_medio_ult1', 'saldo_medio_var13_medio_ult3',\n",
       "       'saldo_medio_var17_hace2', 'saldo_medio_var17_hace3',\n",
       "       'saldo_medio_var29_hace2', 'saldo_medio_var29_hace3',\n",
       "       'saldo_medio_var29_ult1', 'saldo_medio_var29_ult3',\n",
       "       'saldo_medio_var33_hace2', 'saldo_medio_var33_hace3',\n",
       "       'saldo_medio_var33_ult1', 'saldo_medio_var33_ult3',\n",
       "       'saldo_medio_var44_hace2', 'saldo_medio_var44_hace3'], dtype=object)"
      ]
     },
     "execution_count": 9,
     "metadata": {},
     "output_type": "execute_result"
    }
   ],
   "source": [
    "train.columns.values[fbinfeats]"
   ]
  },
  {
   "cell_type": "code",
   "execution_count": 11,
   "metadata": {
    "collapsed": true
   },
   "outputs": [],
   "source": [
    "for feat in fbinfeats:\n",
    "    train.ix[:, feat] = (train.ix[:, feat] != 0).values.astype('int64')\n",
    "    test.ix[:, feat] = (test.ix[:, feat] != 0).values.astype('int64')"
   ]
  },
  {
   "cell_type": "code",
   "execution_count": 12,
   "metadata": {
    "collapsed": false
   },
   "outputs": [
    {
     "data": {
      "text/plain": [
       "11297"
      ]
     },
     "execution_count": 12,
     "metadata": {},
     "output_type": "execute_result"
    }
   ],
   "source": [
    "import gc"
   ]
  },
  {
   "cell_type": "code",
   "execution_count": 29,
   "metadata": {
    "collapsed": false
   },
   "outputs": [
    {
     "data": {
      "text/plain": [
       "52882"
      ]
     },
     "execution_count": 29,
     "metadata": {},
     "output_type": "execute_result"
    }
   ],
   "source": [
    "gc.collect()"
   ]
  },
  {
   "cell_type": "code",
   "execution_count": 20,
   "metadata": {
    "collapsed": false
   },
   "outputs": [],
   "source": [
    "train.loc[:, 'imp_ent_var16_ult1'] = np.log((train.loc[:, 'imp_ent_var16_ult1']).values + 1)\n",
    "test.loc[:, 'imp_ent_var16_ult1'] = np.log((test.loc[:, 'imp_ent_var16_ult1']).values + 1)"
   ]
  },
  {
   "cell_type": "code",
   "execution_count": 25,
   "metadata": {
    "collapsed": true
   },
   "outputs": [],
   "source": [
    "train.loc[:, 'imp_op_var39_comer_ult1'] = np.log((train.loc[:, 'imp_op_var39_comer_ult1']).values + 1)\n",
    "test.loc[:, 'imp_op_var39_comer_ult1'] = np.log((test.loc[:, 'imp_op_var39_comer_ult1']).values + 1)"
   ]
  },
  {
   "cell_type": "code",
   "execution_count": 28,
   "metadata": {
    "collapsed": true
   },
   "outputs": [],
   "source": [
    "logvar = 'imp_op_var39_comer_ult3'\n",
    "train.loc[:, logvar] = np.log((train.loc[:, logvar]).values + 1)\n",
    "test.loc[:, logvar] = np.log((test.loc[:, logvar]).values + 1)"
   ]
  },
  {
   "cell_type": "code",
   "execution_count": 31,
   "metadata": {
    "collapsed": true
   },
   "outputs": [],
   "source": [
    "logvar = 'imp_op_var40_comer_ult1'\n",
    "train.loc[:, logvar] = np.log((train.loc[:, logvar]).values + 1)\n",
    "test.loc[:, logvar] = np.log((test.loc[:, logvar]).values + 1)"
   ]
  },
  {
   "cell_type": "code",
   "execution_count": 33,
   "metadata": {
    "collapsed": true
   },
   "outputs": [],
   "source": [
    "logvar = 'imp_op_var40_comer_ult3'\n",
    "train.loc[:, logvar] = np.log((train.loc[:, logvar]).values + 1)\n",
    "test.loc[:, logvar] = np.log((test.loc[:, logvar]).values + 1)"
   ]
  },
  {
   "cell_type": "code",
   "execution_count": 35,
   "metadata": {
    "collapsed": true
   },
   "outputs": [],
   "source": [
    "logvar = 'imp_op_var40_efect_ult1'\n",
    "train.loc[:, logvar] = np.log((train.loc[:, logvar]).values + 1)\n",
    "test.loc[:, logvar] = np.log((test.loc[:, logvar]).values + 1)"
   ]
  },
  {
   "cell_type": "code",
   "execution_count": 37,
   "metadata": {
    "collapsed": true
   },
   "outputs": [],
   "source": [
    "logvar = 'imp_op_var40_efect_ult3'\n",
    "train.loc[:, logvar] = np.log((train.loc[:, logvar]).values + 1)\n",
    "test.loc[:, logvar] = np.log((test.loc[:, logvar]).values + 1)"
   ]
  },
  {
   "cell_type": "code",
   "execution_count": 39,
   "metadata": {
    "collapsed": true
   },
   "outputs": [],
   "source": [
    "logvar = 'imp_op_var40_ult1'\n",
    "train.loc[:, logvar] = np.log((train.loc[:, logvar]).values + 1)\n",
    "test.loc[:, logvar] = np.log((test.loc[:, logvar]).values + 1)"
   ]
  },
  {
   "cell_type": "code",
   "execution_count": 42,
   "metadata": {
    "collapsed": true
   },
   "outputs": [],
   "source": [
    "logvar = 'imp_op_var41_comer_ult1'\n",
    "train.loc[:, logvar] = np.log((train.loc[:, logvar]).values + 1)\n",
    "test.loc[:, logvar] = np.log((test.loc[:, logvar]).values + 1)"
   ]
  },
  {
   "cell_type": "code",
   "execution_count": 44,
   "metadata": {
    "collapsed": true
   },
   "outputs": [],
   "source": [
    "logvar = 'imp_op_var41_comer_ult3'\n",
    "train.loc[:, logvar] = np.log((train.loc[:, logvar]).values + 1)\n",
    "test.loc[:, logvar] = np.log((test.loc[:, logvar]).values + 1)"
   ]
  },
  {
   "cell_type": "code",
   "execution_count": 46,
   "metadata": {
    "collapsed": true
   },
   "outputs": [],
   "source": [
    "logvar = 'imp_op_var41_efect_ult1'\n",
    "train.loc[:, logvar] = np.log((train.loc[:, logvar]).values + 1)\n",
    "test.loc[:, logvar] = np.log((test.loc[:, logvar]).values + 1)"
   ]
  },
  {
   "cell_type": "code",
   "execution_count": 49,
   "metadata": {
    "collapsed": true
   },
   "outputs": [],
   "source": [
    "logvar = 'imp_op_var41_efect_ult3'\n",
    "train.loc[:, logvar] = np.log((train.loc[:, logvar]).values + 1)\n",
    "test.loc[:, logvar] = np.log((test.loc[:, logvar]).values + 1)"
   ]
  },
  {
   "cell_type": "code",
   "execution_count": 51,
   "metadata": {
    "collapsed": true
   },
   "outputs": [],
   "source": [
    "logvar = 'imp_op_var41_ult1'\n",
    "train.loc[:, logvar] = np.log((train.loc[:, logvar]).values + 1)\n",
    "test.loc[:, logvar] = np.log((test.loc[:, logvar]).values + 1)"
   ]
  },
  {
   "cell_type": "code",
   "execution_count": 53,
   "metadata": {
    "collapsed": true
   },
   "outputs": [],
   "source": [
    "logvar = 'imp_op_var39_efect_ult1'\n",
    "train.loc[:, logvar] = np.log((train.loc[:, logvar]).values + 1)\n",
    "test.loc[:, logvar] = np.log((test.loc[:, logvar]).values + 1)"
   ]
  },
  {
   "cell_type": "code",
   "execution_count": 55,
   "metadata": {
    "collapsed": true
   },
   "outputs": [],
   "source": [
    "logvar = 'imp_op_var39_efect_ult3'\n",
    "train.loc[:, logvar] = np.log((train.loc[:, logvar]).values + 1)\n",
    "test.loc[:, logvar] = np.log((test.loc[:, logvar]).values + 1)"
   ]
  },
  {
   "cell_type": "code",
   "execution_count": 57,
   "metadata": {
    "collapsed": true
   },
   "outputs": [],
   "source": [
    "logvar = 'imp_op_var39_ult1'\n",
    "train.loc[:, logvar] = np.log((train.loc[:, logvar]).values + 1)\n",
    "test.loc[:, logvar] = np.log((test.loc[:, logvar]).values + 1)"
   ]
  },
  {
   "cell_type": "code",
   "execution_count": 59,
   "metadata": {
    "collapsed": true
   },
   "outputs": [],
   "source": [
    "logvar = 'imp_sal_var16_ult1'\n",
    "train.loc[:, logvar] = np.log((train.loc[:, logvar]).values + 1)\n",
    "test.loc[:, logvar] = np.log((test.loc[:, logvar]).values + 1)"
   ]
  },
  {
   "cell_type": "code",
   "execution_count": 120,
   "metadata": {
    "collapsed": true
   },
   "outputs": [],
   "source": [
    "train.ix[:, 75] = (train.ix[:, 75] != 0).values.astype('int64')\n",
    "test.ix[:, 75] = (test.ix[:, 75] != 0).values.astype('int64')"
   ]
  },
  {
   "cell_type": "code",
   "execution_count": 169,
   "metadata": {
    "collapsed": true
   },
   "outputs": [],
   "source": [
    "train.ix[:, 121] = (train.ix[:, 121] != 0).values.astype('int64')\n",
    "test.ix[:, 121] = (test.ix[:, 121] != 0).values.astype('int64')"
   ]
  },
  {
   "cell_type": "code",
   "execution_count": 188,
   "metadata": {
    "collapsed": true
   },
   "outputs": [],
   "source": [
    "logvar = 'saldo_var1'\n",
    "train.loc[:, logvar] = np.log((train.loc[:, logvar]).values + 1)\n",
    "test.loc[:, logvar] = np.log((test.loc[:, logvar]).values + 1)"
   ]
  },
  {
   "cell_type": "code",
   "execution_count": 201,
   "metadata": {
    "collapsed": true
   },
   "outputs": [],
   "source": [
    "bilogvar = 'saldo_var5'\n",
    "train.loc[train.loc[:, bilogvar] >= 0, bilogvar] = np.log((train.loc[train.loc[:, bilogvar]>=0, bilogvar]).values+1)\n",
    "train.loc[train.loc[:, bilogvar] < 0, bilogvar] = -np.log(np.abs(train.loc[train[bilogvar] < 0, bilogvar])+1)\n",
    "test.loc[test.loc[:, bilogvar] >= 0, bilogvar] = np.log((test.loc[test.loc[:, bilogvar]>=0, bilogvar]).values+1)\n",
    "test.loc[test.loc[:, bilogvar] < 0, bilogvar] = -np.log(np.abs(test.loc[test[bilogvar] < 0, bilogvar])+1)"
   ]
  },
  {
   "cell_type": "code",
   "execution_count": 206,
   "metadata": {
    "collapsed": true
   },
   "outputs": [],
   "source": [
    "bilogvar = 'saldo_var8'\n",
    "train.loc[train.loc[:, bilogvar] >= 0, bilogvar] = np.log((train.loc[train.loc[:, bilogvar]>=0, bilogvar]).values+1)\n",
    "train.loc[train.loc[:, bilogvar] < 0, bilogvar] = -np.log(np.abs(train.loc[train[bilogvar] < 0, bilogvar])+1)\n",
    "test.loc[test.loc[:, bilogvar] >= 0, bilogvar] = np.log((test.loc[test.loc[:, bilogvar]>=0, bilogvar]).values+1)\n",
    "test.loc[test.loc[:, bilogvar] < 0, bilogvar] = -np.log(np.abs(test.loc[test[bilogvar] < 0, bilogvar])+1)"
   ]
  },
  {
   "cell_type": "code",
   "execution_count": 209,
   "metadata": {
    "collapsed": true
   },
   "outputs": [],
   "source": [
    "logvar = 'saldo_var12'\n",
    "train.loc[:, logvar] = np.log((train.loc[:, logvar]).values + 1)\n",
    "test.loc[:, logvar] = np.log((test.loc[:, logvar]).values + 1)"
   ]
  },
  {
   "cell_type": "code",
   "execution_count": 211,
   "metadata": {
    "collapsed": true
   },
   "outputs": [],
   "source": [
    "logvar = 'saldo_var13_corto'\n",
    "train.loc[:, logvar] = np.log((train.loc[:, logvar]).values + 1)\n",
    "test.loc[:, logvar] = np.log((test.loc[:, logvar]).values + 1)"
   ]
  },
  {
   "cell_type": "code",
   "execution_count": 213,
   "metadata": {
    "collapsed": true
   },
   "outputs": [],
   "source": [
    "logvar = 'saldo_var13_largo'\n",
    "train.loc[:, logvar] = np.log((train.loc[:, logvar]).values + 1)\n",
    "test.loc[:, logvar] = np.log((test.loc[:, logvar]).values + 1)"
   ]
  },
  {
   "cell_type": "code",
   "execution_count": 216,
   "metadata": {
    "collapsed": true
   },
   "outputs": [],
   "source": [
    "logvar = 'saldo_var13'\n",
    "train.loc[:, logvar] = np.log((train.loc[:, logvar]).values + 1)\n",
    "test.loc[:, logvar] = np.log((test.loc[:, logvar]).values + 1)"
   ]
  },
  {
   "cell_type": "code",
   "execution_count": 218,
   "metadata": {
    "collapsed": true
   },
   "outputs": [],
   "source": [
    "logvar = 'saldo_var14'\n",
    "train.loc[:, logvar] = np.log((train.loc[:, logvar]).values + 1)\n",
    "test.loc[:, logvar] = np.log((test.loc[:, logvar]).values + 1)"
   ]
  },
  {
   "cell_type": "code",
   "execution_count": 220,
   "metadata": {
    "collapsed": true
   },
   "outputs": [],
   "source": [
    "logvar = 'saldo_var17'\n",
    "train.loc[:, logvar] = np.log((train.loc[:, logvar]).values + 1)\n",
    "test.loc[:, logvar] = np.log((test.loc[:, logvar]).values + 1)"
   ]
  },
  {
   "cell_type": "code",
   "execution_count": 224,
   "metadata": {
    "collapsed": true
   },
   "outputs": [],
   "source": [
    "logvar = 'saldo_var24'\n",
    "train.loc[:, logvar] = np.log((train.loc[:, logvar]).values + 1)\n",
    "test.loc[:, logvar] = np.log((test.loc[:, logvar]).values + 1)"
   ]
  },
  {
   "cell_type": "code",
   "execution_count": 226,
   "metadata": {
    "collapsed": true
   },
   "outputs": [],
   "source": [
    "logvar = 'saldo_var26'\n",
    "train.loc[:, logvar] = np.log((train.loc[:, logvar]).values + 1)\n",
    "test.loc[:, logvar] = np.log((test.loc[:, logvar]).values + 1)"
   ]
  },
  {
   "cell_type": "code",
   "execution_count": 228,
   "metadata": {
    "collapsed": true
   },
   "outputs": [],
   "source": [
    "logvar = 'saldo_var25'\n",
    "train.loc[:, logvar] = np.log((train.loc[:, logvar]).values + 1)\n",
    "test.loc[:, logvar] = np.log((test.loc[:, logvar]).values + 1)"
   ]
  },
  {
   "cell_type": "code",
   "execution_count": 230,
   "metadata": {
    "collapsed": true
   },
   "outputs": [],
   "source": [
    "bilogvar = 'saldo_var30'\n",
    "train.loc[train.loc[:, bilogvar] >= 0, bilogvar] = np.log((train.loc[train.loc[:, bilogvar]>=0, bilogvar]).values+1)\n",
    "train.loc[train.loc[:, bilogvar] < 0, bilogvar] = -np.log(np.abs(train.loc[train[bilogvar] < 0, bilogvar])+1)\n",
    "test.loc[test.loc[:, bilogvar] >= 0, bilogvar] = np.log((test.loc[test.loc[:, bilogvar]>=0, bilogvar]).values+1)\n",
    "test.loc[test.loc[:, bilogvar] < 0, bilogvar] = -np.log(np.abs(test.loc[test[bilogvar] < 0, bilogvar])+1)"
   ]
  },
  {
   "cell_type": "code",
   "execution_count": 232,
   "metadata": {
    "collapsed": true
   },
   "outputs": [],
   "source": [
    "logvar = 'saldo_var31'\n",
    "train.loc[:, logvar] = np.log((train.loc[:, logvar]).values + 1)\n",
    "test.loc[:, logvar] = np.log((test.loc[:, logvar]).values + 1)"
   ]
  },
  {
   "cell_type": "code",
   "execution_count": 234,
   "metadata": {
    "collapsed": true
   },
   "outputs": [],
   "source": [
    "logvar = 'saldo_var32'\n",
    "train.loc[:, logvar] = np.log((train.loc[:, logvar]).values + 1)\n",
    "test.loc[:, logvar] = np.log((test.loc[:, logvar]).values + 1)"
   ]
  },
  {
   "cell_type": "code",
   "execution_count": 238,
   "metadata": {
    "collapsed": true
   },
   "outputs": [],
   "source": [
    "logvar = 'saldo_var37'\n",
    "train.loc[:, logvar] = np.log((train.loc[:, logvar]).values + 1)\n",
    "test.loc[:, logvar] = np.log((test.loc[:, logvar]).values + 1)"
   ]
  },
  {
   "cell_type": "code",
   "execution_count": 240,
   "metadata": {
    "collapsed": true
   },
   "outputs": [],
   "source": [
    "logvar = 'saldo_var40'\n",
    "train.loc[:, logvar] = np.log((train.loc[:, logvar]).values + 1)\n",
    "test.loc[:, logvar] = np.log((test.loc[:, logvar]).values + 1)"
   ]
  },
  {
   "cell_type": "code",
   "execution_count": 244,
   "metadata": {
    "collapsed": false
   },
   "outputs": [],
   "source": [
    "bilogvar = 'saldo_var42'\n",
    "train.loc[train.loc[:, bilogvar] >= 0, bilogvar] = np.log((train.loc[train.loc[:, bilogvar]>=0, bilogvar]).values+1)\n",
    "train.loc[train.loc[:, bilogvar] < 0, bilogvar] = -np.log(np.abs(train.loc[train[bilogvar] < 0, bilogvar])+1)\n",
    "test.loc[test.loc[:, bilogvar] >= 0, bilogvar] = np.log((test.loc[test.loc[:, bilogvar]>=0, bilogvar]).values+1)\n",
    "test.loc[test.loc[:, bilogvar] < 0, bilogvar] = -np.log(np.abs(test.loc[test[bilogvar] < 0, bilogvar])+1)"
   ]
  },
  {
   "cell_type": "code",
   "execution_count": 246,
   "metadata": {
    "collapsed": true
   },
   "outputs": [],
   "source": [
    "logvar = 'saldo_var44'\n",
    "train.loc[:, logvar] = np.log((train.loc[:, logvar]).values + 1)\n",
    "test.loc[:, logvar] = np.log((test.loc[:, logvar]).values + 1)"
   ]
  },
  {
   "cell_type": "code",
   "execution_count": 256,
   "metadata": {
    "collapsed": true
   },
   "outputs": [],
   "source": [
    "train.ix[:, 159] = (train.ix[:, 159] != 0).values.astype('int64')\n",
    "test.ix[:, 159] = (test.ix[:, 159] != 0).values.astype('int64')"
   ]
  },
  {
   "cell_type": "code",
   "execution_count": 264,
   "metadata": {
    "collapsed": true
   },
   "outputs": [],
   "source": [
    "train.ix[:, 160] = (train.ix[:, 160] != 0).values.astype('int64')\n",
    "test.ix[:, 160] = (test.ix[:, 160] != 0).values.astype('int64')"
   ]
  },
  {
   "cell_type": "code",
   "execution_count": 279,
   "metadata": {
    "collapsed": true
   },
   "outputs": [],
   "source": [
    "logvar = 'imp_aport_var13_hace3'\n",
    "train.loc[:, logvar] = np.log((train.loc[:, logvar]).values + 1)\n",
    "test.loc[:, logvar] = np.log((test.loc[:, logvar]).values + 1)"
   ]
  },
  {
   "cell_type": "code",
   "execution_count": 281,
   "metadata": {
    "collapsed": true
   },
   "outputs": [],
   "source": [
    "logvar = 'imp_aport_var13_ult1'\n",
    "train.loc[:, logvar] = np.log((train.loc[:, logvar]).values + 1)\n",
    "test.loc[:, logvar] = np.log((test.loc[:, logvar]).values + 1)"
   ]
  },
  {
   "cell_type": "code",
   "execution_count": 284,
   "metadata": {
    "collapsed": true
   },
   "outputs": [],
   "source": [
    "logvar = 'imp_aport_var17_ult1'\n",
    "train.loc[:, logvar] = np.log((train.loc[:, logvar]).values + 1)\n",
    "test.loc[:, logvar] = np.log((test.loc[:, logvar]).values + 1)"
   ]
  },
  {
   "cell_type": "code",
   "execution_count": 289,
   "metadata": {
    "collapsed": true
   },
   "outputs": [],
   "source": [
    "logvar = 'imp_var7_recib_ult1'\n",
    "train.loc[:, logvar] = np.log((train.loc[:, logvar]).values + 1)\n",
    "test.loc[:, logvar] = np.log((test.loc[:, logvar]).values + 1)"
   ]
  },
  {
   "cell_type": "code",
   "execution_count": 292,
   "metadata": {
    "collapsed": true
   },
   "outputs": [],
   "source": [
    "logvar = 'imp_compra_var44_ult1'\n",
    "train.loc[:, logvar] = np.log((train.loc[:, logvar]).values + 1)\n",
    "test.loc[:, logvar] = np.log((test.loc[:, logvar]).values + 1)"
   ]
  },
  {
   "cell_type": "code",
   "execution_count": 294,
   "metadata": {
    "collapsed": true
   },
   "outputs": [],
   "source": [
    "logvar = 'imp_reemb_var13_ult1'\n",
    "train.loc[:, logvar] = np.log((train.loc[:, logvar]).values + 1)\n",
    "test.loc[:, logvar] = np.log((test.loc[:, logvar]).values + 1)"
   ]
  },
  {
   "cell_type": "code",
   "execution_count": 297,
   "metadata": {
    "collapsed": true
   },
   "outputs": [],
   "source": [
    "logvar = 'imp_reemb_var17_ult1'\n",
    "train.loc[:, logvar] = np.log((train.loc[:, logvar]).values + 1)\n",
    "test.loc[:, logvar] = np.log((test.loc[:, logvar]).values + 1)"
   ]
  },
  {
   "cell_type": "code",
   "execution_count": 300,
   "metadata": {
    "collapsed": true
   },
   "outputs": [],
   "source": [
    "logvar = 'imp_var43_emit_ult1'\n",
    "train.loc[:, logvar] = np.log((train.loc[:, logvar]).values + 1)\n",
    "test.loc[:, logvar] = np.log((test.loc[:, logvar]).values + 1)"
   ]
  },
  {
   "cell_type": "code",
   "execution_count": 302,
   "metadata": {
    "collapsed": true
   },
   "outputs": [],
   "source": [
    "logvar = 'imp_trans_var37_ult1'\n",
    "train.loc[:, logvar] = np.log((train.loc[:, logvar]).values + 1)\n",
    "test.loc[:, logvar] = np.log((test.loc[:, logvar]).values + 1)"
   ]
  },
  {
   "cell_type": "code",
   "execution_count": 362,
   "metadata": {
    "collapsed": true
   },
   "outputs": [],
   "source": [
    "train.ix[:, 247] = (train.ix[:, 247] != 0).values.astype('int64')\n",
    "test.ix[:, 247] = (test.ix[:, 247] != 0).values.astype('int64')"
   ]
  },
  {
   "cell_type": "code",
   "execution_count": 383,
   "metadata": {
    "collapsed": true
   },
   "outputs": [],
   "source": [
    "bilogvar = 'saldo_medio_var5_hace2'\n",
    "train.loc[train.loc[:, bilogvar] >= 0, bilogvar] = np.log((train.loc[train.loc[:, bilogvar]>=0, bilogvar]).values+1)\n",
    "train.loc[train.loc[:, bilogvar] < 0, bilogvar] = -np.log(np.abs(train.loc[train[bilogvar] < 0, bilogvar])+1)\n",
    "test.loc[test.loc[:, bilogvar] >= 0, bilogvar] = np.log((test.loc[test.loc[:, bilogvar]>=0, bilogvar]).values+1)\n",
    "test.loc[test.loc[:, bilogvar] < 0, bilogvar] = -np.log(np.abs(test.loc[test[bilogvar] < 0, bilogvar])+1)"
   ]
  },
  {
   "cell_type": "code",
   "execution_count": 385,
   "metadata": {
    "collapsed": true
   },
   "outputs": [],
   "source": [
    "bilogvar = 'saldo_medio_var5_hace3'\n",
    "train.loc[train.loc[:, bilogvar] >= 0, bilogvar] = np.log((train.loc[train.loc[:, bilogvar]>=0, bilogvar]).values+1)\n",
    "train.loc[train.loc[:, bilogvar] < 0, bilogvar] = -np.log(np.abs(train.loc[train[bilogvar] < 0, bilogvar])+1)\n",
    "test.loc[test.loc[:, bilogvar] >= 0, bilogvar] = np.log((test.loc[test.loc[:, bilogvar]>=0, bilogvar]).values+1)\n",
    "test.loc[test.loc[:, bilogvar] < 0, bilogvar] = -np.log(np.abs(test.loc[test[bilogvar] < 0, bilogvar])+1)"
   ]
  },
  {
   "cell_type": "code",
   "execution_count": 387,
   "metadata": {
    "collapsed": true
   },
   "outputs": [],
   "source": [
    "bilogvar = 'saldo_medio_var5_ult1'\n",
    "train.loc[train.loc[:, bilogvar] >= 0, bilogvar] = np.log((train.loc[train.loc[:, bilogvar]>=0, bilogvar]).values+1)\n",
    "train.loc[train.loc[:, bilogvar] < 0, bilogvar] = -np.log(np.abs(train.loc[train[bilogvar] < 0, bilogvar])+1)\n",
    "test.loc[test.loc[:, bilogvar] >= 0, bilogvar] = np.log((test.loc[test.loc[:, bilogvar]>=0, bilogvar]).values+1)\n",
    "test.loc[test.loc[:, bilogvar] < 0, bilogvar] = -np.log(np.abs(test.loc[test[bilogvar] < 0, bilogvar])+1)"
   ]
  },
  {
   "cell_type": "code",
   "execution_count": 389,
   "metadata": {
    "collapsed": true
   },
   "outputs": [],
   "source": [
    "bilogvar = 'saldo_medio_var5_ult3'\n",
    "train.loc[train.loc[:, bilogvar] >= 0, bilogvar] = np.log((train.loc[train.loc[:, bilogvar]>=0, bilogvar]).values+1)\n",
    "train.loc[train.loc[:, bilogvar] < 0, bilogvar] = -np.log(np.abs(train.loc[train[bilogvar] < 0, bilogvar])+1)\n",
    "test.loc[test.loc[:, bilogvar] >= 0, bilogvar] = np.log((test.loc[test.loc[:, bilogvar]>=0, bilogvar]).values+1)\n",
    "test.loc[test.loc[:, bilogvar] < 0, bilogvar] = -np.log(np.abs(test.loc[test[bilogvar] < 0, bilogvar])+1)"
   ]
  },
  {
   "cell_type": "code",
   "execution_count": 391,
   "metadata": {
    "collapsed": true
   },
   "outputs": [],
   "source": [
    "bilogvar = 'saldo_medio_var8_hace2'\n",
    "train.loc[train.loc[:, bilogvar] >= 0, bilogvar] = np.log((train.loc[train.loc[:, bilogvar]>=0, bilogvar]).values+1)\n",
    "train.loc[train.loc[:, bilogvar] < 0, bilogvar] = -np.log(np.abs(train.loc[train[bilogvar] < 0, bilogvar])+1)\n",
    "test.loc[test.loc[:, bilogvar] >= 0, bilogvar] = np.log((test.loc[test.loc[:, bilogvar]>=0, bilogvar]).values+1)\n",
    "test.loc[test.loc[:, bilogvar] < 0, bilogvar] = -np.log(np.abs(test.loc[test[bilogvar] < 0, bilogvar])+1)"
   ]
  },
  {
   "cell_type": "code",
   "execution_count": 393,
   "metadata": {
    "collapsed": true
   },
   "outputs": [],
   "source": [
    "logvar = 'saldo_medio_var8_hace3'\n",
    "train.loc[:, logvar] = np.log((train.loc[:, logvar]).values + 1)\n",
    "test.loc[:, logvar] = np.log((test.loc[:, logvar]).values + 1)"
   ]
  },
  {
   "cell_type": "code",
   "execution_count": 395,
   "metadata": {
    "collapsed": true
   },
   "outputs": [],
   "source": [
    "bilogvar = 'saldo_medio_var8_ult1'\n",
    "train.loc[train.loc[:, bilogvar] >= 0, bilogvar] = np.log((train.loc[train.loc[:, bilogvar]>=0, bilogvar]).values+1)\n",
    "train.loc[train.loc[:, bilogvar] < 0, bilogvar] = -np.log(np.abs(train.loc[train[bilogvar] < 0, bilogvar])+1)\n",
    "test.loc[test.loc[:, bilogvar] >= 0, bilogvar] = np.log((test.loc[test.loc[:, bilogvar]>=0, bilogvar]).values+1)\n",
    "test.loc[test.loc[:, bilogvar] < 0, bilogvar] = -np.log(np.abs(test.loc[test[bilogvar] < 0, bilogvar])+1)"
   ]
  },
  {
   "cell_type": "code",
   "execution_count": 397,
   "metadata": {
    "collapsed": true
   },
   "outputs": [],
   "source": [
    "bilogvar = 'saldo_medio_var8_ult3'\n",
    "train.loc[train.loc[:, bilogvar] >= 0, bilogvar] = np.log((train.loc[train.loc[:, bilogvar]>=0, bilogvar]).values+1)\n",
    "train.loc[train.loc[:, bilogvar] < 0, bilogvar] = -np.log(np.abs(train.loc[train[bilogvar] < 0, bilogvar])+1)\n",
    "test.loc[test.loc[:, bilogvar] >= 0, bilogvar] = np.log((test.loc[test.loc[:, bilogvar]>=0, bilogvar]).values+1)\n",
    "test.loc[test.loc[:, bilogvar] < 0, bilogvar] = -np.log(np.abs(test.loc[test[bilogvar] < 0, bilogvar])+1)"
   ]
  },
  {
   "cell_type": "code",
   "execution_count": 399,
   "metadata": {
    "collapsed": true
   },
   "outputs": [],
   "source": [
    "logvar = 'saldo_medio_var12_hace2'\n",
    "train.loc[:, logvar] = np.log((train.loc[:, logvar]).values + 1)\n",
    "test.loc[:, logvar] = np.log((test.loc[:, logvar]).values + 1)"
   ]
  },
  {
   "cell_type": "code",
   "execution_count": 401,
   "metadata": {
    "collapsed": true
   },
   "outputs": [],
   "source": [
    "logvar = 'saldo_medio_var12_hace3'\n",
    "train.loc[:, logvar] = np.log((train.loc[:, logvar]).values + 1)\n",
    "test.loc[:, logvar] = np.log((test.loc[:, logvar]).values + 1)"
   ]
  },
  {
   "cell_type": "code",
   "execution_count": 403,
   "metadata": {
    "collapsed": true
   },
   "outputs": [],
   "source": [
    "logvar = 'saldo_medio_var12_ult1'\n",
    "train.loc[:, logvar] = np.log((train.loc[:, logvar]).values + 1)\n",
    "test.loc[:, logvar] = np.log((test.loc[:, logvar]).values + 1)"
   ]
  },
  {
   "cell_type": "code",
   "execution_count": 405,
   "metadata": {
    "collapsed": true
   },
   "outputs": [],
   "source": [
    "logvar = 'saldo_medio_var12_ult3'\n",
    "train.loc[:, logvar] = np.log((train.loc[:, logvar]).values + 1)\n",
    "test.loc[:, logvar] = np.log((test.loc[:, logvar]).values + 1)"
   ]
  },
  {
   "cell_type": "code",
   "execution_count": 407,
   "metadata": {
    "collapsed": true
   },
   "outputs": [],
   "source": [
    "logvar = 'saldo_medio_var13_corto_hace2'\n",
    "train.loc[:, logvar] = np.log((train.loc[:, logvar]).values + 1)\n",
    "test.loc[:, logvar] = np.log((test.loc[:, logvar]).values + 1)"
   ]
  },
  {
   "cell_type": "code",
   "execution_count": 410,
   "metadata": {
    "collapsed": true
   },
   "outputs": [],
   "source": [
    "logvar = 'saldo_medio_var13_corto_hace3'\n",
    "train.loc[:, logvar] = np.log((train.loc[:, logvar]).values + 1)\n",
    "test.loc[:, logvar] = np.log((test.loc[:, logvar]).values + 1)"
   ]
  },
  {
   "cell_type": "code",
   "execution_count": 412,
   "metadata": {
    "collapsed": true
   },
   "outputs": [],
   "source": [
    "logvar = 'saldo_medio_var13_corto_ult1'\n",
    "train.loc[:, logvar] = np.log((train.loc[:, logvar]).values + 1)\n",
    "test.loc[:, logvar] = np.log((test.loc[:, logvar]).values + 1)"
   ]
  },
  {
   "cell_type": "code",
   "execution_count": 414,
   "metadata": {
    "collapsed": true
   },
   "outputs": [],
   "source": [
    "logvar = 'saldo_medio_var13_corto_ult3'\n",
    "train.loc[:, logvar] = np.log((train.loc[:, logvar]).values + 1)\n",
    "test.loc[:, logvar] = np.log((test.loc[:, logvar]).values + 1)"
   ]
  },
  {
   "cell_type": "code",
   "execution_count": 424,
   "metadata": {
    "collapsed": true
   },
   "outputs": [],
   "source": [
    "logvar = 'saldo_medio_var17_ult1'\n",
    "train.loc[:, logvar] = np.log((train.loc[:, logvar]).values + 1)\n",
    "test.loc[:, logvar] = np.log((test.loc[:, logvar]).values + 1)"
   ]
  },
  {
   "cell_type": "code",
   "execution_count": 426,
   "metadata": {
    "collapsed": true
   },
   "outputs": [],
   "source": [
    "logvar = 'saldo_medio_var17_ult3'\n",
    "train.loc[:, logvar] = np.log((train.loc[:, logvar]).values + 1)\n",
    "test.loc[:, logvar] = np.log((test.loc[:, logvar]).values + 1)"
   ]
  },
  {
   "cell_type": "code",
   "execution_count": 439,
   "metadata": {
    "collapsed": true
   },
   "outputs": [],
   "source": [
    "logvar = 'saldo_medio_var44_ult1'\n",
    "train.loc[:, logvar] = np.log((train.loc[:, logvar]).values + 1)\n",
    "test.loc[:, logvar] = np.log((test.loc[:, logvar]).values + 1)"
   ]
  },
  {
   "cell_type": "code",
   "execution_count": 441,
   "metadata": {
    "collapsed": true
   },
   "outputs": [],
   "source": [
    "logvar = 'saldo_medio_var44_ult3'\n",
    "train.loc[:, logvar] = np.log((train.loc[:, logvar]).values + 1)\n",
    "test.loc[:, logvar] = np.log((test.loc[:, logvar]).values + 1)"
   ]
  },
  {
   "cell_type": "code",
   "execution_count": 443,
   "metadata": {
    "collapsed": true
   },
   "outputs": [],
   "source": [
    "logvar = 'var38'\n",
    "train.loc[:, logvar] = np.log((train.loc[:, logvar]).values + 1)\n",
    "test.loc[:, logvar] = np.log((test.loc[:, logvar]).values + 1)"
   ]
  },
  {
   "cell_type": "code",
   "execution_count": 447,
   "metadata": {
    "collapsed": true
   },
   "outputs": [],
   "source": [
    "train.to_csv('proc_train.csv.gz', compression='gzip', index_label='ID')\n",
    "test.to_csv('proc_test.csv.gz', compression='gzip', index_label='ID')"
   ]
  },
  {
   "cell_type": "code",
   "execution_count": 450,
   "metadata": {
    "collapsed": true
   },
   "outputs": [],
   "source": [
    "for cone in train.columns:\n",
    "    for ctwo in train.columns:\n",
    "        if cone not in train.columns:\n",
    "            continue\n",
    "        if ctwo not in train.columns:\n",
    "            continue\n",
    "        if cone != ctwo and np.all(train[cone] == train[ctwo]):\n",
    "            #print(cone, ctwo)\n",
    "            train.drop(ctwo, axis=1, inplace=True)\n",
    "            test.drop(ctwo, axis=1, inplace=True)"
   ]
  },
  {
   "cell_type": "code",
   "execution_count": 451,
   "metadata": {
    "collapsed": true
   },
   "outputs": [],
   "source": [
    "train.to_csv('sm_proc_train.csv.gz', compression='gzip', index_label='ID')\n",
    "test.to_csv('sm_proc_test.csv.gz', compression='gzip', index_label='ID')"
   ]
  },
  {
   "cell_type": "code",
   "execution_count": null,
   "metadata": {
    "collapsed": true
   },
   "outputs": [],
   "source": []
  },
  {
   "cell_type": "code",
   "execution_count": null,
   "metadata": {
    "collapsed": true
   },
   "outputs": [],
   "source": []
  },
  {
   "cell_type": "code",
   "execution_count": 445,
   "metadata": {
    "collapsed": false,
    "scrolled": false
   },
   "outputs": [
    {
     "name": "stdout",
     "output_type": "stream",
     "text": [
      "305\n",
      "name, type, uniques, zeros, shape\n",
      "var38 float64 57736 0 (76020,)\n",
      "var38 float64 57570 0 (75818,)\n",
      "76020 0.0395685345962\n"
     ]
    },
    {
     "data": {
      "image/png": "[encoded data removed]",
      "text/plain": [
       "<matplotlib.figure.Figure at 0x10cbcaf28>"
      ]
     },
     "metadata": {},
     "output_type": "display_data"
    },
    {
     "data": {
      "image/png": "[encoded data removed]",
      "text/plain": [
       "<matplotlib.figure.Figure at 0x10cd1de80>"
      ]
     },
     "metadata": {},
     "output_type": "display_data"
    },
    {
     "data": {
      "image/png": "[encoded data removed]",
      "text/plain": [
       "<matplotlib.figure.Figure at 0x10cda0eb8>"
      ]
     },
     "metadata": {},
     "output_type": "display_data"
    }
   ],
   "source": [
    "i = 305\n",
    "if i in fbinfeats:\n",
    "    print('no')\n",
    "else:\n",
    "    print(i)\n",
    "    print('name, type, uniques, zeros, shape')\n",
    "    print(train.columns[i], train.dtypes[i], \n",
    "          len(np.unique(train.ix[:, i])), np.sum(train.ix[:, i]==0),\n",
    "          train.ix[:, i].shape)\n",
    "    print(test.columns[i], test.dtypes[i], \n",
    "          len(np.unique(test.ix[:, i])), np.sum(test.ix[:, i]==0),\n",
    "          test.ix[:, i].shape)\n",
    "    if len(np.unique(train.ix[:, i])) < 20:\n",
    "        print(np.unique(train.ix[:, i]))\n",
    "        print(np.unique(test.ix[:, i]))\n",
    "    ar = train.ix[:, i]\n",
    "    print(len(ar), target[(train.ix[:, i] != 0).values].mean())\n",
    "    #plt.boxplot(ar.values)\n",
    "    #plt.show()\n",
    "    plt.hist(ar.values, bins=50)\n",
    "    plt.show()\n",
    "    ar = train.ix[train.ix[:, i] != 0, i]\n",
    "    plt.hist(ar.values, bins=50)\n",
    "    plt.show()\n",
    "    plt.hist(np.log(ar.values+1), bins=50);"
   ]
  },
  {
   "cell_type": "code",
   "execution_count": 262,
   "metadata": {
    "collapsed": false
   },
   "outputs": [
    {
     "data": {
      "text/plain": [
       "ID\n",
       "28139     9999999999\n",
       "35792     9999999999\n",
       "43146     9999999999\n",
       "43652     9999999999\n",
       "47275     9999999999\n",
       "60545     9999999999\n",
       "62476     9999999999\n",
       "72708     9999999999\n",
       "78611     9999999999\n",
       "85925     9999999999\n",
       "87103     9999999999\n",
       "88235     9999999999\n",
       "94662     9999999999\n",
       "126559    9999999999\n",
       "130976    9999999999\n",
       "134467    9999999999\n",
       "135988    9999999999\n",
       "136916    9999999999\n",
       "145776            -1\n",
       "147718    9999999999\n",
       "151792    9999999999\n",
       "Name: delta_imp_reemb_var17_1y3, dtype: int64"
      ]
     },
     "execution_count": 262,
     "metadata": {},
     "output_type": "execute_result"
    }
   ],
   "source": [
    "train.ix[train.ix[:, 160] != 0 , 160]"
   ]
  },
  {
   "cell_type": "code",
   "execution_count": 263,
   "metadata": {
    "collapsed": false
   },
   "outputs": [
    {
     "data": {
      "text/plain": [
       "array([0, 0, 0, 0, 0, 0, 0, 0, 0, 1, 0, 0, 0, 0, 0, 0, 0, 0, 0, 0, 0])"
      ]
     },
     "execution_count": 263,
     "metadata": {},
     "output_type": "execute_result"
    }
   ],
   "source": [
    "target[(train.ix[:, 160] != 0).values]"
   ]
  },
  {
   "cell_type": "code",
   "execution_count": 194,
   "metadata": {
    "collapsed": false
   },
   "outputs": [
    {
     "data": {
      "text/plain": [
       "array([0, 1, 0, 0, 0, 0, 1, 0, 0, 0, 0, 0, 0, 0, 0, 0, 0, 0, 0, 0, 0, 0, 0,\n",
       "       0, 0, 0, 1, 0, 0, 0, 0, 1, 0, 1, 0, 0, 0, 0, 0, 0, 1, 0, 0, 0, 0, 0,\n",
       "       1, 0, 0, 0, 1, 0, 0, 1, 1, 0, 0, 0, 0, 0, 0, 0, 0, 0, 0, 0, 0, 0, 1,\n",
       "       0, 1, 0, 1, 0, 0, 0, 0, 0, 0, 0, 0, 0, 0, 0, 0, 0, 0, 0, 0, 0, 0, 1,\n",
       "       0, 0, 1, 1, 1, 0, 0, 0, 0, 0, 0, 0, 0, 0, 1, 0])"
      ]
     },
     "execution_count": 194,
     "metadata": {},
     "output_type": "execute_result"
    }
   ],
   "source": [
    "train.loc[train.loc[:, 'saldo_var5'] < 0, 'saldo_var5'].shape\n",
    "target[(train.loc[:, 'saldo_var5'] < 0).values]"
   ]
  },
  {
   "cell_type": "code",
   "execution_count": null,
   "metadata": {
    "collapsed": true
   },
   "outputs": [],
   "source": []
  },
  {
   "cell_type": "code",
   "execution_count": null,
   "metadata": {
    "collapsed": true
   },
   "outputs": [],
   "source": []
  },
  {
   "cell_type": "code",
   "execution_count": null,
   "metadata": {
    "collapsed": true
   },
   "outputs": [],
   "source": [
    "# not aligned categories\n",
    "[69, 76, 77, 78, 84, 85, 86,\n",
    " 87, 88, 92, 94, 95, 96, 98,\n",
    " 99, 100, 101, 102, 103, 104,\n",
    " 105, 106, 107, 110, 111, \n",
    " 116, 117, 118, 119, 123,\n",
    " 124, 126, 206, 207, 208,\n",
    " 214, 216, 217, ]\n",
    "# aligned num but not cats\n",
    "[70, 71, 81, 82, 108, 109,\n",
    " 122, 210, ]"
   ]
  }
 ],
 "metadata": {
  "kernelspec": {
   "display_name": "Python 3",
   "language": "python",
   "name": "python3"
  },
  "language_info": {
   "codemirror_mode": {
    "name": "ipython",
    "version": 3
   },
   "file_extension": ".py",
   "mimetype": "text/x-python",
   "name": "python",
   "nbconvert_exporter": "python",
   "pygments_lexer": "ipython3",
   "version": "3.4.3"
  }
 },
 "nbformat": 4,
 "nbformat_minor": 0
}
