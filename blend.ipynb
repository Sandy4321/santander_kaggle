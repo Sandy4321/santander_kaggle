{
 "cells": [
  {
   "cell_type": "code",
   "execution_count": 1,
   "metadata": {
    "collapsed": true
   },
   "outputs": [],
   "source": [
    "import numpy as np\n",
    "import pandas as pd\n",
    "import matplotlib.pyplot as plt\n",
    "%matplotlib inline"
   ]
  },
  {
   "cell_type": "code",
   "execution_count": 2,
   "metadata": {
    "collapsed": true
   },
   "outputs": [],
   "source": [
    "xtest = pd.read_csv('data/test.csv.gz', index_col='ID')\n",
    "test_st = pd.read_csv('data/test_stack_c.csv', index_col='ID')"
   ]
  },
  {
   "cell_type": "code",
   "execution_count": 3,
   "metadata": {
    "collapsed": false
   },
   "outputs": [
    {
     "data": {
      "text/plain": [
       "Index(['nnbag10', 'xgbsmt', 'xgb0', 'xgbnan', 'xgbw', 'xgbwoe'], dtype='object')"
      ]
     },
     "execution_count": 3,
     "metadata": {},
     "output_type": "execute_result"
    }
   ],
   "source": [
    "test_st.columns"
   ]
  },
  {
   "cell_type": "code",
   "execution_count": 4,
   "metadata": {
    "collapsed": true
   },
   "outputs": [],
   "source": [
    "preds = .2*test_st.xgbsmt + .2*test_st.xgbwoe + .3*test_st.xgb0 + .3*test_st.xgbw"
   ]
  },
  {
   "cell_type": "code",
   "execution_count": 13,
   "metadata": {
    "collapsed": true
   },
   "outputs": [],
   "source": [
    "sample = pd.read_csv('data/sample_submission.csv', index_col='ID')\n",
    "sample.TARGET = preds\n",
    "sample.to_csv('submission/xgb_blend_nopost.csv', index_label='ID')"
   ]
  },
  {
   "cell_type": "code",
   "execution_count": 5,
   "metadata": {
    "collapsed": true
   },
   "outputs": [],
   "source": [
    "preds[(xtest['var15'] < 23).values] = 0\n",
    "preds[(xtest['saldo_medio_var5_hace2'] > 160000).values] = 0\n",
    "preds[(xtest['saldo_var33'] > 0).values] = 0\n",
    "var38 = xtest['var38']\n",
    "V21 = xtest['var21']\n",
    "NV=xtest['num_var33']+xtest['saldo_medio_var33_ult3']+xtest['saldo_medio_var44_hace2']+\\\n",
    "xtest['saldo_medio_var44_hace3']+xtest['saldo_medio_var33_ult1']+xtest['saldo_medio_var44_ult1']\n",
    "preds[var38 > 3988596]=0\n",
    "preds[NV>0]=0\n",
    "preds[V21>7500]=0\n",
    "\n",
    "fbinfeats = ['ind_var6_0', 'ind_var6', 'ind_var13_medio_0', 'ind_var13_medio',\n",
    "       'ind_var18_0', 'ind_var18', 'ind_var20_0', 'ind_var20',\n",
    "       'ind_var29_0', 'ind_var29', 'ind_var33_0', 'ind_var33',\n",
    "       'ind_var34_0', 'ind_var34', 'num_var6_0', 'num_var6',\n",
    "       'num_var13_medio_0', 'num_var13_medio', 'num_var18_0', 'num_var18',\n",
    "       'num_var20_0', 'num_var20', 'num_op_var40_hace3', 'num_var29_0',\n",
    "       'num_var29', 'num_var33_0', 'num_var33', 'num_var34_0', 'num_var34',\n",
    "       'saldo_var6', 'saldo_var13_medio', 'saldo_var18', 'saldo_var20',\n",
    "       'saldo_var29', 'saldo_var33', 'saldo_var34',\n",
    "       'delta_imp_amort_var18_1y3', 'delta_imp_amort_var34_1y3',\n",
    "       'delta_imp_aport_var33_1y3', 'delta_imp_reemb_var33_1y3',\n",
    "       'delta_imp_trasp_var17_in_1y3', 'delta_imp_trasp_var17_out_1y3',\n",
    "       'delta_imp_trasp_var33_in_1y3', 'delta_imp_trasp_var33_out_1y3',\n",
    "       'delta_imp_venta_var44_1y3', 'delta_num_aport_var33_1y3',\n",
    "       'delta_num_reemb_var33_1y3', 'delta_num_trasp_var17_in_1y3',\n",
    "       'delta_num_trasp_var17_out_1y3', 'delta_num_trasp_var33_in_1y3',\n",
    "       'delta_num_trasp_var33_out_1y3', 'delta_num_venta_var44_1y3',\n",
    "       'imp_amort_var18_ult1', 'imp_amort_var34_ult1',\n",
    "       'imp_aport_var17_hace3', 'imp_aport_var33_hace3',\n",
    "       'imp_aport_var33_ult1', 'imp_var7_emit_ult1',\n",
    "       'imp_compra_var44_hace3', 'imp_reemb_var17_hace3',\n",
    "       'imp_reemb_var33_ult1', 'imp_trasp_var17_in_hace3',\n",
    "       'imp_trasp_var17_in_ult1', 'imp_trasp_var17_out_ult1',\n",
    "       'imp_trasp_var33_in_hace3', 'imp_trasp_var33_in_ult1',\n",
    "       'imp_trasp_var33_out_ult1', 'imp_venta_var44_hace3',\n",
    "       'imp_venta_var44_ult1', 'ind_var7_emit_ult1',\n",
    "       'num_aport_var17_hace3', 'num_aport_var33_hace3',\n",
    "       'num_aport_var33_ult1', 'num_var7_emit_ult1',\n",
    "       'num_compra_var44_hace3', 'num_meses_var13_largo_ult3',\n",
    "       'num_meses_var13_medio_ult3', 'num_meses_var29_ult3',\n",
    "       'num_meses_var33_ult3', 'num_reemb_var17_hace3',\n",
    "       'num_reemb_var33_ult1', 'num_trasp_var17_in_hace3',\n",
    "       'num_trasp_var17_in_ult1', 'num_trasp_var17_out_ult1',\n",
    "       'num_trasp_var33_in_hace3', 'num_trasp_var33_in_ult1',\n",
    "       'num_trasp_var33_out_ult1', 'num_venta_var44_hace3',\n",
    "       'num_venta_var44_ult1', 'saldo_medio_var13_largo_hace2',\n",
    "       'saldo_medio_var13_largo_hace3', 'saldo_medio_var13_largo_ult1',\n",
    "       'saldo_medio_var13_largo_ult3', 'saldo_medio_var13_medio_hace2',\n",
    "       'saldo_medio_var13_medio_ult1', 'saldo_medio_var13_medio_ult3',\n",
    "       'saldo_medio_var17_hace2', 'saldo_medio_var17_hace3',\n",
    "       'saldo_medio_var29_hace2', 'saldo_medio_var29_hace3',\n",
    "       'saldo_medio_var29_ult1', 'saldo_medio_var29_ult3',\n",
    "       'saldo_medio_var33_hace2', 'saldo_medio_var33_hace3',\n",
    "       'saldo_medio_var33_ult1', 'saldo_medio_var33_ult3',\n",
    "       'saldo_medio_var44_hace2', 'saldo_medio_var44_hace3']\n",
    "\n",
    "for f in fbinfeats:\n",
    "    preds[(xtest[f] != 0).values] = 0"
   ]
  },
  {
   "cell_type": "code",
   "execution_count": 6,
   "metadata": {
    "collapsed": true
   },
   "outputs": [],
   "source": [
    "sample = pd.read_csv('data/sample_submission.csv', index_col='ID')\n",
    "sample.TARGET = preds\n",
    "sample.to_csv('submission/xgb_blendw.csv', index_label='ID')"
   ]
  },
  {
   "cell_type": "code",
   "execution_count": null,
   "metadata": {
    "collapsed": true
   },
   "outputs": [],
   "source": []
  }
 ],
 "metadata": {
  "kernelspec": {
   "display_name": "Python 3",
   "language": "python",
   "name": "python3"
  },
  "language_info": {
   "codemirror_mode": {
    "name": "ipython",
    "version": 3
   },
   "file_extension": ".py",
   "mimetype": "text/x-python",
   "name": "python",
   "nbconvert_exporter": "python",
   "pygments_lexer": "ipython3",
   "version": "3.4.3"
  }
 },
 "nbformat": 4,
 "nbformat_minor": 0
}
