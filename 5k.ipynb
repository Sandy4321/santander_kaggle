{
 "cells": [
  {
   "cell_type": "code",
   "execution_count": 1,
   "metadata": {
    "collapsed": true
   },
   "outputs": [],
   "source": [
    "import numpy as np\n",
    "import pandas as pd\n",
    "from sklearn.ensemble import RandomForestClassifier, ExtraTreesClassifier\n",
    "from sklearn.cross_validation import cross_val_score, StratifiedKFold\n",
    "from sklearn.naive_bayes import BernoulliNB\n",
    "from sklearn.linear_model import LogisticRegression\n",
    "from fastFM import mcmc\n",
    "from sklearn.preprocessing import OneHotEncoder, LabelEncoder, StandardScaler\n",
    "import xgboost as xgb\n",
    "from tqdm import *\n",
    "from libtelepot import sendMessage\n",
    "import gc\n",
    "from sklearn.metrics import roc_auc_score"
   ]
  },
  {
   "cell_type": "code",
   "execution_count": 2,
   "metadata": {
    "collapsed": true
   },
   "outputs": [],
   "source": [
    "train = pd.read_csv('data/train.csv.gz', index_col='ID')\n",
    "test = pd.read_csv('data/test.csv.gz', index_col='ID')"
   ]
  },
  {
   "cell_type": "code",
   "execution_count": 3,
   "metadata": {
    "collapsed": true
   },
   "outputs": [],
   "source": [
    "dlist = list()\n",
    "for c in train.columns:\n",
    "    if train[c].unique().shape[0] == 1:\n",
    "        #print(c)\n",
    "        dlist.append(c)\n",
    "train.drop(dlist, axis=1, inplace=True)\n",
    "test.drop(dlist, axis=1, inplace=True)"
   ]
  },
  {
   "cell_type": "code",
   "execution_count": 4,
   "metadata": {
    "collapsed": true
   },
   "outputs": [],
   "source": [
    "for cone in train.columns:\n",
    "    for ctwo in train.columns:\n",
    "        if cone not in train.columns:\n",
    "            continue\n",
    "        if ctwo not in train.columns:\n",
    "            continue\n",
    "        if cone != ctwo and np.all(train[cone] == train[ctwo]):\n",
    "            #print(cone, ctwo)\n",
    "            train.drop(ctwo, axis=1, inplace=True)\n",
    "            test.drop(ctwo, axis=1, inplace=True)"
   ]
  },
  {
   "cell_type": "code",
   "execution_count": 5,
   "metadata": {
    "collapsed": false
   },
   "outputs": [],
   "source": [
    "target = train.TARGET.values.copy()\n",
    "train.drop('TARGET', axis=1, inplace=True)"
   ]
  },
  {
   "cell_type": "code",
   "execution_count": 6,
   "metadata": {
    "collapsed": false
   },
   "outputs": [],
   "source": [
    "for c in train.columns:\n",
    "    cmin = train[c].min()\n",
    "    cmax = train[c].max()\n",
    "    test.loc[test[c] < cmin, c] = cmin\n",
    "    test.loc[test[c] > cmax, c] = cmax"
   ]
  },
  {
   "cell_type": "code",
   "execution_count": 7,
   "metadata": {
    "collapsed": true
   },
   "outputs": [],
   "source": [
    "skf = StratifiedKFold(target, n_folds=10, random_state=42)"
   ]
  },
  {
   "cell_type": "code",
   "execution_count": null,
   "metadata": {
    "collapsed": false
   },
   "outputs": [],
   "source": [
    "train_clfs = np.zeros((train.shape[0], 7))\n",
    "test_clfs = np.zeros((test.shape[0], 7))"
   ]
  },
  {
   "cell_type": "code",
   "execution_count": null,
   "metadata": {
    "collapsed": false
   },
   "outputs": [],
   "source": [
    "fold = 1\n",
    "tst_preds = np.zeros((test.shape[0], 10))\n",
    "for train_index, test_index in skf:\n",
    "    X_train, X_test = train.iloc[train_index].copy(), train.iloc[test_index].copy()\n",
    "    y_train, y_test = target[train_index], target[test_index]\n",
    "    \n",
    "    sendMessage('Going through fold {:}'.format(fold))\n",
    "    rfres = np.zeros((X_test.shape[0], 10))\n",
    "    rfres_test = np.zeros((test.shape[0], 10))\n",
    "    for st in range(10):\n",
    "        rf = RandomForestClassifier(n_estimators=5000, max_depth=50, max_features=50,\n",
    "                                    random_state=st, n_jobs=-1)\n",
    "        rf.fit(X_train, y_train)\n",
    "        #train_clfs[test_index, 0] = rf.predict_proba(X_test)[:, 1]\n",
    "        rfres[:, st] = rf.predict_proba(X_test)[:, 1]\n",
    "        rfres_test[:, st] = rf.predict_proba(test)[:, 1]\n",
    "        sendMessage('Finished fitting RandomForest {:}, \\\n",
    "                     roc = {:.7f}'.format(st, roc_auc_score(y_test, rfres[:, st])))\n",
    "        del(rf)\n",
    "        gc.collect()\n",
    "    train_clfs[test_index, 0] = rfres.mean(axis=1)\n",
    "    tst_preds[:, fold-1] = rfres_test.mean(axis=1)\n",
    "    sendMessage('Fold ROC = {:.7f}'.format(roc_auc_score(y_test, rfres.mean(axis=1))))\n",
    "    fold += 1\n",
    "test_clfs[:, 0] = tst_preds.mean(axis=1)"
   ]
  },
  {
   "cell_type": "code",
   "execution_count": null,
   "metadata": {
    "collapsed": true
   },
   "outputs": [],
   "source": [
    "fold = 1\n",
    "for train_index, test_index in skf:\n",
    "    X_train, X_test = train.iloc[train_index].copy(), train.iloc[test_index].copy()\n",
    "    y_train, y_test = target[train_index], target[test_index]\n",
    "    \n",
    "    sendMessage('Going through fold {:}'.format(fold))\n",
    "    etres = np.zeros((X_test.shape[0], 10))\n",
    "    for st in range(10):\n",
    "        et = ExtraTreesClassifier(n_estimators=5000, max_depth=50, max_features=50,\n",
    "                                  random_state=st, n_jobs=-1)\n",
    "        et.fit(X_train, y_train)\n",
    "        #train_clfs[test_index, 0] = rf.predict_proba(X_test)[:, 1]\n",
    "        etres[:, st] = et.predict_proba(X_test)[:, 1]\n",
    "        sendMessage('Finished fitting RandomForest {:}, \\\n",
    "                     roc = {:.7f}'.format(st, roc_auc_score(y_test, etres[:, st])))\n",
    "        del(et)\n",
    "        gc.collect()\n",
    "    train_clfs[test_index, 1] = etres.mean(axis=1)\n",
    "    sendMessage('Fold ROC = {:.7f}'.format(roc_auc_score(y_test, etres.mean(axis=1))))\n",
    "    fold += 1"
   ]
  },
  {
   "cell_type": "code",
   "execution_count": null,
   "metadata": {
    "collapsed": true
   },
   "outputs": [],
   "source": [
    "params = {'objective': 'binary:logistic', \n",
    "          'eval_metric': 'auc',\n",
    "          'eta': 0.0202048,\n",
    "          'max_depth': 5,\n",
    "          'subsample': 0.6815,\n",
    "          'colsample_bytree': 0.701,\n",
    "          'silent': 1,\n",
    "          'seed': 0,\n",
    "          'nthreads': 12\n",
    "         }\n",
    "\n",
    "fold = 1\n",
    "for train_index, test_index in skf:\n",
    "    X_train, X_test = train.iloc[train_index].copy(), train.iloc[test_index].copy()\n",
    "    y_train, y_test = target[train_index], target[test_index]\n",
    "    \n",
    "    sendMessage('Going through fold {:}'.format(fold))\n",
    "    xgores = np.zeros((X_test.shape[0], 10))\n",
    "    dtrain = xgb.DMatrix(X_train, y_train)\n",
    "    dtest = xgb.DMatrix(X_test)\n",
    "    for st in range(50):\n",
    "        params['seed'] = st\n",
    "        fxgb = xgb.train(params, dtrain, num_boost_round=560, verbose_eval=False)\n",
    "        xgores[:, st] = fxgb.predict(dtest)\n",
    "        sendMessage('Finished fitting XGB1 {:}, \\\n",
    "                     roc = {:.7f}'.format(st, roc_auc_score(y_test, xgores[:, st])))\n",
    "        del(fxgb)\n",
    "        gc.collect()\n",
    "    train_clfs[test_index, 2] = xgores.mean(axis=1)\n",
    "    \n",
    "    sendMessage('Fold ROC = {:.7f}'.format(roc_auc_score(y_test, xgores.mean(axis=1))))\n",
    "    fold += 1"
   ]
  },
  {
   "cell_type": "code",
   "execution_count": null,
   "metadata": {
    "collapsed": true
   },
   "outputs": [],
   "source": [
    "params = {'objective': 'binary:logistic', \n",
    "          'eval_metric': 'auc',\n",
    "          'eta': 0.0202048,\n",
    "          'max_depth': 5,\n",
    "          'subsample': 0.6815,\n",
    "          'colsample_bytree': 0.701,\n",
    "          'silent': 1,\n",
    "          'seed': 0,\n",
    "          'nthreads': 12\n",
    "         }\n",
    "\n",
    "fold = 1\n",
    "for train_index, test_index in skf:\n",
    "    X_train, X_test = train.iloc[train_index].copy(), train.iloc[test_index].copy()\n",
    "    y_train, y_test = target[train_index], target[test_index]\n",
    "    \n",
    "    sendMessage('Going through fold {:}'.format(fold))\n",
    "    xgtres = np.zeros((X_test.shape[0], 10))\n",
    "    dtrain = xgb.DMatrix(X_train, y_train, missing=0)\n",
    "    dtest = xgb.DMatrix(X_test, missing=0)\n",
    "    for st in range(50):\n",
    "        params['seed'] = st\n",
    "        sxgb = xgb.train(params, dtrain, num_boost_round=560, verbose_eval=False)\n",
    "        xgtres[:, st] = sxgb.predict(dtest)\n",
    "        sendMessage('Finished fitting XGB2 {:}, \\\n",
    "                     roc = {:.7f}'.format(st, roc_auc_score(y_test, xgtres[:, st])))\n",
    "        del(sxgb)\n",
    "        gc.collect()\n",
    "    train_clfs[test_index, 3] = xgtres.mean(axis=1)\n",
    "    \n",
    "    sendMessage('Fold ROC = {:.7f}'.format(roc_auc_score(y_test, xgtres.mean(axis=1))))\n",
    "    fold += 1"
   ]
  }
 ],
 "metadata": {
  "kernelspec": {
   "display_name": "Python 3",
   "language": "python",
   "name": "python3"
  },
  "language_info": {
   "codemirror_mode": {
    "name": "ipython",
    "version": 3
   },
   "file_extension": ".py",
   "mimetype": "text/x-python",
   "name": "python",
   "nbconvert_exporter": "python",
   "pygments_lexer": "ipython3",
   "version": "3.4.3"
  }
 },
 "nbformat": 4,
 "nbformat_minor": 0
}
