{
 "cells": [
  {
   "cell_type": "code",
   "execution_count": 1,
   "metadata": {
    "collapsed": true
   },
   "outputs": [],
   "source": [
    "import numpy as np\n",
    "import pandas as pd\n",
    "import matplotlib.pyplot as plt\n",
    "%matplotlib inline"
   ]
  },
  {
   "cell_type": "code",
   "execution_count": 33,
   "metadata": {
    "collapsed": true
   },
   "outputs": [],
   "source": [
    "from __future__ import print_function\n",
    "import seaborn; seaborn.set()\n",
    "from bot import sendMessage\n",
    "from copy import copy\n",
    "import sys"
   ]
  },
  {
   "cell_type": "code",
   "execution_count": 99,
   "metadata": {
    "collapsed": false
   },
   "outputs": [],
   "source": [
    "sample = pd.read_csv('submission/ks_r1.csv', index_col='ID')\n",
    "train = pd.read_csv('data/train.csv', index_col='ID')\n",
    "test = pd.read_csv('data/test.csv', index_col='ID')"
   ]
  },
  {
   "cell_type": "code",
   "execution_count": 73,
   "metadata": {
    "collapsed": false
   },
   "outputs": [
    {
     "name": "stdout",
     "output_type": "stream",
     "text": [
      "100.00\n",
      "       a\n",
      "0  False\n",
      "1   True\n",
      "2  False\n",
      "3  False\n",
      "4   True\n",
      "5  False\n"
     ]
    }
   ],
   "source": [
    "def get_static_categories(train, test, target_col, min_cat_size=1, target_mean=0, cols=None):\n",
    "    always0 = pd.DataFrame()\n",
    "    if cols is None:\n",
    "        cols = train.columns\n",
    "    for i, col in enumerate(cols):\n",
    "        if col == target_col:\n",
    "            continue\n",
    "        print('\\r%.2f'% (100. * i / len(cols)), col, end='')\n",
    "        sys.stdout.flush()\n",
    "        cat_mean = train.groupby(col)[target_col].mean() == target_mean\n",
    "        cat_size = train[col].value_counts()\n",
    "        if any(cat_mean):\n",
    "            #always0[col] = test[col].apply(lambda x: cat_mean[x] if x in cat_mean.index and \n",
    "            #                               cat_size[x] > min_cat_size else False)\n",
    "            res0 = np.repeat(False, len(test))\n",
    "            for val in cat_mean.index:\n",
    "                if cat_mean[val] and cat_size[val] > min_cat_size:\n",
    "                    res0[np.where(test[col] == val)] = True  \n",
    "            always0[col] = res0\n",
    "        else:\n",
    "            always0[col] = np.repeat(False, len(test))\n",
    "    print('\\r100.00')\n",
    "    return always0\n",
    "\n",
    "a = pd.DataFrame()\n",
    "a['a'] = [1, 1, 1, 2, 2, 3, 3]\n",
    "a['t'] = [0, 0, 0, 1, 1, 0, 1]\n",
    "b = pd.DataFrame()\n",
    "b['a'] = pd.Series([1, 2, 3, 3, 2, 1])\n",
    "\n",
    "print(get_static_categories(a, b, 't', 1, 1))\n"
   ]
  },
  {
   "cell_type": "code",
   "execution_count": 61,
   "metadata": {
    "collapsed": false
   },
   "outputs": [
    {
     "name": "stdout",
     "output_type": "stream",
     "text": [
      "99.46 var38\n",
      "Wall time: 14 s\n"
     ]
    }
   ],
   "source": [
    "%%time\n",
    "always0 = get_static_categories(train, test, 'TARGET')"
   ]
  },
  {
   "cell_type": "code",
   "execution_count": 79,
   "metadata": {
    "collapsed": false
   },
   "outputs": [
    {
     "name": "stdout",
     "output_type": "stream",
     "text": [
      "target 0.960431465404\n",
      "100.00\n",
      "150 0.959231317101\n",
      "100.00\n",
      "151 0.959231317101\n",
      "100.00\n",
      "152 0.96089319159\n"
     ]
    }
   ],
   "source": [
    "print('target', 1 - train.TARGET.mean())\n",
    "for mn in range(150, 2000, 1):\n",
    "    always0 = get_static_categories(train, test, 'TARGET', min_cat_size=mn)\n",
    "    pc = (always0.sum(axis=1).value_counts() / len(test))[0]\n",
    "    print(mn, pc)\n",
    "    if pc > 1 - train.TARGET.mean():\n",
    "        break\n",
    "sendMessage('lol')"
   ]
  },
  {
   "cell_type": "code",
   "execution_count": 86,
   "metadata": {
    "collapsed": false
   },
   "outputs": [
    {
     "name": "stdout",
     "output_type": "stream",
     "text": [
      "100.00\n"
     ]
    }
   ],
   "source": [
    "mn = 152\n",
    "always0 = get_static_categories(train, test, 'TARGET', min_cat_size=mn)"
   ]
  },
  {
   "cell_type": "code",
   "execution_count": null,
   "metadata": {
    "collapsed": true
   },
   "outputs": [],
   "source": [
    "sample.TARGET.iloc[np.where(always0.sum(axis=1) > 0)] = 0\n",
    "sample.shape"
   ]
  },
  {
   "cell_type": "code",
   "execution_count": 90,
   "metadata": {
    "collapsed": false
   },
   "outputs": [
    {
     "name": "stdout",
     "output_type": "stream",
     "text": [
      "100.00\n"
     ]
    }
   ],
   "source": [
    "mn = 5\n",
    "always0_5 = get_static_categories(train, test, 'TARGET', min_cat_size=mn)"
   ]
  },
  {
   "cell_type": "code",
   "execution_count": 100,
   "metadata": {
    "collapsed": false
   },
   "outputs": [
    {
     "data": {
      "text/plain": [
       "False    0.973964\n",
       "True     0.026036\n",
       "dtype: float64"
      ]
     },
     "execution_count": 100,
     "metadata": {},
     "output_type": "execute_result"
    }
   ],
   "source": [
    "pc = ((always0_5.sum(axis=1) > 4).value_counts() / len(test))\n",
    "pc"
   ]
  },
  {
   "cell_type": "code",
   "execution_count": 101,
   "metadata": {
    "collapsed": false
   },
   "outputs": [
    {
     "data": {
      "text/plain": [
       "(75818, 1)"
      ]
     },
     "execution_count": 101,
     "metadata": {},
     "output_type": "execute_result"
    }
   ],
   "source": [
    "sample.TARGET.iloc[np.where(always0_5.sum(axis=1) > 4)] = 0\n",
    "sample.shape"
   ]
  },
  {
   "cell_type": "code",
   "execution_count": 191,
   "metadata": {
    "collapsed": false
   },
   "outputs": [
    {
     "name": "stdout",
     "output_type": "stream",
     "text": [
      "0.7\n"
     ]
    }
   ],
   "source": [
    "print(1. * len(int_cat) / len(train.columns))"
   ]
  },
  {
   "cell_type": "code",
   "execution_count": 114,
   "metadata": {
    "collapsed": false,
    "scrolled": true
   },
   "outputs": [
    {
     "name": "stdout",
     "output_type": "stream",
     "text": [
      "target 0.960431465404\n",
      "100.00\n",
      "0 0.939921918278\n",
      "100.00\n",
      "10 0.949748080931\n",
      "100.00\n",
      "20 0.956052652404\n",
      "100.00\n",
      "30 0.960708538869\n",
      "100.00\n",
      "40 0.965100635733\n",
      "100.00\n",
      "50 0.967567068506\n",
      "100.00\n",
      "60 0.971049091245\n",
      "100.00\n",
      "70 0.971919596929\n",
      "100.00\n",
      "80 0.973673797779\n",
      "100.00\n",
      "90 0.973673797779\n",
      "100.00\n",
      "100 0.973977155821\n",
      "100.00\n",
      "110 0.97567859875\n",
      "100.00\n",
      "120 0.976008335751\n",
      "100.00\n",
      "130 0.976008335751\n",
      "100.00\n",
      "140 0.976008335751\n",
      "100.00\n",
      "150 0.976008335751\n"
     ]
    }
   ],
   "source": [
    "int_cat = [cat for cat in train.columns if train[cat].dtype == 'int64']\n",
    "print('target', 1 - train.TARGET.mean())\n",
    "for mn in range(0, 160, 10):\n",
    "    always0 = get_static_categories(train, test, 'TARGET', cols=int_cat, min_cat_size=mn)\n",
    "    pc = (always0.sum(axis=1).value_counts() / len(test))[0]\n",
    "    print(mn, pc)\n",
    "    if pc >= 1:\n",
    "        break\n",
    "sendMessage('lol')"
   ]
  },
  {
   "cell_type": "code",
   "execution_count": 174,
   "metadata": {
    "collapsed": false
   },
   "outputs": [
    {
     "name": "stdout",
     "output_type": "stream",
     "text": [
      "100.00\n"
     ]
    },
    {
     "data": {
      "text/plain": [
       "(75818, 1)"
      ]
     },
     "execution_count": 174,
     "metadata": {},
     "output_type": "execute_result"
    }
   ],
   "source": [
    "mn = 250\n",
    "always0 = get_static_categories(train, test, 'TARGET', cols=int_cat, min_cat_size=mn)\n",
    "#sample = pd.read_csv('submission/ks_r1.csv', index_col='ID')\n",
    "sample = pd.read_csv('submission/xgb_cl_50bl.csv', index_col='ID')\n",
    "sample.TARGET.iloc[np.where(always0.sum(axis=1) > 0)] = 0\n",
    "sample.shape"
   ]
  },
  {
   "cell_type": "code",
   "execution_count": 167,
   "metadata": {
    "collapsed": false
   },
   "outputs": [
    {
     "data": {
      "text/plain": [
       "0    0.973977\n",
       "1    0.016197\n",
       "2    0.007267\n",
       "4    0.002321\n",
       "5    0.000119\n",
       "3    0.000119\n",
       "dtype: float64"
      ]
     },
     "execution_count": 167,
     "metadata": {},
     "output_type": "execute_result"
    }
   ],
   "source": [
    "always0.sum(axis=1).value_counts() / len(test)"
   ]
  },
  {
   "cell_type": "code",
   "execution_count": null,
   "metadata": {
    "collapsed": true
   },
   "outputs": [],
   "source": [
    "sendMessage('lol')"
   ]
  },
  {
   "cell_type": "code",
   "execution_count": 175,
   "metadata": {
    "collapsed": true
   },
   "outputs": [],
   "source": [
    "sample.to_csv('submission/ks_r1_bt_kor250.csv', index_label='ID')"
   ]
  },
  {
   "cell_type": "code",
   "execution_count": 147,
   "metadata": {
    "collapsed": false
   },
   "outputs": [
    {
     "data": {
      "text/plain": [
       "TARGET    0.99574\n",
       "dtype: float64"
      ]
     },
     "execution_count": 147,
     "metadata": {},
     "output_type": "execute_result"
    }
   ],
   "source": [
    "sample2 = pd.read_csv('submission/ks_r1.csv', index_col='ID') #0.842283\n",
    "(sample == sample2).sum() / len(sample)\n",
    "#int mn=295 gives 0.842327"
   ]
  },
  {
   "cell_type": "code",
   "execution_count": 168,
   "metadata": {
    "collapsed": false
   },
   "outputs": [
    {
     "data": {
      "text/plain": [
       "TARGET    0.989567\n",
       "dtype: float64"
      ]
     },
     "execution_count": 168,
     "metadata": {},
     "output_type": "execute_result"
    }
   ],
   "source": [
    "sample3 = pd.read_csv('submission/xgb_cl_50bl.csv', index_col='ID')#0.842406\n",
    "(sample == sample3).sum() / len(sample)\n",
    "#int 295 gives 0.842430\n",
    "#int 100 gives 0.840987 ((((("
   ]
  },
  {
   "cell_type": "code",
   "execution_count": 200,
   "metadata": {
    "collapsed": false
   },
   "outputs": [
    {
     "name": "stdout",
     "output_type": "stream",
     "text": [
      "1 100.00% 0\n",
      "\n",
      "2 100.00% 0\n",
      "\n",
      "3 98.20% 2\n",
      "imp_reemb_var17_hace3 saldo_medio_var29_hace3\n",
      "4 91.89% 9\n",
      "saldo_var6 saldo_var29 imp_amort_var18_ult1 imp_amort_var34_ult1 imp_reemb_var17_hace3 imp_trasp_var17_in_hace3 saldo_medio_var13_medio_hace2 saldo_medio_var13_medio_ult3 saldo_medio_var29_hace3\n",
      "5 87.39% 14\n",
      "saldo_var6 saldo_var29 delta_num_aport_var33_1y3 imp_amort_var18_ult1 imp_amort_var34_ult1 imp_var7_emit_ult1 imp_reemb_var17_hace3 imp_trasp_var17_in_hace3 imp_venta_var44_hace3 saldo_medio_var13_medio_hace2 saldo_medio_var13_medio_ult3 saldo_medio_var29_hace3 saldo_medio_var29_ult1 saldo_medio_var29_ult3\n",
      "6 82.88% 19\n",
      "saldo_var6 saldo_var29 delta_imp_venta_var44_1y3 delta_num_aport_var33_1y3 delta_num_venta_var44_1y3 imp_amort_var18_ult1 imp_amort_var34_ult1 imp_var7_emit_ult1 imp_reemb_var17_hace3 imp_trasp_var17_in_hace3 imp_trasp_var17_in_ult1 imp_trasp_var17_out_ult1 imp_venta_var44_hace3 saldo_medio_var13_medio_hace2 saldo_medio_var13_medio_ult3 saldo_medio_var29_hace2 saldo_medio_var29_hace3 saldo_medio_var29_ult1 saldo_medio_var29_ult3\n",
      "6 80.18% 22\n",
      "saldo_var6 saldo_var29 delta_imp_venta_var44_1y3 delta_num_aport_var13_1y3 delta_num_aport_var17_1y3 delta_num_aport_var33_1y3 delta_num_venta_var44_1y3 imp_amort_var18_ult1 imp_amort_var34_ult1 imp_var7_emit_ult1 imp_reemb_var17_hace3 imp_trasp_var17_in_hace3 imp_trasp_var17_in_ult1 imp_trasp_var17_out_ult1 imp_trasp_var33_in_ult1 imp_venta_var44_hace3 saldo_medio_var13_medio_hace2 saldo_medio_var13_medio_ult3 saldo_medio_var29_hace2 saldo_medio_var29_hace3 saldo_medio_var29_ult1 saldo_medio_var29_ult3\n",
      "7 78.38% 24\n",
      "saldo_var6 saldo_var29 delta_imp_aport_var17_1y3 delta_imp_venta_var44_1y3 delta_num_aport_var13_1y3 delta_num_aport_var17_1y3 delta_num_aport_var33_1y3 delta_num_venta_var44_1y3 imp_amort_var18_ult1 imp_amort_var34_ult1 imp_var7_emit_ult1 imp_reemb_var17_hace3 imp_trasp_var17_in_hace3 imp_trasp_var17_in_ult1 imp_trasp_var17_out_ult1 imp_trasp_var33_in_hace3 imp_trasp_var33_in_ult1 imp_venta_var44_hace3 saldo_medio_var13_medio_hace2 saldo_medio_var13_medio_ult3 saldo_medio_var29_hace2 saldo_medio_var29_hace3 saldo_medio_var29_ult1 saldo_medio_var29_ult3\n",
      "8 78.38% 24\n",
      "saldo_var6 saldo_var29 delta_imp_aport_var17_1y3 delta_imp_venta_var44_1y3 delta_num_aport_var13_1y3 delta_num_aport_var17_1y3 delta_num_aport_var33_1y3 delta_num_venta_var44_1y3 imp_amort_var18_ult1 imp_amort_var34_ult1 imp_var7_emit_ult1 imp_reemb_var17_hace3 imp_trasp_var17_in_hace3 imp_trasp_var17_in_ult1 imp_trasp_var17_out_ult1 imp_trasp_var33_in_hace3 imp_trasp_var33_in_ult1 imp_venta_var44_hace3 saldo_medio_var13_medio_hace2 saldo_medio_var13_medio_ult3 saldo_medio_var29_hace2 saldo_medio_var29_hace3 saldo_medio_var29_ult1 saldo_medio_var29_ult3\n",
      "9 76.58% 26\n",
      "saldo_var6 saldo_var29 delta_imp_aport_var17_1y3 delta_imp_aport_var33_1y3 delta_imp_venta_var44_1y3 delta_num_aport_var13_1y3 delta_num_aport_var17_1y3 delta_num_aport_var33_1y3 delta_num_compra_var44_1y3 delta_num_venta_var44_1y3 imp_amort_var18_ult1 imp_amort_var34_ult1 imp_var7_emit_ult1 imp_reemb_var17_hace3 imp_trasp_var17_in_hace3 imp_trasp_var17_in_ult1 imp_trasp_var17_out_ult1 imp_trasp_var33_in_hace3 imp_trasp_var33_in_ult1 imp_venta_var44_hace3 saldo_medio_var13_medio_hace2 saldo_medio_var13_medio_ult3 saldo_medio_var29_hace2 saldo_medio_var29_hace3 saldo_medio_var29_ult1 saldo_medio_var29_ult3\n",
      "10 76.58% 26\n",
      "saldo_var6 saldo_var29 delta_imp_aport_var17_1y3 delta_imp_aport_var33_1y3 delta_imp_venta_var44_1y3 delta_num_aport_var13_1y3 delta_num_aport_var17_1y3 delta_num_aport_var33_1y3 delta_num_compra_var44_1y3 delta_num_venta_var44_1y3 imp_amort_var18_ult1 imp_amort_var34_ult1 imp_var7_emit_ult1 imp_reemb_var17_hace3 imp_trasp_var17_in_hace3 imp_trasp_var17_in_ult1 imp_trasp_var17_out_ult1 imp_trasp_var33_in_hace3 imp_trasp_var33_in_ult1 imp_venta_var44_hace3 saldo_medio_var13_medio_hace2 saldo_medio_var13_medio_ult3 saldo_medio_var29_hace2 saldo_medio_var29_hace3 saldo_medio_var29_ult1 saldo_medio_var29_ult3\n"
     ]
    }
   ],
   "source": [
    "uniqs = train.drop(int_cat, axis=1).apply(lambda x: len(x.unique()))\n",
    "for th in np.linspace(1, 10, 11):\n",
    "    print('%.0f' % th, '%.2f%%' % (100. * (uniqs > th).sum() / len(uniqs)), len(uniqs) - (uniqs > th).sum())\n",
    "    print(' '.join([cat for cat in uniqs.index if uniqs[cat] <= th]))"
   ]
  }
 ],
 "metadata": {
  "kernelspec": {
   "display_name": "Python 2",
   "language": "python",
   "name": "python2"
  },
  "language_info": {
   "codemirror_mode": {
    "name": "ipython",
    "version": 2
   },
   "file_extension": ".py",
   "mimetype": "text/x-python",
   "name": "python",
   "nbconvert_exporter": "python",
   "pygments_lexer": "ipython2",
   "version": "2.7.11"
  }
 },
 "nbformat": 4,
 "nbformat_minor": 0
}
