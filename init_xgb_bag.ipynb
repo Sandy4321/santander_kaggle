{
 "cells": [
  {
   "cell_type": "code",
   "execution_count": 1,
   "metadata": {
    "collapsed": true
   },
   "outputs": [],
   "source": [
    "import numpy as np\n",
    "import pandas as pd\n",
    "import matplotlib.pyplot as plt\n",
    "%matplotlib inline"
   ]
  },
  {
   "cell_type": "code",
   "execution_count": 2,
   "metadata": {
    "collapsed": true
   },
   "outputs": [],
   "source": [
    "train = pd.read_csv('data/train.csv', index_col='ID')\n",
    "test = pd.read_csv('data/test.csv', index_col='ID')"
   ]
  },
  {
   "cell_type": "code",
   "execution_count": 3,
   "metadata": {
    "collapsed": false
   },
   "outputs": [],
   "source": [
    "target = train.TARGET.values.copy()\n",
    "train.drop('TARGET', axis=1, inplace=True)"
   ]
  },
  {
   "cell_type": "code",
   "execution_count": 4,
   "metadata": {
    "collapsed": false
   },
   "outputs": [],
   "source": [
    "train.loc[:, 'n0'] = (train == 0).sum(axis=1)\n",
    "test.loc[:, 'n0'] = (test == 0).sum(axis=1)"
   ]
  },
  {
   "cell_type": "code",
   "execution_count": 5,
   "metadata": {
    "collapsed": false,
    "scrolled": true
   },
   "outputs": [
    {
     "name": "stdout",
     "output_type": "stream",
     "text": [
      "ind_var2_0\n",
      "ind_var2\n",
      "ind_var27_0\n",
      "ind_var28_0\n",
      "ind_var28\n",
      "ind_var27\n",
      "ind_var41\n",
      "ind_var46_0\n",
      "ind_var46\n",
      "num_var27_0\n",
      "num_var28_0\n",
      "num_var28\n",
      "num_var27\n",
      "num_var41\n",
      "num_var46_0\n",
      "num_var46\n",
      "saldo_var28\n",
      "saldo_var27\n",
      "saldo_var41\n",
      "saldo_var46\n",
      "imp_amort_var18_hace3\n",
      "imp_amort_var34_hace3\n",
      "imp_reemb_var13_hace3\n",
      "imp_reemb_var33_hace3\n",
      "imp_trasp_var17_out_hace3\n",
      "imp_trasp_var33_out_hace3\n",
      "num_var2_0_ult1\n",
      "num_var2_ult1\n",
      "num_reemb_var13_hace3\n",
      "num_reemb_var33_hace3\n",
      "num_trasp_var17_out_hace3\n",
      "num_trasp_var33_out_hace3\n",
      "saldo_var2_ult1\n",
      "saldo_medio_var13_medio_hace3\n"
     ]
    }
   ],
   "source": [
    "dlist = list()\n",
    "for c in train.columns:\n",
    "    if train[c].unique().shape[0] == 1:\n",
    "        print(c)\n",
    "        dlist.append(c)\n",
    "train.drop(dlist, axis=1, inplace=True)\n",
    "test.drop(dlist, axis=1, inplace=True)"
   ]
  },
  {
   "cell_type": "code",
   "execution_count": 6,
   "metadata": {
    "collapsed": false
   },
   "outputs": [
    {
     "name": "stdout",
     "output_type": "stream",
     "text": [
      "ind_var6_0 ind_var29_0\n",
      "ind_var6 ind_var29\n",
      "ind_var13_medio_0 ind_var13_medio\n",
      "ind_var18_0 ind_var18\n",
      "ind_var26_0 ind_var26\n",
      "ind_var25_0 ind_var25\n",
      "ind_var32_0 ind_var32\n",
      "ind_var34_0 ind_var34\n",
      "ind_var37_0 ind_var37\n",
      "ind_var40 ind_var39\n",
      "num_var6_0 num_var29_0\n",
      "num_var6 num_var29\n",
      "num_var13_medio_0 num_var13_medio\n",
      "num_var18_0 num_var18\n",
      "num_var26_0 num_var26\n",
      "num_var25_0 num_var25\n",
      "num_var32_0 num_var32\n",
      "num_var34_0 num_var34\n",
      "num_var37_0 num_var37\n",
      "num_var40 num_var39\n",
      "saldo_var6 saldo_var29\n",
      "saldo_var13_medio saldo_medio_var13_medio_ult1\n",
      "delta_imp_reemb_var13_1y3 delta_num_reemb_var13_1y3\n",
      "delta_imp_reemb_var17_1y3 delta_num_reemb_var17_1y3\n",
      "delta_imp_reemb_var33_1y3 delta_num_reemb_var33_1y3\n",
      "delta_imp_trasp_var17_in_1y3 delta_num_trasp_var17_in_1y3\n",
      "delta_imp_trasp_var17_out_1y3 delta_num_trasp_var17_out_1y3\n",
      "delta_imp_trasp_var33_in_1y3 delta_num_trasp_var33_in_1y3\n",
      "delta_imp_trasp_var33_out_1y3 delta_num_trasp_var33_out_1y3\n"
     ]
    }
   ],
   "source": [
    "for cone in train.columns:\n",
    "    for ctwo in train.columns:\n",
    "        if cone not in train.columns:\n",
    "            continue\n",
    "        if ctwo not in train.columns:\n",
    "            continue\n",
    "        if cone != ctwo and np.all(train[cone] == train[ctwo]):\n",
    "            print(cone, ctwo)\n",
    "            train.drop(ctwo, axis=1, inplace=True)\n",
    "            test.drop(ctwo, axis=1, inplace=True)"
   ]
  },
  {
   "cell_type": "code",
   "execution_count": 7,
   "metadata": {
    "collapsed": true
   },
   "outputs": [],
   "source": [
    "for c in train.columns:\n",
    "    cmin = train[c].min()\n",
    "    cmax = train[c].max()\n",
    "    test.loc[test[c] < cmin, c] = cmin\n",
    "    test.loc[test[c] > cmax, c] = cmax"
   ]
  },
  {
   "cell_type": "code",
   "execution_count": 8,
   "metadata": {
    "collapsed": true
   },
   "outputs": [],
   "source": [
    "import xgboost as xgb"
   ]
  },
  {
   "cell_type": "code",
   "execution_count": 9,
   "metadata": {
    "collapsed": true
   },
   "outputs": [],
   "source": [
    "dtrain = xgb.DMatrix(train, target)"
   ]
  },
  {
   "cell_type": "code",
   "execution_count": 10,
   "metadata": {
    "collapsed": true
   },
   "outputs": [],
   "source": [
    "params = {'objective': 'binary:logistic', \n",
    "          'eval_metric': 'auc',\n",
    "          'eta': 0.0202048,\n",
    "          'max_depth': 5,\n",
    "          'subsample': 0.6815,\n",
    "          'colsample_bytree': 0.701,\n",
    "          'silent': 1,\n",
    "          'seed': 0\n",
    "}"
   ]
  },
  {
   "cell_type": "code",
   "execution_count": 11,
   "metadata": {
    "collapsed": true
   },
   "outputs": [],
   "source": [
    "dtest = xgb.DMatrix(test)"
   ]
  },
  {
   "cell_type": "code",
   "execution_count": 12,
   "metadata": {
    "collapsed": false
   },
   "outputs": [
    {
     "name": "stdout",
     "output_type": "stream",
     "text": [
      "0\n",
      "1\n",
      "2\n",
      "3\n",
      "4\n",
      "5\n",
      "6\n",
      "7\n",
      "8\n",
      "9\n",
      "10\n",
      "11\n",
      "12\n",
      "13\n",
      "14\n",
      "15\n",
      "16\n",
      "17\n",
      "18\n",
      "19\n",
      "20\n",
      "21\n",
      "22\n",
      "23\n",
      "24\n",
      "25\n",
      "26\n",
      "27\n",
      "28\n",
      "29\n",
      "30\n",
      "31\n",
      "32\n",
      "33\n",
      "34\n",
      "35\n",
      "36\n",
      "37\n",
      "38\n",
      "39\n",
      "40\n",
      "41\n",
      "42\n",
      "43\n",
      "44\n",
      "45\n",
      "46\n",
      "47\n",
      "48\n",
      "49\n"
     ]
    }
   ],
   "source": [
    "preds_all = list()\n",
    "for seed in range(50):\n",
    "    print(seed, flush=True)\n",
    "    params['seed'] = seed\n",
    "    gbm = xgb.train(params, dtrain, num_boost_round=560)\n",
    "    preds = gbm.predict(dtest)\n",
    "    preds_all.append(preds)"
   ]
  },
  {
   "cell_type": "code",
   "execution_count": 13,
   "metadata": {
    "collapsed": true
   },
   "outputs": [],
   "source": [
    "sample = pd.read_csv('data/sample_submission.csv', index_col='ID')\n",
    "sample.TARGET = np.array(preds_all).mean(axis=0)\n",
    "sample.to_csv('submission/init_xgb_bag.csv', index_label='ID')"
   ]
  }
 ],
 "metadata": {
  "kernelspec": {
   "display_name": "Python 3",
   "language": "python",
   "name": "python3"
  },
  "language_info": {
   "codemirror_mode": {
    "name": "ipython",
    "version": 3
   },
   "file_extension": ".py",
   "mimetype": "text/x-python",
   "name": "python",
   "nbconvert_exporter": "python",
   "pygments_lexer": "ipython3",
   "version": "3.4.3"
  }
 },
 "nbformat": 4,
 "nbformat_minor": 0
}
