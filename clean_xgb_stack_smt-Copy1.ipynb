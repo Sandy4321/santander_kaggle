{
 "cells": [
  {
   "cell_type": "code",
   "execution_count": 1,
   "metadata": {
    "collapsed": true
   },
   "outputs": [],
   "source": [
    "import numpy as np\n",
    "import pandas as pd\n",
    "import matplotlib.pyplot as plt\n",
    "%matplotlib inline"
   ]
  },
  {
   "cell_type": "code",
   "execution_count": 2,
   "metadata": {
    "collapsed": false
   },
   "outputs": [],
   "source": [
    "train = pd.read_csv('data/sm_proc_train.csv.gz', index_col='ID')\n",
    "test = pd.read_csv('data/sm_proc_test.csv.gz', index_col='ID')"
   ]
  },
  {
   "cell_type": "code",
   "execution_count": 3,
   "metadata": {
    "collapsed": true
   },
   "outputs": [],
   "source": [
    "xtrain = pd.read_csv('data/train.csv.gz', index_col='ID')"
   ]
  },
  {
   "cell_type": "code",
   "execution_count": 4,
   "metadata": {
    "collapsed": true
   },
   "outputs": [],
   "source": [
    "xtest = pd.read_csv('data/test.csv.gz', index_col='ID')"
   ]
  },
  {
   "cell_type": "code",
   "execution_count": 5,
   "metadata": {
    "collapsed": false
   },
   "outputs": [],
   "source": [
    "target = xtrain.TARGET.values.copy()\n",
    "#train.drop('TARGET', axis=1, inplace=True)"
   ]
  },
  {
   "cell_type": "code",
   "execution_count": 6,
   "metadata": {
    "collapsed": false
   },
   "outputs": [],
   "source": [
    "train.loc[:, 'n0'] = (train == 0).sum(axis=1)\n",
    "test.loc[:, 'n0'] = (test == 0).sum(axis=1)"
   ]
  },
  {
   "cell_type": "code",
   "execution_count": 7,
   "metadata": {
    "collapsed": true
   },
   "outputs": [],
   "source": [
    "a, b = np.unique(train.loc[:, 'var38'].values, return_counts=True)"
   ]
  },
  {
   "cell_type": "code",
   "execution_count": 8,
   "metadata": {
    "collapsed": false
   },
   "outputs": [],
   "source": [
    "train.loc[(train.loc[:, 'var38'] == a[b == b.max()][0]).values, 'var38'] = 0\n",
    "test.loc[(test.loc[:, 'var38'] == a[b == b.max()][0]).values, 'var38'] = 0"
   ]
  },
  {
   "cell_type": "code",
   "execution_count": 9,
   "metadata": {
    "collapsed": true
   },
   "outputs": [],
   "source": [
    "from sklearn.cross_validation import StratifiedKFold\n",
    "from tqdm import *\n",
    "from sklearn.metrics import roc_auc_score"
   ]
  },
  {
   "cell_type": "code",
   "execution_count": 10,
   "metadata": {
    "collapsed": true
   },
   "outputs": [],
   "source": [
    "skf = StratifiedKFold(target, n_folds=10, random_state=42)"
   ]
  },
  {
   "cell_type": "code",
   "execution_count": 11,
   "metadata": {
    "collapsed": true
   },
   "outputs": [],
   "source": [
    "def smooth_target_mean(train, test, target, C):\n",
    "    res = np.zeros(test.shape)\n",
    "    mean_target = target.mean()\n",
    "    for val in train.unique():\n",
    "        cat_size = train.value_counts()[val]\n",
    "        cat_mean = target[np.where(train == val)].mean()\n",
    "        res[np.where(test == val)] = float(cat_mean * cat_size + mean_target * C) / float(cat_size + C)\n",
    "    return res\n",
    "\n",
    "def smooth_target_mean_cv(train, target, C, cv=None):\n",
    "    if cv == None:\n",
    "        cv = [([x for x in range(len(train))], [x for x in range(len(train))])]\n",
    "    if type(cv) == int:\n",
    "        from sklearn.cross_validation import StratifiedKFold\n",
    "        cv = StratifiedKFold(target, cv)\n",
    "    res = np.zeros(train.shape)\n",
    "    for trx, tsx in cv:\n",
    "        Xtrain, Ytrain = train.iloc[trx], target[trx]\n",
    "        Xtest, Ytest = train.iloc[tsx], target[tsx]\n",
    "        \n",
    "        mean_target = Ytrain.mean()\n",
    "        cv_res = res[tsx]\n",
    "        for val in Xtrain.unique():\n",
    "            cat_size = Xtrain.value_counts()[val]\n",
    "            cat_mean = Ytrain[np.where(Xtrain == val)].mean()\n",
    "            cv_res[np.where(Xtest == val)] = float(cat_mean * cat_size + mean_target * C) / float(cat_size + C)\n",
    "        res[tsx] = cv_res\n",
    "    return res\n",
    "\n",
    "def weight_of_evidence_cv(col, target, cv=None):\n",
    "    if cv is None:\n",
    "        cv = [([x for x in range(len(target))], [x for x in range(len(target))])]\n",
    "    if type(cv) == int:\n",
    "        from sklearn.cross_validation import StratifiedKFold\n",
    "        cv = StratifiedKFold(target, cv)\n",
    "    res = np.zeros(col.shape)\n",
    "    for train, test in cv:\n",
    "        Xtrain, Xtest = col.iloc[train], col.iloc[test]\n",
    "        Ytrain, _ = target[train], target[test]\n",
    "        _, res[test] = weight_of_evidence(Xtrain, Xtest, Ytrain)\n",
    "    return res\n",
    "\n",
    "def weight_of_evidence(train_col, test_col, target):\n",
    "    mean = target.mean()\n",
    "    df = pd.DataFrame()\n",
    "    df['v'] = train_col\n",
    "    df['t'] = target\n",
    "    good = df.groupby('v')['t'].sum()\n",
    "    total = df.v.value_counts()\n",
    "    woe = np.log(((total - good) / good) / mean)\n",
    "\n",
    "    return train_col.apply(lambda x: woe[x] if x in woe.index else np.nan), \\\n",
    "           test_col.apply(lambda x: woe[x] if x in woe.index else np.nan)"
   ]
  },
  {
   "cell_type": "code",
   "execution_count": 12,
   "metadata": {
    "collapsed": true
   },
   "outputs": [],
   "source": [
    "import xgboost as xgb"
   ]
  },
  {
   "cell_type": "code",
   "execution_count": 13,
   "metadata": {
    "collapsed": true
   },
   "outputs": [],
   "source": [
    "params = {'objective': 'binary:logistic', \n",
    "          'eval_metric': 'auc',\n",
    "          'eta': 0.0202048,\n",
    "          'max_depth': 5,\n",
    "          'subsample': 0.6815,\n",
    "          'colsample_bytree': 0.701,\n",
    "          'silent': 1,\n",
    "          'seed': 0\n",
    "}"
   ]
  },
  {
   "cell_type": "code",
   "execution_count": 25,
   "metadata": {
    "collapsed": true
   },
   "outputs": [],
   "source": [
    "baglen = 1\n",
    "train_xgb_smt = np.zeros((train.shape[0], ))\n",
    "test_xgb_smt = np.zeros((test.shape[0], ))"
   ]
  },
  {
   "cell_type": "code",
   "execution_count": 26,
   "metadata": {
    "collapsed": true
   },
   "outputs": [],
   "source": [
    "from libtelepot import sendMessage\n",
    "from time import time"
   ]
  },
  {
   "cell_type": "code",
   "execution_count": 27,
   "metadata": {
    "collapsed": false
   },
   "outputs": [],
   "source": [
    "import os.path"
   ]
  },
  {
   "cell_type": "code",
   "execution_count": null,
   "metadata": {
    "collapsed": false
   },
   "outputs": [],
   "source": [
    "aucs = list()\n",
    "fold = 0\n",
    "for train_index, test_index in skf:\n",
    "    if os.path.isfile('data/fold'+str(fold)+'train.csv.gz') and \\\n",
    "       os.path.isfile('data/fold'+str(fold)+'test.csv.gz'):\n",
    "        X_train = pd.read_csv('data/fold'+str(fold)+'train.csv.gz', index_col='ID')\n",
    "        X_test = pd.read_csv('data/fold'+str(fold)+'test.csv.gz', index_col='ID')\n",
    "        y_train, y_test = target[train_index].copy(), target[test_index].copy()\n",
    "    else:\n",
    "        X_train, X_test = train.iloc[train_index].copy(), train.iloc[test_index].copy()\n",
    "        y_train, y_test = target[train_index].copy(), target[test_index].copy()\n",
    "\n",
    "        catcols = X_train.columns[X_train.dtypes == 'int64']\n",
    "        skfi = StratifiedKFold(y_train, n_folds=10, random_state=42)\n",
    "\n",
    "        start_time = time()\n",
    "        for col in tqdm(catcols):\n",
    "            X_train.loc[:, col+'@smt'] = smooth_target_mean_cv(X_train[col], y_train.copy(), 40, cv=skfi)\n",
    "            X_test.loc[:, col+'@smt'] = smooth_target_mean(X_train[col], X_test[col], y_train.copy(), 40)\n",
    "\n",
    "            X_train.loc[:, col+'@woe'] = weight_of_evidence_cv(X_train[col], y_train.copy(), cv=skfi)\n",
    "            _, X_test.loc[:, col+'@woe'] = weight_of_evidence(X_train[col], X_test[col], y_train.copy())\n",
    "        sendMessage('Done preprocessing in {:.3f}s'.format(time() - start_time))\n",
    "\n",
    "        X_train = X_train.fillna(0)\n",
    "        X_test = X_test.fillna(0)\n",
    "\n",
    "        X_train.to_csv('data/fold'+str(fold)+'train.csv.gz', compression='gzip', index_label='ID')\n",
    "        X_test.to_csv('data/fold'+str(fold)+'test.csv.gz', compression='gzip', index_label='ID')\n",
    "    \n",
    "    dtrain = xgb.DMatrix(X_train, y_train, missing=0)\n",
    "    dtest = xgb.DMatrix(X_test, missing=0)\n",
    "    \n",
    "    start_time = time()\n",
    "    gbm = xgb.train(params, dtrain, num_boost_round=600, verbose_eval=False)\n",
    "    preds = gbm.predict(dtest)\n",
    "\n",
    "    train_xgb_smt[test_index] = preds\n",
    "    sendMessage('Done fold {:} woe+smt in {:.3f}s auc = {:.8f}'.format(fold, time() - start_time,\n",
    "                                                                       roc_auc_score(y_test, preds)))\n",
    "    aucs.append(roc_auc_score(y_test, preds))\n",
    "    fold += 1\n",
    "sendMessage('train AUC = {:.8f} +/- {:.8f}'.format(np.mean(aucs), np.std(aucs)))"
   ]
  },
  {
   "cell_type": "code",
   "execution_count": 40,
   "metadata": {
    "collapsed": true
   },
   "outputs": [],
   "source": [
    "fold = 0\n",
    "trainlist = list()\n",
    "testlist = list()\n",
    "ytrainlist = list()\n",
    "ytestlist = list()\n",
    "for train_index, test_index in skf:\n",
    "    if os.path.isfile('data/fold'+str(fold)+'train.csv.gz') and \\\n",
    "       os.path.isfile('data/fold'+str(fold)+'test.csv.gz'):\n",
    "        X_train = pd.read_csv('data/fold'+str(fold)+'train.csv.gz', index_col='ID')\n",
    "        X_test = pd.read_csv('data/fold'+str(fold)+'test.csv.gz', index_col='ID')\n",
    "        y_train, y_test = target[train_index].copy(), target[test_index].copy()\n",
    "    dtrain = xgb.DMatrix(X_train, y_train, missing=0)\n",
    "    dtest = xgb.DMatrix(X_test, missing=0)\n",
    "    trainlist.append(dtrain)\n",
    "    testlist.append(dtest)\n",
    "    ytestlist.append(y_test)\n",
    "    fold += 1"
   ]
  },
  {
   "cell_type": "code",
   "execution_count": 41,
   "metadata": {
    "collapsed": false
   },
   "outputs": [
    {
     "ename": "KeyboardInterrupt",
     "evalue": "",
     "output_type": "error",
     "traceback": [
      "\u001b[1;31m---------------------------------------------------------------------------\u001b[0m",
      "\u001b[1;31mKeyboardInterrupt\u001b[0m                         Traceback (most recent call last)",
      "\u001b[1;32m<ipython-input-41-7ad70810cd63>\u001b[0m in \u001b[0;36m<module>\u001b[1;34m()\u001b[0m\n\u001b[0;32m      8\u001b[0m         \u001b[0my_test\u001b[0m \u001b[1;33m=\u001b[0m \u001b[0mytestlist\u001b[0m\u001b[1;33m[\u001b[0m\u001b[0mi\u001b[0m\u001b[1;33m]\u001b[0m\u001b[1;33m\u001b[0m\u001b[0m\n\u001b[0;32m      9\u001b[0m         \u001b[0mstart_time\u001b[0m \u001b[1;33m=\u001b[0m \u001b[0mtime\u001b[0m\u001b[1;33m(\u001b[0m\u001b[1;33m)\u001b[0m\u001b[1;33m\u001b[0m\u001b[0m\n\u001b[1;32m---> 10\u001b[1;33m         \u001b[0mgbm\u001b[0m \u001b[1;33m=\u001b[0m \u001b[0mxgb\u001b[0m\u001b[1;33m.\u001b[0m\u001b[0mtrain\u001b[0m\u001b[1;33m(\u001b[0m\u001b[0mparams\u001b[0m\u001b[1;33m,\u001b[0m \u001b[0mdtrain\u001b[0m\u001b[1;33m,\u001b[0m \u001b[0mnum_boost_round\u001b[0m\u001b[1;33m=\u001b[0m\u001b[0mnbr\u001b[0m\u001b[1;33m,\u001b[0m \u001b[0mverbose_eval\u001b[0m\u001b[1;33m=\u001b[0m\u001b[1;32mFalse\u001b[0m\u001b[1;33m)\u001b[0m\u001b[1;33m\u001b[0m\u001b[0m\n\u001b[0m\u001b[0;32m     11\u001b[0m         \u001b[0mpreds\u001b[0m \u001b[1;33m=\u001b[0m \u001b[0mgbm\u001b[0m\u001b[1;33m.\u001b[0m\u001b[0mpredict\u001b[0m\u001b[1;33m(\u001b[0m\u001b[0mdtest\u001b[0m\u001b[1;33m)\u001b[0m\u001b[1;33m\u001b[0m\u001b[0m\n\u001b[0;32m     12\u001b[0m \u001b[1;33m\u001b[0m\u001b[0m\n",
      "\u001b[1;32m/home/libfun/vrt/lib/python3.4/site-packages/xgboost-0.4-py3.4.egg/xgboost/training.py\u001b[0m in \u001b[0;36mtrain\u001b[1;34m(params, dtrain, num_boost_round, evals, obj, feval, maximize, early_stopping_rounds, evals_result, verbose_eval, learning_rates, xgb_model)\u001b[0m\n\u001b[0;32m    175\u001b[0m         \u001b[1;31m# Skip the first update if it is a recovery step.\u001b[0m\u001b[1;33m\u001b[0m\u001b[1;33m\u001b[0m\u001b[0m\n\u001b[0;32m    176\u001b[0m         \u001b[1;32mif\u001b[0m \u001b[0mversion\u001b[0m \u001b[1;33m%\u001b[0m \u001b[1;36m2\u001b[0m  \u001b[1;33m==\u001b[0m \u001b[1;36m0\u001b[0m\u001b[1;33m:\u001b[0m\u001b[1;33m\u001b[0m\u001b[0m\n\u001b[1;32m--> 177\u001b[1;33m             \u001b[0mbst\u001b[0m\u001b[1;33m.\u001b[0m\u001b[0mupdate\u001b[0m\u001b[1;33m(\u001b[0m\u001b[0mdtrain\u001b[0m\u001b[1;33m,\u001b[0m \u001b[0mi\u001b[0m\u001b[1;33m,\u001b[0m \u001b[0mobj\u001b[0m\u001b[1;33m)\u001b[0m\u001b[1;33m\u001b[0m\u001b[0m\n\u001b[0m\u001b[0;32m    178\u001b[0m             \u001b[0mbst\u001b[0m\u001b[1;33m.\u001b[0m\u001b[0msave_rabit_checkpoint\u001b[0m\u001b[1;33m(\u001b[0m\u001b[1;33m)\u001b[0m\u001b[1;33m\u001b[0m\u001b[0m\n\u001b[0;32m    179\u001b[0m             \u001b[0mversion\u001b[0m \u001b[1;33m+=\u001b[0m \u001b[1;36m1\u001b[0m\u001b[1;33m\u001b[0m\u001b[0m\n",
      "\u001b[1;32m/home/libfun/vrt/lib/python3.4/site-packages/xgboost-0.4-py3.4.egg/xgboost/core.py\u001b[0m in \u001b[0;36mupdate\u001b[1;34m(self, dtrain, iteration, fobj)\u001b[0m\n\u001b[0;32m    748\u001b[0m \u001b[1;33m\u001b[0m\u001b[0m\n\u001b[0;32m    749\u001b[0m         \u001b[1;32mif\u001b[0m \u001b[0mfobj\u001b[0m \u001b[1;32mis\u001b[0m \u001b[1;32mNone\u001b[0m\u001b[1;33m:\u001b[0m\u001b[1;33m\u001b[0m\u001b[0m\n\u001b[1;32m--> 750\u001b[1;33m             \u001b[0m_check_call\u001b[0m\u001b[1;33m(\u001b[0m\u001b[0m_LIB\u001b[0m\u001b[1;33m.\u001b[0m\u001b[0mXGBoosterUpdateOneIter\u001b[0m\u001b[1;33m(\u001b[0m\u001b[0mself\u001b[0m\u001b[1;33m.\u001b[0m\u001b[0mhandle\u001b[0m\u001b[1;33m,\u001b[0m \u001b[0miteration\u001b[0m\u001b[1;33m,\u001b[0m \u001b[0mdtrain\u001b[0m\u001b[1;33m.\u001b[0m\u001b[0mhandle\u001b[0m\u001b[1;33m)\u001b[0m\u001b[1;33m)\u001b[0m\u001b[1;33m\u001b[0m\u001b[0m\n\u001b[0m\u001b[0;32m    751\u001b[0m         \u001b[1;32melse\u001b[0m\u001b[1;33m:\u001b[0m\u001b[1;33m\u001b[0m\u001b[0m\n\u001b[0;32m    752\u001b[0m             \u001b[0mpred\u001b[0m \u001b[1;33m=\u001b[0m \u001b[0mself\u001b[0m\u001b[1;33m.\u001b[0m\u001b[0mpredict\u001b[0m\u001b[1;33m(\u001b[0m\u001b[0mdtrain\u001b[0m\u001b[1;33m)\u001b[0m\u001b[1;33m\u001b[0m\u001b[0m\n",
      "\u001b[1;31mKeyboardInterrupt\u001b[0m: "
     ]
    }
   ],
   "source": [
    "for nbr in [300, 400, 500, 600, 700]:\n",
    "    sendMessage('Doing nbr = {:}'.format(nbr))\n",
    "    aucs = list()\n",
    "    fold = 0\n",
    "    for i in range(10):\n",
    "        dtrain = trainlist[i]\n",
    "        dtest = testlist[i]\n",
    "        y_test = ytestlist[i]\n",
    "        start_time = time()\n",
    "        gbm = xgb.train(params, dtrain, num_boost_round=nbr, verbose_eval=False)\n",
    "        preds = gbm.predict(dtest)\n",
    "\n",
    "        sendMessage('Done fold {:} woe+smt in {:.3f}s auc = {:.6f}'.format(fold, time() - start_time,\n",
    "                                                                           roc_auc_score(y_test, preds)))\n",
    "        aucs.append(roc_auc_score(y_test, preds))\n",
    "        fold += 1\n",
    "    sendMessage('train AUC = {:.6f} +/- {:.6f}'.format(np.mean(aucs), np.std(aucs)))"
   ]
  },
  {
   "cell_type": "code",
   "execution_count": null,
   "metadata": {
    "collapsed": true
   },
   "outputs": [],
   "source": [
    "fold = 0\n",
    "trainlist = list()\n",
    "testlist = list()\n",
    "ytrainlist = list()\n",
    "ytestlist = list()\n",
    "for train_index, test_index in skf:\n",
    "    if os.path.isfile('data/fold'+str(fold)+'train.csv.gz') and \\\n",
    "       os.path.isfile('data/fold'+str(fold)+'test.csv.gz'):\n",
    "        X_train = pd.read_csv('data/fold'+str(fold)+'train.csv.gz', index_col='ID')\n",
    "        X_test = pd.read_csv('data/fold'+str(fold)+'test.csv.gz', index_col='ID')\n",
    "        y_train, y_test = target[train_index].copy(), target[test_index].copy()\n",
    "    train_w = np.ones(y_train.shape)\n",
    "    train_w[y_train == 1] = 25.\n",
    "    test_w = np.ones(y_test.shape)\n",
    "    test_w[y_test == 1] = 25.\n",
    "    dtrain = xgb.DMatrix(X_train, y_train, missing=0)\n",
    "    dtest = xgb.DMatrix(X_test, missing=0)\n",
    "    trainlist.append(dtrain)\n",
    "    testlist.append(dtest)\n",
    "    ytestlist.append(y_test)\n",
    "    fold += 1"
   ]
  },
  {
   "cell_type": "code",
   "execution_count": null,
   "metadata": {
    "collapsed": true
   },
   "outputs": [],
   "source": [
    "for nbr in [300, 400, 500, 600, 700]:\n",
    "    sendMessage('Doing nbr = {:}'.format(nbr))\n",
    "    aucs = list()\n",
    "    fold = 0\n",
    "    for i in range(10):\n",
    "        dtrain = trainlist[i]\n",
    "        dtest = testlist[i]\n",
    "        y_test = ytestlist[i]\n",
    "        start_time = time()\n",
    "        gbm = xgb.train(params, dtrain, num_boost_round=nbr, verbose_eval=False)\n",
    "        preds = gbm.predict(dtest)\n",
    "\n",
    "        sendMessage('Done fold {:} woe+smt in {:.3f}s auc = {:.6f}'.format(fold, time() - start_time,\n",
    "                                                                           roc_auc_score(y_test, preds)))\n",
    "        aucs.append(roc_auc_score(y_test, preds))\n",
    "        fold += 1\n",
    "    sendMessage('train AUC = {:.6f} +/- {:.6f}'.format(np.mean(aucs), np.std(aucs)))"
   ]
  },
  {
   "cell_type": "code",
   "execution_count": 25,
   "metadata": {
    "collapsed": false
   },
   "outputs": [
    {
     "name": "stderr",
     "output_type": "stream",
     "text": [
      "100%|██████████| 184/184 [01:10<00:00,  1.52it/s]\n"
     ]
    }
   ],
   "source": [
    "X_train, X_test = train.copy(), test.copy()\n",
    "y_train = target\n",
    "#globtest = test.copy()\n",
    "\n",
    "catcols = X_train.columns[X_train.dtypes == 'int64']\n",
    "skfi = StratifiedKFold(y_train, n_folds=10, random_state=42)\n",
    "\n",
    "for col in tqdm(catcols):\n",
    "    X_train.loc[:, col+'@smt'] = smooth_target_mean_cv(X_train[col], y_train.copy(), 40, cv=skfi)\n",
    "    X_test.loc[:, col+'@smt'] = smooth_target_mean(X_train[col], X_test[col], y_train.copy(), 40)\n",
    "    #globtest.loc[:, col+'@smt'] = smooth_target_mean(X_train[col], globtest[col], y_train, 40)\n",
    "\n",
    "dtrain = xgb.DMatrix(X_train.loc[:, X_train.columns.difference(catcols)], y_train, missing=0)\n",
    "dtest = xgb.DMatrix(X_test.loc[:, X_test.columns.difference(catcols)], missing=0)\n",
    "#dglobtest = xgb.DMatrix(globtest[X_train.columns.difference(catcols)], missing=0)\n",
    "\n",
    "gbm = xgb.train(params, dtrain, num_boost_round=540, verbose_eval=False)\n",
    "predsin = gbm.predict(dtest)\n",
    "#predsout = gbm.predict(dglobtest)\n",
    "\n",
    "test_xgb_smt[:, 0] = predsin\n",
    "#test_xgb_smt[:, fold*baglen + bag] = predsout\n",
    "#sendMessage('Done fold {:} bag {:} in {:.3f}s auc = {:.6f}'.format(fold, bag, time() - start_time,\n",
    "#                                                             roc_auc_score(y_test, predsin)))"
   ]
  },
  {
   "cell_type": "code",
   "execution_count": 26,
   "metadata": {
    "collapsed": true
   },
   "outputs": [],
   "source": [
    "train_st = pd.read_csv('data/train_stack_c.csv', index_col='ID')\n",
    "test_st = pd.read_csv('data/testx_stack_c.csv', index_col='ID')"
   ]
  },
  {
   "cell_type": "code",
   "execution_count": 27,
   "metadata": {
    "collapsed": true
   },
   "outputs": [],
   "source": [
    "train_st.loc[:, 'xgbsmt'] = train_xgb_smt\n",
    "test_st.loc[:, 'xgbsmt'] = test_xgb_smt[:, 0]"
   ]
  },
  {
   "cell_type": "code",
   "execution_count": 28,
   "metadata": {
    "collapsed": true
   },
   "outputs": [],
   "source": [
    "train_st.to_csv('data/train_stack_c.csv', index_label='ID')\n",
    "test_st.to_csv('data/test_stack_c.csv', index_label='ID')"
   ]
  },
  {
   "cell_type": "code",
   "execution_count": 12,
   "metadata": {
    "collapsed": true
   },
   "outputs": [],
   "source": [
    "catcols = train.columns[train.dtypes == 'int64']"
   ]
  },
  {
   "cell_type": "code",
   "execution_count": 13,
   "metadata": {
    "collapsed": false
   },
   "outputs": [
    {
     "name": "stderr",
     "output_type": "stream",
     "text": [
      "100%|██████████| 184/184 [01:10<00:00,  1.51it/s]\n"
     ]
    }
   ],
   "source": [
    "for col in tqdm(catcols):\n",
    "    train.loc[:, col+'@smt'] = smooth_target_mean_cv(train[col], target, 40, cv=skf)\n",
    "    test.loc[:, col+'@smt'] = smooth_target_mean(train[col], test[col], target, 40)"
   ]
  },
  {
   "cell_type": "code",
   "execution_count": 14,
   "metadata": {
    "collapsed": true
   },
   "outputs": [],
   "source": [
    "import xgboost as xgb"
   ]
  },
  {
   "cell_type": "code",
   "execution_count": 15,
   "metadata": {
    "collapsed": true
   },
   "outputs": [],
   "source": [
    "params = {'objective': 'binary:logistic', \n",
    "          'eval_metric': 'auc',\n",
    "          'eta': 0.0202048,\n",
    "          'max_depth': 5,\n",
    "          'subsample': 0.6815,\n",
    "          'colsample_bytree': 0.701,\n",
    "          'silent': 1,\n",
    "          'seed': 0\n",
    "}"
   ]
  },
  {
   "cell_type": "code",
   "execution_count": 16,
   "metadata": {
    "collapsed": false
   },
   "outputs": [],
   "source": [
    "dtrain = xgb.DMatrix(train[train.columns.difference(catcols)], target, missing=0)"
   ]
  },
  {
   "cell_type": "code",
   "execution_count": 17,
   "metadata": {
    "collapsed": false
   },
   "outputs": [
    {
     "name": "stderr",
     "output_type": "stream",
     "text": [
      "Will train until cv error hasn't decreased in 200 rounds.\n",
      "[0]\tcv-test-auc:0.7764888999999999+0.03771692238094196\tcv-train-auc:0.7817685+0.02762428975829061\n",
      "[1]\tcv-test-auc:0.8027460999999999+0.013099061076657346\tcv-train-auc:0.813799+0.0051200754486628594\n",
      "[2]\tcv-test-auc:0.8056745+0.016751617320426095\tcv-train-auc:0.8166207+0.005673355480665753\n",
      "[3]\tcv-test-auc:0.8096533000000001+0.0127151503573493\tcv-train-auc:0.8219635999999999+0.0029495072876668553\n",
      "[4]\tcv-test-auc:0.8098855+0.01381212031695351\tcv-train-auc:0.8234034000000001+0.0037225213820742515\n",
      "[5]\tcv-test-auc:0.8122056000000001+0.014260855992541269\tcv-train-auc:0.8255310999999999+0.003993180372835683\n",
      "[6]\tcv-test-auc:0.8140497999999999+0.013277769163530453\tcv-train-auc:0.8273699000000001+0.004510691575579073\n",
      "[7]\tcv-test-auc:0.8143169+0.01363596342360892\tcv-train-auc:0.8285370000000001+0.003946990321751498\n",
      "[8]\tcv-test-auc:0.8145553+0.01464809676408509\tcv-train-auc:0.8286484000000002+0.004362565717556576\n",
      "[9]\tcv-test-auc:0.8150490999999999+0.01429835143259531\tcv-train-auc:0.8298466000000001+0.00444096899786521\n",
      "[10]\tcv-test-auc:0.8149982999999998+0.013815532411383936\tcv-train-auc:0.8295933+0.004909212218879929\n",
      "[11]\tcv-test-auc:0.8160049+0.014020755610522573\tcv-train-auc:0.8310677999999999+0.004376531818689294\n",
      "[12]\tcv-test-auc:0.8168784+0.013846115016133585\tcv-train-auc:0.8319930000000001+0.004134177475629223\n",
      "[13]\tcv-test-auc:0.8166601+0.013062140838698683\tcv-train-auc:0.8322321+0.0031646540869422193\n",
      "[14]\tcv-test-auc:0.8176729000000001+0.012948885584867915\tcv-train-auc:0.8332374+0.0028802706886679914\n",
      "[15]\tcv-test-auc:0.8177049999999999+0.01225239990369234\tcv-train-auc:0.8340053+0.0025870882107110363\n",
      "[16]\tcv-test-auc:0.8185230000000001+0.012225920546118402\tcv-train-auc:0.8348643000000001+0.0024212811918486446\n",
      "[17]\tcv-test-auc:0.8189638+0.012255624853919126\tcv-train-auc:0.8354165+0.0022934344224328908\n",
      "[18]\tcv-test-auc:0.8200508999999998+0.0117792743532868\tcv-train-auc:0.8364036+0.002516646904116666\n",
      "[19]\tcv-test-auc:0.8203668000000001+0.011529660817213995\tcv-train-auc:0.8372466999999999+0.0021456121760467213\n",
      "[20]\tcv-test-auc:0.8206505+0.012101012116761163\tcv-train-auc:0.8377535+0.0019864479983125504\n",
      "[21]\tcv-test-auc:0.8208608+0.01177396778320714\tcv-train-auc:0.8380566999999999+0.0019540518954214102\n",
      "[22]\tcv-test-auc:0.8214912999999999+0.01177183211781412\tcv-train-auc:0.8387124+0.0016148627929332064\n",
      "[23]\tcv-test-auc:0.8218836000000002+0.011373575455414191\tcv-train-auc:0.8396881+0.0016938495476281161\n",
      "[24]\tcv-test-auc:0.8219453+0.011878282384671616\tcv-train-auc:0.8397815999999999+0.0022375829459485973\n",
      "[25]\tcv-test-auc:0.8219552999999999+0.012006901116024888\tcv-train-auc:0.8400036+0.002114961663955154\n",
      "[26]\tcv-test-auc:0.8224214999999999+0.011749490322988478\tcv-train-auc:0.8403+0.002218565888135837\n",
      "[27]\tcv-test-auc:0.8221776999999999+0.01174664825428937\tcv-train-auc:0.8403153+0.002079614341650868\n",
      "[28]\tcv-test-auc:0.8228481000000001+0.01172305619239283\tcv-train-auc:0.8406774+0.00201750252540116\n",
      "[29]\tcv-test-auc:0.8230195+0.01181349303339197\tcv-train-auc:0.8411566+0.0015710935172674992\n",
      "[30]\tcv-test-auc:0.8231382+0.011417180341923313\tcv-train-auc:0.8415497000000001+0.0015918952886418182\n",
      "[31]\tcv-test-auc:0.8231246000000001+0.011416158532536264\tcv-train-auc:0.8416309999999999+0.0018942218983001927\n",
      "[32]\tcv-test-auc:0.8234406+0.011350230404709854\tcv-train-auc:0.8419378+0.0018471782696859466\n",
      "[33]\tcv-test-auc:0.8232994000000001+0.01153675845460932\tcv-train-auc:0.8415513000000001+0.0019827342257599852\n",
      "[34]\tcv-test-auc:0.8237992999999999+0.011230755976780893\tcv-train-auc:0.841803+0.0022980576145954254\n",
      "[35]\tcv-test-auc:0.8238033+0.011030704230011791\tcv-train-auc:0.8419053+0.002224470905631276\n",
      "[36]\tcv-test-auc:0.8234026+0.011532198135654799\tcv-train-auc:0.8413620999999999+0.002400870694144115\n",
      "[37]\tcv-test-auc:0.8236983999999999+0.011522489524403984\tcv-train-auc:0.8418103+0.002196934821518363\n",
      "[38]\tcv-test-auc:0.8239029999999999+0.011665318435430732\tcv-train-auc:0.842037+0.0026229088432501856\n",
      "[39]\tcv-test-auc:0.8237715000000001+0.012022988366042773\tcv-train-auc:0.8420871+0.0026473546966736348\n",
      "[40]\tcv-test-auc:0.8244458+0.011856236846487166\tcv-train-auc:0.8425984+0.0025357226662235735\n",
      "[41]\tcv-test-auc:0.8248324+0.01182925788204822\tcv-train-auc:0.8430199+0.0021803109159016705\n",
      "[42]\tcv-test-auc:0.8247191+0.012057049468671836\tcv-train-auc:0.8428150999999999+0.002237210649447223\n",
      "[43]\tcv-test-auc:0.8248119+0.011904551141895274\tcv-train-auc:0.8431588+0.001973188120783214\n",
      "[44]\tcv-test-auc:0.8248557+0.012159730795128665\tcv-train-auc:0.8431926000000001+0.0022099256186577866\n",
      "[45]\tcv-test-auc:0.8246624+0.012289721991973621\tcv-train-auc:0.8432668999999999+0.0021830937428337824\n",
      "[46]\tcv-test-auc:0.825058+0.012343240636072839\tcv-train-auc:0.8437455+0.0019479990374741043\n",
      "[47]\tcv-test-auc:0.8253344+0.012185037268716076\tcv-train-auc:0.8440186000000001+0.0019377153660948322\n",
      "[48]\tcv-test-auc:0.8258612+0.011957930471448643\tcv-train-auc:0.8443609999999999+0.0018999554731624587\n",
      "[49]\tcv-test-auc:0.8261156+0.0117865111139811\tcv-train-auc:0.8447106000000002+0.0016771347709710084\n",
      "[50]\tcv-test-auc:0.8260299+0.011879090827584423\tcv-train-auc:0.8446296+0.0017361486802690699\n",
      "[51]\tcv-test-auc:0.8261765999999999+0.011822345665729794\tcv-train-auc:0.8448596+0.0017641181479708399\n",
      "[52]\tcv-test-auc:0.826081+0.012057412408970677\tcv-train-auc:0.8450517999999999+0.0018596593128850315\n",
      "[53]\tcv-test-auc:0.8262934+0.01186351601507749\tcv-train-auc:0.8453350000000001+0.001997594102914815\n",
      "[54]\tcv-test-auc:0.8262356000000001+0.01181503843582406\tcv-train-auc:0.8453937+0.0021564443442852734\n",
      "[55]\tcv-test-auc:0.8263687000000001+0.011951781440856409\tcv-train-auc:0.8455407000000001+0.001856078988082154\n",
      "[56]\tcv-test-auc:0.8261559+0.01192260432497866\tcv-train-auc:0.8455683+0.0021919513703547422\n",
      "[57]\tcv-test-auc:0.8263414000000001+0.011912887527379745\tcv-train-auc:0.8456110000000001+0.002249285886676037\n",
      "[58]\tcv-test-auc:0.8266326999999999+0.011885705886063294\tcv-train-auc:0.8458540999999998+0.002292419920084457\n",
      "[59]\tcv-test-auc:0.8266919999999999+0.011735756140956597\tcv-train-auc:0.8458880000000001+0.0023322933777721795\n",
      "[60]\tcv-test-auc:0.8268798+0.01172806838997794\tcv-train-auc:0.8460856+0.002242315196398587\n",
      "[61]\tcv-test-auc:0.826981+0.011648525923909853\tcv-train-auc:0.8460874+0.002376397534083901\n",
      "[62]\tcv-test-auc:0.8270326000000001+0.011736947356105847\tcv-train-auc:0.8463605+0.0021428086825472847\n",
      "[63]\tcv-test-auc:0.8272316+0.01175259134999596\tcv-train-auc:0.8465928+0.002215162648655836\n",
      "[64]\tcv-test-auc:0.8273474999999999+0.011792219911874098\tcv-train-auc:0.8468398+0.002100186458388873\n",
      "[65]\tcv-test-auc:0.827301+0.011856229999455988\tcv-train-auc:0.846997+0.0018947508015567628\n",
      "[66]\tcv-test-auc:0.8273009+0.011910118114023883\tcv-train-auc:0.8471352+0.001690488734064806\n",
      "[67]\tcv-test-auc:0.827426+0.011768347182166234\tcv-train-auc:0.8473408000000001+0.0017098531983769792\n",
      "[68]\tcv-test-auc:0.8273714999999999+0.011703616648284412\tcv-train-auc:0.8473307999999999+0.0018178036637657082\n",
      "[69]\tcv-test-auc:0.8272805999999999+0.011712529617465228\tcv-train-auc:0.8474763+0.0016426121301147034\n",
      "[70]\tcv-test-auc:0.8275802999999999+0.01164151612162263\tcv-train-auc:0.8477038+0.0014856664363173814\n",
      "[71]\tcv-test-auc:0.8275465000000001+0.011332687212219375\tcv-train-auc:0.8479181+0.0016041713405992378\n",
      "[72]\tcv-test-auc:0.8273816999999999+0.011395334966994184\tcv-train-auc:0.8479879+0.0016053238582915206\n",
      "[73]\tcv-test-auc:0.8275817+0.011419603023310416\tcv-train-auc:0.8482618000000001+0.0013634420999807924\n",
      "[74]\tcv-test-auc:0.8277075+0.01156576677311106\tcv-train-auc:0.8483518+0.0013524055456851597\n",
      "[75]\tcv-test-auc:0.8277593000000001+0.011411259142180594\tcv-train-auc:0.8484819+0.0012848166756389706\n",
      "[76]\tcv-test-auc:0.8278210999999999+0.01145078346184225\tcv-train-auc:0.8487604000000001+0.0010992919721347877\n",
      "[77]\tcv-test-auc:0.8280379999999999+0.011610264742890234\tcv-train-auc:0.8489578+0.001015741975109826\n",
      "[78]\tcv-test-auc:0.8281204000000001+0.011466162742609235\tcv-train-auc:0.8491525+0.0011062809995656666\n",
      "[79]\tcv-test-auc:0.8284315+0.011427009453483438\tcv-train-auc:0.8494693+0.001137658476872557\n",
      "[80]\tcv-test-auc:0.8284136999999999+0.011445788885437291\tcv-train-auc:0.8495848+0.0011814498550509816\n",
      "[81]\tcv-test-auc:0.8285556+0.011280853063487717\tcv-train-auc:0.8498756000000001+0.0011517364455464578\n",
      "[82]\tcv-test-auc:0.8285934000000001+0.0111972776441419\tcv-train-auc:0.8500273+0.0010544271477916374\n",
      "[83]\tcv-test-auc:0.8287015+0.011356893433065231\tcv-train-auc:0.8500907+0.0011267485123131872\n",
      "[84]\tcv-test-auc:0.8287498000000001+0.01120593569319403\tcv-train-auc:0.8502927000000001+0.0010732999627317524\n",
      "[85]\tcv-test-auc:0.8289443999999999+0.01119576006531045\tcv-train-auc:0.8504606000000001+0.0010560182952960766\n",
      "[86]\tcv-test-auc:0.8290609+0.011021458410301242\tcv-train-auc:0.8506677+0.0010118638297715757\n",
      "[87]\tcv-test-auc:0.8292366+0.010900126661649382\tcv-train-auc:0.8509724999999999+0.0009482262651920226\n",
      "[88]\tcv-test-auc:0.8294100999999999+0.01106569397236343\tcv-train-auc:0.8512199+0.0008873698721502802\n",
      "[89]\tcv-test-auc:0.8293623999999999+0.011149861337254376\tcv-train-auc:0.8513738+0.0010175258031126287\n",
      "[90]\tcv-test-auc:0.8295158+0.010959652437919729\tcv-train-auc:0.8515494+0.0010070054816136735\n",
      "[91]\tcv-test-auc:0.8296783999999999+0.010814928591534953\tcv-train-auc:0.8517905000000001+0.0009951139884455508\n",
      "[92]\tcv-test-auc:0.8298954000000001+0.010651676085950043\tcv-train-auc:0.8520099+0.001033083292866545\n",
      "[93]\tcv-test-auc:0.8300094+0.010612400022615045\tcv-train-auc:0.8521376+0.0010710917981200385\n",
      "[94]\tcv-test-auc:0.8300776000000001+0.010773784963512128\tcv-train-auc:0.8522845+0.0010129618206033242\n",
      "[95]\tcv-test-auc:0.8302115000000001+0.010771024289732145\tcv-train-auc:0.8523897+0.0009873449295965259\n",
      "[96]\tcv-test-auc:0.8301098+0.010736771207397485\tcv-train-auc:0.8524898000000001+0.0010375038120411801\n",
      "[97]\tcv-test-auc:0.8301127000000001+0.010585862846740441\tcv-train-auc:0.8526001000000001+0.001137558301802606\n",
      "[98]\tcv-test-auc:0.8303676+0.010504328176518477\tcv-train-auc:0.8528060999999999+0.0011693540481821545\n",
      "[99]\tcv-test-auc:0.8305526000000001+0.010593571495959242\tcv-train-auc:0.8530753000000001+0.0011683870976692734\n",
      "[100]\tcv-test-auc:0.8306222+0.010457750989577057\tcv-train-auc:0.8531603999999999+0.0012050163650341005\n",
      "[101]\tcv-test-auc:0.8306756+0.010356600785972205\tcv-train-auc:0.8532773+0.0013113500714911936\n",
      "[102]\tcv-test-auc:0.8307785000000001+0.010468814032639981\tcv-train-auc:0.8534447000000001+0.0013633212424076716\n",
      "[103]\tcv-test-auc:0.8307883+0.010486415107652388\tcv-train-auc:0.8536114999999999+0.0012877167584527253\n",
      "[104]\tcv-test-auc:0.8310593000000001+0.010439770553513146\tcv-train-auc:0.8538705+0.0012106426599124889\n",
      "[105]\tcv-test-auc:0.8310167999999999+0.010560745066518735\tcv-train-auc:0.853963+0.0011852524625580736\n",
      "[106]\tcv-test-auc:0.8310337999999998+0.010466539206442596\tcv-train-auc:0.8541506+0.001238268242344929\n",
      "[107]\tcv-test-auc:0.8311078000000001+0.010488959117090689\tcv-train-auc:0.8542758000000001+0.00121323961359659\n",
      "[108]\tcv-test-auc:0.8310997+0.010688287328192478\tcv-train-auc:0.8543668999999999+0.001199745343812597\n",
      "[109]\tcv-test-auc:0.8311942999999999+0.010615757316838007\tcv-train-auc:0.8544533+0.0012985728358471055\n",
      "[110]\tcv-test-auc:0.831386+0.010504908852531776\tcv-train-auc:0.8546118+0.001306095157329678\n",
      "[111]\tcv-test-auc:0.831455+0.010521765593283283\tcv-train-auc:0.8548154+0.001254095785815406\n",
      "[112]\tcv-test-auc:0.8315557000000002+0.010511437704234372\tcv-train-auc:0.8549620000000001+0.0011970364238401443\n",
      "[113]\tcv-test-auc:0.8315446+0.010436677682097887\tcv-train-auc:0.8551062+0.0011958844258539315\n",
      "[114]\tcv-test-auc:0.8315512+0.010512991009222835\tcv-train-auc:0.8552502000000001+0.0012555221861838854\n",
      "[115]\tcv-test-auc:0.8316848+0.01055395285947403\tcv-train-auc:0.8553333000000001+0.0012092672202619304\n",
      "[116]\tcv-test-auc:0.8317867+0.010581599303035457\tcv-train-auc:0.8555086+0.0011116588685383762\n",
      "[117]\tcv-test-auc:0.8318117999999999+0.010639111220398073\tcv-train-auc:0.855688+0.001081442000294068\n",
      "[118]\tcv-test-auc:0.8319255999999999+0.010823607792228985\tcv-train-auc:0.8558427+0.0009898042281178483\n",
      "[119]\tcv-test-auc:0.8319617000000001+0.010715003901539174\tcv-train-auc:0.8559922+0.0010401409327586606\n",
      "[120]\tcv-test-auc:0.8319103+0.010628905522677291\tcv-train-auc:0.8561484+0.0011425650265958773\n",
      "[121]\tcv-test-auc:0.8319980000000001+0.010697683665167889\tcv-train-auc:0.8562892999999999+0.001126072915045921\n",
      "[122]\tcv-test-auc:0.8321181+0.010764586721746457\tcv-train-auc:0.8564731999999999+0.0010920554747813848\n",
      "[123]\tcv-test-auc:0.8322277+0.010762214168562139\tcv-train-auc:0.856616+0.0009713757254533541\n",
      "[124]\tcv-test-auc:0.8322896999999999+0.01073387445473441\tcv-train-auc:0.8567712999999999+0.0009080272077421305\n",
      "[125]\tcv-test-auc:0.8323867999999999+0.01073206686337725\tcv-train-auc:0.8569432000000001+0.0009409138961669007\n",
      "[126]\tcv-test-auc:0.8323309+0.010824537213664153\tcv-train-auc:0.8570401000000001+0.0009195900662795341\n",
      "[127]\tcv-test-auc:0.8323791999999999+0.010799508514742704\tcv-train-auc:0.8571568+0.0009641231041729115\n",
      "[128]\tcv-test-auc:0.8324071+0.010814516775612317\tcv-train-auc:0.8573073000000001+0.0009522931323915015\n",
      "[129]\tcv-test-auc:0.8325115000000001+0.010874456457680991\tcv-train-auc:0.8574913000000001+0.0009302782433229251\n",
      "[130]\tcv-test-auc:0.8324804+0.010947760183708818\tcv-train-auc:0.8576414+0.0008903276026272585\n",
      "[131]\tcv-test-auc:0.8325422+0.010994203389059157\tcv-train-auc:0.8577973999999999+0.0008720110320403219\n",
      "[132]\tcv-test-auc:0.8326559999999998+0.010972834592756787\tcv-train-auc:0.8579743000000001+0.0008602889107735694\n",
      "[133]\tcv-test-auc:0.8328025+0.010954580934476689\tcv-train-auc:0.8581443+0.0008520766456135301\n",
      "[134]\tcv-test-auc:0.8328771000000001+0.010857676588018254\tcv-train-auc:0.8583149000000001+0.0008808413534797398\n",
      "[135]\tcv-test-auc:0.8328972+0.010811059252450702\tcv-train-auc:0.8584946999999999+0.0009414082058278473\n",
      "[136]\tcv-test-auc:0.832935+0.010837491905417959\tcv-train-auc:0.858583+0.000927489622583461\n",
      "[137]\tcv-test-auc:0.8329726000000001+0.010833569090562909\tcv-train-auc:0.8587681+0.0009806090403417565\n",
      "[138]\tcv-test-auc:0.8329187999999998+0.010844363843029264\tcv-train-auc:0.8589002000000001+0.0009370832193567465\n",
      "[139]\tcv-test-auc:0.8329891+0.010813271812453428\tcv-train-auc:0.8590019+0.0009722966059798933\n",
      "[140]\tcv-test-auc:0.8329775999999999+0.010778357028786894\tcv-train-auc:0.8590822000000001+0.0009913789184766977\n",
      "[141]\tcv-test-auc:0.8330884000000001+0.010824250202207992\tcv-train-auc:0.8592869000000001+0.0009425584809442976\n",
      "[142]\tcv-test-auc:0.8332193999999999+0.010799648301680925\tcv-train-auc:0.8594471+0.0010418067431150855\n",
      "[143]\tcv-test-auc:0.8333626000000001+0.010843420320175736\tcv-train-auc:0.8596663999999998+0.00099764043622943\n",
      "[144]\tcv-test-auc:0.8334961999999999+0.010925208646062562\tcv-train-auc:0.8598408000000001+0.000955063955973629\n",
      "[145]\tcv-test-auc:0.8336454+0.010892051002451268\tcv-train-auc:0.8599697+0.0009708199678622214\n",
      "[146]\tcv-test-auc:0.8336423+0.010861233963505242\tcv-train-auc:0.8600920000000001+0.0009924172509584853\n",
      "[147]\tcv-test-auc:0.8337275+0.010781749990145374\tcv-train-auc:0.8602594+0.0010345898897630719\n",
      "[148]\tcv-test-auc:0.8337375999999999+0.010815136062019759\tcv-train-auc:0.8604259000000001+0.0010200709240047949\n",
      "[149]\tcv-test-auc:0.8338898+0.010775176896923774\tcv-train-auc:0.8606097+0.0009927396486491397\n",
      "[150]\tcv-test-auc:0.8340766000000001+0.010692118669375113\tcv-train-auc:0.8608463000000001+0.0009967258449543567\n",
      "[151]\tcv-test-auc:0.8341923999999998+0.010714623616347892\tcv-train-auc:0.8609770000000001+0.0010516190374845905\n",
      "[152]\tcv-test-auc:0.8341697+0.01062018906658446\tcv-train-auc:0.8611603000000001+0.001041232543671181\n",
      "[153]\tcv-test-auc:0.8343213+0.010532733368409184\tcv-train-auc:0.8613462999999999+0.001052723140241526\n",
      "[154]\tcv-test-auc:0.8344251+0.010572528273312856\tcv-train-auc:0.8614947000000001+0.0010569257353286459\n",
      "[155]\tcv-test-auc:0.8344579+0.010493936281967781\tcv-train-auc:0.8616408+0.001075809444093143\n",
      "[156]\tcv-test-auc:0.8344978+0.010449649016115326\tcv-train-auc:0.8618271+0.0010626924719786136\n",
      "[157]\tcv-test-auc:0.8345092+0.010394987963437014\tcv-train-auc:0.8619925+0.001057564395202477\n",
      "[158]\tcv-test-auc:0.8346112+0.010421588686951713\tcv-train-auc:0.8621265000000001+0.0010440086446002054\n",
      "[159]\tcv-test-auc:0.8346718+0.010379698760561397\tcv-train-auc:0.862275+0.0010621087514939137\n",
      "[160]\tcv-test-auc:0.8348073999999999+0.010363165280936129\tcv-train-auc:0.8624383+0.0010617849170147487\n",
      "[161]\tcv-test-auc:0.8348686000000001+0.010440807844223526\tcv-train-auc:0.8626064+0.0010670167009002207\n",
      "[162]\tcv-test-auc:0.8349625999999999+0.010480583668861206\tcv-train-auc:0.8627877999999999+0.0010271915887506053\n",
      "[163]\tcv-test-auc:0.8349485+0.010477329767168732\tcv-train-auc:0.8629384999999999+0.001033847885329372\n",
      "[164]\tcv-test-auc:0.8350259000000001+0.01046431060748867\tcv-train-auc:0.8631151000000001+0.0010277316235282547\n",
      "[165]\tcv-test-auc:0.8350545+0.01052192419902368\tcv-train-auc:0.8632496+0.0010140230963839123\n",
      "[166]\tcv-test-auc:0.8351651999999999+0.010550962371272113\tcv-train-auc:0.8634081+0.000988642650303953\n",
      "[167]\tcv-test-auc:0.8352166000000001+0.010567818878084542\tcv-train-auc:0.8635571000000001+0.0010173231001014398\n",
      "[168]\tcv-test-auc:0.8352903999999999+0.010563611306745432\tcv-train-auc:0.8637126+0.0009621153984839777\n",
      "[169]\tcv-test-auc:0.8353693999999999+0.010611197973838771\tcv-train-auc:0.8639007+0.0009245627128540194\n",
      "[170]\tcv-test-auc:0.8353773+0.010601087180567827\tcv-train-auc:0.8640675+0.0009200283963009011\n",
      "[171]\tcv-test-auc:0.8354811+0.010546404936754511\tcv-train-auc:0.8642922000000001+0.0009137236781434564\n",
      "[172]\tcv-test-auc:0.835549+0.010574950278842936\tcv-train-auc:0.8644375+0.0008922046009744496\n",
      "[173]\tcv-test-auc:0.8356103000000001+0.01056860075932476\tcv-train-auc:0.8646091+0.0008708534262434846\n",
      "[174]\tcv-test-auc:0.8356299+0.010522092172662258\tcv-train-auc:0.8647753999999999+0.0008550141753210967\n",
      "[175]\tcv-test-auc:0.8356819+0.010519803405482439\tcv-train-auc:0.8649214000000001+0.0008390375676929082\n",
      "[176]\tcv-test-auc:0.8357154999999998+0.01046998087152024\tcv-train-auc:0.8650731+0.0008365434178809835\n",
      "[177]\tcv-test-auc:0.8357325+0.010352546114362381\tcv-train-auc:0.8652635+0.0008442366078298073\n",
      "[178]\tcv-test-auc:0.8357937999999999+0.010308331279115937\tcv-train-auc:0.8654299+0.0008527924073301724\n",
      "[179]\tcv-test-auc:0.8358724000000001+0.010248860377622465\tcv-train-auc:0.8655884+0.000828669077497149\n",
      "[180]\tcv-test-auc:0.8359317+0.010309067242481252\tcv-train-auc:0.8657790000000001+0.0008103441244310945\n",
      "[181]\tcv-test-auc:0.8359378999999999+0.010326200118630278\tcv-train-auc:0.8659502+0.0008090259328352759\n",
      "[182]\tcv-test-auc:0.8359605+0.010334819846035058\tcv-train-auc:0.8661016000000001+0.0007997791195073811\n",
      "[183]\tcv-test-auc:0.8359745000000001+0.010364078948464259\tcv-train-auc:0.8662599+0.0008110232364118801\n",
      "[184]\tcv-test-auc:0.835998+0.01043864561138082\tcv-train-auc:0.8663749+0.0008186565152736532\n",
      "[185]\tcv-test-auc:0.8360815+0.010444494140455056\tcv-train-auc:0.8665201999999999+0.0008086056888249156\n",
      "[186]\tcv-test-auc:0.8361687999999999+0.010456339634881793\tcv-train-auc:0.8666751999999999+0.0007854215174032363\n",
      "[187]\tcv-test-auc:0.8362219+0.010526419519000756\tcv-train-auc:0.8668452+0.0008013678056922268\n",
      "[188]\tcv-test-auc:0.8362328+0.010476041091939246\tcv-train-auc:0.8670017+0.0008283863893135959\n",
      "[189]\tcv-test-auc:0.8362724+0.010408510856025482\tcv-train-auc:0.8671521999999999+0.000820060583127853\n",
      "[190]\tcv-test-auc:0.8363679000000002+0.0104142155676748\tcv-train-auc:0.8673199+0.0008130679491899931\n",
      "[191]\tcv-test-auc:0.8363849+0.010392621213630365\tcv-train-auc:0.8674762000000001+0.0008201158210887028\n",
      "[192]\tcv-test-auc:0.8364127+0.01044191405873463\tcv-train-auc:0.867601+0.0008229891858341791\n",
      "[193]\tcv-test-auc:0.83636+0.01044095270557242\tcv-train-auc:0.8677309000000001+0.0008116833680691188\n",
      "[194]\tcv-test-auc:0.8364326+0.010472528445413753\tcv-train-auc:0.8678666999999999+0.0008200747587872557\n",
      "[195]\tcv-test-auc:0.8364321+0.010448805352287883\tcv-train-auc:0.8680317000000001+0.0008221070550724991\n",
      "[196]\tcv-test-auc:0.8364965+0.010423278987439602\tcv-train-auc:0.8681363+0.0008317995010818443\n",
      "[197]\tcv-test-auc:0.8365507000000001+0.01041704036711003\tcv-train-auc:0.8682874+0.0008222762552816463\n",
      "[198]\tcv-test-auc:0.8365922000000001+0.010437188623379392\tcv-train-auc:0.8684232999999999+0.0008407968898610416\n",
      "[199]\tcv-test-auc:0.8366091000000001+0.01049280128897902\tcv-train-auc:0.8685442+0.0008732582435912124\n",
      "[200]\tcv-test-auc:0.836693+0.010505896258768214\tcv-train-auc:0.8687007000000001+0.0008925762768525718\n",
      "[201]\tcv-test-auc:0.8367395+0.010538821824568449\tcv-train-auc:0.8688426000000001+0.0008959886383208241\n",
      "[202]\tcv-test-auc:0.8367647999999999+0.010558380479978929\tcv-train-auc:0.8690063+0.0009004672176153689\n",
      "[203]\tcv-test-auc:0.8367840000000001+0.010546970370679915\tcv-train-auc:0.8691248999999999+0.00088941941175129\n",
      "[204]\tcv-test-auc:0.8367548000000001+0.010568722409071005\tcv-train-auc:0.8692448+0.0008937009343175037\n",
      "[205]\tcv-test-auc:0.8368049+0.0104634070880378\tcv-train-auc:0.8694002+0.0008811147257877433\n",
      "[206]\tcv-test-auc:0.8368363999999999+0.010468672907298233\tcv-train-auc:0.8695368+0.0008936834786432938\n",
      "[207]\tcv-test-auc:0.8368725999999999+0.010425191088896172\tcv-train-auc:0.8696629999999999+0.0009117738754757183\n",
      "[208]\tcv-test-auc:0.8369548+0.010416627648140267\tcv-train-auc:0.8698184000000001+0.0009244388784554777\n",
      "[209]\tcv-test-auc:0.8369802+0.010420106168365079\tcv-train-auc:0.8699595+0.0009176032094538652\n",
      "[210]\tcv-test-auc:0.8370516+0.01042402519375312\tcv-train-auc:0.8700892+0.0009131377552154788\n",
      "[211]\tcv-test-auc:0.8370367999999999+0.010437374160199476\tcv-train-auc:0.8702319+0.0008929264751366733\n",
      "[212]\tcv-test-auc:0.8370491+0.010486907174663095\tcv-train-auc:0.8703564+0.0008615363254094397\n",
      "[213]\tcv-test-auc:0.8371181999999999+0.010450828175795445\tcv-train-auc:0.8704957999999999+0.0008959170497317136\n",
      "[214]\tcv-test-auc:0.8370734000000001+0.010480690475345585\tcv-train-auc:0.8706121000000001+0.0009046938100816257\n",
      "[215]\tcv-test-auc:0.8371263000000001+0.01047330257416446\tcv-train-auc:0.8707528+0.000902751106341052\n",
      "[216]\tcv-test-auc:0.8371919999999999+0.010454029232788667\tcv-train-auc:0.8708882000000001+0.0008857719571086043\n",
      "[217]\tcv-test-auc:0.8372229000000001+0.010408607058103399\tcv-train-auc:0.8709979999999999+0.0008873926977387112\n",
      "[218]\tcv-test-auc:0.8372906+0.010378353223898296\tcv-train-auc:0.8711242+0.0009201468143725728\n",
      "[219]\tcv-test-auc:0.8373538999999999+0.010403407023182354\tcv-train-auc:0.8712625+0.0009090555813590193\n",
      "[220]\tcv-test-auc:0.8373656+0.010415998878648167\tcv-train-auc:0.8713631999999999+0.0009142260989492752\n",
      "[221]\tcv-test-auc:0.8374247999999997+0.010417512455476131\tcv-train-auc:0.8714974+0.000897163663998942\n",
      "[222]\tcv-test-auc:0.8374564000000001+0.010433328147815538\tcv-train-auc:0.8716381999999999+0.000913650786679435\n",
      "[223]\tcv-test-auc:0.8374678+0.010481398425782697\tcv-train-auc:0.8717776+0.0009063541471191042\n",
      "[224]\tcv-test-auc:0.8375005999999999+0.010468425050598595\tcv-train-auc:0.8719007999999999+0.0009382742456232959\n",
      "[225]\tcv-test-auc:0.8374927+0.010489934776251009\tcv-train-auc:0.8720421999999999+0.0009359473062090651\n",
      "[226]\tcv-test-auc:0.8374865+0.010475452622679385\tcv-train-auc:0.8721643+0.0009240494629618099\n",
      "[227]\tcv-test-auc:0.8375254+0.01044868770899006\tcv-train-auc:0.8722993000000001+0.0009155055488635696\n",
      "[228]\tcv-test-auc:0.8375612+0.010460533674722343\tcv-train-auc:0.8724260000000001+0.0009212414450077764\n",
      "[229]\tcv-test-auc:0.8375869+0.010446854736713827\tcv-train-auc:0.8725572999999999+0.0009090672197368159\n",
      "[230]\tcv-test-auc:0.8376014999999999+0.010455335970211598\tcv-train-auc:0.8726822000000001+0.0009049983204404246\n",
      "[231]\tcv-test-auc:0.8376218+0.010471839549954903\tcv-train-auc:0.8727839+0.0008963696168434109\n",
      "[232]\tcv-test-auc:0.8376232+0.010442494661717561\tcv-train-auc:0.8728946000000001+0.0008889289285426461\n",
      "[233]\tcv-test-auc:0.8376724999999998+0.010412087631690381\tcv-train-auc:0.8730203999999999+0.0009286896359925611\n",
      "[234]\tcv-test-auc:0.8377279+0.010409925940658746\tcv-train-auc:0.8731260000000001+0.0009306477314214882\n",
      "[235]\tcv-test-auc:0.8376927000000001+0.010404869370155511\tcv-train-auc:0.8732688+0.0009266570886795044\n",
      "[236]\tcv-test-auc:0.8377830999999999+0.010389524911659825\tcv-train-auc:0.8733892000000001+0.0009162738455287169\n",
      "[237]\tcv-test-auc:0.8378132+0.010388842869155344\tcv-train-auc:0.8735144+0.0009253759452244305\n",
      "[238]\tcv-test-auc:0.8378148+0.010405743969558357\tcv-train-auc:0.8736536000000001+0.0009037086034779022\n",
      "[239]\tcv-test-auc:0.8378574000000001+0.010394062403122274\tcv-train-auc:0.8737838+0.0009068847556332606\n",
      "[240]\tcv-test-auc:0.8379293999999999+0.010380574090097325\tcv-train-auc:0.8739094999999999+0.0008921352195715565\n",
      "[241]\tcv-test-auc:0.8379507+0.010436050172838381\tcv-train-auc:0.8740322+0.0008861955540398327\n",
      "[242]\tcv-test-auc:0.8379579999999999+0.010440407108920632\tcv-train-auc:0.8741403+0.0008800450045310251\n",
      "[243]\tcv-test-auc:0.8379588+0.010404453650240347\tcv-train-auc:0.8742740000000001+0.0008767119253209898\n",
      "[244]\tcv-test-auc:0.8379605+0.010413194776340251\tcv-train-auc:0.8744021+0.0009018111165870567\n",
      "[245]\tcv-test-auc:0.8379762+0.010402258060632809\tcv-train-auc:0.8745090000000001+0.0008915683933383687\n",
      "[246]\tcv-test-auc:0.8380345+0.010401236871161063\tcv-train-auc:0.8746307999999999+0.000881345652964836\n",
      "[247]\tcv-test-auc:0.8380957+0.010408988865879314\tcv-train-auc:0.8747382+0.0008880471609098335\n",
      "[248]\tcv-test-auc:0.8381003+0.010398844128555828\tcv-train-auc:0.8748685+0.0008965634667997434\n",
      "[249]\tcv-test-auc:0.8381019999999999+0.010404016224516385\tcv-train-auc:0.8749881+0.0008986197694241904\n",
      "[250]\tcv-test-auc:0.8381463+0.010386782216355568\tcv-train-auc:0.8751201999999999+0.0009222509203031586\n",
      "[251]\tcv-test-auc:0.8381314000000002+0.010408425435194319\tcv-train-auc:0.8752411+0.0009230284340149132\n",
      "[252]\tcv-test-auc:0.8381474000000001+0.01036412878345306\tcv-train-auc:0.8753557000000001+0.0009073085528088034\n",
      "[253]\tcv-test-auc:0.8382137999999999+0.010355359991811003\tcv-train-auc:0.8754652+0.0009066144494767158\n",
      "[254]\tcv-test-auc:0.8382329000000001+0.01033919289354833\tcv-train-auc:0.8755769000000001+0.0009101996978685399\n",
      "[255]\tcv-test-auc:0.8382502000000001+0.010338067148166522\tcv-train-auc:0.8756988+0.0009059110110822088\n",
      "[256]\tcv-test-auc:0.8383246+0.010337649299526469\tcv-train-auc:0.8758255+0.0009019402696409381\n",
      "[257]\tcv-test-auc:0.8383595999999999+0.010342364586495685\tcv-train-auc:0.8759349000000001+0.0009179271703136482\n",
      "[258]\tcv-test-auc:0.8383724000000001+0.01037595742281165\tcv-train-auc:0.8760560999999999+0.0009352502820100973\n",
      "[259]\tcv-test-auc:0.838354+0.010402096432931196\tcv-train-auc:0.8761829999999999+0.0009357877964581475\n",
      "[260]\tcv-test-auc:0.8383594000000001+0.010371121127438444\tcv-train-auc:0.8762977000000001+0.0009307289669930704\n",
      "[261]\tcv-test-auc:0.8383504+0.010379670536197198\tcv-train-auc:0.8764184+0.0009583243918423397\n",
      "[262]\tcv-test-auc:0.8383765000000001+0.010365131964910039\tcv-train-auc:0.8765470000000001+0.0009479524249665769\n",
      "[263]\tcv-test-auc:0.8383689999999999+0.010360218144421483\tcv-train-auc:0.8766594000000001+0.0009199751300986382\n",
      "[264]\tcv-test-auc:0.8384111000000001+0.010349766871287507\tcv-train-auc:0.8767646000000001+0.0009150777234749037\n",
      "[265]\tcv-test-auc:0.8383771000000001+0.010359468842078714\tcv-train-auc:0.8768900000000001+0.0009044926754816794\n",
      "[266]\tcv-test-auc:0.8383913+0.010340982168537\tcv-train-auc:0.8770085+0.0008935878524241505\n",
      "[267]\tcv-test-auc:0.838391+0.010333129361427744\tcv-train-auc:0.8771210999999999+0.0008916321494876767\n",
      "[268]\tcv-test-auc:0.8384138+0.010329114180799811\tcv-train-auc:0.8772431+0.0008671385644751523\n",
      "[269]\tcv-test-auc:0.8384157+0.01033595937540389\tcv-train-auc:0.877345+0.0008520085680320476\n",
      "[270]\tcv-test-auc:0.8384197+0.010288680790558124\tcv-train-auc:0.8774531999999999+0.00086287505468638\n",
      "[271]\tcv-test-auc:0.8384389999999999+0.010293344713940165\tcv-train-auc:0.8775774999999999+0.0008868886344970258\n",
      "[272]\tcv-test-auc:0.8384237999999999+0.010274693550661273\tcv-train-auc:0.8776944+0.0008797379382520716\n",
      "[273]\tcv-test-auc:0.8384271+0.01025835758247879\tcv-train-auc:0.8777950000000001+0.0008870834233599569\n",
      "[274]\tcv-test-auc:0.8384634999999999+0.010272140655676401\tcv-train-auc:0.8779216999999999+0.000896552848414413\n",
      "[275]\tcv-test-auc:0.8384362000000001+0.010298096977597364\tcv-train-auc:0.8780489000000001+0.0009078418860131877\n",
      "[276]\tcv-test-auc:0.8384492+0.010301515925338367\tcv-train-auc:0.8781526+0.0009030221702704845\n",
      "[277]\tcv-test-auc:0.8384893999999999+0.010295814297082078\tcv-train-auc:0.878264+0.000897678561624364\n",
      "[278]\tcv-test-auc:0.8385317999999999+0.010300821004172428\tcv-train-auc:0.8783894999999999+0.0008942096230750309\n",
      "[279]\tcv-test-auc:0.8385576+0.010300655466522509\tcv-train-auc:0.8784973+0.0008848325321777041\n",
      "[280]\tcv-test-auc:0.8385618000000001+0.010313725406466872\tcv-train-auc:0.8785997999999999+0.000885484251695079\n",
      "[281]\tcv-test-auc:0.8386075+0.010305274739180893\tcv-train-auc:0.8786799000000001+0.000879857312295587\n",
      "[282]\tcv-test-auc:0.8386399999999998+0.010306362248630711\tcv-train-auc:0.8788156+0.0008904592298359439\n",
      "[283]\tcv-test-auc:0.8386565000000001+0.01030421945855193\tcv-train-auc:0.8789317999999999+0.0008751406515526321\n",
      "[284]\tcv-test-auc:0.8386898+0.010287175451016664\tcv-train-auc:0.8790573+0.000846031211008204\n",
      "[285]\tcv-test-auc:0.8387125+0.01025565125430852\tcv-train-auc:0.8791605+0.0008463140374589025\n",
      "[286]\tcv-test-auc:0.8387433+0.010258144169877918\tcv-train-auc:0.8792726999999999+0.0008299836203202969\n",
      "[287]\tcv-test-auc:0.8387338+0.010272776526334076\tcv-train-auc:0.8793645999999999+0.0008408430531317865\n",
      "[288]\tcv-test-auc:0.8387713+0.010259421114760804\tcv-train-auc:0.879471+0.0008458488044562331\n",
      "[289]\tcv-test-auc:0.8387748+0.010310852959867096\tcv-train-auc:0.8795914999999999+0.0008271946868784903\n",
      "[290]\tcv-test-auc:0.8387945+0.010310454231022025\tcv-train-auc:0.8797162000000001+0.0008288526768974241\n",
      "[291]\tcv-test-auc:0.8388365+0.010316660605544791\tcv-train-auc:0.8798326+0.0008429428450375607\n",
      "[292]\tcv-test-auc:0.8388657+0.010308707300626975\tcv-train-auc:0.8799262000000001+0.0008381136915717419\n",
      "[293]\tcv-test-auc:0.8388576999999999+0.0103283585147883\tcv-train-auc:0.8800194999999998+0.0008529910022971949\n",
      "[294]\tcv-test-auc:0.8388708999999999+0.0102941092907546\tcv-train-auc:0.8801183+0.0008394155168925469\n",
      "[295]\tcv-test-auc:0.8389119+0.010301452222381083\tcv-train-auc:0.8802264+0.0008392413478850972\n",
      "[296]\tcv-test-auc:0.8389217999999999+0.010282041147554318\tcv-train-auc:0.8803264000000001+0.0008470154898229438\n",
      "[297]\tcv-test-auc:0.8389614999999999+0.010287624052714994\tcv-train-auc:0.8804002000000001+0.0008607110781208529\n",
      "[298]\tcv-test-auc:0.8390007+0.010278822510871552\tcv-train-auc:0.880495+0.0008727041881416599\n",
      "[299]\tcv-test-auc:0.8390075000000001+0.010301174450032367\tcv-train-auc:0.8805810999999999+0.0008649234012327195\n",
      "[300]\tcv-test-auc:0.8390216+0.010277434652674751\tcv-train-auc:0.8806672000000001+0.0008483271538740348\n",
      "[301]\tcv-test-auc:0.8390274+0.010279243369042295\tcv-train-auc:0.8807737+0.000860240902305858\n",
      "[302]\tcv-test-auc:0.8390371+0.010246743174784852\tcv-train-auc:0.8808655+0.0008731101018771962\n",
      "[303]\tcv-test-auc:0.8390865+0.010251215783993612\tcv-train-auc:0.8809716999999999+0.0008697239849515589\n",
      "[304]\tcv-test-auc:0.8391176000000001+0.010221456346333422\tcv-train-auc:0.8810511999999999+0.000880214155759847\n",
      "[305]\tcv-test-auc:0.8391749999999998+0.010229322216061041\tcv-train-auc:0.8811576999999999+0.00085676099934582\n",
      "[306]\tcv-test-auc:0.8391835000000001+0.01023909025499825\tcv-train-auc:0.8812519999999999+0.0008616142988599933\n",
      "[307]\tcv-test-auc:0.8392337+0.01025758593480942\tcv-train-auc:0.8813459+0.0008506152420454174\n",
      "[308]\tcv-test-auc:0.8392616+0.010245729014569925\tcv-train-auc:0.8814363000000001+0.0008484151165555782\n",
      "[309]\tcv-test-auc:0.8392612999999999+0.01024057379300595\tcv-train-auc:0.8815264+0.000848036343560814\n",
      "[310]\tcv-test-auc:0.8392812+0.010261245195394187\tcv-train-auc:0.8816303+0.0008614051369710013\n",
      "[311]\tcv-test-auc:0.8393183000000001+0.010237070860846865\tcv-train-auc:0.8817547000000001+0.0008555274454978007\n",
      "[312]\tcv-test-auc:0.8393412000000001+0.01023125149529617\tcv-train-auc:0.8818361999999998+0.0008442247094227988\n",
      "[313]\tcv-test-auc:0.8393204000000001+0.010225843390156138\tcv-train-auc:0.8819116000000001+0.0008280029227001598\n",
      "[314]\tcv-test-auc:0.8393598000000001+0.010198103821789614\tcv-train-auc:0.8820069+0.0008316448100000302\n",
      "[315]\tcv-test-auc:0.8393881000000001+0.010204887558910193\tcv-train-auc:0.882119+0.0008281126734931688\n",
      "[316]\tcv-test-auc:0.8393964+0.010204243060609644\tcv-train-auc:0.8822194+0.0008295165097814458\n",
      "[317]\tcv-test-auc:0.8393987+0.010201791058926877\tcv-train-auc:0.8823176+0.0008114185356522124\n",
      "[318]\tcv-test-auc:0.8394106000000001+0.010194144576177048\tcv-train-auc:0.8824162999999998+0.0007992660445683858\n",
      "[319]\tcv-test-auc:0.839405+0.01018956666399507\tcv-train-auc:0.8825196+0.0007827375294439389\n",
      "[320]\tcv-test-auc:0.8394280999999999+0.010178753287608457\tcv-train-auc:0.8826371999999999+0.0007688119145799039\n",
      "[321]\tcv-test-auc:0.8394450000000001+0.0101728528938543\tcv-train-auc:0.8827596+0.0007535188385169866\n",
      "[322]\tcv-test-auc:0.8394390999999999+0.010165101902588096\tcv-train-auc:0.8828578+0.000752380861000581\n",
      "[323]\tcv-test-auc:0.8394446+0.01017749146106249\tcv-train-auc:0.8829656+0.0007551596122675063\n",
      "[324]\tcv-test-auc:0.8394645000000001+0.01016343239511142\tcv-train-auc:0.8830677+0.0007519899001981344\n",
      "[325]\tcv-test-auc:0.8395130999999999+0.01018062434676775\tcv-train-auc:0.8831543+0.0007667455966616517\n",
      "[326]\tcv-test-auc:0.8395211+0.010169710836105416\tcv-train-auc:0.8832573+0.0007832666276562631\n",
      "[327]\tcv-test-auc:0.8395482+0.010172061421363914\tcv-train-auc:0.8833632+0.00078291618963973\n",
      "[328]\tcv-test-auc:0.8395909000000001+0.010136770624316208\tcv-train-auc:0.8834599000000001+0.0008022809296000954\n",
      "[329]\tcv-test-auc:0.8396250000000001+0.010130032645554513\tcv-train-auc:0.8835548+0.0008041827901664905\n",
      "[330]\tcv-test-auc:0.8396492+0.010145694868268024\tcv-train-auc:0.8836336000000001+0.000794031384770154\n",
      "[331]\tcv-test-auc:0.8396463000000001+0.010152589699677597\tcv-train-auc:0.8837455999999999+0.0008071765853888341\n",
      "[332]\tcv-test-auc:0.8396997+0.010126824586710274\tcv-train-auc:0.8838380000000001+0.0008269574354221536\n",
      "[333]\tcv-test-auc:0.8397209999999999+0.010091221254139669\tcv-train-auc:0.8839419+0.0008395867376275063\n",
      "[334]\tcv-test-auc:0.839729+0.010061637351842881\tcv-train-auc:0.8840375999999999+0.0008609420654144015\n",
      "[335]\tcv-test-auc:0.8397371+0.010073930816220659\tcv-train-auc:0.8841427+0.000853851749427269\n",
      "[336]\tcv-test-auc:0.8397128+0.010132381198908769\tcv-train-auc:0.8842412+0.0008670138176523139\n",
      "[337]\tcv-test-auc:0.8397299+0.010132112281750542\tcv-train-auc:0.8843351+0.0008722938094472493\n",
      "[338]\tcv-test-auc:0.8397408000000001+0.010151240907396492\tcv-train-auc:0.8844202000000001+0.0008749410037253877\n",
      "[339]\tcv-test-auc:0.8397752+0.010145414844154965\tcv-train-auc:0.8845058+0.0008688121546111063\n",
      "[340]\tcv-test-auc:0.8398+0.010167706024467866\tcv-train-auc:0.8845957999999999+0.0008655859056153908\n",
      "[341]\tcv-test-auc:0.8397691+0.0101803285158191\tcv-train-auc:0.8847079999999998+0.0008623480735758518\n",
      "[342]\tcv-test-auc:0.8398146999999998+0.010180818346773524\tcv-train-auc:0.8847986999999999+0.0008573355294165463\n",
      "[343]\tcv-test-auc:0.8398473+0.010203064226495862\tcv-train-auc:0.8848911999999999+0.0008883008274227716\n",
      "[344]\tcv-test-auc:0.8398776+0.010223638708405132\tcv-train-auc:0.884966+0.0008872494575935222\n",
      "[345]\tcv-test-auc:0.8398486999999999+0.01021607153508628\tcv-train-auc:0.8850483+0.0008921215219912607\n",
      "[346]\tcv-test-auc:0.8398643+0.010200277447697208\tcv-train-auc:0.8851372999999999+0.0008810904664107956\n",
      "[347]\tcv-test-auc:0.8398996000000001+0.0101726262017239\tcv-train-auc:0.8852335+0.0008856184562214312\n",
      "[348]\tcv-test-auc:0.8399245000000001+0.010159710687317818\tcv-train-auc:0.8853250000000001+0.0008898715637663542\n",
      "[349]\tcv-test-auc:0.8399436+0.01013354766308423\tcv-train-auc:0.8854197000000001+0.0008980272880041094\n",
      "[350]\tcv-test-auc:0.8399675999999999+0.01014253119492366\tcv-train-auc:0.8854864000000001+0.0008915873709289474\n",
      "[351]\tcv-test-auc:0.8399981000000001+0.010145332478041329\tcv-train-auc:0.8855795000000001+0.0008862850839318207\n",
      "[352]\tcv-test-auc:0.8400591000000001+0.010126371486865378\tcv-train-auc:0.8856702000000001+0.0008946742200376742\n",
      "[353]\tcv-test-auc:0.8400607000000001+0.010134312231720505\tcv-train-auc:0.8857755+0.0009101367204986267\n",
      "[354]\tcv-test-auc:0.8400812+0.01015794898392388\tcv-train-auc:0.8858608+0.0009255172391695401\n",
      "[355]\tcv-test-auc:0.8401083+0.010144491392376448\tcv-train-auc:0.8859351+0.000909720885766633\n",
      "[356]\tcv-test-auc:0.8401181+0.010127913728404265\tcv-train-auc:0.8860063+0.0009250499500027251\n",
      "[357]\tcv-test-auc:0.8401419999999999+0.010123322251118939\tcv-train-auc:0.8860802+0.0009269665366128331\n",
      "[358]\tcv-test-auc:0.8401456999999999+0.010167512754356414\tcv-train-auc:0.8861603+0.0009327676077137223\n",
      "[359]\tcv-test-auc:0.8401486+0.010121793341103138\tcv-train-auc:0.8862563+0.0009241636272868468\n",
      "[360]\tcv-test-auc:0.8401455+0.010110293371114411\tcv-train-auc:0.8863341+0.0009150173167760271\n",
      "[361]\tcv-test-auc:0.8401455+0.010133921148795253\tcv-train-auc:0.8864079+0.0009000647143400375\n",
      "[362]\tcv-test-auc:0.8401335+0.010129386617658538\tcv-train-auc:0.8865162+0.0009028423782698805\n",
      "[363]\tcv-test-auc:0.8401976999999998+0.010139061002380854\tcv-train-auc:0.8866083+0.0008786078818221544\n",
      "[364]\tcv-test-auc:0.8402408000000001+0.01010413158861266\tcv-train-auc:0.8867314000000001+0.0008656835680547559\n",
      "[365]\tcv-test-auc:0.8402671999999999+0.010118332014714678\tcv-train-auc:0.8868208+0.0008522933532534412\n",
      "[366]\tcv-test-auc:0.8402695+0.010123186042447312\tcv-train-auc:0.8869158+0.0008406915962468189\n",
      "[367]\tcv-test-auc:0.8402818+0.010092282068987149\tcv-train-auc:0.8869939+0.0008482292673564323\n",
      "[368]\tcv-test-auc:0.8402913+0.010097863328942401\tcv-train-auc:0.8870811+0.0008212399710194217\n",
      "[369]\tcv-test-auc:0.8403025000000002+0.010099514931421225\tcv-train-auc:0.8871393+0.0008209584703259829\n",
      "[370]\tcv-test-auc:0.840314+0.01013283340433463\tcv-train-auc:0.8872141000000001+0.0008346802321847533\n",
      "[371]\tcv-test-auc:0.8403451000000001+0.010146255037697383\tcv-train-auc:0.8872975999999999+0.0008408423395619459\n",
      "[372]\tcv-test-auc:0.8403363+0.010155570777164625\tcv-train-auc:0.8873916+0.0008481238352976703\n",
      "[373]\tcv-test-auc:0.8403549+0.010137146673990653\tcv-train-auc:0.8874797000000001+0.0008513307289179545\n",
      "[374]\tcv-test-auc:0.8403615999999999+0.010101487634997129\tcv-train-auc:0.8875534999999999+0.0008572352360933366\n",
      "[375]\tcv-test-auc:0.8403509+0.010078870248693533\tcv-train-auc:0.8876506000000001+0.0008422748007627812\n",
      "[376]\tcv-test-auc:0.8403741+0.01008111899989283\tcv-train-auc:0.8877467000000001+0.0008319098568955656\n",
      "[377]\tcv-test-auc:0.8404071+0.010078755383974758\tcv-train-auc:0.8878455000000001+0.0008308320227338515\n",
      "[378]\tcv-test-auc:0.8404401+0.010076361808212312\tcv-train-auc:0.8879254+0.0008398750145110877\n",
      "[379]\tcv-test-auc:0.8404323+0.010079189789363018\tcv-train-auc:0.8879969999999998+0.0008372472753016189\n",
      "[380]\tcv-test-auc:0.8404504000000002+0.01007505533682075\tcv-train-auc:0.8880792+0.0008363342394043353\n",
      "[381]\tcv-test-auc:0.8404309+0.010062635524056321\tcv-train-auc:0.8881679+0.0008382489427371878\n",
      "[382]\tcv-test-auc:0.8404334999999999+0.01004317958865617\tcv-train-auc:0.888265+0.0008313978590302197\n",
      "[383]\tcv-test-auc:0.8404407+0.01006163452973721\tcv-train-auc:0.8883518+0.0008246785798115625\n",
      "[384]\tcv-test-auc:0.8404247+0.010023417830760124\tcv-train-auc:0.8884307999999999+0.0008238094197082183\n",
      "[385]\tcv-test-auc:0.8404370999999999+0.00999744149720318\tcv-train-auc:0.8885128+0.0008246636647749309\n",
      "[386]\tcv-test-auc:0.8404755999999999+0.00994199381613164\tcv-train-auc:0.8885773+0.0008276238336345836\n",
      "[387]\tcv-test-auc:0.8404862000000002+0.009933295151157028\tcv-train-auc:0.8886719+0.0008550420399021165\n",
      "[388]\tcv-test-auc:0.8404616+0.009910046328852359\tcv-train-auc:0.8887608+0.0008530032590793562\n",
      "[389]\tcv-test-auc:0.8404787+0.009898492340250606\tcv-train-auc:0.8888417000000001+0.0008629056785072278\n",
      "[390]\tcv-test-auc:0.8405280000000002+0.009887164143474098\tcv-train-auc:0.888931+0.000876226454747868\n",
      "[391]\tcv-test-auc:0.8405205+0.00989743396290171\tcv-train-auc:0.8890049999999998+0.0008510263215670792\n",
      "[392]\tcv-test-auc:0.8405419000000001+0.00990268792247843\tcv-train-auc:0.8890918000000001+0.0008498298417918817\n",
      "[393]\tcv-test-auc:0.8405612999999998+0.009890239158382377\tcv-train-auc:0.8891629999999999+0.0008427175090147389\n",
      "[394]\tcv-test-auc:0.8405528+0.009890511582319697\tcv-train-auc:0.8892604000000001+0.0008513975804522974\n",
      "[395]\tcv-test-auc:0.8405775+0.009904620802938385\tcv-train-auc:0.8893416000000001+0.0008494452542689213\n",
      "[396]\tcv-test-auc:0.8406204+0.009920276318732258\tcv-train-auc:0.8893998+0.0008533061349832241\n",
      "[397]\tcv-test-auc:0.8406391+0.00989648623957008\tcv-train-auc:0.8894792+0.0008382737977534583\n",
      "[398]\tcv-test-auc:0.8406475999999999+0.009870164255978713\tcv-train-auc:0.8895757999999999+0.0008305207763807121\n",
      "[399]\tcv-test-auc:0.8406733+0.009858233351366763\tcv-train-auc:0.8896703999999998+0.0008399921666301424\n",
      "[400]\tcv-test-auc:0.8406729000000001+0.009849802022883518\tcv-train-auc:0.8897479+0.0008517484898724409\n",
      "[401]\tcv-test-auc:0.8406743000000001+0.009855131151334334\tcv-train-auc:0.8898124999999999+0.0008378970402143707\n",
      "[402]\tcv-test-auc:0.8406615000000001+0.009847085703394686\tcv-train-auc:0.8898957999999999+0.0008171425579419968\n",
      "[403]\tcv-test-auc:0.8406486000000001+0.009841524934683663\tcv-train-auc:0.8899755000000003+0.0008155562825458312\n",
      "[404]\tcv-test-auc:0.8406893999999999+0.009835393873150189\tcv-train-auc:0.8900646999999999+0.0007939532794818524\n",
      "[405]\tcv-test-auc:0.8406608999999999+0.009817094809056294\tcv-train-auc:0.8901432000000001+0.0007869994663276556\n",
      "[406]\tcv-test-auc:0.8406586+0.00983597854003352\tcv-train-auc:0.8902238+0.0007979255353728188\n",
      "[407]\tcv-test-auc:0.8407249+0.009824125889360338\tcv-train-auc:0.8903150999999999+0.0007865975400419103\n",
      "[408]\tcv-test-auc:0.8407209+0.009838115413533228\tcv-train-auc:0.8904133+0.000790394970884797\n",
      "[409]\tcv-test-auc:0.8407183+0.009820883443458633\tcv-train-auc:0.8905143000000001+0.0007886148679805491\n",
      "[410]\tcv-test-auc:0.840725+0.009827760721547913\tcv-train-auc:0.8905966000000001+0.0007785526571786992\n",
      "[411]\tcv-test-auc:0.8407498999999999+0.00981661440059658\tcv-train-auc:0.8906973+0.000771974617458364\n",
      "[412]\tcv-test-auc:0.8407769+0.009814575675494062\tcv-train-auc:0.8907788999999999+0.0007810560095153153\n",
      "[413]\tcv-test-auc:0.8408063+0.009830643753590102\tcv-train-auc:0.8908612+0.0007691804469693779\n",
      "[414]\tcv-test-auc:0.8408203000000001+0.009861323258569291\tcv-train-auc:0.8909305999999999+0.0007568253695536231\n",
      "[415]\tcv-test-auc:0.8408367+0.009873149184024311\tcv-train-auc:0.8910015999999998+0.0007626822667402229\n",
      "[416]\tcv-test-auc:0.8408549999999998+0.009893016385309409\tcv-train-auc:0.8910755+0.0007499330970159837\n",
      "[417]\tcv-test-auc:0.8408405+0.009860086939271881\tcv-train-auc:0.8911543+0.000756969490798652\n",
      "[418]\tcv-test-auc:0.8408540999999999+0.00988471193763378\tcv-train-auc:0.8912224999999999+0.0007590583969629659\n",
      "[419]\tcv-test-auc:0.8408463999999999+0.009865642545724036\tcv-train-auc:0.8912946999999999+0.0007793619249103908\n",
      "[420]\tcv-test-auc:0.8408396+0.009869905087689541\tcv-train-auc:0.8913670000000001+0.0007975143885849498\n",
      "[421]\tcv-test-auc:0.8408416000000001+0.009843489159845698\tcv-train-auc:0.8914569999999999+0.0007848847049089544\n",
      "[422]\tcv-test-auc:0.8408323999999998+0.009849440544518232\tcv-train-auc:0.8915344+0.0007822116337667161\n",
      "[423]\tcv-test-auc:0.8408431999999999+0.009843384294032212\tcv-train-auc:0.8916090000000001+0.0007779902313011292\n",
      "[424]\tcv-test-auc:0.8408457+0.009821789257054946\tcv-train-auc:0.8917049+0.0007640088284830268\n",
      "[425]\tcv-test-auc:0.8408358+0.009820272305796823\tcv-train-auc:0.8917767+0.0007612445139375274\n",
      "[426]\tcv-test-auc:0.8408410999999999+0.009821695754298239\tcv-train-auc:0.8918497000000001+0.0007427439733851858\n",
      "[427]\tcv-test-auc:0.840838+0.00982319122281553\tcv-train-auc:0.891947+0.0007365869941833166\n",
      "[428]\tcv-test-auc:0.8408289+0.009792289185374385\tcv-train-auc:0.8920214999999999+0.0007382464696834009\n",
      "[429]\tcv-test-auc:0.8408347+0.009795108249018998\tcv-train-auc:0.8920981000000001+0.0007503713014235123\n",
      "[430]\tcv-test-auc:0.8408732999999999+0.009811491925798036\tcv-train-auc:0.8921846999999999+0.0007722768998228713\n",
      "[431]\tcv-test-auc:0.8408562000000002+0.009810705252936706\tcv-train-auc:0.8922523+0.0007814887139300132\n",
      "[432]\tcv-test-auc:0.8408627+0.009807654633499292\tcv-train-auc:0.8923418999999999+0.000768643538969792\n",
      "[433]\tcv-test-auc:0.8408823999999999+0.009779852281093007\tcv-train-auc:0.8924416+0.000760376775026692\n",
      "[434]\tcv-test-auc:0.8408849+0.009768552087694468\tcv-train-auc:0.8925335999999999+0.0007823928936282523\n",
      "[435]\tcv-test-auc:0.8408871000000001+0.009758605868155558\tcv-train-auc:0.8926212999999998+0.0007730931444528452\n",
      "[436]\tcv-test-auc:0.8409162+0.00972820139388571\tcv-train-auc:0.8926919999999999+0.0007951344540390663\n",
      "[437]\tcv-test-auc:0.8409298+0.009718821377101235\tcv-train-auc:0.8927636+0.0007979307238100161\n",
      "[438]\tcv-test-auc:0.8409345+0.009697404521313947\tcv-train-auc:0.8928448000000001+0.0007749324873819611\n",
      "[439]\tcv-test-auc:0.8409604999999999+0.009713105901306727\tcv-train-auc:0.892915+0.0007758702211065799\n",
      "[440]\tcv-test-auc:0.8409571999999998+0.009716942058075674\tcv-train-auc:0.8929924+0.0007763198052349281\n",
      "[441]\tcv-test-auc:0.8409924+0.00971759459125559\tcv-train-auc:0.893065+0.000744236790275771\n",
      "[442]\tcv-test-auc:0.841011+0.009737302090415003\tcv-train-auc:0.8931365+0.0007498924256184989\n",
      "[443]\tcv-test-auc:0.8410093999999999+0.00975463446983024\tcv-train-auc:0.8932181000000001+0.0007432389185181382\n",
      "[444]\tcv-test-auc:0.8410187+0.009752598392736163\tcv-train-auc:0.8932893000000002+0.0007336650530044267\n",
      "[445]\tcv-test-auc:0.8410230000000001+0.009764018076591215\tcv-train-auc:0.8933411000000001+0.0007282792664905312\n",
      "[446]\tcv-test-auc:0.841019+0.009754162936920824\tcv-train-auc:0.893416+0.0007247457485215179\n",
      "[447]\tcv-test-auc:0.8410167+0.009742707529737318\tcv-train-auc:0.893476+0.0007232706270822834\n",
      "[448]\tcv-test-auc:0.8410204+0.009733283836403822\tcv-train-auc:0.8935564999999999+0.0007181301065963121\n",
      "[449]\tcv-test-auc:0.8410238+0.009718866505925456\tcv-train-auc:0.8936492000000001+0.0007082245124252562\n",
      "[450]\tcv-test-auc:0.8410365000000001+0.009688278332603786\tcv-train-auc:0.8937216999999998+0.000718511523915938\n",
      "[451]\tcv-test-auc:0.8410542+0.009674643826002081\tcv-train-auc:0.8937909999999999+0.0007087933408265064\n",
      "[452]\tcv-test-auc:0.8410373+0.009658983011166364\tcv-train-auc:0.8938716+0.0007110950991252857\n",
      "[453]\tcv-test-auc:0.8410385000000001+0.009652683753754703\tcv-train-auc:0.8939703000000001+0.0007004021773238683\n",
      "[454]\tcv-test-auc:0.8410445+0.009644843464255915\tcv-train-auc:0.8940412999999999+0.0006842759750276228\n",
      "[455]\tcv-test-auc:0.8410491999999999+0.009650530491118097\tcv-train-auc:0.8941211000000001+0.0006836316917756339\n",
      "[456]\tcv-test-auc:0.8410515000000001+0.009666920091218296\tcv-train-auc:0.8941845+0.0006806037393373553\n",
      "[457]\tcv-test-auc:0.8410523000000001+0.00967162686470068\tcv-train-auc:0.8942556999999999+0.0006828453778125855\n",
      "[458]\tcv-test-auc:0.8410632+0.009670829434955414\tcv-train-auc:0.8943397999999998+0.0006908792658634304\n",
      "[459]\tcv-test-auc:0.841058+0.009664036920459279\tcv-train-auc:0.8944171000000001+0.0007009785232088119\n",
      "[460]\tcv-test-auc:0.8410557000000001+0.009640585304326708\tcv-train-auc:0.8944891000000001+0.000693895013672827\n",
      "[461]\tcv-test-auc:0.8410744000000001+0.009643876276684605\tcv-train-auc:0.8945579+0.0006903756151545393\n",
      "[462]\tcv-test-auc:0.8410789000000001+0.009623575525240098\tcv-train-auc:0.8946156000000001+0.0006904811655649921\n",
      "[463]\tcv-test-auc:0.8410958000000001+0.00963040001038376\tcv-train-auc:0.8946922+0.0006838357697576205\n",
      "[464]\tcv-test-auc:0.8410949000000001+0.00965563433907891\tcv-train-auc:0.8947554999999998+0.0006703996196299487\n",
      "[465]\tcv-test-auc:0.8410831+0.009633979400538496\tcv-train-auc:0.8948434000000001+0.0006953123326966152\n",
      "[466]\tcv-test-auc:0.84108+0.009668257650683493\tcv-train-auc:0.8949175+0.0007054793051535817\n",
      "[467]\tcv-test-auc:0.8410868+0.009679191193483056\tcv-train-auc:0.8949973999999999+0.0007054933309394208\n",
      "[468]\tcv-test-auc:0.8410987999999999+0.009681636367887384\tcv-train-auc:0.8950853000000001+0.0007186431729307704\n",
      "[469]\tcv-test-auc:0.841111+0.00968630394939163\tcv-train-auc:0.8951534000000001+0.0007027839212731051\n",
      "[470]\tcv-test-auc:0.8411063999999999+0.009712240886633723\tcv-train-auc:0.8952206+0.0006927223397581577\n",
      "[471]\tcv-test-auc:0.8411021+0.009707752926913652\tcv-train-auc:0.8952889+0.0006930390248752277\n",
      "[472]\tcv-test-auc:0.8411133+0.009714881111470175\tcv-train-auc:0.8953737+0.0007046911451124999\n",
      "[473]\tcv-test-auc:0.8411106+0.009708649660998188\tcv-train-auc:0.8954540999999999+0.0007062671520040885\n",
      "[474]\tcv-test-auc:0.8411099+0.00972032603825613\tcv-train-auc:0.8955169000000002+0.0006914585237018957\n",
      "[475]\tcv-test-auc:0.8411306+0.00973144085117922\tcv-train-auc:0.8955931999999999+0.0006978333325372213\n",
      "[476]\tcv-test-auc:0.8411551999999999+0.009724640813932412\tcv-train-auc:0.8956842+0.0006980999641885201\n",
      "[477]\tcv-test-auc:0.8411578000000001+0.009713362474447247\tcv-train-auc:0.8957551+0.0006993383229882297\n",
      "[478]\tcv-test-auc:0.8411650999999999+0.009723934444966192\tcv-train-auc:0.8958339000000001+0.0007174653232038521\n",
      "[479]\tcv-test-auc:0.841145+0.009712381407255386\tcv-train-auc:0.8959026+0.0007240862103368495\n",
      "[480]\tcv-test-auc:0.8411563000000001+0.009717475084094623\tcv-train-auc:0.8959828999999999+0.0007118569308505726\n",
      "[481]\tcv-test-auc:0.841136+0.009745036952213171\tcv-train-auc:0.8960408+0.0007119041789454479\n",
      "[482]\tcv-test-auc:0.8411292000000001+0.009747476184120677\tcv-train-auc:0.8961043+0.0007168009556355153\n",
      "[483]\tcv-test-auc:0.8411408+0.009721098433819096\tcv-train-auc:0.8961648+0.0007136589941982093\n",
      "[484]\tcv-test-auc:0.8411256999999999+0.009723273749617449\tcv-train-auc:0.8962327999999999+0.0007286126268464086\n",
      "[485]\tcv-test-auc:0.8411128000000001+0.009742513841919839\tcv-train-auc:0.896304+0.0007317954632272413\n",
      "[486]\tcv-test-auc:0.8410927000000001+0.009736067676942281\tcv-train-auc:0.8963826000000001+0.0007364516548966474\n",
      "[487]\tcv-test-auc:0.8410979+0.009741075520187692\tcv-train-auc:0.8964529000000001+0.0007392391291050291\n",
      "[488]\tcv-test-auc:0.8410854000000001+0.00971726121085565\tcv-train-auc:0.8965304+0.0007312008205684533\n",
      "[489]\tcv-test-auc:0.8411194999999999+0.00973072416883758\tcv-train-auc:0.8965924000000001+0.0007273546865182096\n",
      "[490]\tcv-test-auc:0.8411207+0.009695960644000152\tcv-train-auc:0.896668+0.0007276911432743844\n",
      "[491]\tcv-test-auc:0.8411194+0.009713325447034094\tcv-train-auc:0.896738+0.0007230345773197998\n",
      "[492]\tcv-test-auc:0.8411147+0.009729787007432383\tcv-train-auc:0.8968079+0.0007120756209841784\n",
      "[493]\tcv-test-auc:0.8411196999999999+0.009738823502353873\tcv-train-auc:0.8968995+0.0007209664694006132\n",
      "[494]\tcv-test-auc:0.8411404000000001+0.009746091905989802\tcv-train-auc:0.8969569+0.000738153703506262\n",
      "[495]\tcv-test-auc:0.8411514999999999+0.009719285048294465\tcv-train-auc:0.8970236999999999+0.0007570387110313478\n",
      "[496]\tcv-test-auc:0.8411338+0.009704583172913691\tcv-train-auc:0.897106+0.0007496477839625803\n",
      "[497]\tcv-test-auc:0.8411344+0.009684443052648923\tcv-train-auc:0.8971795+0.0007403846635364825\n",
      "[498]\tcv-test-auc:0.8411289+0.009684456788586536\tcv-train-auc:0.8972363+0.0007448448227651183\n",
      "[499]\tcv-test-auc:0.8411264999999999+0.00967126455278728\tcv-train-auc:0.8973034+0.0007341549155321373\n",
      "[500]\tcv-test-auc:0.8411469+0.009654675079462813\tcv-train-auc:0.8973729+0.0007497609552384185\n",
      "[501]\tcv-test-auc:0.8411336+0.00965754538379188\tcv-train-auc:0.8974616+0.0007506253659449494\n",
      "[502]\tcv-test-auc:0.8411422999999999+0.009683016834127676\tcv-train-auc:0.8975327+0.0007431327001283\n",
      "[503]\tcv-test-auc:0.8411609999999999+0.009674158020210327\tcv-train-auc:0.8976128999999998+0.0007611826916056217\n",
      "[504]\tcv-test-auc:0.84116+0.009659114369340506\tcv-train-auc:0.8976919999999999+0.0007737913155366862\n",
      "[505]\tcv-test-auc:0.8411642+0.009644434631433819\tcv-train-auc:0.8977597000000002+0.000758520935769087\n",
      "[506]\tcv-test-auc:0.8411818+0.009650769987933619\tcv-train-auc:0.8978349999999999+0.0007645282205386626\n",
      "[507]\tcv-test-auc:0.8411862000000001+0.009660116788113909\tcv-train-auc:0.8979014999999999+0.0007587008962694054\n",
      "[508]\tcv-test-auc:0.8411944+0.009635487493635167\tcv-train-auc:0.8979786000000001+0.0007682199164301625\n",
      "[509]\tcv-test-auc:0.8412149999999998+0.009653762074963324\tcv-train-auc:0.8980504+0.000774807614830917\n",
      "[510]\tcv-test-auc:0.8412134+0.009640645820690633\tcv-train-auc:0.8981318+0.0007823256099604537\n",
      "[511]\tcv-test-auc:0.8412273000000001+0.009651278092045646\tcv-train-auc:0.8981958999999998+0.000776509684421253\n",
      "[512]\tcv-test-auc:0.8412189+0.009642171025759705\tcv-train-auc:0.8982686000000001+0.0007612476863675863\n",
      "[513]\tcv-test-auc:0.8412431+0.009627279942434412\tcv-train-auc:0.8983356+0.0007594333677156877\n",
      "[514]\tcv-test-auc:0.8412417+0.009639084874094631\tcv-train-auc:0.8984282+0.0007791110062115873\n",
      "[515]\tcv-test-auc:0.8412531999999999+0.009660755744764488\tcv-train-auc:0.8985078+0.0007663170101204681\n",
      "[516]\tcv-test-auc:0.841264+0.009671133470281564\tcv-train-auc:0.8985564+0.0007714198856653974\n",
      "[517]\tcv-test-auc:0.8412786999999999+0.009669698548041707\tcv-train-auc:0.8986256000000001+0.0007759380387634201\n",
      "[518]\tcv-test-auc:0.8412841999999999+0.009669652328806845\tcv-train-auc:0.8986955999999999+0.0007663586888657257\n",
      "[519]\tcv-test-auc:0.8412769000000001+0.009651305087396218\tcv-train-auc:0.8987607000000001+0.0007627589461946537\n",
      "[520]\tcv-test-auc:0.8412411000000001+0.009630003036863477\tcv-train-auc:0.8988486+0.000770850076214555\n",
      "[521]\tcv-test-auc:0.8412383999999999+0.009627757529144576\tcv-train-auc:0.8989224+0.0007760791454484504\n",
      "[522]\tcv-test-auc:0.8412349000000001+0.009595764559950391\tcv-train-auc:0.8989862000000001+0.0007641791413012849\n",
      "[523]\tcv-test-auc:0.8412389999999998+0.009601782792794267\tcv-train-auc:0.8990693999999999+0.0007670852886087689\n",
      "[524]\tcv-test-auc:0.8412319+0.009595448154724195\tcv-train-auc:0.899136+0.0007743083365171668\n",
      "[525]\tcv-test-auc:0.8412166000000001+0.009577195865178892\tcv-train-auc:0.899211+0.00076580532774329\n",
      "[526]\tcv-test-auc:0.8412058+0.009565262346637435\tcv-train-auc:0.899273+0.0007664496069540441\n",
      "[527]\tcv-test-auc:0.8412061+0.009565121634877402\tcv-train-auc:0.8993343000000001+0.0007589118591773404\n",
      "[528]\tcv-test-auc:0.8412029999999999+0.00956654643013872\tcv-train-auc:0.8993987999999999+0.0007498434236559092\n",
      "[529]\tcv-test-auc:0.8412414+0.009577553614571938\tcv-train-auc:0.8994707+0.0007445759934351979\n",
      "[530]\tcv-test-auc:0.8412488999999999+0.009555455064516815\tcv-train-auc:0.8995374999999999+0.0007389289884691339\n",
      "[531]\tcv-test-auc:0.8412471+0.009536280736744264\tcv-train-auc:0.8995977+0.0007388810526735716\n",
      "[532]\tcv-test-auc:0.8412256999999999+0.0095375744406007\tcv-train-auc:0.8996700000000001+0.0007338471230440119\n",
      "[533]\tcv-test-auc:0.8412533+0.009517753023166776\tcv-train-auc:0.8997246999999999+0.0007297099492264063\n",
      "[534]\tcv-test-auc:0.8412767999999999+0.00950402094694661\tcv-train-auc:0.8998054+0.0007282528681714922\n",
      "[535]\tcv-test-auc:0.8412983+0.009481429850502512\tcv-train-auc:0.8998702999999999+0.0007233636775509368\n",
      "[536]\tcv-test-auc:0.8412863999999999+0.009476649863744033\tcv-train-auc:0.8999332999999998+0.0007185741506622782\n",
      "[537]\tcv-test-auc:0.8412808+0.009487126991876932\tcv-train-auc:0.9000064+0.0007369838804207498\n",
      "[538]\tcv-test-auc:0.8412855+0.009489884374954204\tcv-train-auc:0.9000614+0.0007240066574279576\n",
      "[539]\tcv-test-auc:0.8412710000000001+0.009513754590065905\tcv-train-auc:0.9001372000000002+0.0007356478505371934\n",
      "[540]\tcv-test-auc:0.8412843999999999+0.009513118933346748\tcv-train-auc:0.9002053+0.0007363958242684437\n",
      "[541]\tcv-test-auc:0.8413079+0.009542958581593005\tcv-train-auc:0.9002701+0.0007266700007568792\n",
      "[542]\tcv-test-auc:0.8413353000000001+0.009547788446022462\tcv-train-auc:0.9003545000000001+0.0007250825125459992\n",
      "[543]\tcv-test-auc:0.8413674999999999+0.009550493979370913\tcv-train-auc:0.9004232000000002+0.000723385346824232\n",
      "[544]\tcv-test-auc:0.8413589+0.009544237627490215\tcv-train-auc:0.9004648999999999+0.0007164994696438938\n",
      "[545]\tcv-test-auc:0.8413291+0.009531946028487573\tcv-train-auc:0.9005447+0.0007279876441259064\n",
      "[546]\tcv-test-auc:0.8412983+0.009547192394102046\tcv-train-auc:0.9006046000000001+0.0007184259460793378\n",
      "[547]\tcv-test-auc:0.8412880000000001+0.009541540630317525\tcv-train-auc:0.9006584+0.0007153976796160309\n",
      "[548]\tcv-test-auc:0.8412986+0.00954152553001877\tcv-train-auc:0.9007137000000001+0.0007125236908341992\n",
      "[549]\tcv-test-auc:0.8412832+0.009534435125375789\tcv-train-auc:0.9008095999999999+0.0007142114812854802\n",
      "[550]\tcv-test-auc:0.8412689999999999+0.009531120773550204\tcv-train-auc:0.9008776+0.0007118474836648563\n",
      "[551]\tcv-test-auc:0.8412675000000001+0.009548220559350317\tcv-train-auc:0.9009343000000001+0.0007036030201754269\n",
      "[552]\tcv-test-auc:0.8412834+0.009576111927081897\tcv-train-auc:0.9010033999999999+0.0007050550616795878\n",
      "[553]\tcv-test-auc:0.8412504999999999+0.009582617129469385\tcv-train-auc:0.9010676+0.0006910948125981033\n",
      "[554]\tcv-test-auc:0.84127+0.009578997056059682\tcv-train-auc:0.9011343+0.000697467282386774\n",
      "[555]\tcv-test-auc:0.8412489000000001+0.009583523667733074\tcv-train-auc:0.9012065+0.0006873215041012557\n",
      "[556]\tcv-test-auc:0.8412573+0.009583679659191465\tcv-train-auc:0.9012575+0.0006742029738884158\n",
      "[557]\tcv-test-auc:0.8412898999999999+0.009585419140027205\tcv-train-auc:0.9013208+0.0006759711236436138\n",
      "[558]\tcv-test-auc:0.841295+0.00958775651547328\tcv-train-auc:0.9013957999999999+0.0006617827135850538\n",
      "[559]\tcv-test-auc:0.8413086999999999+0.009592255877008283\tcv-train-auc:0.9014787+0.000667836664162717\n",
      "[560]\tcv-test-auc:0.8413247+0.009587876303436537\tcv-train-auc:0.9015442+0.0006751004073469376\n",
      "[561]\tcv-test-auc:0.8413317000000001+0.00957368610358622\tcv-train-auc:0.9016123+0.0006705548523424451\n",
      "[562]\tcv-test-auc:0.8413354+0.009541026781222251\tcv-train-auc:0.9016853000000001+0.0006829449538579064\n",
      "[563]\tcv-test-auc:0.8413096+0.009542604405506906\tcv-train-auc:0.9017525+0.0006684240046557058\n",
      "[564]\tcv-test-auc:0.8412996000000001+0.009545750459759557\tcv-train-auc:0.9018054+0.0006717115750082006\n",
      "[565]\tcv-test-auc:0.8412781+0.009557512107761105\tcv-train-auc:0.9018742999999999+0.0006788454978859448\n",
      "[566]\tcv-test-auc:0.8412607000000001+0.00957593090043992\tcv-train-auc:0.9019193999999999+0.000693841076904522\n",
      "[567]\tcv-test-auc:0.8412632+0.009573661303806392\tcv-train-auc:0.9019788999999999+0.0007027165075619114\n",
      "[568]\tcv-test-auc:0.8412733000000001+0.009571009581543612\tcv-train-auc:0.902027+0.0007054740250356514\n",
      "[569]\tcv-test-auc:0.8412709999999999+0.009567979703155746\tcv-train-auc:0.9020901+0.0007093773960312039\n",
      "[570]\tcv-test-auc:0.8412959000000001+0.009569844705636562\tcv-train-auc:0.9021405+0.0007236879507080398\n",
      "[571]\tcv-test-auc:0.8412754+0.009551441191778354\tcv-train-auc:0.9021912000000001+0.0007234821075880212\n",
      "[572]\tcv-test-auc:0.8412967+0.009554651349473735\tcv-train-auc:0.9022565+0.0007220893642756304\n",
      "[573]\tcv-test-auc:0.8413124+0.009551023308525657\tcv-train-auc:0.9023093999999998+0.0007072759291818283\n",
      "[574]\tcv-test-auc:0.8412927+0.009548641212759019\tcv-train-auc:0.9023703+0.0007147904658009819\n",
      "[575]\tcv-test-auc:0.8413120000000001+0.009544897191693557\tcv-train-auc:0.9024216+0.0007106325632843049\n",
      "[576]\tcv-test-auc:0.8413086+0.00954839729169246\tcv-train-auc:0.9024883000000001+0.0007014326838692253\n"
     ]
    },
    {
     "ename": "KeyboardInterrupt",
     "evalue": "",
     "output_type": "error",
     "traceback": [
      "\u001b[1;31m---------------------------------------------------------------------------\u001b[0m",
      "\u001b[1;31mKeyboardInterrupt\u001b[0m                         Traceback (most recent call last)",
      "\u001b[1;32m<ipython-input-17-5ae0d0d7288e>\u001b[0m in \u001b[0;36m<module>\u001b[1;34m()\u001b[0m\n\u001b[0;32m      1\u001b[0m xgb.cv(params, dtrain, num_boost_round=2000, nfold=10, stratified=True, \n\u001b[1;32m----> 2\u001b[1;33m        early_stopping_rounds=200, verbose_eval=True)\n\u001b[0m",
      "\u001b[1;32m/home/libfun/vrt/lib/python3.4/site-packages/xgboost-0.4-py3.4.egg/xgboost/training.py\u001b[0m in \u001b[0;36mcv\u001b[1;34m(params, dtrain, num_boost_round, nfold, stratified, folds, metrics, obj, feval, maximize, early_stopping_rounds, fpreproc, as_pandas, verbose_eval, show_stdv, seed)\u001b[0m\n\u001b[0;32m    454\u001b[0m     \u001b[1;32mfor\u001b[0m \u001b[0mi\u001b[0m \u001b[1;32min\u001b[0m \u001b[0mrange\u001b[0m\u001b[1;33m(\u001b[0m\u001b[0mnum_boost_round\u001b[0m\u001b[1;33m)\u001b[0m\u001b[1;33m:\u001b[0m\u001b[1;33m\u001b[0m\u001b[0m\n\u001b[0;32m    455\u001b[0m         \u001b[1;32mfor\u001b[0m \u001b[0mfold\u001b[0m \u001b[1;32min\u001b[0m \u001b[0mcvfolds\u001b[0m\u001b[1;33m:\u001b[0m\u001b[1;33m\u001b[0m\u001b[0m\n\u001b[1;32m--> 456\u001b[1;33m             \u001b[0mfold\u001b[0m\u001b[1;33m.\u001b[0m\u001b[0mupdate\u001b[0m\u001b[1;33m(\u001b[0m\u001b[0mi\u001b[0m\u001b[1;33m,\u001b[0m \u001b[0mobj\u001b[0m\u001b[1;33m)\u001b[0m\u001b[1;33m\u001b[0m\u001b[0m\n\u001b[0m\u001b[0;32m    457\u001b[0m         res = aggcv([f.eval(i, feval) for f in cvfolds],\n\u001b[0;32m    458\u001b[0m                     \u001b[0mshow_stdv\u001b[0m\u001b[1;33m=\u001b[0m\u001b[0mshow_stdv\u001b[0m\u001b[1;33m,\u001b[0m \u001b[0mverbose_eval\u001b[0m\u001b[1;33m=\u001b[0m\u001b[0mverbose_eval\u001b[0m\u001b[1;33m,\u001b[0m\u001b[1;33m\u001b[0m\u001b[0m\n",
      "\u001b[1;32m/home/libfun/vrt/lib/python3.4/site-packages/xgboost-0.4-py3.4.egg/xgboost/training.py\u001b[0m in \u001b[0;36mupdate\u001b[1;34m(self, iteration, fobj)\u001b[0m\n\u001b[0;32m    251\u001b[0m     \u001b[1;32mdef\u001b[0m \u001b[0mupdate\u001b[0m\u001b[1;33m(\u001b[0m\u001b[0mself\u001b[0m\u001b[1;33m,\u001b[0m \u001b[0miteration\u001b[0m\u001b[1;33m,\u001b[0m \u001b[0mfobj\u001b[0m\u001b[1;33m)\u001b[0m\u001b[1;33m:\u001b[0m\u001b[1;33m\u001b[0m\u001b[0m\n\u001b[0;32m    252\u001b[0m         \u001b[1;34m\"\"\"\"Update the boosters for one iteration\"\"\"\u001b[0m\u001b[1;33m\u001b[0m\u001b[0m\n\u001b[1;32m--> 253\u001b[1;33m         \u001b[0mself\u001b[0m\u001b[1;33m.\u001b[0m\u001b[0mbst\u001b[0m\u001b[1;33m.\u001b[0m\u001b[0mupdate\u001b[0m\u001b[1;33m(\u001b[0m\u001b[0mself\u001b[0m\u001b[1;33m.\u001b[0m\u001b[0mdtrain\u001b[0m\u001b[1;33m,\u001b[0m \u001b[0miteration\u001b[0m\u001b[1;33m,\u001b[0m \u001b[0mfobj\u001b[0m\u001b[1;33m)\u001b[0m\u001b[1;33m\u001b[0m\u001b[0m\n\u001b[0m\u001b[0;32m    254\u001b[0m \u001b[1;33m\u001b[0m\u001b[0m\n\u001b[0;32m    255\u001b[0m     \u001b[1;32mdef\u001b[0m \u001b[0meval\u001b[0m\u001b[1;33m(\u001b[0m\u001b[0mself\u001b[0m\u001b[1;33m,\u001b[0m \u001b[0miteration\u001b[0m\u001b[1;33m,\u001b[0m \u001b[0mfeval\u001b[0m\u001b[1;33m)\u001b[0m\u001b[1;33m:\u001b[0m\u001b[1;33m\u001b[0m\u001b[0m\n",
      "\u001b[1;32m/home/libfun/vrt/lib/python3.4/site-packages/xgboost-0.4-py3.4.egg/xgboost/core.py\u001b[0m in \u001b[0;36mupdate\u001b[1;34m(self, dtrain, iteration, fobj)\u001b[0m\n\u001b[0;32m    748\u001b[0m \u001b[1;33m\u001b[0m\u001b[0m\n\u001b[0;32m    749\u001b[0m         \u001b[1;32mif\u001b[0m \u001b[0mfobj\u001b[0m \u001b[1;32mis\u001b[0m \u001b[1;32mNone\u001b[0m\u001b[1;33m:\u001b[0m\u001b[1;33m\u001b[0m\u001b[0m\n\u001b[1;32m--> 750\u001b[1;33m             \u001b[0m_check_call\u001b[0m\u001b[1;33m(\u001b[0m\u001b[0m_LIB\u001b[0m\u001b[1;33m.\u001b[0m\u001b[0mXGBoosterUpdateOneIter\u001b[0m\u001b[1;33m(\u001b[0m\u001b[0mself\u001b[0m\u001b[1;33m.\u001b[0m\u001b[0mhandle\u001b[0m\u001b[1;33m,\u001b[0m \u001b[0miteration\u001b[0m\u001b[1;33m,\u001b[0m \u001b[0mdtrain\u001b[0m\u001b[1;33m.\u001b[0m\u001b[0mhandle\u001b[0m\u001b[1;33m)\u001b[0m\u001b[1;33m)\u001b[0m\u001b[1;33m\u001b[0m\u001b[0m\n\u001b[0m\u001b[0;32m    751\u001b[0m         \u001b[1;32melse\u001b[0m\u001b[1;33m:\u001b[0m\u001b[1;33m\u001b[0m\u001b[0m\n\u001b[0;32m    752\u001b[0m             \u001b[0mpred\u001b[0m \u001b[1;33m=\u001b[0m \u001b[0mself\u001b[0m\u001b[1;33m.\u001b[0m\u001b[0mpredict\u001b[0m\u001b[1;33m(\u001b[0m\u001b[0mdtrain\u001b[0m\u001b[1;33m)\u001b[0m\u001b[1;33m\u001b[0m\u001b[0m\n",
      "\u001b[1;31mKeyboardInterrupt\u001b[0m: "
     ]
    }
   ],
   "source": [
    "xgb.cv(params, dtrain, num_boost_round=2000, nfold=10, stratified=True, \n",
    "       early_stopping_rounds=200, verbose_eval=True)"
   ]
  },
  {
   "cell_type": "code",
   "execution_count": 12,
   "metadata": {
    "collapsed": true
   },
   "outputs": [],
   "source": [
    "dtest = xgb.DMatrix(test, missing=0)"
   ]
  },
  {
   "cell_type": "code",
   "execution_count": 13,
   "metadata": {
    "collapsed": false
   },
   "outputs": [],
   "source": [
    "gbm = xgb.train(params, dtrain, num_boost_round=380, verbose_eval=False)\n",
    "preds = gbm.predict(dtest)"
   ]
  },
  {
   "cell_type": "code",
   "execution_count": 14,
   "metadata": {
    "collapsed": true
   },
   "outputs": [],
   "source": [
    "sample = pd.read_csv('data/sample_submission.csv', index_col='ID')\n",
    "sample.TARGET = preds\n",
    "sample.to_csv('submission/xgb_cl_1.csv', index_label='ID')"
   ]
  },
  {
   "cell_type": "code",
   "execution_count": 15,
   "metadata": {
    "collapsed": true
   },
   "outputs": [],
   "source": [
    "preds[(xtest['var15'] < 23).values] = 0\n",
    "preds[(xtest['saldo_medio_var5_hace2'] > 160000).values] = 0"
   ]
  },
  {
   "cell_type": "code",
   "execution_count": 16,
   "metadata": {
    "collapsed": false
   },
   "outputs": [],
   "source": [
    "preds[(xtest['saldo_var33'] > 0).values] = 0"
   ]
  },
  {
   "cell_type": "code",
   "execution_count": 17,
   "metadata": {
    "collapsed": false
   },
   "outputs": [
    {
     "name": "stderr",
     "output_type": "stream",
     "text": [
      "/home/libfun/vrt/lib/python3.4/site-packages/ipykernel/__main__.py:4: FutureWarning: in the future, boolean array-likes will be handled as a boolean array index\n",
      "/home/libfun/vrt/lib/python3.4/site-packages/ipykernel/__main__.py:5: FutureWarning: in the future, boolean array-likes will be handled as a boolean array index\n",
      "/home/libfun/vrt/lib/python3.4/site-packages/ipykernel/__main__.py:6: FutureWarning: in the future, boolean array-likes will be handled as a boolean array index\n"
     ]
    }
   ],
   "source": [
    "var38 = xtest['var38']\n",
    "V21 = xtest['var21']\n",
    "NV=xtest['num_var33']+xtest['saldo_medio_var33_ult3']+xtest['saldo_medio_var44_hace2']+\\\n",
    "xtest['saldo_medio_var44_hace3']+xtest['saldo_medio_var33_ult1']+xtest['saldo_medio_var44_ult1']\n",
    "preds[var38 > 3988596]=0\n",
    "preds[NV>0]=0\n",
    "preds[V21>7500]=0"
   ]
  },
  {
   "cell_type": "code",
   "execution_count": 18,
   "metadata": {
    "collapsed": true
   },
   "outputs": [],
   "source": [
    "fbinfeats = ['ind_var6_0', 'ind_var6', 'ind_var13_medio_0', 'ind_var13_medio',\n",
    "       'ind_var18_0', 'ind_var18', 'ind_var20_0', 'ind_var20',\n",
    "       'ind_var29_0', 'ind_var29', 'ind_var33_0', 'ind_var33',\n",
    "       'ind_var34_0', 'ind_var34', 'num_var6_0', 'num_var6',\n",
    "       'num_var13_medio_0', 'num_var13_medio', 'num_var18_0', 'num_var18',\n",
    "       'num_var20_0', 'num_var20', 'num_op_var40_hace3', 'num_var29_0',\n",
    "       'num_var29', 'num_var33_0', 'num_var33', 'num_var34_0', 'num_var34',\n",
    "       'saldo_var6', 'saldo_var13_medio', 'saldo_var18', 'saldo_var20',\n",
    "       'saldo_var29', 'saldo_var33', 'saldo_var34',\n",
    "       'delta_imp_amort_var18_1y3', 'delta_imp_amort_var34_1y3',\n",
    "       'delta_imp_aport_var33_1y3', 'delta_imp_reemb_var33_1y3',\n",
    "       'delta_imp_trasp_var17_in_1y3', 'delta_imp_trasp_var17_out_1y3',\n",
    "       'delta_imp_trasp_var33_in_1y3', 'delta_imp_trasp_var33_out_1y3',\n",
    "       'delta_imp_venta_var44_1y3', 'delta_num_aport_var33_1y3',\n",
    "       'delta_num_reemb_var33_1y3', 'delta_num_trasp_var17_in_1y3',\n",
    "       'delta_num_trasp_var17_out_1y3', 'delta_num_trasp_var33_in_1y3',\n",
    "       'delta_num_trasp_var33_out_1y3', 'delta_num_venta_var44_1y3',\n",
    "       'imp_amort_var18_ult1', 'imp_amort_var34_ult1',\n",
    "       'imp_aport_var17_hace3', 'imp_aport_var33_hace3',\n",
    "       'imp_aport_var33_ult1', 'imp_var7_emit_ult1',\n",
    "       'imp_compra_var44_hace3', 'imp_reemb_var17_hace3',\n",
    "       'imp_reemb_var33_ult1', 'imp_trasp_var17_in_hace3',\n",
    "       'imp_trasp_var17_in_ult1', 'imp_trasp_var17_out_ult1',\n",
    "       'imp_trasp_var33_in_hace3', 'imp_trasp_var33_in_ult1',\n",
    "       'imp_trasp_var33_out_ult1', 'imp_venta_var44_hace3',\n",
    "       'imp_venta_var44_ult1', 'ind_var7_emit_ult1',\n",
    "       'num_aport_var17_hace3', 'num_aport_var33_hace3',\n",
    "       'num_aport_var33_ult1', 'num_var7_emit_ult1',\n",
    "       'num_compra_var44_hace3', 'num_meses_var13_largo_ult3',\n",
    "       'num_meses_var13_medio_ult3', 'num_meses_var29_ult3',\n",
    "       'num_meses_var33_ult3', 'num_reemb_var17_hace3',\n",
    "       'num_reemb_var33_ult1', 'num_trasp_var17_in_hace3',\n",
    "       'num_trasp_var17_in_ult1', 'num_trasp_var17_out_ult1',\n",
    "       'num_trasp_var33_in_hace3', 'num_trasp_var33_in_ult1',\n",
    "       'num_trasp_var33_out_ult1', 'num_venta_var44_hace3',\n",
    "       'num_venta_var44_ult1', 'saldo_medio_var13_largo_hace2',\n",
    "       'saldo_medio_var13_largo_hace3', 'saldo_medio_var13_largo_ult1',\n",
    "       'saldo_medio_var13_largo_ult3', 'saldo_medio_var13_medio_hace2',\n",
    "       'saldo_medio_var13_medio_ult1', 'saldo_medio_var13_medio_ult3',\n",
    "       'saldo_medio_var17_hace2', 'saldo_medio_var17_hace3',\n",
    "       'saldo_medio_var29_hace2', 'saldo_medio_var29_hace3',\n",
    "       'saldo_medio_var29_ult1', 'saldo_medio_var29_ult3',\n",
    "       'saldo_medio_var33_hace2', 'saldo_medio_var33_hace3',\n",
    "       'saldo_medio_var33_ult1', 'saldo_medio_var33_ult3',\n",
    "       'saldo_medio_var44_hace2', 'saldo_medio_var44_hace3']"
   ]
  },
  {
   "cell_type": "code",
   "execution_count": 19,
   "metadata": {
    "collapsed": false
   },
   "outputs": [],
   "source": [
    "for f in fbinfeats:\n",
    "    preds[(xtest[f] != 0).values] = 0"
   ]
  },
  {
   "cell_type": "code",
   "execution_count": 20,
   "metadata": {
    "collapsed": true
   },
   "outputs": [],
   "source": [
    "sample = pd.read_csv('data/sample_submission.csv', index_col='ID')\n",
    "sample.TARGET = preds\n",
    "sample.to_csv('submission/xgb_cl_2.csv', index_label='ID')"
   ]
  },
  {
   "cell_type": "code",
   "execution_count": 21,
   "metadata": {
    "collapsed": true
   },
   "outputs": [],
   "source": [
    "pr = pd.read_csv('submission/50.csv', index_col='ID')"
   ]
  },
  {
   "cell_type": "code",
   "execution_count": 22,
   "metadata": {
    "collapsed": true
   },
   "outputs": [],
   "source": [
    "predsx = pr.TARGET.values"
   ]
  },
  {
   "cell_type": "code",
   "execution_count": 23,
   "metadata": {
    "collapsed": true
   },
   "outputs": [],
   "source": [
    "newpreds = .5*predsx+.5*preds"
   ]
  },
  {
   "cell_type": "code",
   "execution_count": 24,
   "metadata": {
    "collapsed": true
   },
   "outputs": [],
   "source": [
    "sample = pd.read_csv('data/sample_submission.csv', index_col='ID')\n",
    "sample.TARGET = newpreds\n",
    "sample.to_csv('submission/xgb_cl_50ble.csv', index_label='ID')"
   ]
  },
  {
   "cell_type": "code",
   "execution_count": null,
   "metadata": {
    "collapsed": true
   },
   "outputs": [],
   "source": []
  },
  {
   "cell_type": "code",
   "execution_count": 60,
   "metadata": {
    "collapsed": true
   },
   "outputs": [],
   "source": []
  },
  {
   "cell_type": "code",
   "execution_count": null,
   "metadata": {
    "collapsed": true
   },
   "outputs": [],
   "source": []
  },
  {
   "cell_type": "code",
   "execution_count": null,
   "metadata": {
    "collapsed": true
   },
   "outputs": [],
   "source": []
  },
  {
   "cell_type": "code",
   "execution_count": 61,
   "metadata": {
    "collapsed": false
   },
   "outputs": [
    {
     "data": {
      "image/png": "[encoded data removed]",
      "text/plain": [
       "<matplotlib.figure.Figure at 0x7fec2a952cf8>"
      ]
     },
     "metadata": {},
     "output_type": "display_data"
    }
   ],
   "source": [
    "plt.hist(newpreds,bins=100);"
   ]
  },
  {
   "cell_type": "code",
   "execution_count": 25,
   "metadata": {
    "collapsed": true
   },
   "outputs": [
    {
     "data": {
      "text/plain": [
       "array([ 32,  35,  23,  24,  43,  39,  29,  53,  37,  27,  40,  25,  52,\n",
       "        57,  50,  41,  45,  38,  31,  28,  30,  26,  88,  36,  42,  58,\n",
       "        61,  22,  48,  64,  49,  81,  33,  54,  51,  44,  56,  46,  67,\n",
       "        34,  60,  74,  65,  73,  62,  69,  47,  63,  92,  71,  59,  55,\n",
       "        19,  80,  72,  82,  77,  75,  91,  84,  70, 105,  86,  11,  20,\n",
       "        13,  83,   5,  66,  85,  68,  12,  90,  78,  94,  15,  79,  93,\n",
       "        21,  76,   7,  95,  87,  89,  14,  96,  17,   6,   9,  10,  98,\n",
       "         8, 104,  16, 103,  99,  97, 102,  18, 101])"
      ]
     },
     "execution_count": 25,
     "metadata": {},
     "output_type": "execute_result"
    }
   ],
   "source": [
    "test['var15'].unique()"
   ]
  },
  {
   "cell_type": "code",
   "execution_count": null,
   "metadata": {
    "collapsed": true
   },
   "outputs": [],
   "source": []
  },
  {
   "cell_type": "code",
   "execution_count": 17,
   "metadata": {
    "collapsed": true
   },
   "outputs": [],
   "source": [
    "from sklearn.linear_model import LogisticRegression"
   ]
  },
  {
   "cell_type": "code",
   "execution_count": 37,
   "metadata": {
    "collapsed": true
   },
   "outputs": [],
   "source": [
    "from sklearn.cross_validation import cross_val_score, StratifiedKFold"
   ]
  },
  {
   "cell_type": "code",
   "execution_count": 41,
   "metadata": {
    "collapsed": true
   },
   "outputs": [],
   "source": [
    "skf = StratifiedKFold(target, n_folds=3)"
   ]
  },
  {
   "cell_type": "code",
   "execution_count": 24,
   "metadata": {
    "collapsed": true
   },
   "outputs": [],
   "source": [
    "from sklearn.preprocessing import StandardScaler"
   ]
  },
  {
   "cell_type": "code",
   "execution_count": 25,
   "metadata": {
    "collapsed": true
   },
   "outputs": [],
   "source": [
    "sc = StandardScaler()\n",
    "train_sc = sc.fit_transform(train)"
   ]
  },
  {
   "cell_type": "code",
   "execution_count": 26,
   "metadata": {
    "collapsed": false
   },
   "outputs": [
    {
     "data": {
      "text/plain": [
       "array([ 0.80190131,  0.80128459,  0.76915691,  0.80532112,  0.82085511,\n",
       "        0.81229987,  0.79515959,  0.82708531,  0.80473132,  0.79433228])"
      ]
     },
     "execution_count": 26,
     "metadata": {},
     "output_type": "execute_result"
    }
   ],
   "source": [
    "cross_val_score(LogisticRegression(), train_sc, target, scoring='roc_auc', cv=skf)"
   ]
  },
  {
   "cell_type": "code",
   "execution_count": null,
   "metadata": {
    "collapsed": true
   },
   "outputs": [],
   "source": [
    "from sklearn"
   ]
  },
  {
   "cell_type": "code",
   "execution_count": 39,
   "metadata": {
    "collapsed": true
   },
   "outputs": [],
   "source": [
    "from sklearn.ensemble import RandomForestClassifier"
   ]
  },
  {
   "cell_type": "code",
   "execution_count": 42,
   "metadata": {
    "collapsed": false
   },
   "outputs": [
    {
     "data": {
      "text/plain": [
       "array([ 0.77884987,  0.77405909,  0.79552642])"
      ]
     },
     "execution_count": 42,
     "metadata": {},
     "output_type": "execute_result"
    }
   ],
   "source": [
    "cross_val_score(RandomForestClassifier(n_estimators=500, max_depth=50, max_features=50, class_weight='balanced',\n",
    "                                    random_state=42, n_jobs=-1), train, target, scoring='roc_auc', cv=skf)"
   ]
  },
  {
   "cell_type": "code",
   "execution_count": null,
   "metadata": {
    "collapsed": true
   },
   "outputs": [],
   "source": []
  },
  {
   "cell_type": "code",
   "execution_count": 8,
   "metadata": {
    "collapsed": true
   },
   "outputs": [],
   "source": [
    "from tqdm import *"
   ]
  },
  {
   "cell_type": "code",
   "execution_count": 9,
   "metadata": {
    "collapsed": true
   },
   "outputs": [],
   "source": [
    "floatfeats = list()\n",
    "binfeats = list()\n",
    "catfeats = list()\n",
    "for col in train.columns:\n",
    "    if train[col].dtype == 'float64':\n",
    "        floatfeats.append(col)\n",
    "    elif train[col].dtype == 'int64' and len(train[col].unique()) == 2:\n",
    "        #train.loc[:, col] = train.loc[:, col].astype('int16')\n",
    "        binfeats.append(col)\n",
    "    else:\n",
    "        #train.loc[:, col] = train.loc[:, col].astype('int16')\n",
    "        catfeats.append(col)\n",
    "catfeats = catfeats[:-1]"
   ]
  },
  {
   "cell_type": "code",
   "execution_count": 10,
   "metadata": {
    "collapsed": true
   },
   "outputs": [],
   "source": [
    "ztrain = train.copy()\n",
    "ztest = test.copy()"
   ]
  },
  {
   "cell_type": "code",
   "execution_count": 11,
   "metadata": {
    "collapsed": false
   },
   "outputs": [
    {
     "name": "stderr",
     "output_type": "stream",
     "text": [
      "100%|██████████| 91/91 [01:30<00:00,  1.86s/it]\n"
     ]
    }
   ],
   "source": [
    "for c in catfeats:\n",
    "    fct, ind = pd.factorize(ztrain[c])\n",
    "    ztrain.loc[:, c] = fct\n",
    "    ztest.loc[:, c] = ind.get_indexer(ztest[c])\n",
    "ncatfeats = list()\n",
    "for c in tqdm(catfeats):\n",
    "    ntr = pd.get_dummies(ztrain[c], prefix=c+'@')\n",
    "    nts = pd.get_dummies(ztest[c], prefix=c+'@')\n",
    "    ztrain = pd.concat((ztrain, ntr), axis=1)\n",
    "    ztest = pd.concat((ztest, nts.loc[:, ntr.columns]), axis=1)\n",
    "    for t in ntr.columns:\n",
    "        ncatfeats.append(t)"
   ]
  },
  {
   "cell_type": "code",
   "execution_count": 12,
   "metadata": {
    "collapsed": false
   },
   "outputs": [
    {
     "data": {
      "text/plain": [
       "2519"
      ]
     },
     "execution_count": 12,
     "metadata": {},
     "output_type": "execute_result"
    }
   ],
   "source": [
    "import gc\n",
    "del(train)\n",
    "del(test)\n",
    "#del(ztest)\n",
    "gc.collect()"
   ]
  },
  {
   "cell_type": "code",
   "execution_count": 13,
   "metadata": {
    "collapsed": false
   },
   "outputs": [],
   "source": [
    "dtrainz = xgb.DMatrix(ztrain[floatfeats + binfeats + ncatfeats + ['n0']], target)"
   ]
  },
  {
   "cell_type": "code",
   "execution_count": 14,
   "metadata": {
    "collapsed": true
   },
   "outputs": [
    {
     "name": "stderr",
     "output_type": "stream",
     "text": [
      "Will train until cv error hasn't decreased in 200 rounds.\n",
      "[0]\tcv-test-auc:0.748197+0.016095503508744308\tcv-train-auc:0.7531116000000001+0.01844702286657659\n",
      "[1]\tcv-test-auc:0.7787872+0.007395336919978665\tcv-train-auc:0.7860338+0.012787255442822743\n",
      "[2]\tcv-test-auc:0.7861248+0.007607194552527228\tcv-train-auc:0.7927684000000002+0.00917830281914908\n",
      "[3]\tcv-test-auc:0.7928078+0.007048504845710192\tcv-train-auc:0.8019388000000001+0.004931804432456752\n",
      "[4]\tcv-test-auc:0.7899676+0.006276624908340451\tcv-train-auc:0.8008266+0.004299843792511518\n",
      "[5]\tcv-test-auc:0.7902916+0.00883948748740559\tcv-train-auc:0.802566+0.00452931151500976\n",
      "[6]\tcv-test-auc:0.7918206000000001+0.006752661833677157\tcv-train-auc:0.8056976+0.008009538977993651\n",
      "[7]\tcv-test-auc:0.7928008+0.007337358064044578\tcv-train-auc:0.8069632+0.007108810094523546\n",
      "[8]\tcv-test-auc:0.7925896+0.008273271701086582\tcv-train-auc:0.8073714000000001+0.004465222260985467\n",
      "[9]\tcv-test-auc:0.7939309999999999+0.008721265435703694\tcv-train-auc:0.8095650000000001+0.00403721423756533\n",
      "[10]\tcv-test-auc:0.7940452+0.009383519582757825\tcv-train-auc:0.8101072+0.003743832442831806\n",
      "[11]\tcv-test-auc:0.7945424+0.009287658942919892\tcv-train-auc:0.8108755999999999+0.004412240319837527\n",
      "[12]\tcv-test-auc:0.7979634+0.009656958684803416\tcv-train-auc:0.8131436000000001+0.004071778117726943\n",
      "[13]\tcv-test-auc:0.7975040000000001+0.00945884415771821\tcv-train-auc:0.8130178000000001+0.004083004550573046\n",
      "[14]\tcv-test-auc:0.7979252000000001+0.009046509855187254\tcv-train-auc:0.8138462000000001+0.0045514623759842195\n",
      "[15]\tcv-test-auc:0.7978166+0.010418610667454645\tcv-train-auc:0.8145710000000002+0.0036317551679594263\n",
      "[16]\tcv-test-auc:0.7980756+0.01020345820984239\tcv-train-auc:0.8144785999999999+0.004048275711954421\n",
      "[17]\tcv-test-auc:0.7988919999999999+0.009592451219578864\tcv-train-auc:0.8153342+0.004564400832529933\n",
      "[18]\tcv-test-auc:0.7980645999999999+0.010125338801245116\tcv-train-auc:0.815131+0.003920818332950406\n",
      "[19]\tcv-test-auc:0.7982846+0.009925847683699368\tcv-train-auc:0.815577+0.003981607313636024\n",
      "[20]\tcv-test-auc:0.7989974+0.009570128078557788\tcv-train-auc:0.8164996+0.0037067516560999893\n",
      "[21]\tcv-test-auc:0.799688+0.009301678794712265\tcv-train-auc:0.816587+0.0037628134686694173\n",
      "[22]\tcv-test-auc:0.8004868+0.008897478640603758\tcv-train-auc:0.8171872+0.004144832609406551\n",
      "[23]\tcv-test-auc:0.8004476+0.009209414109486013\tcv-train-auc:0.8173408+0.004034864230677428\n",
      "[24]\tcv-test-auc:0.8007426000000001+0.009431066654414027\tcv-train-auc:0.8176678000000001+0.004113890197854089\n",
      "[25]\tcv-test-auc:0.8007414+0.008815379937359475\tcv-train-auc:0.8185886+0.0041196677341746955\n",
      "[26]\tcv-test-auc:0.8005274+0.009697221820707206\tcv-train-auc:0.8188758+0.0041072177151935604\n",
      "[27]\tcv-test-auc:0.8012051999999998+0.009217626384270523\tcv-train-auc:0.8192872+0.00438248712034617\n",
      "[28]\tcv-test-auc:0.8012812+0.009130154421476125\tcv-train-auc:0.8194844+0.0044470398064330435\n",
      "[29]\tcv-test-auc:0.8018796+0.008970004205127231\tcv-train-auc:0.8197494000000001+0.004338792716874112\n",
      "[30]\tcv-test-auc:0.8024526+0.009174355380079829\tcv-train-auc:0.8201842000000001+0.00438857359058727\n",
      "[31]\tcv-test-auc:0.8026323999999999+0.009200573777759754\tcv-train-auc:0.8206697999999999+0.004419442381115493\n",
      "[32]\tcv-test-auc:0.8027616+0.008985623130312098\tcv-train-auc:0.8209532000000002+0.004379392624554233\n",
      "[33]\tcv-test-auc:0.8028378+0.00887032219031531\tcv-train-auc:0.8209496+0.0043012568209768775\n",
      "[34]\tcv-test-auc:0.8033306+0.008625055607936664\tcv-train-auc:0.821125+0.004489912159497105\n",
      "[35]\tcv-test-auc:0.8033205999999999+0.008885353940052139\tcv-train-auc:0.8214342+0.004341941934204092\n",
      "[36]\tcv-test-auc:0.8031792+0.009184515477693979\tcv-train-auc:0.821563+0.004514434671140994\n",
      "[37]\tcv-test-auc:0.8036505999999999+0.009656360030570545\tcv-train-auc:0.8220808+0.004643553527203067\n",
      "[38]\tcv-test-auc:0.8035336+0.00992891932890986\tcv-train-auc:0.8224184000000001+0.004720528470415149\n",
      "[39]\tcv-test-auc:0.8038871999999999+0.009653170471922701\tcv-train-auc:0.8228646000000002+0.004626657912575782\n",
      "[40]\tcv-test-auc:0.8042197999999999+0.009528530220343518\tcv-train-auc:0.8232280000000001+0.004727590972154819\n",
      "[41]\tcv-test-auc:0.8045188+0.009722532250396479\tcv-train-auc:0.8227951999999998+0.004850148302887259\n",
      "[42]\tcv-test-auc:0.8048337999999999+0.009444551263029923\tcv-train-auc:0.8235894+0.004704269618123499\n",
      "[43]\tcv-test-auc:0.8054727999999999+0.00952153597693146\tcv-train-auc:0.824113+0.005317478763474257\n",
      "[44]\tcv-test-auc:0.8057192000000001+0.009293635701919907\tcv-train-auc:0.8244866+0.0052768299802059306\n",
      "[45]\tcv-test-auc:0.8059035999999999+0.009133923945380764\tcv-train-auc:0.8248286+0.005100109943912972\n",
      "[46]\tcv-test-auc:0.8057812+0.009285835609141485\tcv-train-auc:0.8251162000000001+0.004859924213400881\n",
      "[47]\tcv-test-auc:0.8058672+0.009283287012691129\tcv-train-auc:0.825283+0.0047010080621075435\n",
      "[48]\tcv-test-auc:0.8059362+0.009410168848644544\tcv-train-auc:0.8254116+0.004716763746468532\n",
      "[49]\tcv-test-auc:0.8058913999999999+0.009328318467976953\tcv-train-auc:0.8254944+0.004629314359600123\n",
      "[50]\tcv-test-auc:0.8060593999999999+0.0096646285722732\tcv-train-auc:0.8256254000000001+0.004529525343786036\n",
      "[51]\tcv-test-auc:0.8060335999999999+0.00966413784256\tcv-train-auc:0.8257332+0.004548867920702911\n",
      "[52]\tcv-test-auc:0.806508+0.009485973835089373\tcv-train-auc:0.8261229999999999+0.004644755752458904\n",
      "[53]\tcv-test-auc:0.807231+0.009777143529681854\tcv-train-auc:0.8262296000000001+0.004311877669878876\n",
      "[54]\tcv-test-auc:0.8076536000000001+0.009655138064264048\tcv-train-auc:0.826595+0.004053242603151205\n",
      "[55]\tcv-test-auc:0.8080451999999999+0.00964623228830821\tcv-train-auc:0.8269494000000002+0.0037043526613971083\n",
      "[56]\tcv-test-auc:0.8084029999999999+0.008956202521158155\tcv-train-auc:0.8274039999999999+0.0038882010750474357\n",
      "[57]\tcv-test-auc:0.808592+0.008959846985300586\tcv-train-auc:0.8277288+0.004052844650365963\n",
      "[58]\tcv-test-auc:0.8086952000000001+0.008939859336700984\tcv-train-auc:0.8280056+0.00398000405024922\n",
      "[59]\tcv-test-auc:0.8086202+0.009011123712390169\tcv-train-auc:0.8282384+0.0038948996700813835\n",
      "[60]\tcv-test-auc:0.8086382000000001+0.008824481024966878\tcv-train-auc:0.8281704+0.0039050230524287632\n",
      "[61]\tcv-test-auc:0.8093056000000001+0.00858736631569888\tcv-train-auc:0.8287686000000001+0.0037879262189224228\n",
      "[62]\tcv-test-auc:0.8096362000000001+0.008409168220460365\tcv-train-auc:0.8288958000000001+0.0037275180697080366\n",
      "[63]\tcv-test-auc:0.8093955999999999+0.008341686414628636\tcv-train-auc:0.8288936+0.003953395887082383\n",
      "[64]\tcv-test-auc:0.8097616000000001+0.008627159917377232\tcv-train-auc:0.8290832+0.003610825191005512\n",
      "[65]\tcv-test-auc:0.8098874+0.008856093983241147\tcv-train-auc:0.8291256+0.0035852071404592492\n",
      "[66]\tcv-test-auc:0.8099984000000001+0.009210749602502519\tcv-train-auc:0.8292878+0.0033805832277878003\n",
      "[67]\tcv-test-auc:0.8099654+0.008955848069278538\tcv-train-auc:0.8293258+0.0035188017505963184\n",
      "[68]\tcv-test-auc:0.8098183999999999+0.00934186517993061\tcv-train-auc:0.8291462+0.0031149840063794962\n",
      "[69]\tcv-test-auc:0.8101421999999999+0.009170967089680362\tcv-train-auc:0.8293140000000001+0.003062079620127471\n",
      "[70]\tcv-test-auc:0.8099504+0.009211205753863043\tcv-train-auc:0.8292826+0.0031828064722819664\n",
      "[71]\tcv-test-auc:0.809783+0.009023082666140207\tcv-train-auc:0.8292931999999998+0.003598208520917038\n",
      "[72]\tcv-test-auc:0.8101989999999999+0.0089490182254815\tcv-train-auc:0.8296412+0.003606027587248878\n",
      "[73]\tcv-test-auc:0.809829+0.009267219583024887\tcv-train-auc:0.8297146000000002+0.0034036128804551076\n",
      "[74]\tcv-test-auc:0.8102843999999999+0.009014355009649883\tcv-train-auc:0.8297882+0.0032650561036527055\n",
      "[75]\tcv-test-auc:0.8105044000000001+0.00888170993897008\tcv-train-auc:0.8302061999999999+0.003262539464895426\n",
      "[76]\tcv-test-auc:0.8103512+0.008632676511951523\tcv-train-auc:0.8301558+0.0034898697053041983\n",
      "[77]\tcv-test-auc:0.8105131999999999+0.00850952977314261\tcv-train-auc:0.8304946000000001+0.0034873465328240758\n",
      "[78]\tcv-test-auc:0.8107446000000001+0.008274725532608319\tcv-train-auc:0.8305695999999999+0.0033731491873322246\n",
      "[79]\tcv-test-auc:0.8110434+0.00823742291253763\tcv-train-auc:0.8308699999999998+0.003530742188265806\n",
      "[80]\tcv-test-auc:0.8111074+0.008120040531918534\tcv-train-auc:0.830758+0.0035397876207478667\n",
      "[81]\tcv-test-auc:0.8112311999999999+0.008431165883790899\tcv-train-auc:0.8309662+0.0031953831319577425\n",
      "[82]\tcv-test-auc:0.8113632000000001+0.00818533853667641\tcv-train-auc:0.8309485999999999+0.0031455347780624133\n",
      "[83]\tcv-test-auc:0.8114582+0.007981746761204589\tcv-train-auc:0.831091+0.0033168261335198377\n",
      "[84]\tcv-test-auc:0.8117112000000001+0.007809572085588286\tcv-train-auc:0.8312874000000001+0.003477351210332381\n",
      "[85]\tcv-test-auc:0.8118724+0.008013454401193042\tcv-train-auc:0.8316554+0.003359116407628672\n",
      "[86]\tcv-test-auc:0.8118738000000001+0.008411601212611076\tcv-train-auc:0.831794+0.002916841442382502\n",
      "[87]\tcv-test-auc:0.8121018+0.00836197659408346\tcv-train-auc:0.8320136+0.0028515914574146\n",
      "[88]\tcv-test-auc:0.8123804+0.008200071233836934\tcv-train-auc:0.832389+0.003104331361179079\n",
      "[89]\tcv-test-auc:0.8126026+0.00832790188703011\tcv-train-auc:0.8326232000000001+0.003147108476045932\n",
      "[90]\tcv-test-auc:0.8125978+0.008433999796063532\tcv-train-auc:0.8328806+0.003142465948900635\n",
      "[91]\tcv-test-auc:0.8131041999999999+0.00846928741748679\tcv-train-auc:0.8331860000000001+0.0031199072422108736\n",
      "[92]\tcv-test-auc:0.8131768000000001+0.008497641188000334\tcv-train-auc:0.8333003999999999+0.00322217327901526\n",
      "[93]\tcv-test-auc:0.8134964+0.008554483984437623\tcv-train-auc:0.8335866+0.0030459509254089734\n",
      "[94]\tcv-test-auc:0.8135146000000001+0.00853780010541355\tcv-train-auc:0.8337633999999999+0.0030208325739769443\n",
      "[95]\tcv-test-auc:0.8134152+0.008619453611453555\tcv-train-auc:0.8339542+0.00296155576682257\n",
      "[96]\tcv-test-auc:0.8136923999999999+0.008578034707320789\tcv-train-auc:0.8342202000000001+0.002953736440510578\n",
      "[97]\tcv-test-auc:0.8135676000000001+0.00856601112770698\tcv-train-auc:0.8343146000000001+0.002843207386034321\n",
      "[98]\tcv-test-auc:0.8136522000000002+0.008355167847506098\tcv-train-auc:0.8346195999999999+0.002977828376518721\n",
      "[99]\tcv-test-auc:0.8139065999999999+0.00840719526596118\tcv-train-auc:0.8347502+0.002824748017080461\n",
      "[100]\tcv-test-auc:0.8141966+0.008435790504748233\tcv-train-auc:0.8349942+0.0027720787434703273\n",
      "[101]\tcv-test-auc:0.8143611999999999+0.008461568800169402\tcv-train-auc:0.8351620000000001+0.0027595967096661067\n",
      "[102]\tcv-test-auc:0.8143146+0.008485315730130491\tcv-train-auc:0.8352153999999998+0.0028554698107316557\n",
      "[103]\tcv-test-auc:0.8144888+0.008611998569437864\tcv-train-auc:0.8354481999999999+0.0028195675129352713\n",
      "[104]\tcv-test-auc:0.8146644000000001+0.008530401317640322\tcv-train-auc:0.8354600000000001+0.00275787947524906\n",
      "[105]\tcv-test-auc:0.8147164+0.008640758499113397\tcv-train-auc:0.8356074+0.002805135476229238\n",
      "[106]\tcv-test-auc:0.8147709999999998+0.008778756517867426\tcv-train-auc:0.8357526+0.002833352826599618\n",
      "[107]\tcv-test-auc:0.8149896+0.008874861905404497\tcv-train-auc:0.8359414+0.00278648485371802\n",
      "[108]\tcv-test-auc:0.8152538+0.009401245819570941\tcv-train-auc:0.8362883999999999+0.0027087909184726556\n",
      "[109]\tcv-test-auc:0.8153662+0.009502262602138498\tcv-train-auc:0.8364621999999999+0.0026734802337028867\n",
      "[110]\tcv-test-auc:0.8155116+0.009565395477448904\tcv-train-auc:0.8365880000000001+0.002610988395225073\n",
      "[111]\tcv-test-auc:0.8158006+0.009690140197128204\tcv-train-auc:0.8368746+0.0026591530681778926\n",
      "[112]\tcv-test-auc:0.815948+0.009637232569571023\tcv-train-auc:0.8370628+0.002687623068810049\n",
      "[113]\tcv-test-auc:0.8159498+0.009558971773156337\tcv-train-auc:0.8371687999999999+0.0027298266904695564\n",
      "[114]\tcv-test-auc:0.8161064+0.009634106177534072\tcv-train-auc:0.8374262+0.002693001700704978\n",
      "[115]\tcv-test-auc:0.8162480000000001+0.00955668241598517\tcv-train-auc:0.837514+0.0028773557305276287\n",
      "[116]\tcv-test-auc:0.8164574000000002+0.009435168543274653\tcv-train-auc:0.8377694+0.002852486185768466\n",
      "[117]\tcv-test-auc:0.8166422000000001+0.009599704587121427\tcv-train-auc:0.8379937999999999+0.0027159142401777196\n",
      "[118]\tcv-test-auc:0.817054+0.009673015786196153\tcv-train-auc:0.8384666+0.002455958191826577\n",
      "[119]\tcv-test-auc:0.8168429999999999+0.009836112565439651\tcv-train-auc:0.8385272+0.0025450514650984996\n",
      "[120]\tcv-test-auc:0.8171073999999999+0.009617527553378781\tcv-train-auc:0.8387026000000001+0.002589436278420462\n",
      "[121]\tcv-test-auc:0.8172343999999999+0.009586458795613715\tcv-train-auc:0.8388552+0.0026081971091157954\n",
      "[122]\tcv-test-auc:0.8173378000000001+0.009856609567188913\tcv-train-auc:0.8391247999999999+0.002449432375061594\n",
      "[123]\tcv-test-auc:0.8175108+0.00973614674088266\tcv-train-auc:0.8392476+0.002477974301723068\n",
      "[124]\tcv-test-auc:0.8177468000000001+0.009517652155862802\tcv-train-auc:0.839594+0.002471173567356195\n",
      "[125]\tcv-test-auc:0.817901+0.009592304999321066\tcv-train-auc:0.8397984+0.0023833342694636896\n",
      "[126]\tcv-test-auc:0.817994+0.009557831699710957\tcv-train-auc:0.8398731999999999+0.0023448134595314956\n",
      "[127]\tcv-test-auc:0.8182076+0.009526635851128139\tcv-train-auc:0.8402489999999998+0.00226135658399997\n",
      "[128]\tcv-test-auc:0.8182772+0.009520839068065364\tcv-train-auc:0.8403145999999999+0.0023178457757150168\n",
      "[129]\tcv-test-auc:0.8184524+0.009368381409827408\tcv-train-auc:0.8404870000000001+0.0023502873015867577\n",
      "[130]\tcv-test-auc:0.8187066+0.009312447081191944\tcv-train-auc:0.8408626+0.0023799597979797947\n",
      "[131]\tcv-test-auc:0.8188610000000001+0.009338280077187667\tcv-train-auc:0.8411398+0.0022459115209642333\n",
      "[132]\tcv-test-auc:0.8190459999999999+0.009512461363916291\tcv-train-auc:0.8413942000000001+0.002178269074288133\n",
      "[133]\tcv-test-auc:0.8190562+0.009553970219756841\tcv-train-auc:0.8415464+0.00221281030366362\n",
      "[134]\tcv-test-auc:0.8190273999999998+0.009572937597206017\tcv-train-auc:0.8416437999999999+0.002237430436907493\n",
      "[135]\tcv-test-auc:0.8192344+0.009349058703420341\tcv-train-auc:0.8418314+0.0022457818772089228\n",
      "[136]\tcv-test-auc:0.8196787999999999+0.009258409742498957\tcv-train-auc:0.8423271999999999+0.0021946125307215187\n",
      "[137]\tcv-test-auc:0.8197246+0.009555368869907642\tcv-train-auc:0.8424670000000001+0.0021631860761386393\n",
      "[138]\tcv-test-auc:0.8199186+0.00942482665304778\tcv-train-auc:0.8426446000000001+0.0021200916583959534\n",
      "[139]\tcv-test-auc:0.8201626000000001+0.009310994718073923\tcv-train-auc:0.8428317999999999+0.002246641350994857\n",
      "[140]\tcv-test-auc:0.8202581999999999+0.009337544932154272\tcv-train-auc:0.8429804000000001+0.0023167527792149426\n",
      "[141]\tcv-test-auc:0.8205432+0.009119661077035714\tcv-train-auc:0.8432126+0.002246119996794483\n",
      "[142]\tcv-test-auc:0.8203824000000001+0.009110996138732598\tcv-train-auc:0.8432901999999999+0.0022259510686445964\n",
      "[143]\tcv-test-auc:0.8206380000000001+0.009089751261723287\tcv-train-auc:0.8436398+0.002184764920992672\n",
      "[144]\tcv-test-auc:0.8209718+0.008881274264428514\tcv-train-auc:0.8439976+0.0023558164274832664\n",
      "[145]\tcv-test-auc:0.8211742000000001+0.008973053067936264\tcv-train-auc:0.8442692+0.002274086577067829\n",
      "[146]\tcv-test-auc:0.8212438000000001+0.009043546260179133\tcv-train-auc:0.8444078000000002+0.00234129172893938\n",
      "[147]\tcv-test-auc:0.8212592000000001+0.009180963226154434\tcv-train-auc:0.8447332+0.0023316964124859723\n",
      "[148]\tcv-test-auc:0.8212822+0.009145018980844155\tcv-train-auc:0.8449878000000002+0.0023250682054511774\n",
      "[149]\tcv-test-auc:0.8212731999999999+0.009021381965087172\tcv-train-auc:0.8451270000000001+0.002413767180156389\n",
      "[150]\tcv-test-auc:0.8213566+0.009109899507678468\tcv-train-auc:0.8454648+0.0024472637291473157\n",
      "[151]\tcv-test-auc:0.8213956+0.009163342721954697\tcv-train-auc:0.8457084+0.002490087195260434\n",
      "[152]\tcv-test-auc:0.8216456000000001+0.009187142158473452\tcv-train-auc:0.8459418+0.0025095607902579135\n",
      "[153]\tcv-test-auc:0.821819+0.00910834834643472\tcv-train-auc:0.8461984000000001+0.002568251280540903\n",
      "[154]\tcv-test-auc:0.8220189999999998+0.008998891109464528\tcv-train-auc:0.8463438+0.002448856173808493\n",
      "[155]\tcv-test-auc:0.822241+0.009204901824571503\tcv-train-auc:0.8466542+0.002338158027165814\n",
      "[156]\tcv-test-auc:0.82237+0.009271290762348021\tcv-train-auc:0.8468342+0.002252485684749185\n",
      "[157]\tcv-test-auc:0.8226938+0.009059960693071469\tcv-train-auc:0.8471224000000002+0.002400227789190005\n",
      "[158]\tcv-test-auc:0.8229455999999999+0.008864858997186593\tcv-train-auc:0.847353+0.0025091589826075128\n",
      "[159]\tcv-test-auc:0.823188+0.008697126789923187\tcv-train-auc:0.8476024000000001+0.0025648278382769027\n",
      "[160]\tcv-test-auc:0.8234648+0.008693231445210692\tcv-train-auc:0.8478954+0.0025084196299662524\n",
      "[161]\tcv-test-auc:0.8235265999999999+0.008694560175189983\tcv-train-auc:0.8480458000000001+0.002529582605885817\n",
      "[162]\tcv-test-auc:0.8237174000000002+0.008632978526557332\tcv-train-auc:0.8482462+0.0025391917139121556\n",
      "[163]\tcv-test-auc:0.8239280000000001+0.008561891403188892\tcv-train-auc:0.848444+0.0025627653813800415\n",
      "[164]\tcv-test-auc:0.8240016000000001+0.008521608195640067\tcv-train-auc:0.8485484+0.0026052501300258928\n",
      "[165]\tcv-test-auc:0.8241289999999999+0.008499915599580986\tcv-train-auc:0.8487298000000001+0.002586762563514467\n",
      "[166]\tcv-test-auc:0.8242236000000001+0.008498558527185644\tcv-train-auc:0.8489148+0.0025963411486166614\n",
      "[167]\tcv-test-auc:0.8243012000000001+0.008303814024892404\tcv-train-auc:0.8491335999999998+0.0026905176156271377\n",
      "[168]\tcv-test-auc:0.8245286000000001+0.008292084456878117\tcv-train-auc:0.8493623999999999+0.002619299188714399\n",
      "[169]\tcv-test-auc:0.8245273999999998+0.008274650073568082\tcv-train-auc:0.8495429999999999+0.002708603551647967\n",
      "[170]\tcv-test-auc:0.8246494+0.00845198245620516\tcv-train-auc:0.8498032+0.002588750385803927\n",
      "[171]\tcv-test-auc:0.8248838+0.008459152354698438\tcv-train-auc:0.8500527999999999+0.0026048256294808145\n",
      "[172]\tcv-test-auc:0.8249065999999999+0.008481101687870515\tcv-train-auc:0.850168+0.0026134735506601315\n",
      "[173]\tcv-test-auc:0.8248986+0.00849800935749074\tcv-train-auc:0.8503068+0.0026221776751395153\n",
      "[174]\tcv-test-auc:0.8250065999999998+0.00850914763298887\tcv-train-auc:0.8504986000000001+0.002677728783876384\n",
      "[175]\tcv-test-auc:0.8252011999999999+0.008644944867377666\tcv-train-auc:0.8507422+0.0025885142765687055\n",
      "[176]\tcv-test-auc:0.8252204000000001+0.008793797327662245\tcv-train-auc:0.8509063999999998+0.002589731383753917\n",
      "[177]\tcv-test-auc:0.8253364+0.008883195362030496\tcv-train-auc:0.8510554000000001+0.002606328728307326\n",
      "[178]\tcv-test-auc:0.825562+0.00887545944726243\tcv-train-auc:0.8513106+0.002555035702294597\n",
      "[179]\tcv-test-auc:0.8256767999999999+0.00888218773501213\tcv-train-auc:0.8515298+0.0025255326091737245\n",
      "[180]\tcv-test-auc:0.825803+0.009025687741108714\tcv-train-auc:0.8517731999999999+0.0024328377997720986\n",
      "[181]\tcv-test-auc:0.8260947999999999+0.009073156681111569\tcv-train-auc:0.8519691999999999+0.0023596472109194606\n",
      "[182]\tcv-test-auc:0.8262574+0.009016274521109027\tcv-train-auc:0.852191+0.002367823895478707\n",
      "[183]\tcv-test-auc:0.8263862+0.009066457332387336\tcv-train-auc:0.8523983999999999+0.0022872039349388935\n",
      "[184]\tcv-test-auc:0.8266232+0.008995055650745034\tcv-train-auc:0.8525642000000001+0.0022915233710350705\n",
      "[185]\tcv-test-auc:0.8268896+0.008928660069685707\tcv-train-auc:0.852843+0.0023025904542492903\n",
      "[186]\tcv-test-auc:0.8269269999999999+0.008858881622417127\tcv-train-auc:0.8530036000000001+0.0022990709949890793\n",
      "[187]\tcv-test-auc:0.8271664000000001+0.00894979172048154\tcv-train-auc:0.853181+0.0023008493214463177\n",
      "[188]\tcv-test-auc:0.8271574000000002+0.009086627990624464\tcv-train-auc:0.8533434+0.002282089183182797\n",
      "[189]\tcv-test-auc:0.8272547999999998+0.009059275564856141\tcv-train-auc:0.8534928+0.002292455835997723\n",
      "[190]\tcv-test-auc:0.8274546+0.009089102543155763\tcv-train-auc:0.8536453999999999+0.0022910718539583055\n",
      "[191]\tcv-test-auc:0.8276056+0.009113953052325858\tcv-train-auc:0.8538352+0.002242316159688457\n",
      "[192]\tcv-test-auc:0.8277884+0.009133018791177417\tcv-train-auc:0.8540369999999999+0.0022235241397385455\n",
      "[193]\tcv-test-auc:0.8279780000000001+0.00909095081935878\tcv-train-auc:0.8541838+0.0022706939379845983\n",
      "[194]\tcv-test-auc:0.828135+0.00908416208574021\tcv-train-auc:0.8543432+0.002251994795731095\n",
      "[195]\tcv-test-auc:0.8282594000000001+0.009154806619475904\tcv-train-auc:0.8544750000000001+0.002222050494475772\n",
      "[196]\tcv-test-auc:0.8282402+0.009031100406927157\tcv-train-auc:0.8546077999999999+0.002248155635181881\n",
      "[197]\tcv-test-auc:0.8284086+0.009015932688302399\tcv-train-auc:0.8548118+0.0022143875360921017\n",
      "[198]\tcv-test-auc:0.8285024+0.009096275932490202\tcv-train-auc:0.854978+0.0022183959069562095\n",
      "[199]\tcv-test-auc:0.8286928+0.009115191965065793\tcv-train-auc:0.8551616000000001+0.0022239877337790997\n",
      "[200]\tcv-test-auc:0.8289318+0.009082283818511736\tcv-train-auc:0.8553317999999999+0.0022266162130012493\n",
      "[201]\tcv-test-auc:0.8290278000000001+0.009002849002399182\tcv-train-auc:0.855501+0.0022089945224015414\n",
      "[202]\tcv-test-auc:0.8291834+0.00890473708988647\tcv-train-auc:0.8556322+0.0022240791712526873\n",
      "[203]\tcv-test-auc:0.8293191999999999+0.00903114308158167\tcv-train-auc:0.8557821999999999+0.0022299549233112427\n",
      "[204]\tcv-test-auc:0.8293036+0.009129387506289787\tcv-train-auc:0.8559312+0.0022076837998227855\n",
      "[205]\tcv-test-auc:0.829529+0.009114916565717989\tcv-train-auc:0.8561192+0.0021527240789288317\n",
      "[206]\tcv-test-auc:0.8295652+0.009126875640656014\tcv-train-auc:0.8562436+0.0021785257033140413\n",
      "[207]\tcv-test-auc:0.8296408+0.009168644968587197\tcv-train-auc:0.8563691999999999+0.0021703859011705713\n",
      "[208]\tcv-test-auc:0.8298007999999999+0.009241869300092912\tcv-train-auc:0.8565197999999998+0.0021601791036856377\n",
      "[209]\tcv-test-auc:0.8299042+0.009183732735658184\tcv-train-auc:0.8566949999999999+0.0021648572239295564\n",
      "[210]\tcv-test-auc:0.8299398+0.009257464823589683\tcv-train-auc:0.8568849999999999+0.0022468451660049905\n",
      "[211]\tcv-test-auc:0.830131+0.009231407108344867\tcv-train-auc:0.8570385999999999+0.0022260504576491515\n",
      "[212]\tcv-test-auc:0.8301724+0.009285019065139297\tcv-train-auc:0.8571785999999999+0.0022177557665351753\n",
      "[213]\tcv-test-auc:0.8302976+0.00928038517735122\tcv-train-auc:0.8573651999999999+0.0021947372872396283\n",
      "[214]\tcv-test-auc:0.8303537999999999+0.009275154756660395\tcv-train-auc:0.8574805999999999+0.002168811711513956\n",
      "[215]\tcv-test-auc:0.8304081999999999+0.009337501130388157\tcv-train-auc:0.8576081999999999+0.00215708937227921\n",
      "[216]\tcv-test-auc:0.8304425999999999+0.009329368222982732\tcv-train-auc:0.8577372000000001+0.0021531576254422103\n",
      "[217]\tcv-test-auc:0.8304936000000002+0.0092779334681814\tcv-train-auc:0.8578759999999999+0.0021422382687273727\n",
      "[218]\tcv-test-auc:0.8306777999999999+0.009242282021232638\tcv-train-auc:0.8580492+0.0021330918780024534\n",
      "[219]\tcv-test-auc:0.8306956000000001+0.009203871198577254\tcv-train-auc:0.8581812+0.002145738604769949\n",
      "[220]\tcv-test-auc:0.8307656+0.009131106452122882\tcv-train-auc:0.8583364000000001+0.002121618966732717\n",
      "[221]\tcv-test-auc:0.8308586+0.009230614033746637\tcv-train-auc:0.8584569999999999+0.0021202717750326036\n",
      "[222]\tcv-test-auc:0.8309312+0.00924433321337999\tcv-train-auc:0.8586074+0.0021100010995257932\n",
      "[223]\tcv-test-auc:0.8310887999999998+0.00924538281305865\tcv-train-auc:0.8587596+0.0021288935717879444\n",
      "[224]\tcv-test-auc:0.8311590000000001+0.009283518987970021\tcv-train-auc:0.8588706+0.002133941386261581\n",
      "[225]\tcv-test-auc:0.8312763999999999+0.009378877131085586\tcv-train-auc:0.8590182000000001+0.0021270761528445576\n",
      "[226]\tcv-test-auc:0.8312692+0.009321443223020752\tcv-train-auc:0.8591529999999998+0.002118053162694442\n",
      "[227]\tcv-test-auc:0.8313046+0.009277285456425276\tcv-train-auc:0.859243+0.0021134808255576956\n",
      "[228]\tcv-test-auc:0.8313637999999999+0.009349483609269576\tcv-train-auc:0.8594132+0.0021047298543993643\n",
      "[229]\tcv-test-auc:0.8314862+0.009374948093722989\tcv-train-auc:0.8595602+0.0020920974547090367\n",
      "[230]\tcv-test-auc:0.8315518+0.009298420992835295\tcv-train-auc:0.8596932+0.0020992780092212674\n",
      "[231]\tcv-test-auc:0.8316264+0.009297619170518856\tcv-train-auc:0.8598258+0.002097843788274059\n",
      "[232]\tcv-test-auc:0.8317362000000001+0.009254151423010084\tcv-train-auc:0.8599342+0.002128901538352606\n",
      "[233]\tcv-test-auc:0.8317896000000001+0.009257567987327985\tcv-train-auc:0.860051+0.002144550955328435\n",
      "[234]\tcv-test-auc:0.831878+0.009287267283760042\tcv-train-auc:0.8601715999999999+0.0020998791012817957\n",
      "[235]\tcv-test-auc:0.8319222+0.009317625650346786\tcv-train-auc:0.8603236000000001+0.0021042025187704995\n",
      "[236]\tcv-test-auc:0.8319658000000001+0.009338053852918166\tcv-train-auc:0.8604478+0.002111693481545072\n",
      "[237]\tcv-test-auc:0.8320532+0.00936755621066669\tcv-train-auc:0.8605335999999999+0.002130904840672145\n",
      "[238]\tcv-test-auc:0.832145+0.009325735574205423\tcv-train-auc:0.8606344+0.0021185003752654872\n",
      "[239]\tcv-test-auc:0.8322303999999999+0.009296089233650894\tcv-train-auc:0.8607296+0.002116615090185266\n",
      "[240]\tcv-test-auc:0.832283+0.009289151629723777\tcv-train-auc:0.8609022+0.002146480784912814\n",
      "[241]\tcv-test-auc:0.8323378+0.009268578022544776\tcv-train-auc:0.8610198+0.002159491921726032\n",
      "[242]\tcv-test-auc:0.8323858+0.009293165475767645\tcv-train-auc:0.8611348+0.0021564440544563396\n",
      "[243]\tcv-test-auc:0.8324382+0.009280904576602399\tcv-train-auc:0.8612544+0.00212621030004091\n",
      "[244]\tcv-test-auc:0.8325032+0.00925002470050756\tcv-train-auc:0.861378+0.0020961560056446124\n",
      "[245]\tcv-test-auc:0.8324963999999999+0.009237305853981444\tcv-train-auc:0.8615134+0.0021145186307999324\n",
      "[246]\tcv-test-auc:0.8326403999999998+0.00921643431268295\tcv-train-auc:0.861623+0.00212262658044228\n",
      "[247]\tcv-test-auc:0.8326614000000001+0.009182016480054922\tcv-train-auc:0.8617544+0.002109403100405405\n",
      "[248]\tcv-test-auc:0.8327045999999999+0.009176598075539751\tcv-train-auc:0.8618696+0.0021118589536235533\n",
      "[249]\tcv-test-auc:0.8327640000000001+0.009180117363084191\tcv-train-auc:0.8620074000000001+0.0020982520916229355\n",
      "[250]\tcv-test-auc:0.8328561999999999+0.009160402030478822\tcv-train-auc:0.862139+0.0020870915648337207\n",
      "[251]\tcv-test-auc:0.8328593999999999+0.009103565842020375\tcv-train-auc:0.8622752+0.002153764648238067\n",
      "[252]\tcv-test-auc:0.8329058+0.00913897240175283\tcv-train-auc:0.8623654000000002+0.0021212629822820197\n",
      "[253]\tcv-test-auc:0.8329708+0.009149977932213808\tcv-train-auc:0.8624546000000001+0.002119359959987913\n",
      "[254]\tcv-test-auc:0.8330360000000001+0.009168196943783437\tcv-train-auc:0.8625976+0.002127627937398813\n",
      "[255]\tcv-test-auc:0.8331108+0.009198025057587116\tcv-train-auc:0.8627140000000001+0.002128739345246382\n",
      "[256]\tcv-test-auc:0.8332014000000001+0.009197784659362263\tcv-train-auc:0.862821+0.0021386722048972657\n",
      "[257]\tcv-test-auc:0.8332428000000001+0.009185709017816733\tcv-train-auc:0.8629294000000002+0.0021426686724736453\n",
      "[258]\tcv-test-auc:0.8332874+0.009198037934255327\tcv-train-auc:0.8630359999999999+0.0021543080559660154\n",
      "[259]\tcv-test-auc:0.8333702000000001+0.009214977838280482\tcv-train-auc:0.8631434+0.0021562416933173364\n",
      "[260]\tcv-test-auc:0.8334623999999999+0.009250852600706592\tcv-train-auc:0.8632384+0.002171947015928335\n",
      "[261]\tcv-test-auc:0.8335478000000001+0.009234626779680906\tcv-train-auc:0.863336+0.0021635022532920864\n",
      "[262]\tcv-test-auc:0.8335609999999999+0.009249940583592978\tcv-train-auc:0.8634536+0.002155175036974952\n",
      "[263]\tcv-test-auc:0.833647+0.009282229430476262\tcv-train-auc:0.8635748+0.0021177968174496743\n",
      "[264]\tcv-test-auc:0.8336758+0.009275760548871439\tcv-train-auc:0.8636887999999999+0.002113136569178611\n",
      "[265]\tcv-test-auc:0.8337356+0.009292139056213034\tcv-train-auc:0.8638074+0.0020854360311455366\n",
      "[266]\tcv-test-auc:0.8337776+0.00926819832761473\tcv-train-auc:0.8639178000000001+0.002087649529973853\n",
      "[267]\tcv-test-auc:0.8338186000000001+0.009230435279010395\tcv-train-auc:0.8640052+0.0020971458127655444\n",
      "[268]\tcv-test-auc:0.8338808+0.00925998003021607\tcv-train-auc:0.8640774+0.0020790657132471724\n",
      "[269]\tcv-test-auc:0.8338822+0.009271300521501841\tcv-train-auc:0.8641831999999999+0.002128397462881428\n",
      "[270]\tcv-test-auc:0.8339131999999999+0.009264237635121401\tcv-train-auc:0.8642732000000001+0.0021133063573462174\n",
      "[271]\tcv-test-auc:0.8339106000000001+0.009266180865923113\tcv-train-auc:0.8643706+0.002076517141754418\n",
      "[272]\tcv-test-auc:0.8339890000000001+0.009251915952925639\tcv-train-auc:0.8644870000000001+0.002058570086249203\n",
      "[273]\tcv-test-auc:0.8339938+0.009235533258020357\tcv-train-auc:0.8645758000000001+0.002049434790375144\n",
      "[274]\tcv-test-auc:0.8340580000000001+0.00926080948945609\tcv-train-auc:0.864664+0.002065476216275565\n",
      "[275]\tcv-test-auc:0.8341306000000002+0.009250433732533854\tcv-train-auc:0.8647500000000001+0.0020508871251241384\n",
      "[276]\tcv-test-auc:0.8341497999999999+0.009293528767911582\tcv-train-auc:0.8648659999999999+0.002032222133527759\n",
      "[277]\tcv-test-auc:0.8341540000000001+0.009311418366715118\tcv-train-auc:0.8649761999999999+0.002012216827282768\n",
      "[278]\tcv-test-auc:0.8341806+0.00929923254037665\tcv-train-auc:0.8650672+0.0019731934927928185\n",
      "[279]\tcv-test-auc:0.8342326+0.0093233333223692\tcv-train-auc:0.8651762+0.001964833774139689\n",
      "[280]\tcv-test-auc:0.8342772+0.00932690483279421\tcv-train-auc:0.8652804+0.0019654195073825816\n",
      "[281]\tcv-test-auc:0.834301+0.009308847726759708\tcv-train-auc:0.8653556+0.001940319520079101\n",
      "[282]\tcv-test-auc:0.8343389999999999+0.009297248840382875\tcv-train-auc:0.8654734000000002+0.0019279291065804128\n",
      "[283]\tcv-test-auc:0.8343697999999999+0.009242196911990113\tcv-train-auc:0.8655728+0.0019144079398080366\n",
      "[284]\tcv-test-auc:0.8344082+0.009261169567608637\tcv-train-auc:0.8656638000000001+0.0019108872703537333\n",
      "[285]\tcv-test-auc:0.8344059999999999+0.009244960291964484\tcv-train-auc:0.865771+0.0018732148835625012\n",
      "[286]\tcv-test-auc:0.8344428+0.009207541048510211\tcv-train-auc:0.8658528000000001+0.0018742600033079728\n",
      "[287]\tcv-test-auc:0.8344570000000001+0.009233253012887726\tcv-train-auc:0.8659627999999999+0.0019028060752478136\n",
      "[288]\tcv-test-auc:0.8345248+0.0091970232445069\tcv-train-auc:0.8660348000000001+0.001892773140130613\n",
      "[289]\tcv-test-auc:0.8345420000000001+0.009173446920323909\tcv-train-auc:0.8661956+0.0018695043835198866\n",
      "[290]\tcv-test-auc:0.8345714000000001+0.009179024623564317\tcv-train-auc:0.8662854+0.0018668671725647701\n",
      "[291]\tcv-test-auc:0.834602+0.009186230608905915\tcv-train-auc:0.8663784+0.0018785637705438915\n",
      "[292]\tcv-test-auc:0.8346072+0.009152573220684994\tcv-train-auc:0.8664875999999999+0.0018853682505017605\n",
      "[293]\tcv-test-auc:0.8346328+0.0091369249619333\tcv-train-auc:0.8665863999999999+0.0018810778399630517\n",
      "[294]\tcv-test-auc:0.834647+0.009109936531063192\tcv-train-auc:0.8666598000000001+0.0019001314059822042\n",
      "[295]\tcv-test-auc:0.8346788+0.009170373545281581\tcv-train-auc:0.8667688+0.0019175574463363692\n",
      "[296]\tcv-test-auc:0.8347111999999999+0.009161666101752456\tcv-train-auc:0.8668372+0.0019294750996060963\n",
      "[297]\tcv-test-auc:0.8347156+0.009150398867809004\tcv-train-auc:0.86692+0.0019375535089385305\n",
      "[298]\tcv-test-auc:0.8347732000000001+0.009135834420566076\tcv-train-auc:0.8670022+0.00192239230127463\n",
      "[299]\tcv-test-auc:0.8347948000000001+0.00915269410392371\tcv-train-auc:0.8671356000000001+0.0019179886965256133\n",
      "[300]\tcv-test-auc:0.8347726+0.00915473620810562\tcv-train-auc:0.8672230000000001+0.0019201316621523586\n",
      "[301]\tcv-test-auc:0.8348046+0.00915889837480469\tcv-train-auc:0.8672981999999999+0.0019224196628207866\n",
      "[302]\tcv-test-auc:0.8348340000000001+0.009154874461181864\tcv-train-auc:0.8673968000000001+0.001903340053695056\n",
      "[303]\tcv-test-auc:0.8348869999999999+0.009194591149148505\tcv-train-auc:0.8674840000000001+0.001926499000778348\n",
      "[304]\tcv-test-auc:0.8348822+0.009233639724399048\tcv-train-auc:0.8676142+0.00195384988164392\n",
      "[305]\tcv-test-auc:0.834881+0.009227488130580268\tcv-train-auc:0.8677176000000001+0.0019785116224070956\n",
      "[306]\tcv-test-auc:0.8348974+0.009233531038557254\tcv-train-auc:0.8678054+0.0019602466783545255\n",
      "[307]\tcv-test-auc:0.8349072+0.00924338272279147\tcv-train-auc:0.8678866+0.001971948741727324\n",
      "[308]\tcv-test-auc:0.8349654000000001+0.00926663862681608\tcv-train-auc:0.8679606+0.001960421240448066\n",
      "[309]\tcv-test-auc:0.8350006000000001+0.00928355956732115\tcv-train-auc:0.8680483999999999+0.0019576831817227115\n",
      "[310]\tcv-test-auc:0.8350676+0.009285381017491975\tcv-train-auc:0.8681158+0.0019324114882705514\n",
      "[311]\tcv-test-auc:0.8350676+0.009305157056170509\tcv-train-auc:0.8681898+0.0018893486073247605\n",
      "[312]\tcv-test-auc:0.8350984+0.00929739397035536\tcv-train-auc:0.8682822+0.0018811718050194112\n",
      "[313]\tcv-test-auc:0.8351226+0.009291801904905209\tcv-train-auc:0.8683219999999998+0.0018794756715637484\n",
      "[314]\tcv-test-auc:0.8351546000000001+0.009277448196567863\tcv-train-auc:0.8684224+0.0018560147197692204\n",
      "[315]\tcv-test-auc:0.8351744+0.009316710526789984\tcv-train-auc:0.8685295999999999+0.0018570510601488338\n",
      "[316]\tcv-test-auc:0.8351446000000001+0.009304727606974867\tcv-train-auc:0.8686288+0.0018686630943002898\n",
      "[317]\tcv-test-auc:0.83517+0.00931922910974938\tcv-train-auc:0.8687161999999999+0.0018686196402692553\n",
      "[318]\tcv-test-auc:0.8352038+0.009312128401176597\tcv-train-auc:0.868826+0.0018641789613661217\n",
      "[319]\tcv-test-auc:0.8352295999999999+0.009342334624707047\tcv-train-auc:0.8689182000000001+0.0018503272575411992\n",
      "[320]\tcv-test-auc:0.835276+0.00934640632542798\tcv-train-auc:0.8689908000000001+0.001860498363342471\n",
      "[321]\tcv-test-auc:0.8352758+0.009333301546612523\tcv-train-auc:0.8691036000000001+0.0018629972195362738\n",
      "[322]\tcv-test-auc:0.8352729999999999+0.009335883503986106\tcv-train-auc:0.8692015999999999+0.0018986830804534054\n",
      "[323]\tcv-test-auc:0.8352902+0.009341501022854946\tcv-train-auc:0.8692918000000001+0.0018879228162189336\n",
      "[324]\tcv-test-auc:0.8353434+0.009330094803376859\tcv-train-auc:0.8693614000000001+0.0018692335969589316\n",
      "[325]\tcv-test-auc:0.8353678+0.009334540232919894\tcv-train-auc:0.8694656000000001+0.001858398191992263\n",
      "[326]\tcv-test-auc:0.8353970000000001+0.009301919479333303\tcv-train-auc:0.86955+0.001856100751575756\n",
      "[327]\tcv-test-auc:0.8353932000000001+0.009328930000809303\tcv-train-auc:0.8696813999999999+0.0018815329494856169\n",
      "[328]\tcv-test-auc:0.8353949999999999+0.00933815932611991\tcv-train-auc:0.8697516000000001+0.0018760938782480716\n",
      "[329]\tcv-test-auc:0.835421+0.009305197235953695\tcv-train-auc:0.8698137999999999+0.0018741662039424253\n",
      "[330]\tcv-test-auc:0.8354924+0.0093095810775781\tcv-train-auc:0.8699159999999999+0.0018643673457771153\n",
      "[331]\tcv-test-auc:0.8355306+0.009300016270953506\tcv-train-auc:0.8700006+0.0018490007679825128\n",
      "[332]\tcv-test-auc:0.8355556+0.009295167294890404\tcv-train-auc:0.8700808+0.001826063788590073\n",
      "[333]\tcv-test-auc:0.8355764000000001+0.009295051104754645\tcv-train-auc:0.8701796000000002+0.001830040174422417\n",
      "[334]\tcv-test-auc:0.8355754+0.009302167244250157\tcv-train-auc:0.8702524+0.0018274612554032672\n",
      "[335]\tcv-test-auc:0.8356256+0.009300405638465466\tcv-train-auc:0.870326+0.0018238161091513494\n",
      "[336]\tcv-test-auc:0.8356344+0.009320165204544406\tcv-train-auc:0.8704268+0.0018228042571817712\n",
      "[337]\tcv-test-auc:0.8356866000000001+0.009319720931444252\tcv-train-auc:0.8705067999999999+0.0018146137219805084\n",
      "[338]\tcv-test-auc:0.8357126000000001+0.009333177049643926\tcv-train-auc:0.8705917999999999+0.0018205256823236806\n",
      "[339]\tcv-test-auc:0.835758+0.00931566781288384\tcv-train-auc:0.8706692+0.0018256786573764905\n",
      "[340]\tcv-test-auc:0.8357785999999999+0.009312821411366136\tcv-train-auc:0.8707370000000001+0.0018422377696703767\n",
      "[341]\tcv-test-auc:0.8358122+0.009319742000720837\tcv-train-auc:0.8708180000000001+0.0018627337974063806\n",
      "[342]\tcv-test-auc:0.8358392+0.009315639160036214\tcv-train-auc:0.8709247999999998+0.0018428302580541717\n",
      "[343]\tcv-test-auc:0.8358751999999999+0.009339070604722922\tcv-train-auc:0.8710153999999999+0.00184023352865878\n",
      "[344]\tcv-test-auc:0.8359006000000001+0.009331412489007214\tcv-train-auc:0.8710832+0.0018432953534363431\n",
      "[345]\tcv-test-auc:0.835923+0.009333014454076456\tcv-train-auc:0.8711646+0.0018687850170632499\n",
      "[346]\tcv-test-auc:0.8359586+0.00930732186184617\tcv-train-auc:0.871251+0.001867193401873518\n",
      "[347]\tcv-test-auc:0.8359776+0.009289862336977879\tcv-train-auc:0.8713284+0.0018540242285363712\n",
      "[348]\tcv-test-auc:0.8359932000000001+0.009291840924165653\tcv-train-auc:0.8714069999999999+0.0018659765271835471\n",
      "[349]\tcv-test-auc:0.8359684+0.009266900767786398\tcv-train-auc:0.8715084000000001+0.0018578578632392696\n",
      "[350]\tcv-test-auc:0.8359688000000001+0.00927672867771822\tcv-train-auc:0.8715887999999999+0.0018696149764055553\n",
      "[351]\tcv-test-auc:0.8359729999999999+0.009288518224130288\tcv-train-auc:0.8716834+0.0018487799869102927\n",
      "[352]\tcv-test-auc:0.8359704000000001+0.009270833632419493\tcv-train-auc:0.8717678+0.0018502816434262125\n",
      "[353]\tcv-test-auc:0.8359778+0.00927591594183562\tcv-train-auc:0.8718598+0.0018431067684754388\n",
      "[354]\tcv-test-auc:0.8360394000000001+0.00932533007673187\tcv-train-auc:0.8719520000000001+0.001811830566029836\n",
      "[355]\tcv-test-auc:0.8360489999999998+0.009322711043467985\tcv-train-auc:0.8720307999999999+0.0018208296350839589\n",
      "[356]\tcv-test-auc:0.8360774000000001+0.009314421304622188\tcv-train-auc:0.8721054+0.0018122352606656782\n",
      "[357]\tcv-test-auc:0.836095+0.00931758515925664\tcv-train-auc:0.8721712+0.0017835142163717427\n",
      "[358]\tcv-test-auc:0.836115+0.009323966537906486\tcv-train-auc:0.8722446000000001+0.001766787661265475\n",
      "[359]\tcv-test-auc:0.8361025999999999+0.00935661854731721\tcv-train-auc:0.8723104000000002+0.0017537742842224648\n",
      "[360]\tcv-test-auc:0.8360996+0.009382498187583105\tcv-train-auc:0.8723964000000001+0.0017487946248773865\n",
      "[361]\tcv-test-auc:0.8360934+0.009390125294158717\tcv-train-auc:0.87248+0.0017460014891173662\n",
      "[362]\tcv-test-auc:0.8360873999999999+0.009406930351607808\tcv-train-auc:0.8725607999999999+0.001733787114959617\n",
      "[363]\tcv-test-auc:0.8360822000000001+0.009396063035122715\tcv-train-auc:0.8726332000000001+0.0017607498857021067\n",
      "[364]\tcv-test-auc:0.8361194000000001+0.00940753203768128\tcv-train-auc:0.8726986+0.0017608005679235926\n",
      "[365]\tcv-test-auc:0.8361126000000001+0.009431704270173038\tcv-train-auc:0.8727810000000001+0.0017582663051995406\n",
      "[366]\tcv-test-auc:0.8361632+0.009397588912056097\tcv-train-auc:0.8728778+0.0017425833007348585\n",
      "[367]\tcv-test-auc:0.8361522000000001+0.009418608695555818\tcv-train-auc:0.87296+0.0017410480751547171\n",
      "[368]\tcv-test-auc:0.8361715999999999+0.009414730258483228\tcv-train-auc:0.8730418+0.001731799341725268\n",
      "[369]\tcv-test-auc:0.8361830000000001+0.009397035000466894\tcv-train-auc:0.8731478000000001+0.0017247045428130476\n",
      "[370]\tcv-test-auc:0.8361824+0.009415574918187425\tcv-train-auc:0.8731937999999999+0.0017115267336503862\n",
      "[371]\tcv-test-auc:0.8362248000000001+0.009455650150042546\tcv-train-auc:0.8732900000000001+0.0017037004431530594\n",
      "[372]\tcv-test-auc:0.8362567999999999+0.009447285608046346\tcv-train-auc:0.8733744+0.0017151731807604688\n",
      "[373]\tcv-test-auc:0.8362627999999999+0.009440671785418677\tcv-train-auc:0.873442+0.0017207720360349857\n",
      "[374]\tcv-test-auc:0.8362592+0.009402372049647889\tcv-train-auc:0.8735235999999998+0.0017042849057596046\n",
      "[375]\tcv-test-auc:0.8362468+0.0094175188537109\tcv-train-auc:0.8735913999999999+0.0017035987320962644\n",
      "[376]\tcv-test-auc:0.8362643999999999+0.009426027893020505\tcv-train-auc:0.8736648+0.0017047385019409963\n",
      "[377]\tcv-test-auc:0.8362768+0.009417356792646225\tcv-train-auc:0.8737435999999998+0.0017078850781009896\n",
      "[378]\tcv-test-auc:0.8362744+0.00939548147994556\tcv-train-auc:0.8738086+0.0017042937070822055\n",
      "[379]\tcv-test-auc:0.8362952+0.009385068191547665\tcv-train-auc:0.8739091999999999+0.0016871704596750207\n",
      "[380]\tcv-test-auc:0.8362833999999999+0.009360470877044605\tcv-train-auc:0.8740092+0.0016735570979204517\n",
      "[381]\tcv-test-auc:0.8363046000000001+0.009363100033642682\tcv-train-auc:0.8740722+0.0016881700625233193\n",
      "[382]\tcv-test-auc:0.8362726+0.009376237083180002\tcv-train-auc:0.8741488000000001+0.0016950978024881126\n",
      "[383]\tcv-test-auc:0.8362831999999999+0.009376353500161987\tcv-train-auc:0.8742268+0.0016626296520873157\n",
      "[384]\tcv-test-auc:0.8362734+0.009388372928255456\tcv-train-auc:0.8742905999999999+0.0016348971343788043\n",
      "[385]\tcv-test-auc:0.8362674+0.009409841116618281\tcv-train-auc:0.8743672+0.0016411925420254643\n",
      "[386]\tcv-test-auc:0.8362652+0.009402290814477054\tcv-train-auc:0.8744794+0.0016525750330923115\n",
      "[387]\tcv-test-auc:0.8363305999999999+0.009409561617843846\tcv-train-auc:0.8745546000000001+0.0016357263340791544\n",
      "[388]\tcv-test-auc:0.8363766+0.009399817542910052\tcv-train-auc:0.8746362+0.0016331988733769998\n",
      "[389]\tcv-test-auc:0.8363934000000001+0.00938080810165096\tcv-train-auc:0.8747196+0.0016379331610294706\n",
      "[390]\tcv-test-auc:0.8363828+0.009383130637479134\tcv-train-auc:0.8747968+0.0016543796903975825\n",
      "[391]\tcv-test-auc:0.8364114+0.009392707843854205\tcv-train-auc:0.8748388+0.0016445737928107635\n",
      "[392]\tcv-test-auc:0.8364201999999998+0.00940203072532737\tcv-train-auc:0.8749164+0.0016545705908180529\n",
      "[393]\tcv-test-auc:0.836421+0.009417312907618632\tcv-train-auc:0.8749788000000001+0.0016331039648473217\n",
      "[394]\tcv-test-auc:0.8364228+0.00941026786866347\tcv-train-auc:0.8750496+0.0016470568417635062\n",
      "[395]\tcv-test-auc:0.836441+0.009415701205964418\tcv-train-auc:0.8751192+0.0016505658908386386\n",
      "[396]\tcv-test-auc:0.836458+0.009427032088626842\tcv-train-auc:0.8751926000000001+0.001643028009499538\n",
      "[397]\tcv-test-auc:0.8364584+0.009430823900381108\tcv-train-auc:0.875269+0.0016383060764094072\n",
      "[398]\tcv-test-auc:0.8364736+0.009429812184768073\tcv-train-auc:0.8753323999999999+0.0016147857566872227\n",
      "[399]\tcv-test-auc:0.8364882+0.009434284825041047\tcv-train-auc:0.875419+0.0016188500857090035\n",
      "[400]\tcv-test-auc:0.8365107999999999+0.009436594690882925\tcv-train-auc:0.8754882+0.0016138140413318965\n",
      "[401]\tcv-test-auc:0.8365297999999999+0.009454451129494501\tcv-train-auc:0.8755445999999999+0.0016168979683332191\n",
      "[402]\tcv-test-auc:0.8365524000000001+0.009476617236123877\tcv-train-auc:0.8756071999999999+0.0016233090155605258\n",
      "[403]\tcv-test-auc:0.8365414+0.009470167930929224\tcv-train-auc:0.8757116+0.0016387766900954031\n",
      "[404]\tcv-test-auc:0.836563+0.009432529332050875\tcv-train-auc:0.8758008+0.0016541968927549374\n",
      "[405]\tcv-test-auc:0.8365448000000001+0.009431057849467352\tcv-train-auc:0.8758888+0.0016578967881023283\n",
      "[406]\tcv-test-auc:0.8365604+0.0094164044220711\tcv-train-auc:0.8759788000000001+0.0016814415719851685\n",
      "[407]\tcv-test-auc:0.836552+0.009404223072641354\tcv-train-auc:0.8760368+0.0016891654033871011\n",
      "[408]\tcv-test-auc:0.8365617999999999+0.009416595592888133\tcv-train-auc:0.8760974000000001+0.001687095326293073\n",
      "[409]\tcv-test-auc:0.8366071999999999+0.00941384451539329\tcv-train-auc:0.8761721999999998+0.0016908681083987658\n",
      "[410]\tcv-test-auc:0.8366284+0.00942349138270947\tcv-train-auc:0.8762285999999999+0.001687203437644658\n",
      "[411]\tcv-test-auc:0.83667+0.009451776065904234\tcv-train-auc:0.8763054+0.0016765255261999433\n",
      "[412]\tcv-test-auc:0.8367040000000001+0.009510058759019292\tcv-train-auc:0.8764141999999999+0.0016681526788636326\n",
      "[413]\tcv-test-auc:0.8366941999999999+0.009508623378807243\tcv-train-auc:0.8765196+0.0016532141543067114\n",
      "[414]\tcv-test-auc:0.8366956+0.009513584090131314\tcv-train-auc:0.8765803999999999+0.001643678995424607\n",
      "[415]\tcv-test-auc:0.8367498000000001+0.009463780669478748\tcv-train-auc:0.8766567999999999+0.0016464481042535054\n",
      "[416]\tcv-test-auc:0.8367758000000001+0.009480629164775945\tcv-train-auc:0.8767653999999998+0.0016430659877193243\n",
      "[417]\tcv-test-auc:0.8367656+0.009474249618835247\tcv-train-auc:0.8768364+0.0016321797204964892\n",
      "[418]\tcv-test-auc:0.8367804+0.009461660289822274\tcv-train-auc:0.8768817999999999+0.001625312080801717\n",
      "[419]\tcv-test-auc:0.8367804+0.009468711561770168\tcv-train-auc:0.8769594+0.0016272534651983253\n",
      "[420]\tcv-test-auc:0.8367633999999999+0.009447480481059485\tcv-train-auc:0.8770602000000001+0.0016511679987209057\n",
      "[421]\tcv-test-auc:0.8367528+0.009444179972872184\tcv-train-auc:0.8771334+0.0016307982830503723\n",
      "[422]\tcv-test-auc:0.8367644000000001+0.009467012297446308\tcv-train-auc:0.8771802000000001+0.001641678336337534\n",
      "[423]\tcv-test-auc:0.8367628+0.009489547689958659\tcv-train-auc:0.8772606+0.00164486031017835\n",
      "[424]\tcv-test-auc:0.8367576+0.009495156104035358\tcv-train-auc:0.8773579999999999+0.0016257525026891237\n",
      "[425]\tcv-test-auc:0.8367612+0.009501377340154403\tcv-train-auc:0.8774624000000001+0.0016480041990237873\n",
      "[426]\tcv-test-auc:0.8367685999999999+0.009504991396103418\tcv-train-auc:0.877542+0.0016525083963478083\n",
      "[427]\tcv-test-auc:0.8367448+0.009546950181078779\tcv-train-auc:0.8776354+0.0016916536997860908\n",
      "[428]\tcv-test-auc:0.8367283999999999+0.009563546906875078\tcv-train-auc:0.8777225999999999+0.0017149187269372434\n",
      "[429]\tcv-test-auc:0.8367564000000002+0.00953487437987521\tcv-train-auc:0.8778072+0.0017201721309217767\n",
      "[430]\tcv-test-auc:0.8367536+0.009531757416132665\tcv-train-auc:0.877876+0.0017281440912146181\n",
      "[431]\tcv-test-auc:0.8367576+0.009536489807051652\tcv-train-auc:0.8779486000000001+0.0017330675232084861\n",
      "[432]\tcv-test-auc:0.8367604+0.009508782184906741\tcv-train-auc:0.8780082+0.0017124830393320445\n",
      "[433]\tcv-test-auc:0.8367595999999999+0.00950738333296812\tcv-train-auc:0.8781176+0.0016908419914350536\n",
      "[434]\tcv-test-auc:0.8367718+0.009509922005989312\tcv-train-auc:0.8781994000000001+0.0016747823261546676\n",
      "[435]\tcv-test-auc:0.8367818+0.009517967249365811\tcv-train-auc:0.8782591999999999+0.0016815213825580803\n",
      "[436]\tcv-test-auc:0.8368041999999999+0.009512352482956041\tcv-train-auc:0.8783275999999999+0.001684294819798479\n",
      "[437]\tcv-test-auc:0.8367992000000001+0.009475152925414988\tcv-train-auc:0.8783900000000001+0.0016742337949044233\n",
      "[438]\tcv-test-auc:0.8368126+0.00946426385092894\tcv-train-auc:0.8784597999999999+0.0016812845565221852\n",
      "[439]\tcv-test-auc:0.8368208000000001+0.009477678985912114\tcv-train-auc:0.878522+0.0016984648362565339\n",
      "[440]\tcv-test-auc:0.8368336+0.009487504173385109\tcv-train-auc:0.8785694+0.0017061626651641382\n",
      "[441]\tcv-test-auc:0.8368472+0.009490806781301566\tcv-train-auc:0.8786339999999999+0.0016928885373821826\n",
      "[442]\tcv-test-auc:0.8368103999999998+0.009505334051994158\tcv-train-auc:0.8787176000000001+0.001702824077818973\n",
      "[443]\tcv-test-auc:0.836803+0.009490582490026605\tcv-train-auc:0.878785+0.0017099678359548266\n",
      "[444]\tcv-test-auc:0.8368164+0.00946650088681135\tcv-train-auc:0.8788394+0.0017177825939274183\n",
      "[445]\tcv-test-auc:0.8368008+0.009478110748456166\tcv-train-auc:0.8789006+0.0017220922855643028\n",
      "[446]\tcv-test-auc:0.8368182000000001+0.009467710840535859\tcv-train-auc:0.8789656000000001+0.0017216407987730724\n",
      "[447]\tcv-test-auc:0.8367965999999999+0.009437397726068327\tcv-train-auc:0.8790358000000001+0.0017411085434285959\n",
      "[448]\tcv-test-auc:0.8368344000000001+0.009424640695538503\tcv-train-auc:0.8791188+0.0017425569029446378\n",
      "[449]\tcv-test-auc:0.8368423999999999+0.009419334214263752\tcv-train-auc:0.8791739999999999+0.0017315249926004557\n",
      "[450]\tcv-test-auc:0.8368401999999999+0.009428457994815507\tcv-train-auc:0.8792524+0.0017331615735412713\n",
      "[451]\tcv-test-auc:0.8368446+0.009440195985253684\tcv-train-auc:0.8792908+0.0017203354789110475\n",
      "[452]\tcv-test-auc:0.836851+0.009433592253219348\tcv-train-auc:0.8793502+0.0016931911173875191\n",
      "[453]\tcv-test-auc:0.8368672+0.009436765047408991\tcv-train-auc:0.8794294+0.0017009318152118756\n",
      "[454]\tcv-test-auc:0.8368514000000001+0.009461655237853469\tcv-train-auc:0.8795012+0.001701851156828944\n",
      "[455]\tcv-test-auc:0.8368855999999999+0.009449429942594387\tcv-train-auc:0.8795776+0.0017399721377079338\n",
      "[456]\tcv-test-auc:0.8368838000000001+0.009465680543944026\tcv-train-auc:0.8796378+0.001760847795807463\n",
      "[457]\tcv-test-auc:0.8368978+0.009472157502913458\tcv-train-auc:0.879704+0.0017547953726859368\n",
      "[458]\tcv-test-auc:0.8369043999999999+0.00946182911703652\tcv-train-auc:0.879763+0.0017699872315923868\n",
      "[459]\tcv-test-auc:0.8369072+0.009459214415584427\tcv-train-auc:0.8798306+0.0017588620866913023\n",
      "[460]\tcv-test-auc:0.8369133999999999+0.009475821011395274\tcv-train-auc:0.87988+0.001762154817262084\n",
      "[461]\tcv-test-auc:0.8369137999999999+0.009460137639590653\tcv-train-auc:0.8799388+0.0017717058898135422\n",
      "[462]\tcv-test-auc:0.8369351999999999+0.009455771875420875\tcv-train-auc:0.8800298+0.0017352801963948115\n",
      "[463]\tcv-test-auc:0.8369392+0.009454199096697733\tcv-train-auc:0.8800837999999999+0.001731577246327741\n",
      "[464]\tcv-test-auc:0.8369334+0.009440645372007141\tcv-train-auc:0.8801468+0.0017303585062061685\n",
      "[465]\tcv-test-auc:0.8369372+0.009425917406809797\tcv-train-auc:0.8802006+0.0017304201339559309\n",
      "[466]\tcv-test-auc:0.8369264+0.00945358716255369\tcv-train-auc:0.8802874+0.0017276548960947118\n",
      "[467]\tcv-test-auc:0.8369348000000001+0.009461073182255813\tcv-train-auc:0.8803622000000001+0.0017405483503769512\n",
      "[468]\tcv-test-auc:0.8369196000000001+0.009435006827766473\tcv-train-auc:0.8804168000000001+0.0017221701890347521\n",
      "[469]\tcv-test-auc:0.8369139999999999+0.009442363051694214\tcv-train-auc:0.8804703999999999+0.0017017610408044833\n",
      "[470]\tcv-test-auc:0.8369030000000001+0.009424150826467054\tcv-train-auc:0.8805374+0.001688225056087012\n",
      "[471]\tcv-test-auc:0.8369134+0.009435539700515286\tcv-train-auc:0.8806001999999999+0.0016770710658764408\n",
      "[472]\tcv-test-auc:0.8369139999999999+0.009421113861959238\tcv-train-auc:0.8806676+0.0016693307161853666\n",
      "[473]\tcv-test-auc:0.8369302+0.009420982759776179\tcv-train-auc:0.880748+0.0016527265956594196\n",
      "[474]\tcv-test-auc:0.8369226+0.009396409241832776\tcv-train-auc:0.8808146000000001+0.0016671636512352451\n",
      "[475]\tcv-test-auc:0.8369110000000001+0.009387823986419857\tcv-train-auc:0.8808735999999999+0.0016593504271250447\n",
      "[476]\tcv-test-auc:0.8368841999999999+0.009376309922352164\tcv-train-auc:0.8809392+0.0016605233391916087\n",
      "[477]\tcv-test-auc:0.8368967999999999+0.009381715885700234\tcv-train-auc:0.8810055999999999+0.001643930485148329\n",
      "[478]\tcv-test-auc:0.8368816000000001+0.009362376933236561\tcv-train-auc:0.8810684+0.0016483032002638327\n",
      "[479]\tcv-test-auc:0.8368822+0.00936230166999549\tcv-train-auc:0.8811205999999998+0.001641263488901165\n",
      "[480]\tcv-test-auc:0.8368954000000001+0.009376615201659928\tcv-train-auc:0.8811646+0.0016472733349386535\n",
      "[481]\tcv-test-auc:0.8368756000000002+0.009379863892402704\tcv-train-auc:0.8812367999999999+0.0016480756536033116\n",
      "[482]\tcv-test-auc:0.8368513999999999+0.009390237432567911\tcv-train-auc:0.8812944+0.0016425541817547372\n",
      "[483]\tcv-test-auc:0.8368736+0.009392785499520375\tcv-train-auc:0.881346+0.0016321341856600114\n",
      "[484]\tcv-test-auc:0.8368764000000001+0.009403284332614852\tcv-train-auc:0.8814135999999999+0.0016376127258909729\n",
      "[485]\tcv-test-auc:0.8368962+0.009421261261635812\tcv-train-auc:0.8814857999999999+0.0016264719364317295\n",
      "[486]\tcv-test-auc:0.8369043999999999+0.00941950615690654\tcv-train-auc:0.881574+0.0016207989387953187\n",
      "[487]\tcv-test-auc:0.8369276000000001+0.009413836488913531\tcv-train-auc:0.8816344+0.0016554526390084516\n",
      "[488]\tcv-test-auc:0.8369286+0.009423709112658333\tcv-train-auc:0.8816863999999999+0.0016687495438201382\n",
      "[489]\tcv-test-auc:0.8369351999999999+0.009411800537622975\tcv-train-auc:0.8817438000000001+0.0016556649902682323\n",
      "[490]\tcv-test-auc:0.8369492+0.009401167446652587\tcv-train-auc:0.881809+0.0016681864404196368\n",
      "[491]\tcv-test-auc:0.8369616000000001+0.009406344276072415\tcv-train-auc:0.8818686+0.001665302447004752\n",
      "[492]\tcv-test-auc:0.8369528+0.009380671178545784\tcv-train-auc:0.8819302+0.0016547900652348379\n",
      "[493]\tcv-test-auc:0.8369396+0.009361169512406026\tcv-train-auc:0.8819872+0.0016737136433691284\n",
      "[494]\tcv-test-auc:0.8369316+0.00936755828591423\tcv-train-auc:0.8820318+0.0016787492248695\n",
      "[495]\tcv-test-auc:0.8369452+0.009363790095895996\tcv-train-auc:0.8820933999999999+0.0016767398844185588\n",
      "[496]\tcv-test-auc:0.8369398+0.009343046256976371\tcv-train-auc:0.882165+0.0016729040618038927\n",
      "[497]\tcv-test-auc:0.8369458+0.009316970310138374\tcv-train-auc:0.8822444+0.0016948398862429456\n",
      "[498]\tcv-test-auc:0.836945+0.009276572621394153\tcv-train-auc:0.88232+0.0016999721174183909\n",
      "[499]\tcv-test-auc:0.8369655999999999+0.0092737266856426\tcv-train-auc:0.8823867999999999+0.0016887028631467438\n",
      "[500]\tcv-test-auc:0.8369782000000001+0.009263909572097538\tcv-train-auc:0.8824592000000001+0.0016792129585016906\n",
      "[501]\tcv-test-auc:0.8369633999999999+0.00926356938981944\tcv-train-auc:0.8825263999999999+0.0016664243877236155\n",
      "[502]\tcv-test-auc:0.836941+0.009249665572332864\tcv-train-auc:0.8825935999999999+0.001678437678318727\n",
      "[503]\tcv-test-auc:0.8369356+0.009256416058064805\tcv-train-auc:0.8826714000000001+0.0016761844289934131\n",
      "[504]\tcv-test-auc:0.8369557999999999+0.009257133344615892\tcv-train-auc:0.8827432+0.0016769742275896738\n",
      "[505]\tcv-test-auc:0.8369364000000001+0.009270527959075488\tcv-train-auc:0.8827802+0.0016603692842256522\n",
      "[506]\tcv-test-auc:0.8369376+0.00925316224001288\tcv-train-auc:0.8828376+0.0016564634134203044\n",
      "[507]\tcv-test-auc:0.8369272000000001+0.00926269633314186\tcv-train-auc:0.8829041999999999+0.0016356820473429651\n",
      "[508]\tcv-test-auc:0.8369456+0.009271424110674711\tcv-train-auc:0.8829609999999999+0.0016333155237124152\n",
      "[509]\tcv-test-auc:0.8369462000000001+0.009261026107295012\tcv-train-auc:0.8830241999999998+0.0016134308042181282\n",
      "[510]\tcv-test-auc:0.8369579999999999+0.009289795735106349\tcv-train-auc:0.8830764+0.0016272328167782335\n",
      "[511]\tcv-test-auc:0.8369676+0.009310130301988294\tcv-train-auc:0.8831481999999999+0.0016238747981294347\n",
      "[512]\tcv-test-auc:0.8369899999999999+0.009298426555068351\tcv-train-auc:0.8832006+0.0016220466824355018\n",
      "[513]\tcv-test-auc:0.8370016+0.009300143581687324\tcv-train-auc:0.8832806+0.0016089049195027216\n",
      "[514]\tcv-test-auc:0.8369906+0.009324764739123451\tcv-train-auc:0.8833502000000001+0.0016029311151761808\n",
      "[515]\tcv-test-auc:0.836997+0.009329589401468847\tcv-train-auc:0.883417+0.001592407611134768\n",
      "[516]\tcv-test-auc:0.8369911999999999+0.009349527889685147\tcv-train-auc:0.8834944+0.001584646156086556\n",
      "[517]\tcv-test-auc:0.837032+0.009331836560934847\tcv-train-auc:0.8835478+0.0016128705341719094\n",
      "[518]\tcv-test-auc:0.8370212+0.009340842475922595\tcv-train-auc:0.8836206000000001+0.0016161874396245113\n",
      "[519]\tcv-test-auc:0.8370049999999999+0.009330116247936062\tcv-train-auc:0.8836790000000001+0.0016077874237597429\n",
      "[520]\tcv-test-auc:0.83703+0.009324469228862303\tcv-train-auc:0.8837423999999998+0.001635147283886094\n",
      "[521]\tcv-test-auc:0.8370286+0.009334015526020947\tcv-train-auc:0.8838224+0.001638319944333221\n",
      "[522]\tcv-test-auc:0.8370488+0.009333121394260329\tcv-train-auc:0.8838888+0.0016455235519432854\n",
      "[523]\tcv-test-auc:0.837059+0.009360990310859213\tcv-train-auc:0.8839539999999999+0.0016246080142606643\n",
      "[524]\tcv-test-auc:0.8370806+0.009354359253310728\tcv-train-auc:0.884025+0.0016487043397771595\n",
      "[525]\tcv-test-auc:0.8370810000000001+0.009350265557726146\tcv-train-auc:0.8840983999999998+0.001683840443747578\n",
      "[526]\tcv-test-auc:0.8370754+0.009335079101968024\tcv-train-auc:0.8841614+0.0016930623851470978\n",
      "[527]\tcv-test-auc:0.8370736000000001+0.009309279963563231\tcv-train-auc:0.8842207999999999+0.0017301903247908892\n",
      "[528]\tcv-test-auc:0.8371046+0.009326129542312826\tcv-train-auc:0.8842726000000001+0.0017297542715657697\n",
      "[529]\tcv-test-auc:0.8371071999999999+0.009318892839817404\tcv-train-auc:0.884324+0.001724096865028182\n",
      "[530]\tcv-test-auc:0.8371196000000001+0.009297990935680692\tcv-train-auc:0.8843812+0.0017109448150071825\n",
      "[531]\tcv-test-auc:0.837134+0.009307524719279566\tcv-train-auc:0.8844352000000001+0.0016952842121603043\n",
      "[532]\tcv-test-auc:0.8371416+0.00932391708671845\tcv-train-auc:0.8844989999999999+0.0016863912950439374\n",
      "[533]\tcv-test-auc:0.8371497999999999+0.009316801283702474\tcv-train-auc:0.8845662000000001+0.0016974599141069593\n",
      "[534]\tcv-test-auc:0.8371565999999999+0.009312156669644266\tcv-train-auc:0.8846384+0.0017184841692608121\n",
      "[535]\tcv-test-auc:0.83715+0.009313109169337606\tcv-train-auc:0.8846903999999999+0.0017075449745175113\n",
      "[536]\tcv-test-auc:0.8371588000000001+0.009299455498038562\tcv-train-auc:0.8847616+0.0017163076181150956\n",
      "[537]\tcv-test-auc:0.8371822+0.0093124579225895\tcv-train-auc:0.8848322+0.0017124628346331977\n",
      "[538]\tcv-test-auc:0.8371962+0.00931219914735503\tcv-train-auc:0.8849054000000001+0.001707785302665431\n",
      "[539]\tcv-test-auc:0.8372059999999999+0.00933374034350647\tcv-train-auc:0.8849714000000001+0.0017158329289298625\n",
      "[540]\tcv-test-auc:0.8372033999999999+0.009343939246377846\tcv-train-auc:0.8850187999999999+0.0017173058434652938\n",
      "[541]\tcv-test-auc:0.8371955999999999+0.009364658191306286\tcv-train-auc:0.8850918+0.0017233383184970033\n",
      "[542]\tcv-test-auc:0.837203+0.009382003346833777\tcv-train-auc:0.8851556+0.001727684184103117\n",
      "[543]\tcv-test-auc:0.8371999999999999+0.009390452214882944\tcv-train-auc:0.8851894+0.001747623140153492\n",
      "[544]\tcv-test-auc:0.8371905999999999+0.00940128911586067\tcv-train-auc:0.885233+0.0017510812659611076\n",
      "[545]\tcv-test-auc:0.8372126+0.009405843090334839\tcv-train-auc:0.8852920000000001+0.0017331663509311524\n",
      "[546]\tcv-test-auc:0.8372258+0.00940238500381685\tcv-train-auc:0.8853696000000001+0.0017381921182654057\n",
      "[547]\tcv-test-auc:0.8372116000000001+0.009419561106548444\tcv-train-auc:0.8854194+0.0017270077706831664\n",
      "[548]\tcv-test-auc:0.8372111999999999+0.009429409131011325\tcv-train-auc:0.8854609999999999+0.0017237590318835048\n",
      "[549]\tcv-test-auc:0.837214+0.009449516707218431\tcv-train-auc:0.8855203999999999+0.0017503553467796442\n",
      "[550]\tcv-test-auc:0.8372183999999999+0.009441408954176257\tcv-train-auc:0.8855724+0.0017377410163773104\n",
      "[551]\tcv-test-auc:0.8372052+0.00945119373201082\tcv-train-auc:0.8856355999999999+0.001756433727756321\n",
      "[552]\tcv-test-auc:0.8372086000000001+0.009459009093980193\tcv-train-auc:0.8856759999999999+0.0017607355281245706\n",
      "[553]\tcv-test-auc:0.8372020000000001+0.009448216170261968\tcv-train-auc:0.8857148+0.0017571111973919207\n",
      "[554]\tcv-test-auc:0.8371843999999999+0.009463370490475366\tcv-train-auc:0.8857683999999999+0.0017586366992645229\n",
      "[555]\tcv-test-auc:0.8371888000000001+0.009470309042475861\tcv-train-auc:0.8858146+0.001749911266321797\n",
      "[556]\tcv-test-auc:0.8372183999999999+0.009455201374904725\tcv-train-auc:0.8858666+0.001747596932933907\n",
      "[557]\tcv-test-auc:0.837218+0.009459703737432814\tcv-train-auc:0.8859216+0.0017313829847841146\n",
      "[558]\tcv-test-auc:0.8372243999999999+0.009441255289419935\tcv-train-auc:0.8859589999999999+0.0017192553039034068\n",
      "[559]\tcv-test-auc:0.837232+0.009455612026727836\tcv-train-auc:0.8860366+0.0017154652546758312\n",
      "[560]\tcv-test-auc:0.8372438000000001+0.009486043904600056\tcv-train-auc:0.8861006+0.0017143331764858365\n",
      "[561]\tcv-test-auc:0.8372434+0.009470855475615703\tcv-train-auc:0.8861395999999999+0.0017080577976169415\n",
      "[562]\tcv-test-auc:0.8372472+0.009476364754482595\tcv-train-auc:0.8862074+0.00173061984271534\n",
      "[563]\tcv-test-auc:0.8372340000000001+0.009482087702610635\tcv-train-auc:0.8862576000000001+0.0017283082595416922\n",
      "[564]\tcv-test-auc:0.8372276+0.009451230958980952\tcv-train-auc:0.886334+0.0017141366339939249\n",
      "[565]\tcv-test-auc:0.8372154+0.009448419647750636\tcv-train-auc:0.8863984+0.0016999513640101537\n",
      "[566]\tcv-test-auc:0.8371929999999999+0.009463186503498724\tcv-train-auc:0.8864438+0.0017037035422866225\n",
      "[567]\tcv-test-auc:0.8371866000000001+0.009464624421497151\tcv-train-auc:0.8864962000000001+0.0016976910673028828\n",
      "[568]\tcv-test-auc:0.837165+0.00944483770109365\tcv-train-auc:0.886571+0.0016791767030303686\n",
      "[569]\tcv-test-auc:0.8371411999999999+0.00945818941235585\tcv-train-auc:0.8866498+0.001653415785578435\n",
      "[570]\tcv-test-auc:0.8371514+0.009462663823680958\tcv-train-auc:0.886685+0.0016503542649988722\n",
      "[571]\tcv-test-auc:0.837152+0.009497897956916575\tcv-train-auc:0.8867496000000001+0.0016521664080836093\n",
      "[572]\tcv-test-auc:0.8371592+0.009475319380369216\tcv-train-auc:0.8868079999999999+0.001644114837838279\n",
      "[573]\tcv-test-auc:0.8371365999999998+0.009472663714077487\tcv-train-auc:0.8868622+0.001639832601212689\n",
      "[574]\tcv-test-auc:0.8371498+0.009467552152483752\tcv-train-auc:0.8869174000000001+0.0016484837396832392\n",
      "[575]\tcv-test-auc:0.8371342+0.009476599736192314\tcv-train-auc:0.8869624+0.001642939146773255\n",
      "[576]\tcv-test-auc:0.8371297999999999+0.009499039412487984\tcv-train-auc:0.8870144+0.0016565245063082927\n",
      "[577]\tcv-test-auc:0.8371196+0.009483695347278909\tcv-train-auc:0.8870692+0.001662268859119975\n",
      "[578]\tcv-test-auc:0.8371212+0.009455797066350368\tcv-train-auc:0.8871057999999999+0.0016448636904011417\n",
      "[579]\tcv-test-auc:0.8371183999999999+0.00945216459018777\tcv-train-auc:0.8871713999999999+0.0016410063497744219\n",
      "[580]\tcv-test-auc:0.8371096+0.009452624791030243\tcv-train-auc:0.8872348000000001+0.0016485435268745587\n",
      "[581]\tcv-test-auc:0.8371064+0.009465599116801837\tcv-train-auc:0.8873024+0.0016470454274245044\n",
      "[582]\tcv-test-auc:0.8370944000000001+0.009455606391977197\tcv-train-auc:0.8873508000000001+0.001640407924877198\n",
      "[583]\tcv-test-auc:0.8370968+0.009431921254972402\tcv-train-auc:0.8874194000000001+0.0016531795546763615\n",
      "[584]\tcv-test-auc:0.837086+0.009443654186807156\tcv-train-auc:0.8874852000000001+0.0016662181609861458\n",
      "[585]\tcv-test-auc:0.8371002000000001+0.009442166242976236\tcv-train-auc:0.8875472+0.0016524267487546833\n",
      "[586]\tcv-test-auc:0.8370861999999999+0.009434333201662964\tcv-train-auc:0.887603+0.0016579805788971044\n",
      "[587]\tcv-test-auc:0.8370698000000001+0.009448773410342726\tcv-train-auc:0.887687+0.0016726162739851562\n",
      "[588]\tcv-test-auc:0.8370502+0.009493927688791388\tcv-train-auc:0.8877535999999999+0.0016780167579616152\n",
      "[589]\tcv-test-auc:0.8370358+0.009486734030212947\tcv-train-auc:0.8878172+0.0016676352598814837\n",
      "[590]\tcv-test-auc:0.8370393999999999+0.009470284506813937\tcv-train-auc:0.8878592+0.0016731191708901378\n",
      "[591]\tcv-test-auc:0.8370431999999999+0.009473810582864743\tcv-train-auc:0.8879194+0.0016999104211693\n",
      "[592]\tcv-test-auc:0.8370519999999999+0.009475794700182127\tcv-train-auc:0.8879910000000001+0.0016840466739375106\n",
      "[593]\tcv-test-auc:0.8370519999999999+0.009459662848114623\tcv-train-auc:0.8880564+0.0016646201488627892\n",
      "[594]\tcv-test-auc:0.8370280000000001+0.009458048889702359\tcv-train-auc:0.8881474+0.0016325504708890153\n",
      "[595]\tcv-test-auc:0.8370652+0.00947041264993242\tcv-train-auc:0.8882178+0.0016283884548841453\n",
      "[596]\tcv-test-auc:0.8370819999999999+0.009462126230398743\tcv-train-auc:0.8882985999999999+0.0016574894992125706\n",
      "[597]\tcv-test-auc:0.8370844+0.009458728066711717\tcv-train-auc:0.8883889999999999+0.0017003510225832865\n",
      "[598]\tcv-test-auc:0.8370716+0.009438075367361704\tcv-train-auc:0.8884342000000001+0.0016988018601355483\n",
      "[599]\tcv-test-auc:0.8370390000000001+0.009436453062459422\tcv-train-auc:0.8884969999999999+0.0016841042723061816\n",
      "[600]\tcv-test-auc:0.837045+0.009432252244294571\tcv-train-auc:0.8885586+0.001683645283306445\n",
      "[601]\tcv-test-auc:0.8370470000000001+0.00942604733703371\tcv-train-auc:0.8886298+0.001700805150509589\n",
      "[602]\tcv-test-auc:0.8370521999999999+0.009432270806120862\tcv-train-auc:0.888672+0.0017111307372611932\n",
      "[603]\tcv-test-auc:0.8370298+0.009436390229319677\tcv-train-auc:0.8887476+0.0017313396662700328\n",
      "[604]\tcv-test-auc:0.837027+0.009441572199586254\tcv-train-auc:0.8888178+0.0017271974293635267\n",
      "[605]\tcv-test-auc:0.8370424+0.009447791924042366\tcv-train-auc:0.8888792000000001+0.0017161302281587052\n",
      "[606]\tcv-test-auc:0.837036+0.009443806520677963\tcv-train-auc:0.8889191999999999+0.0017046801928807705\n",
      "[607]\tcv-test-auc:0.8370424+0.009430799384993806\tcv-train-auc:0.8889669999999998+0.001686380146941962\n",
      "[608]\tcv-test-auc:0.8370355999999999+0.009438233809352244\tcv-train-auc:0.8890014+0.0016839089761623157\n",
      "[609]\tcv-test-auc:0.8370391999999999+0.009453382577680884\tcv-train-auc:0.8890784+0.0016944363782686205\n",
      "[610]\tcv-test-auc:0.8370504000000001+0.009444456376097055\tcv-train-auc:0.8891427999999999+0.0016891343818654446\n",
      "[611]\tcv-test-auc:0.8370557999999999+0.00943114439291437\tcv-train-auc:0.8891864+0.001672847942880647\n",
      "[612]\tcv-test-auc:0.8370643999999998+0.009415212405463821\tcv-train-auc:0.8892660000000001+0.0016848338790515763\n",
      "[613]\tcv-test-auc:0.8370704+0.009427761931656953\tcv-train-auc:0.8893122+0.0016907172915659133\n",
      "[614]\tcv-test-auc:0.8370852+0.009445423746979287\tcv-train-auc:0.8893525999999999+0.0016970919362250133\n",
      "[615]\tcv-test-auc:0.8370868+0.009442921526731039\tcv-train-auc:0.8893866000000001+0.0016969189255824758\n",
      "[616]\tcv-test-auc:0.837087+0.009444693642464008\tcv-train-auc:0.889433+0.001698443051738846\n",
      "[617]\tcv-test-auc:0.8370975999999999+0.009443312905966832\tcv-train-auc:0.8894754+0.001713848721445402\n",
      "[618]\tcv-test-auc:0.837063+0.009443073503896915\tcv-train-auc:0.8895692000000001+0.001695569568021335\n",
      "[619]\tcv-test-auc:0.8370643999999998+0.009426121887605741\tcv-train-auc:0.8896329999999999+0.0016795757797729667\n",
      "[620]\tcv-test-auc:0.8370596000000001+0.009428013971139421\tcv-train-auc:0.8896784+0.0016727843375641675\n",
      "[621]\tcv-test-auc:0.8370488+0.009435633214575481\tcv-train-auc:0.8897212+0.0016642006369425857\n",
      "[622]\tcv-test-auc:0.8370519999999999+0.009446653629725183\tcv-train-auc:0.8897496+0.0016667770816758904\n",
      "[623]\tcv-test-auc:0.8370635999999999+0.009475262731977411\tcv-train-auc:0.8898284000000001+0.0016794770138349544\n",
      "[624]\tcv-test-auc:0.8370902000000001+0.009480610790450173\tcv-train-auc:0.8898876+0.001684530391533524\n",
      "[625]\tcv-test-auc:0.8371046+0.009468983696258029\tcv-train-auc:0.889956+0.0016735159395715427\n",
      "[626]\tcv-test-auc:0.8370868+0.00946566438027461\tcv-train-auc:0.8900121999999999+0.001671037450208699\n",
      "[627]\tcv-test-auc:0.8371004+0.009460729244619576\tcv-train-auc:0.8900686+0.0016704577336766095\n",
      "[628]\tcv-test-auc:0.8371071999999999+0.009470703319183848\tcv-train-auc:0.890146+0.0016580459583497764\n",
      "[629]\tcv-test-auc:0.8371088+0.009480426770984495\tcv-train-auc:0.8901959999999999+0.001657302024375777\n",
      "[630]\tcv-test-auc:0.8371326+0.009464989521388802\tcv-train-auc:0.8902452000000001+0.0016800826646328779\n",
      "[631]\tcv-test-auc:0.8371084+0.009446103018705635\tcv-train-auc:0.8903218+0.0016688006951101437\n",
      "[632]\tcv-test-auc:0.8371116000000001+0.009422285255711576\tcv-train-auc:0.8903447999999999+0.0016629250614504521\n",
      "[633]\tcv-test-auc:0.8370900000000001+0.009396900616692714\tcv-train-auc:0.8904160000000001+0.0016708073497563867\n",
      "[634]\tcv-test-auc:0.8370960000000001+0.009405725681732363\tcv-train-auc:0.8904665999999999+0.0016698945595455905\n",
      "[635]\tcv-test-auc:0.837093+0.009424446508946827\tcv-train-auc:0.8904956+0.0016784114632592427\n",
      "[636]\tcv-test-auc:0.8371015999999999+0.009406046663715858\tcv-train-auc:0.8905396000000001+0.0016797177858200146\n",
      "[637]\tcv-test-auc:0.8371096+0.009413841524053822\tcv-train-auc:0.8905858+0.0016965599783090365\n",
      "[638]\tcv-test-auc:0.8371022+0.00941043311224303\tcv-train-auc:0.8906507999999999+0.0017013846596228648\n",
      "[639]\tcv-test-auc:0.8371103999999999+0.009416167916939463\tcv-train-auc:0.8907033999999999+0.0016903396818390983\n",
      "[640]\tcv-test-auc:0.8370915999999999+0.009407571155191965\tcv-train-auc:0.8907432+0.0016949079503029017\n",
      "[641]\tcv-test-auc:0.8371002000000001+0.0094150395941812\tcv-train-auc:0.8907997999999999+0.001713365857019458\n",
      "[642]\tcv-test-auc:0.8370946+0.009417586816164747\tcv-train-auc:0.8908644000000001+0.0016862563980604849\n",
      "[643]\tcv-test-auc:0.8370674000000001+0.009401599706432937\tcv-train-auc:0.8909178000000001+0.0016683551660242957\n",
      "[644]\tcv-test-auc:0.837067+0.009391264046974738\tcv-train-auc:0.8909651999999999+0.0016743681076752267\n",
      "[645]\tcv-test-auc:0.837068+0.009402448191827511\tcv-train-auc:0.8910159999999999+0.0016625458790661927\n",
      "[646]\tcv-test-auc:0.8370668+0.00941573384075825\tcv-train-auc:0.8910652000000001+0.0016661569433880053\n",
      "[647]\tcv-test-auc:0.8370502+0.009431093476368486\tcv-train-auc:0.8911203999999999+0.001671036636342844\n",
      "[648]\tcv-test-auc:0.8370798+0.00943425641796957\tcv-train-auc:0.8911716000000001+0.0016405563202767648\n",
      "[649]\tcv-test-auc:0.837068+0.00944747426564372\tcv-train-auc:0.8912075999999999+0.001644092649457442\n",
      "[650]\tcv-test-auc:0.8370806+0.009405243231304575\tcv-train-auc:0.8912498+0.0016398401629427431\n",
      "[651]\tcv-test-auc:0.8370799999999999+0.009416723294225009\tcv-train-auc:0.8912967999999999+0.001631859111565699\n",
      "[652]\tcv-test-auc:0.8370822+0.009417290637970106\tcv-train-auc:0.8913506+0.0016361853929185456\n",
      "[653]\tcv-test-auc:0.8370844+0.009421999142432556\tcv-train-auc:0.891402+0.0016219028330945215\n",
      "[654]\tcv-test-auc:0.8370934+0.009414264105069499\tcv-train-auc:0.8914492+0.0016045384881641003\n",
      "[655]\tcv-test-auc:0.8371136+0.009430026290525391\tcv-train-auc:0.8914975999999999+0.001603793328331304\n",
      "[656]\tcv-test-auc:0.8371408+0.009435686438198336\tcv-train-auc:0.8915495999999999+0.0016038915923465551\n",
      "[657]\tcv-test-auc:0.8371462000000001+0.009414519412057095\tcv-train-auc:0.8916015999999999+0.0015983480972554265\n",
      "[658]\tcv-test-auc:0.8371458+0.009417590592078187\tcv-train-auc:0.8916762+0.001597422473862192\n",
      "[659]\tcv-test-auc:0.8371486000000001+0.009429599622465439\tcv-train-auc:0.8917156+0.0015985435370987151\n",
      "[660]\tcv-test-auc:0.8371188+0.009434469490119704\tcv-train-auc:0.8917735999999999+0.0015932315086013254\n",
      "[661]\tcv-test-auc:0.8370966000000001+0.009446347497313446\tcv-train-auc:0.8918324+0.0015794711266749984\n",
      "[662]\tcv-test-auc:0.8371052000000001+0.009438011303235416\tcv-train-auc:0.8918782000000001+0.0015774663736511285\n",
      "[663]\tcv-test-auc:0.8371008+0.009447796767500858\tcv-train-auc:0.8919268+0.0015769150135628586\n",
      "[664]\tcv-test-auc:0.8370912+0.00945379761577326\tcv-train-auc:0.8919649999999999+0.0015948977396685903\n",
      "[665]\tcv-test-auc:0.8370986+0.009426685198944532\tcv-train-auc:0.8920170000000001+0.0016021826362808854\n",
      "[666]\tcv-test-auc:0.8370937999999999+0.00941955449901955\tcv-train-auc:0.892069+0.0015990447148219364\n",
      "[667]\tcv-test-auc:0.8371113999999998+0.009428420113677569\tcv-train-auc:0.8921178+0.0015876565623584903\n",
      "[668]\tcv-test-auc:0.8371219999999999+0.009397630382176142\tcv-train-auc:0.8921711999999999+0.001589987597435913\n",
      "[669]\tcv-test-auc:0.837124+0.009421363701715386\tcv-train-auc:0.8922352+0.0015822473131593682\n",
      "[670]\tcv-test-auc:0.8371168000000001+0.009448406244441437\tcv-train-auc:0.8923116+0.0015868405843058235\n",
      "[671]\tcv-test-auc:0.8371320000000001+0.00946510059111893\tcv-train-auc:0.8923641999999999+0.001597714542714072\n",
      "[672]\tcv-test-auc:0.8371268000000001+0.009457523616676818\tcv-train-auc:0.892406+0.0016002603538174752\n",
      "[673]\tcv-test-auc:0.8371258000000001+0.009457692179384972\tcv-train-auc:0.8924472000000001+0.0016176782622017417\n",
      "[674]\tcv-test-auc:0.8371578+0.009461177186798711\tcv-train-auc:0.8925072000000001+0.001644741000887384\n",
      "[675]\tcv-test-auc:0.8371321999999999+0.00946327715751788\tcv-train-auc:0.8925626+0.001635169300103184\n",
      "[676]\tcv-test-auc:0.8371268000000001+0.00948577280773685\tcv-train-auc:0.8926167999999999+0.001671235758353683\n",
      "[677]\tcv-test-auc:0.8371355999999999+0.009496551281386318\tcv-train-auc:0.8926627999999999+0.001655733964137954\n",
      "[678]\tcv-test-auc:0.837153+0.009507124633662895\tcv-train-auc:0.8927362000000001+0.001688017938293309\n",
      "[679]\tcv-test-auc:0.8371606+0.00950942464295293\tcv-train-auc:0.8927682000000001+0.0016880950684129128\n",
      "[680]\tcv-test-auc:0.8371556+0.009499447933432771\tcv-train-auc:0.8928312+0.0016854551195448803\n",
      "[681]\tcv-test-auc:0.8371435999999999+0.00949454787970443\tcv-train-auc:0.8928719999999999+0.0016894214394282947\n",
      "[682]\tcv-test-auc:0.8371326+0.009496218438936638\tcv-train-auc:0.892929+0.0016985591541068155\n",
      "[683]\tcv-test-auc:0.8371496+0.009517025051979225\tcv-train-auc:0.8929924+0.001700264402967968\n",
      "[684]\tcv-test-auc:0.8371335999999999+0.009513180595363449\tcv-train-auc:0.8930274+0.0017048529086111856\n",
      "[685]\tcv-test-auc:0.8371216+0.009501057090661024\tcv-train-auc:0.8931106+0.001718496040146722\n",
      "[686]\tcv-test-auc:0.8371244000000001+0.009494323074342895\tcv-train-auc:0.8931891999999999+0.0017187838025767026\n",
      "[687]\tcv-test-auc:0.8371062+0.0094917897658977\tcv-train-auc:0.8932528+0.0017297937911785973\n",
      "[688]\tcv-test-auc:0.8370922000000001+0.009502097124319429\tcv-train-auc:0.8933371999999998+0.0017189412322705924\n",
      "[689]\tcv-test-auc:0.8371078000000001+0.009505659101819273\tcv-train-auc:0.8933693999999999+0.0017163459558026245\n",
      "[690]\tcv-test-auc:0.8371040000000001+0.009497916255684717\tcv-train-auc:0.8934445999999999+0.0016958628010543685\n",
      "[691]\tcv-test-auc:0.8371344000000001+0.00948527072043807\tcv-train-auc:0.8935107999999999+0.0016857479526904593\n",
      "[692]\tcv-test-auc:0.8371326+0.009491907766092133\tcv-train-auc:0.8935603999999999+0.0017055033978271858\n",
      "[693]\tcv-test-auc:0.8371084+0.009517997070812743\tcv-train-auc:0.8936230000000001+0.001686616376061832\n",
      "[694]\tcv-test-auc:0.8370773999999999+0.009528700238752413\tcv-train-auc:0.8936835999999999+0.0017081637626410221\n",
      "[695]\tcv-test-auc:0.8370612000000002+0.009536972504940967\tcv-train-auc:0.8937293999999998+0.001696643227081054\n",
      "[696]\tcv-test-auc:0.8370576+0.009552791520806916\tcv-train-auc:0.8937868+0.0017021585590067476\n",
      "[697]\tcv-test-auc:0.8370312+0.009570500622224525\tcv-train-auc:0.8938369999999999+0.0016950555153150443\n",
      "[698]\tcv-test-auc:0.8370248+0.009592192958859823\tcv-train-auc:0.8938870000000001+0.001700269037534952\n",
      "[699]\tcv-test-auc:0.8370078+0.009595236347271503\tcv-train-auc:0.8939410000000001+0.001678483005573784\n",
      "[700]\tcv-test-auc:0.8369926000000001+0.009578520608110628\tcv-train-auc:0.8939838+0.0016881730243076352\n",
      "[701]\tcv-test-auc:0.8369860000000001+0.00957730857809227\tcv-train-auc:0.8940436+0.0016870997125244213\n",
      "[702]\tcv-test-auc:0.8370084+0.009583606369211952\tcv-train-auc:0.8940887999999999+0.0016945373881977167\n",
      "[703]\tcv-test-auc:0.8369869999999999+0.009581168300369213\tcv-train-auc:0.894139+0.0016925333674702048\n",
      "[704]\tcv-test-auc:0.8370010000000001+0.00957424158876305\tcv-train-auc:0.8942206+0.0016817018285058703\n",
      "[705]\tcv-test-auc:0.837021+0.009578415568349478\tcv-train-auc:0.8942798000000002+0.0016809303852331398\n",
      "[706]\tcv-test-auc:0.8370402+0.009582127830497786\tcv-train-auc:0.8943200000000001+0.0016899585793740467\n",
      "[707]\tcv-test-auc:0.8370526+0.009585009955133067\tcv-train-auc:0.8943574+0.0016884696739947547\n",
      "[708]\tcv-test-auc:0.8370496000000001+0.00957662096148741\tcv-train-auc:0.8944084+0.0016803719350191482\n",
      "[709]\tcv-test-auc:0.8370402+0.009586188781783918\tcv-train-auc:0.89445+0.0016877375388371092\n",
      "[710]\tcv-test-auc:0.8370545999999999+0.0096162516106849\tcv-train-auc:0.8945087999999999+0.001677631115591265\n",
      "[711]\tcv-test-auc:0.8370594+0.009603343034589578\tcv-train-auc:0.8945798+0.0016541854067788526\n",
      "[712]\tcv-test-auc:0.837057+0.0096255231130573\tcv-train-auc:0.8946154+0.0016595159053169799\n",
      "[713]\tcv-test-auc:0.837064+0.009632093936418996\tcv-train-auc:0.8946593999999999+0.0016497692687160986\n",
      "[714]\tcv-test-auc:0.8370518+0.00961759519630558\tcv-train-auc:0.8947016+0.0016498672188997507\n",
      "[715]\tcv-test-auc:0.8370713999999999+0.00962901882021218\tcv-train-auc:0.8947415999999999+0.0016520748893437015\n",
      "[716]\tcv-test-auc:0.8370566+0.009636320098460813\tcv-train-auc:0.8947786000000001+0.001663960408182826\n",
      "[717]\tcv-test-auc:0.8370308+0.009635010937201892\tcv-train-auc:0.894816+0.001659549456931004\n",
      "[718]\tcv-test-auc:0.8370214+0.009634909477519778\tcv-train-auc:0.8948604+0.0016566925604951262\n",
      "[719]\tcv-test-auc:0.8370154+0.009645992797011609\tcv-train-auc:0.8948955999999999+0.001657137363045067\n",
      "[720]\tcv-test-auc:0.8370108+0.009624540516824688\tcv-train-auc:0.8949290000000001+0.0016581306341781684\n",
      "[721]\tcv-test-auc:0.8370101999999999+0.009618717490393428\tcv-train-auc:0.8949686+0.0016409157930863008\n",
      "[722]\tcv-test-auc:0.8370084+0.009603050652787382\tcv-train-auc:0.8950338+0.0016379601216147033\n",
      "[723]\tcv-test-auc:0.8369933999999999+0.00961459649907367\tcv-train-auc:0.8951036+0.0016445212798866236\n",
      "[724]\tcv-test-auc:0.83698+0.00960929389705612\tcv-train-auc:0.895151+0.0016488069626247961\n",
      "[725]\tcv-test-auc:0.8369888+0.009613781574385801\tcv-train-auc:0.8952106000000001+0.001677333431372531\n",
      "[726]\tcv-test-auc:0.836984+0.009600613251245964\tcv-train-auc:0.895266+0.0016704709515582752\n",
      "[727]\tcv-test-auc:0.8369727999999999+0.00959037274353819\tcv-train-auc:0.895317+0.0016561406945063588\n",
      "[728]\tcv-test-auc:0.8369633999999999+0.009591320880879765\tcv-train-auc:0.8953482000000001+0.0016477940890778984\n",
      "[729]\tcv-test-auc:0.8369638+0.009589240270219535\tcv-train-auc:0.8954025999999999+0.0016544024419711104\n",
      "[730]\tcv-test-auc:0.8369709999999999+0.009596058211578338\tcv-train-auc:0.8954734+0.0016772008347243612\n",
      "[731]\tcv-test-auc:0.8369802+0.009617774740552\tcv-train-auc:0.8955062+0.00168344615595508\n",
      "[732]\tcv-test-auc:0.8369704+0.009623835380969472\tcv-train-auc:0.8955692+0.0016885301774028274\n",
      "[733]\tcv-test-auc:0.8369795999999999+0.00961782758423127\tcv-train-auc:0.8956514+0.0017074168325280155\n",
      "[734]\tcv-test-auc:0.8369804000000001+0.009624645502043177\tcv-train-auc:0.8956835999999999+0.001688507577714701\n",
      "[735]\tcv-test-auc:0.8369738+0.009631736653376674\tcv-train-auc:0.8957328+0.0016918694275859754\n",
      "[736]\tcv-test-auc:0.8369812+0.009625327867662481\tcv-train-auc:0.8957798+0.001693750323985241\n",
      "[737]\tcv-test-auc:0.83696+0.009620470944813475\tcv-train-auc:0.8958195999999999+0.0016896554204926144\n",
      "[738]\tcv-test-auc:0.8369582+0.0096148059866021\tcv-train-auc:0.8958511999999998+0.0016912157047520523\n",
      "[739]\tcv-test-auc:0.8369622+0.009602396917436794\tcv-train-auc:0.8959156+0.0016743204711165843\n",
      "[740]\tcv-test-auc:0.8369565999999999+0.009597416498204066\tcv-train-auc:0.8959531999999999+0.0016555769266331395\n",
      "[741]\tcv-test-auc:0.8369624+0.009606805558561093\tcv-train-auc:0.8960108+0.001632199179021971\n",
      "[742]\tcv-test-auc:0.836961+0.009617242390623209\tcv-train-auc:0.8960267999999999+0.0016348047467511291\n",
      "[743]\tcv-test-auc:0.8369448+0.00962477892525329\tcv-train-auc:0.8960710000000001+0.001623575929853605\n",
      "[744]\tcv-test-auc:0.8369329999999999+0.009623045692502993\tcv-train-auc:0.8961184000000001+0.0016175569974501674\n",
      "[745]\tcv-test-auc:0.8369106000000001+0.0096375341369045\tcv-train-auc:0.8961662+0.0016187044696299386\n",
      "[746]\tcv-test-auc:0.8369012+0.009624999021298628\tcv-train-auc:0.8962068000000001+0.0016142717738968288\n",
      "[747]\tcv-test-auc:0.8369025999999999+0.009606157371186438\tcv-train-auc:0.8962838+0.001647576571816918\n",
      "[748]\tcv-test-auc:0.8368971999999999+0.009609668910009328\tcv-train-auc:0.8963300000000001+0.001647981067852395\n",
      "[749]\tcv-test-auc:0.8368963999999999+0.00960765529356669\tcv-train-auc:0.8963636000000001+0.0016353015134830415\n",
      "[750]\tcv-test-auc:0.8368791999999999+0.00958976065186196\tcv-train-auc:0.8964046+0.0016331605677336284\n",
      "[751]\tcv-test-auc:0.8368698+0.00958650404266332\tcv-train-auc:0.8964672+0.0016073555176126864\n",
      "[752]\tcv-test-auc:0.8368574000000001+0.009585976394713263\tcv-train-auc:0.8965+0.0016037573382528716\n",
      "[753]\tcv-test-auc:0.8368698+0.009614917896685334\tcv-train-auc:0.8965542000000001+0.0016010433348288976\n",
      "[754]\tcv-test-auc:0.8368884+0.009622139483503676\tcv-train-auc:0.8965956+0.0015993390634884148\n",
      "[755]\tcv-test-auc:0.8368856000000001+0.009621586160296016\tcv-train-auc:0.896659+0.0015951041345316746\n",
      "[756]\tcv-test-auc:0.8368692+0.009618186469392219\tcv-train-auc:0.8967162+0.001599240494734942\n",
      "[757]\tcv-test-auc:0.8368804000000001+0.009615291001316615\tcv-train-auc:0.8967563999999999+0.0016031140446019663\n",
      "[758]\tcv-test-auc:0.8368944+0.009636519363338637\tcv-train-auc:0.8967934+0.0016106025704685813\n",
      "[759]\tcv-test-auc:0.8368985999999999+0.009638971119367441\tcv-train-auc:0.8968261999999999+0.0015988381281418112\n",
      "[760]\tcv-test-auc:0.8368942+0.00964946494682475\tcv-train-auc:0.8968708+0.0015873800301125078\n",
      "[761]\tcv-test-auc:0.8368996+0.009658454422939526\tcv-train-auc:0.8969032+0.0015992434961568558\n",
      "[762]\tcv-test-auc:0.8368988000000002+0.009674188677093281\tcv-train-auc:0.8969561999999998+0.0015869094996249803\n",
      "Stopping. Best iteration:\n",
      "[562] cv-mean:0.8372472\tcv-std:0.009476364754482595\n"
     ]
    }
   ],
   "source": [
    "res = xgb.cv(params, dtrainz, num_boost_round=2000, nfold=5, verbose_eval=True,\n",
    "             stratified=True, maximize=True, early_stopping_rounds=200)"
   ]
  },
  {
   "cell_type": "code",
   "execution_count": 15,
   "metadata": {
    "collapsed": true
   },
   "outputs": [],
   "source": [
    "dtestz = xgb.DMatrix(ztest[floatfeats + binfeats + ncatfeats + ['n0']])"
   ]
  },
  {
   "cell_type": "code",
   "execution_count": 18,
   "metadata": {
    "collapsed": false
   },
   "outputs": [],
   "source": [
    "gbm = xgb.train(params, dtrainz, num_boost_round=600, verbose_eval=False)\n",
    "preds = gbm.predict(dtestz)"
   ]
  },
  {
   "cell_type": "code",
   "execution_count": 19,
   "metadata": {
    "collapsed": true
   },
   "outputs": [],
   "source": [
    "sample = pd.read_csv('data/sample_submission.csv', index_col='ID')\n",
    "sample.TARGET = preds\n",
    "sample.to_csv('submission/init_xgb_cl_ohe.csv', index_label='ID')"
   ]
  },
  {
   "cell_type": "code",
   "execution_count": null,
   "metadata": {
    "collapsed": true
   },
   "outputs": [],
   "source": []
  },
  {
   "cell_type": "code",
   "execution_count": null,
   "metadata": {
    "collapsed": true
   },
   "outputs": [],
   "source": []
  },
  {
   "cell_type": "code",
   "execution_count": null,
   "metadata": {
    "collapsed": true
   },
   "outputs": [],
   "source": []
  },
  {
   "cell_type": "code",
   "execution_count": 5,
   "metadata": {
    "collapsed": false,
    "scrolled": true
   },
   "outputs": [
    {
     "name": "stdout",
     "output_type": "stream",
     "text": [
      "ind_var2_0\n",
      "ind_var2\n",
      "ind_var27_0\n",
      "ind_var28_0\n",
      "ind_var28\n",
      "ind_var27\n",
      "ind_var41\n",
      "ind_var46_0\n",
      "ind_var46\n",
      "num_var27_0\n",
      "num_var28_0\n",
      "num_var28\n",
      "num_var27\n",
      "num_var41\n",
      "num_var46_0\n",
      "num_var46\n",
      "saldo_var28\n",
      "saldo_var27\n",
      "saldo_var41\n",
      "saldo_var46\n",
      "imp_amort_var18_hace3\n",
      "imp_amort_var34_hace3\n",
      "imp_reemb_var13_hace3\n",
      "imp_reemb_var33_hace3\n",
      "imp_trasp_var17_out_hace3\n",
      "imp_trasp_var33_out_hace3\n",
      "num_var2_0_ult1\n",
      "num_var2_ult1\n",
      "num_reemb_var13_hace3\n",
      "num_reemb_var33_hace3\n",
      "num_trasp_var17_out_hace3\n",
      "num_trasp_var33_out_hace3\n",
      "saldo_var2_ult1\n",
      "saldo_medio_var13_medio_hace3\n"
     ]
    }
   ],
   "source": [
    "dlist = list()\n",
    "for c in train.columns:\n",
    "    if train[c].unique().shape[0] == 1:\n",
    "        print(c)\n",
    "        dlist.append(c)\n",
    "train.drop(dlist, axis=1, inplace=True)\n",
    "test.drop(dlist, axis=1, inplace=True)"
   ]
  },
  {
   "cell_type": "code",
   "execution_count": 6,
   "metadata": {
    "collapsed": false
   },
   "outputs": [
    {
     "name": "stdout",
     "output_type": "stream",
     "text": [
      "ind_var6_0 ind_var29_0\n",
      "ind_var6 ind_var29\n",
      "ind_var13_medio_0 ind_var13_medio\n",
      "ind_var18_0 ind_var18\n",
      "ind_var26_0 ind_var26\n",
      "ind_var25_0 ind_var25\n",
      "ind_var32_0 ind_var32\n",
      "ind_var34_0 ind_var34\n",
      "ind_var37_0 ind_var37\n",
      "ind_var40 ind_var39\n",
      "num_var6_0 num_var29_0\n",
      "num_var6 num_var29\n",
      "num_var13_medio_0 num_var13_medio\n",
      "num_var18_0 num_var18\n",
      "num_var26_0 num_var26\n",
      "num_var25_0 num_var25\n",
      "num_var32_0 num_var32\n",
      "num_var34_0 num_var34\n",
      "num_var37_0 num_var37\n",
      "num_var40 num_var39\n",
      "saldo_var6 saldo_var29\n",
      "saldo_var13_medio saldo_medio_var13_medio_ult1\n",
      "delta_imp_reemb_var13_1y3 delta_num_reemb_var13_1y3\n",
      "delta_imp_reemb_var17_1y3 delta_num_reemb_var17_1y3\n",
      "delta_imp_reemb_var33_1y3 delta_num_reemb_var33_1y3\n",
      "delta_imp_trasp_var17_in_1y3 delta_num_trasp_var17_in_1y3\n",
      "delta_imp_trasp_var17_out_1y3 delta_num_trasp_var17_out_1y3\n",
      "delta_imp_trasp_var33_in_1y3 delta_num_trasp_var33_in_1y3\n",
      "delta_imp_trasp_var33_out_1y3 delta_num_trasp_var33_out_1y3\n"
     ]
    }
   ],
   "source": [
    "for cone in train.columns:\n",
    "    for ctwo in train.columns:\n",
    "        if cone not in train.columns:\n",
    "            continue\n",
    "        if ctwo not in train.columns:\n",
    "            continue\n",
    "        if cone != ctwo and np.all(train[cone] == train[ctwo]):\n",
    "            print(cone, ctwo)\n",
    "            train.drop(ctwo, axis=1, inplace=True)\n",
    "            test.drop(ctwo, axis=1, inplace=True)"
   ]
  },
  {
   "cell_type": "code",
   "execution_count": 7,
   "metadata": {
    "collapsed": true
   },
   "outputs": [],
   "source": [
    "for c in train.columns:\n",
    "    cmin = train[c].min()\n",
    "    cmax = train[c].max()\n",
    "    test.loc[test[c] < cmin, c] = cmin\n",
    "    test.loc[test[c] > cmax, c] = cmax"
   ]
  },
  {
   "cell_type": "code",
   "execution_count": 8,
   "metadata": {
    "collapsed": true
   },
   "outputs": [],
   "source": [
    "import xgboost as xgb"
   ]
  },
  {
   "cell_type": "code",
   "execution_count": 9,
   "metadata": {
    "collapsed": true
   },
   "outputs": [],
   "source": [
    "weights = np.ones(target.shape)"
   ]
  },
  {
   "cell_type": "code",
   "execution_count": 10,
   "metadata": {
    "collapsed": true
   },
   "outputs": [],
   "source": [
    "weights[target == 1] = target.shape[0] / target.sum()"
   ]
  },
  {
   "cell_type": "code",
   "execution_count": 11,
   "metadata": {
    "collapsed": true
   },
   "outputs": [],
   "source": [
    "dtrain = xgb.DMatrix(train, target, weight=weights)"
   ]
  },
  {
   "cell_type": "code",
   "execution_count": 12,
   "metadata": {
    "collapsed": true
   },
   "outputs": [],
   "source": [
    "params = {'objective': 'binary:logistic', \n",
    "          'eval_metric': 'auc',\n",
    "          'eta': 0.0202048,\n",
    "          'max_depth': 5,\n",
    "          'subsample': 0.6815,\n",
    "          'colsample_bytree': 0.701,\n",
    "          'silent': 1,\n",
    "          'seed': 0\n",
    "}"
   ]
  },
  {
   "cell_type": "code",
   "execution_count": 13,
   "metadata": {
    "collapsed": false,
    "scrolled": false
   },
   "outputs": [
    {
     "name": "stderr",
     "output_type": "stream",
     "text": [
      "[0]\tcv-test-auc:0.7865172+0.044165035448417794\tcv-train-auc:0.8044428+0.03280424928816386\n",
      "[1]\tcv-test-auc:0.8040001999999999+0.028295485119714768\tcv-train-auc:0.8204376+0.02360768277150469\n",
      "[2]\tcv-test-auc:0.8086548+0.026297593854951846\tcv-train-auc:0.8261010000000001+0.02429910182702234\n",
      "[3]\tcv-test-auc:0.8125432+0.02845345634821895\tcv-train-auc:0.8310210000000001+0.025118148251811873\n",
      "[4]\tcv-test-auc:0.8144852+0.02884715273575539\tcv-train-auc:0.8329912+0.024154725975676066\n",
      "[5]\tcv-test-auc:0.8142064+0.028763779199541897\tcv-train-auc:0.833579+0.023589195492852235\n",
      "[6]\tcv-test-auc:0.822508+0.01649571498298876\tcv-train-auc:0.840493+0.01313420439920136\n",
      "[7]\tcv-test-auc:0.8254085999999999+0.012323657129277818\tcv-train-auc:0.8431198+0.00897294650379684\n",
      "[8]\tcv-test-auc:0.8281288+0.011194362373980925\tcv-train-auc:0.8456954+0.006607541830363235\n",
      "[9]\tcv-test-auc:0.8297064000000001+0.010099125241326615\tcv-train-auc:0.8470842+0.005487855624923109\n",
      "[10]\tcv-test-auc:0.829561+0.010846124137220643\tcv-train-auc:0.8469798000000001+0.005671500309441917\n",
      "[11]\tcv-test-auc:0.8308260000000001+0.009961035046620428\tcv-train-auc:0.8478731999999999+0.004813065443145361\n",
      "[12]\tcv-test-auc:0.830527+0.009973703945876902\tcv-train-auc:0.8482236000000001+0.0052711572012225085\n",
      "[13]\tcv-test-auc:0.8314434+0.009691225094899013\tcv-train-auc:0.8492784+0.0046220536820768135\n",
      "[14]\tcv-test-auc:0.8324107999999999+0.00955531164117635\tcv-train-auc:0.8500586+0.00383165121585981\n",
      "[15]\tcv-test-auc:0.8330527999999999+0.009555945403778753\tcv-train-auc:0.8506807999999999+0.0034981131714111467\n",
      "[16]\tcv-test-auc:0.8333919999999999+0.009926896372985891\tcv-train-auc:0.8511298+0.002968057034492435\n",
      "[17]\tcv-test-auc:0.8334444+0.009851989902552672\tcv-train-auc:0.8513864+0.002736760172174386\n",
      "[18]\tcv-test-auc:0.8332848+0.010343950065618055\tcv-train-auc:0.8515186+0.0024399054571847766\n",
      "[19]\tcv-test-auc:0.8334353999999999+0.010122432051636621\tcv-train-auc:0.8517859999999999+0.0028198214127848737\n",
      "[20]\tcv-test-auc:0.8330006000000001+0.010522976225384149\tcv-train-auc:0.8515794+0.0028477299450614963\n",
      "[21]\tcv-test-auc:0.8325876000000001+0.010586456491196676\tcv-train-auc:0.8516738+0.0029243957598109253\n",
      "[22]\tcv-test-auc:0.8325710000000001+0.010867505601562868\tcv-train-auc:0.8518332000000001+0.002590295380839805\n",
      "[23]\tcv-test-auc:0.8325886+0.010656339720560723\tcv-train-auc:0.8519891999999999+0.0027766943944193957\n",
      "[24]\tcv-test-auc:0.8321192+0.010983328227818756\tcv-train-auc:0.8519664+0.0028406059635225703\n",
      "[25]\tcv-test-auc:0.8324114+0.011084816184312654\tcv-train-auc:0.8522038000000001+0.0025496052557210025\n",
      "[26]\tcv-test-auc:0.8326245999999999+0.010896370526005443\tcv-train-auc:0.8526147999999999+0.002364421062332157\n",
      "[27]\tcv-test-auc:0.8329473999999999+0.010996545086526071\tcv-train-auc:0.8530006+0.0023458914382383424\n",
      "[28]\tcv-test-auc:0.8332784+0.011054206232923277\tcv-train-auc:0.8534282+0.002294909183388325\n",
      "[29]\tcv-test-auc:0.8335608000000001+0.011253099633434323\tcv-train-auc:0.8536712+0.0021333051727308035\n",
      "[30]\tcv-test-auc:0.8338471999999999+0.01148698143813247\tcv-train-auc:0.853845+0.001985025843660453\n",
      "[31]\tcv-test-auc:0.8339019999999999+0.011315563459236145\tcv-train-auc:0.8539192+0.0020778324667787514\n",
      "[32]\tcv-test-auc:0.8341212+0.011602233946960389\tcv-train-auc:0.8541011999999999+0.0019294037835559388\n",
      "[33]\tcv-test-auc:0.8344056+0.011506598604279186\tcv-train-auc:0.8544132+0.0019574215080048916\n",
      "[34]\tcv-test-auc:0.8347490000000001+0.011324516819714645\tcv-train-auc:0.854715+0.0019808048869083446\n",
      "[35]\tcv-test-auc:0.8350426000000001+0.011081926467902565\tcv-train-auc:0.8549770000000001+0.0020615427233021326\n",
      "[36]\tcv-test-auc:0.8350800000000002+0.01121513008395354\tcv-train-auc:0.8551016+0.0020457201763682212\n",
      "[37]\tcv-test-auc:0.8350795999999999+0.01104499641647744\tcv-train-auc:0.8553618000000001+0.002041895335221647\n",
      "[38]\tcv-test-auc:0.8354670000000001+0.011016938776266309\tcv-train-auc:0.8555992+0.0020764971851654655\n",
      "[39]\tcv-test-auc:0.8356349999999999+0.010923633479753884\tcv-train-auc:0.8558366+0.0021248384973922237\n",
      "[40]\tcv-test-auc:0.835977+0.010759067134282579\tcv-train-auc:0.856202+0.002208717908651982\n",
      "[41]\tcv-test-auc:0.8361794+0.010969981159509787\tcv-train-auc:0.8563394000000001+0.002117809679834354\n",
      "[42]\tcv-test-auc:0.8360540000000001+0.010757417626921425\tcv-train-auc:0.8564776000000001+0.002189214525805973\n",
      "[43]\tcv-test-auc:0.836133+0.010563163011143994\tcv-train-auc:0.8566980000000001+0.0022820418050509407\n",
      "[44]\tcv-test-auc:0.8361988+0.010891840476246441\tcv-train-auc:0.8568244+0.002149880703667069\n",
      "[45]\tcv-test-auc:0.8363176000000001+0.010763844231500199\tcv-train-auc:0.8570886+0.002233737101809411\n",
      "[46]\tcv-test-auc:0.8365014000000001+0.010660526527334367\tcv-train-auc:0.8572566+0.002288510485009816\n",
      "[47]\tcv-test-auc:0.8365427999999999+0.010792824271709425\tcv-train-auc:0.8574002000000001+0.0021617807844460006\n",
      "[48]\tcv-test-auc:0.8366939999999999+0.010605302353068467\tcv-train-auc:0.8576638000000001+0.002187996654476406\n",
      "[49]\tcv-test-auc:0.8369215999999999+0.010505082400438367\tcv-train-auc:0.8579384000000001+0.002227092418378718\n",
      "[50]\tcv-test-auc:0.8368595999999998+0.01065778906903301\tcv-train-auc:0.8580204+0.0021288573085108224\n",
      "[51]\tcv-test-auc:0.8369260000000001+0.010878058080374451\tcv-train-auc:0.8581489999999998+0.0020522692805769655\n",
      "[52]\tcv-test-auc:0.8369464000000001+0.010754732495046064\tcv-train-auc:0.8583176000000001+0.0021103026891893866\n",
      "[53]\tcv-test-auc:0.837146+0.010670066860146642\tcv-train-auc:0.8585244+0.0020625952196201584\n",
      "[54]\tcv-test-auc:0.8372812+0.010495823005367414\tcv-train-auc:0.8587388+0.002124084310944376\n",
      "[55]\tcv-test-auc:0.8373642+0.010547084818090736\tcv-train-auc:0.8588494000000001+0.0021126139827237784\n",
      "[56]\tcv-test-auc:0.83735+0.010667389202611828\tcv-train-auc:0.8590278+0.002122825419105388\n",
      "[57]\tcv-test-auc:0.8373291999999999+0.010604089652582159\tcv-train-auc:0.8592373999999999+0.002082843498681541\n",
      "[58]\tcv-test-auc:0.8374798+0.010497245341516975\tcv-train-auc:0.8594742+0.0021227168817343437\n",
      "[59]\tcv-test-auc:0.8375368000000002+0.010546224260843286\tcv-train-auc:0.8596259999999999+0.002148296255175263\n",
      "[60]\tcv-test-auc:0.8376094000000001+0.010444022071979716\tcv-train-auc:0.8598106+0.002123823589660896\n",
      "[61]\tcv-test-auc:0.8375872000000001+0.010570120479918853\tcv-train-auc:0.8598901999999999+0.0021375853105782875\n",
      "[62]\tcv-test-auc:0.8376353999999999+0.010568686287330117\tcv-train-auc:0.8600346+0.0021710582304489312\n",
      "[63]\tcv-test-auc:0.8376299999999999+0.010675354476550176\tcv-train-auc:0.8601956+0.002184989574345853\n",
      "[64]\tcv-test-auc:0.8376608000000001+0.010754544535218563\tcv-train-auc:0.860311+0.0021508782392316104\n",
      "[65]\tcv-test-auc:0.8375432+0.010769684311065\tcv-train-auc:0.8604208+0.0021585709532002837\n",
      "[66]\tcv-test-auc:0.8376746+0.010659753366752935\tcv-train-auc:0.8605774+0.002142690794305166\n",
      "[67]\tcv-test-auc:0.8377647999999999+0.010638097657006145\tcv-train-auc:0.8607566+0.002151805158465776\n",
      "[68]\tcv-test-auc:0.837871+0.01058048953498843\tcv-train-auc:0.8609502000000001+0.0021594074557618912\n",
      "[69]\tcv-test-auc:0.8378788+0.01053952916215901\tcv-train-auc:0.8611381999999999+0.0021612318154237815\n",
      "[70]\tcv-test-auc:0.8378688000000001+0.010517898447883985\tcv-train-auc:0.8612886+0.0022145061390747814\n",
      "[71]\tcv-test-auc:0.837913+0.010438416182544156\tcv-train-auc:0.8614322000000001+0.0022293853323281858\n",
      "[72]\tcv-test-auc:0.8380612+0.010431691126562352\tcv-train-auc:0.8616156+0.002252218515153456\n",
      "[73]\tcv-test-auc:0.8379834+0.010392768054758101\tcv-train-auc:0.8617974+0.0022728822758779203\n",
      "[74]\tcv-test-auc:0.8379374+0.01039681571636241\tcv-train-auc:0.861928+0.0022143462240580203\n",
      "[75]\tcv-test-auc:0.8381012+0.010418716838459513\tcv-train-auc:0.8620673999999999+0.0022342288692074608\n",
      "[76]\tcv-test-auc:0.8382068+0.010481643180341524\tcv-train-auc:0.8622332+0.0022003539169870067\n",
      "[77]\tcv-test-auc:0.8382837999999999+0.01043705959358288\tcv-train-auc:0.8624246+0.002194694384191127\n",
      "[78]\tcv-test-auc:0.8383282+0.010462653552517142\tcv-train-auc:0.8625657999999999+0.0022132417310361994\n",
      "[79]\tcv-test-auc:0.8384183999999999+0.010415342963148177\tcv-train-auc:0.8627366000000001+0.0022288458537996526\n",
      "[80]\tcv-test-auc:0.8383694+0.01049496621433341\tcv-train-auc:0.8629311999999999+0.0022079313757451917\n",
      "[81]\tcv-test-auc:0.8384237999999999+0.010396724241798456\tcv-train-auc:0.8631216+0.00218373950827477\n",
      "[82]\tcv-test-auc:0.83855+0.010407730511499607\tcv-train-auc:0.8632261999999999+0.0022075218141617233\n",
      "[83]\tcv-test-auc:0.8386089999999999+0.010354404879084076\tcv-train-auc:0.8633592+0.0021915042687615373\n",
      "[84]\tcv-test-auc:0.8386442000000001+0.010351597894045142\tcv-train-auc:0.8635004000000001+0.002162979667033412\n",
      "[85]\tcv-test-auc:0.8386414+0.010312753901844062\tcv-train-auc:0.8636748000000001+0.002180381379483889\n",
      "[86]\tcv-test-auc:0.8387087999999998+0.01029087530582311\tcv-train-auc:0.8638106000000001+0.002150339284857173\n",
      "[87]\tcv-test-auc:0.8386912000000001+0.010277907596393356\tcv-train-auc:0.8639481999999999+0.0020935618834894577\n",
      "[88]\tcv-test-auc:0.8386853999999999+0.010259934280491264\tcv-train-auc:0.8640596+0.002099129686322381\n",
      "[89]\tcv-test-auc:0.838732+0.010314845864093154\tcv-train-auc:0.8642215999999999+0.0021014800118011995\n",
      "[90]\tcv-test-auc:0.8387393999999999+0.010343755847853322\tcv-train-auc:0.8643794+0.002091235386081658\n",
      "[91]\tcv-test-auc:0.838847+0.010418146514615713\tcv-train-auc:0.8645262+0.002063776092506157\n",
      "[92]\tcv-test-auc:0.8389582000000001+0.010436614094619014\tcv-train-auc:0.8646419999999999+0.002042331217016486\n",
      "[93]\tcv-test-auc:0.839058+0.010435633243842958\tcv-train-auc:0.8648002+0.0020405406538464405\n",
      "[94]\tcv-test-auc:0.8391316+0.010426289437762611\tcv-train-auc:0.8649652+0.0020338154685221503\n",
      "[95]\tcv-test-auc:0.8391426000000001+0.010436092575288916\tcv-train-auc:0.8651116+0.002023049836262072\n",
      "[96]\tcv-test-auc:0.8391797999999999+0.010432249678760594\tcv-train-auc:0.8652787999999999+0.0020294939664852528\n",
      "[97]\tcv-test-auc:0.8392604+0.010426824302729948\tcv-train-auc:0.8654218+0.0019978775137630125\n",
      "[98]\tcv-test-auc:0.8393286+0.010400413503318027\tcv-train-auc:0.8655698+0.0019971566187958036\n",
      "[99]\tcv-test-auc:0.839429+0.010376087393618078\tcv-train-auc:0.865682+0.0019972890627047357\n",
      "[100]\tcv-test-auc:0.839457+0.010383226146049222\tcv-train-auc:0.8658319999999999+0.0019778129335202457\n",
      "[101]\tcv-test-auc:0.8394644+0.010390592814656915\tcv-train-auc:0.8659950000000001+0.0019445214321267136\n",
      "[102]\tcv-test-auc:0.8394686+0.010372714294725367\tcv-train-auc:0.8661304+0.0019148788577870745\n",
      "[103]\tcv-test-auc:0.8394905999999999+0.010336624025280227\tcv-train-auc:0.8662601999999999+0.0019408510916605602\n",
      "[104]\tcv-test-auc:0.8395111999999999+0.010300681033795783\tcv-train-auc:0.8663956+0.001947998110882025\n",
      "[105]\tcv-test-auc:0.839516+0.010258251020520016\tcv-train-auc:0.8665212+0.0019369263692768416\n",
      "[106]\tcv-test-auc:0.8394686+0.010206578811727261\tcv-train-auc:0.8666371999999999+0.0019384597390712018\n",
      "[107]\tcv-test-auc:0.8393976000000001+0.01022810583832606\tcv-train-auc:0.8668028+0.0019066298434672901\n",
      "[108]\tcv-test-auc:0.8394096+0.010164473574169983\tcv-train-auc:0.8669308000000001+0.0018761469452044657\n",
      "[109]\tcv-test-auc:0.8393995999999999+0.010197767453712595\tcv-train-auc:0.8670606000000001+0.001890212644122338\n",
      "[110]\tcv-test-auc:0.8393816000000001+0.010178036855897127\tcv-train-auc:0.8671612+0.0019004920836457042\n",
      "[111]\tcv-test-auc:0.8394552000000001+0.010165519374827858\tcv-train-auc:0.8672628+0.001893289666163109\n",
      "[112]\tcv-test-auc:0.8394888+0.010086706705362243\tcv-train-auc:0.8674004+0.0018738095527560778\n",
      "[113]\tcv-test-auc:0.8396236+0.01000333073730944\tcv-train-auc:0.8675526+0.0018677267037765593\n",
      "[114]\tcv-test-auc:0.8396318+0.010000263884518263\tcv-train-auc:0.867672+0.0018945669689931714\n",
      "[115]\tcv-test-auc:0.8396326000000001+0.009973063834148468\tcv-train-auc:0.8677836000000001+0.0019126621865870788\n",
      "[116]\tcv-test-auc:0.8396977999999999+0.009981832765579684\tcv-train-auc:0.8679226+0.0019514848295592792\n",
      "[117]\tcv-test-auc:0.8397318+0.009991729968328816\tcv-train-auc:0.8680458+0.001950681562941541\n",
      "[118]\tcv-test-auc:0.8397526000000001+0.010023783209946244\tcv-train-auc:0.8681588000000001+0.001965196214122123\n",
      "[119]\tcv-test-auc:0.8397395999999999+0.010008594338866954\tcv-train-auc:0.8682582+0.001955774261002525\n",
      "[120]\tcv-test-auc:0.839743+0.01002314894631421\tcv-train-auc:0.8684011999999999+0.0019167041920964258\n",
      "[121]\tcv-test-auc:0.8397575999999999+0.009954439544243559\tcv-train-auc:0.8685496+0.0019209970952607104\n",
      "[122]\tcv-test-auc:0.8397178000000001+0.009959699180196133\tcv-train-auc:0.8686998000000001+0.0018999476203306533\n",
      "[123]\tcv-test-auc:0.8397532+0.009905160440901504\tcv-train-auc:0.8688298+0.0018996327434533172\n",
      "[124]\tcv-test-auc:0.8397268+0.009952464366175837\tcv-train-auc:0.8689585999999998+0.0018617349542832244\n",
      "[125]\tcv-test-auc:0.8397542+0.009948778887883673\tcv-train-auc:0.8690562+0.0018776133148228414\n",
      "[126]\tcv-test-auc:0.8397707999999999+0.009966261774607398\tcv-train-auc:0.8691818+0.0018822950246972392\n",
      "[127]\tcv-test-auc:0.8397846+0.010000891172290574\tcv-train-auc:0.8692755999999999+0.0018959261167039332\n",
      "[128]\tcv-test-auc:0.8398692000000001+0.009991992381902615\tcv-train-auc:0.8693785999999999+0.0018996031796140935\n",
      "[129]\tcv-test-auc:0.8398814+0.010005809984204191\tcv-train-auc:0.8694727999999999+0.001891499553264561\n",
      "[130]\tcv-test-auc:0.8398443999999999+0.009997572797434377\tcv-train-auc:0.8696026+0.0019013502149788435\n",
      "[131]\tcv-test-auc:0.8398807999999999+0.009957044870843956\tcv-train-auc:0.8697458000000001+0.0018811030168494158\n",
      "[132]\tcv-test-auc:0.8398655999999999+0.009948567145071686\tcv-train-auc:0.8698802000000001+0.0018523971928287837\n",
      "[133]\tcv-test-auc:0.8398108000000001+0.010008948604124216\tcv-train-auc:0.8700048+0.0018538739331464811\n",
      "[134]\tcv-test-auc:0.8398792+0.009983017327441628\tcv-train-auc:0.8701086+0.0018668422107934108\n",
      "[135]\tcv-test-auc:0.8399062+0.010002108405731245\tcv-train-auc:0.8702454+0.0018683942410529948\n",
      "[136]\tcv-test-auc:0.8399212+0.009998305764478294\tcv-train-auc:0.8703344+0.0018752493807491014\n",
      "[137]\tcv-test-auc:0.8399660000000001+0.010002991172644339\tcv-train-auc:0.8704381999999999+0.001854251913845584\n",
      "[138]\tcv-test-auc:0.8399902000000001+0.010009899348145317\tcv-train-auc:0.8705578+0.001880776158930145\n",
      "[139]\tcv-test-auc:0.8399518+0.010041701796010463\tcv-train-auc:0.8706618+0.0018683791264087525\n",
      "[140]\tcv-test-auc:0.8400012+0.01005116348290086\tcv-train-auc:0.8707906+0.0018605068771708436\n",
      "[141]\tcv-test-auc:0.839993+0.010004863857144703\tcv-train-auc:0.8708988000000002+0.0018831248923000372\n",
      "[142]\tcv-test-auc:0.8399851999999999+0.009953080315158718\tcv-train-auc:0.8710072+0.001877933587750106\n",
      "[143]\tcv-test-auc:0.8399718+0.009964269434333874\tcv-train-auc:0.8711114+0.0018763516301588973\n",
      "[144]\tcv-test-auc:0.8399890000000001+0.009958040329301743\tcv-train-auc:0.8711838000000001+0.0018755643843920496\n",
      "[145]\tcv-test-auc:0.8400266000000001+0.009988732384041505\tcv-train-auc:0.8712788+0.0018806731135420699\n",
      "[146]\tcv-test-auc:0.8400529999999999+0.010015244859712618\tcv-train-auc:0.8714230000000001+0.0018798339288351783\n",
      "[147]\tcv-test-auc:0.8400573999999998+0.010020361841769977\tcv-train-auc:0.8715206+0.0018703501918090064\n",
      "[148]\tcv-test-auc:0.8400784+0.010016875712516327\tcv-train-auc:0.8716184+0.0018739648449210512\n",
      "[149]\tcv-test-auc:0.8400592+0.009964657633857768\tcv-train-auc:0.8717520000000001+0.0018715572125906003\n",
      "[150]\tcv-test-auc:0.840088+0.009955771471864949\tcv-train-auc:0.8718084000000001+0.0018792739661901295\n",
      "[151]\tcv-test-auc:0.8400708+0.009913055238421713\tcv-train-auc:0.8718864+0.0018589327690909172\n",
      "[152]\tcv-test-auc:0.840043+0.009928391672370718\tcv-train-auc:0.8719934+0.0018782833226113568\n",
      "[153]\tcv-test-auc:0.8400551999999999+0.009921824316122542\tcv-train-auc:0.872109+0.001873519362056353\n",
      "[154]\tcv-test-auc:0.8400793999999999+0.009956730479429458\tcv-train-auc:0.8721854+0.0018688414164931238\n",
      "[155]\tcv-test-auc:0.8400894000000001+0.010003905569326406\tcv-train-auc:0.8722783999999999+0.0018588478797362613\n",
      "[156]\tcv-test-auc:0.8401064+0.010016240584171266\tcv-train-auc:0.8723867999999999+0.0018420444511466363\n",
      "[157]\tcv-test-auc:0.8401173999999999+0.010005405710914482\tcv-train-auc:0.8724917999999999+0.0018522069430816713\n",
      "[158]\tcv-test-auc:0.8401080000000001+0.010010534730972149\tcv-train-auc:0.8725832+0.0018524204058474473\n",
      "[159]\tcv-test-auc:0.8401434+0.01002232110042377\tcv-train-auc:0.8726875999999999+0.001846047193329572\n",
      "[160]\tcv-test-auc:0.8401378000000002+0.010012881890844394\tcv-train-auc:0.8728026+0.0018809391909362558\n",
      "[161]\tcv-test-auc:0.8400934+0.009991367445950524\tcv-train-auc:0.8729196+0.0018849353941183208\n",
      "[162]\tcv-test-auc:0.8401012+0.010003634567495966\tcv-train-auc:0.8730117999999999+0.0018831519747487247\n",
      "[163]\tcv-test-auc:0.8400946000000001+0.010014170591716491\tcv-train-auc:0.8731224000000001+0.0019081735350853016\n",
      "[164]\tcv-test-auc:0.8401142+0.009994088080460355\tcv-train-auc:0.8732469999999999+0.0018988319567565539\n",
      "[165]\tcv-test-auc:0.8401354+0.010055758561142956\tcv-train-auc:0.8733214+0.0019289663138582782\n",
      "[166]\tcv-test-auc:0.8401756+0.010102087103168327\tcv-train-auc:0.8734259999999999+0.0019547097994331614\n",
      "[167]\tcv-test-auc:0.840204+0.010108013533825549\tcv-train-auc:0.8735250000000001+0.001945727627392907\n",
      "[168]\tcv-test-auc:0.840221+0.010153138982600386\tcv-train-auc:0.8736111999999998+0.0019557303904168236\n",
      "[169]\tcv-test-auc:0.8402708000000001+0.010150416373725773\tcv-train-auc:0.8736894+0.00195953000487361\n",
      "[170]\tcv-test-auc:0.8402350000000001+0.01015018945635992\tcv-train-auc:0.8737888+0.0019615976549741503\n",
      "[171]\tcv-test-auc:0.8402624000000001+0.010134960317633201\tcv-train-auc:0.8738735999999999+0.0019380569238285936\n",
      "[172]\tcv-test-auc:0.840295+0.010125476541871983\tcv-train-auc:0.8739452+0.001953298072491741\n",
      "[173]\tcv-test-auc:0.8402784000000001+0.010128638952988692\tcv-train-auc:0.8740378+0.0019308685506786833\n",
      "[174]\tcv-test-auc:0.8403241999999999+0.010115148686994173\tcv-train-auc:0.874155+0.0019386329203848593\n",
      "[175]\tcv-test-auc:0.840302+0.010109340077373996\tcv-train-auc:0.8742796+0.001900892379910045\n",
      "[176]\tcv-test-auc:0.840304+0.010086648660481822\tcv-train-auc:0.8743793999999999+0.0018839450735093093\n",
      "[177]\tcv-test-auc:0.8402854+0.010090650417094013\tcv-train-auc:0.8744788+0.0018778068484271483\n",
      "[178]\tcv-test-auc:0.8402718+0.010085468465073882\tcv-train-auc:0.8745736+0.0019024370265530405\n",
      "[179]\tcv-test-auc:0.8402977999999999+0.010093521316171071\tcv-train-auc:0.8746446000000001+0.001907896076834352\n",
      "[180]\tcv-test-auc:0.8403062+0.010086953423110473\tcv-train-auc:0.8747252+0.0019001485626129297\n",
      "[181]\tcv-test-auc:0.8403368+0.010112555827287177\tcv-train-auc:0.8748104+0.0019113076780047616\n",
      "[182]\tcv-test-auc:0.8403357999999999+0.010137935478192792\tcv-train-auc:0.8749226+0.0018852434962094433\n",
      "[183]\tcv-test-auc:0.8403387999999999+0.010126213535176912\tcv-train-auc:0.8750056+0.0018699063719876334\n",
      "[184]\tcv-test-auc:0.8403387999999999+0.010149913682391579\tcv-train-auc:0.8751009999999999+0.001881694449160128\n",
      "[185]\tcv-test-auc:0.8403144000000001+0.010141531888230672\tcv-train-auc:0.8751909999999998+0.0019007624785858832\n",
      "[186]\tcv-test-auc:0.8403027999999999+0.01013954654607394\tcv-train-auc:0.8752746+0.001899728254251117\n",
      "[187]\tcv-test-auc:0.8403027999999999+0.0101246133239744\tcv-train-auc:0.8754004+0.001896581408745752\n",
      "[188]\tcv-test-auc:0.8403204000000001+0.01011215457951471\tcv-train-auc:0.8754706000000001+0.0018865135674041799\n",
      "[189]\tcv-test-auc:0.8403635999999999+0.01011983123574695\tcv-train-auc:0.8755499999999999+0.0018924949669682262\n",
      "[190]\tcv-test-auc:0.840376+0.010121040104653253\tcv-train-auc:0.8756514000000001+0.001854345124295933\n",
      "[191]\tcv-test-auc:0.8403768000000001+0.01013046597941083\tcv-train-auc:0.8757692+0.0018534837900558855\n",
      "[192]\tcv-test-auc:0.8403752000000001+0.010109072566759053\tcv-train-auc:0.8758382000000001+0.0018531537874661057\n",
      "[193]\tcv-test-auc:0.8403454+0.010115603582584703\tcv-train-auc:0.8759238+0.0018479159504696165\n",
      "[194]\tcv-test-auc:0.8403601999999999+0.010123427253652758\tcv-train-auc:0.8760107999999999+0.0018455144973692232\n",
      "[195]\tcv-test-auc:0.8403852+0.010137076943576984\tcv-train-auc:0.8760942+0.0018536311823013735\n",
      "[196]\tcv-test-auc:0.840367+0.010161680392533519\tcv-train-auc:0.8761825999999999+0.001865954404587629\n",
      "[197]\tcv-test-auc:0.8403736+0.01015647577853656\tcv-train-auc:0.8762672+0.001850873242553356\n",
      "[198]\tcv-test-auc:0.8403698000000001+0.010137347787266668\tcv-train-auc:0.8763415999999999+0.0018623950816086217\n",
      "[199]\tcv-test-auc:0.840361+0.010151761265908468\tcv-train-auc:0.8764619999999999+0.0018668599304714766\n",
      "[200]\tcv-test-auc:0.8403622000000001+0.010124170927043862\tcv-train-auc:0.8765426+0.0018964881860955216\n",
      "[201]\tcv-test-auc:0.840391+0.01011911604835126\tcv-train-auc:0.8766298000000001+0.001919567701332755\n",
      "[202]\tcv-test-auc:0.8403944000000001+0.010150560272221448\tcv-train-auc:0.8767427999999999+0.0019383953569899136\n",
      "[203]\tcv-test-auc:0.8403997999999999+0.010161071427758012\tcv-train-auc:0.8768144+0.0019232503321200828\n",
      "[204]\tcv-test-auc:0.8404232+0.010114069871223933\tcv-train-auc:0.876895+0.0018981960910295752\n",
      "[205]\tcv-test-auc:0.8404134000000001+0.010123403629214829\tcv-train-auc:0.8769854+0.0018944319042921787\n",
      "[206]\tcv-test-auc:0.84038+0.010108256090938727\tcv-train-auc:0.8770621999999999+0.0018993309769495337\n",
      "[207]\tcv-test-auc:0.8403726+0.01011539000928784\tcv-train-auc:0.8771530000000001+0.0019319350920773677\n",
      "[208]\tcv-test-auc:0.8403611999999999+0.010141608637686601\tcv-train-auc:0.8772338+0.0019299957927415177\n",
      "[209]\tcv-test-auc:0.8403231999999999+0.010142897483461007\tcv-train-auc:0.8773338+0.0019233763438287314\n",
      "[210]\tcv-test-auc:0.8403366+0.01014818473619789\tcv-train-auc:0.877454+0.0019073260864362024\n",
      "[211]\tcv-test-auc:0.8403433999999999+0.010139041820606128\tcv-train-auc:0.8775203999999999+0.0019177801333834195\n",
      "[212]\tcv-test-auc:0.8403503999999999+0.010125207565279832\tcv-train-auc:0.8775995999999999+0.001888664882926551\n",
      "[213]\tcv-test-auc:0.8403472000000001+0.010159762150759219\tcv-train-auc:0.8776428000000001+0.0018761091013051406\n",
      "[214]\tcv-test-auc:0.8403307999999999+0.010166158633426878\tcv-train-auc:0.8777218000000001+0.00188551270481001\n",
      "[215]\tcv-test-auc:0.8403421999999999+0.01019753788715688\tcv-train-auc:0.8778358+0.0018761229597230732\n",
      "[216]\tcv-test-auc:0.8403371999999999+0.010242657924581889\tcv-train-auc:0.877914+0.0018797791359625327\n",
      "[217]\tcv-test-auc:0.8403268+0.010249636937960294\tcv-train-auc:0.8780236+0.001914253546424824\n",
      "[218]\tcv-test-auc:0.8403309999999999+0.010256500806805392\tcv-train-auc:0.8781169999999999+0.0019140148379780133\n",
      "[219]\tcv-test-auc:0.8402952000000001+0.010273495479144383\tcv-train-auc:0.8782124+0.0019259241521929116\n",
      "[220]\tcv-test-auc:0.840304+0.01027159968067289\tcv-train-auc:0.878302+0.001916409350843372\n",
      "[221]\tcv-test-auc:0.8403262+0.010267291062398104\tcv-train-auc:0.8783922000000001+0.0019020157097142973\n",
      "[222]\tcv-test-auc:0.8402877999999999+0.010249284763338359\tcv-train-auc:0.878477+0.0019170094418129613\n",
      "[223]\tcv-test-auc:0.8402749999999999+0.010251846975057705\tcv-train-auc:0.8785532+0.001907005967478866\n",
      "[224]\tcv-test-auc:0.840259+0.010260219783221013\tcv-train-auc:0.8786682000000001+0.0018614026324253524\n",
      "[225]\tcv-test-auc:0.8402267999999999+0.010246526931599807\tcv-train-auc:0.8787678+0.0018995857864282028\n",
      "[226]\tcv-test-auc:0.8402274000000001+0.010222272596639178\tcv-train-auc:0.8788804000000001+0.0019077499416852589\n",
      "[227]\tcv-test-auc:0.8402345999999999+0.01021350450335242\tcv-train-auc:0.8789770000000001+0.0018909663138194574\n",
      "[228]\tcv-test-auc:0.8402254000000001+0.010225697132225256\tcv-train-auc:0.8790888000000001+0.0018870027450960533\n",
      "[229]\tcv-test-auc:0.840192+0.010267145153352017\tcv-train-auc:0.8791637999999999+0.0018903790519364271\n",
      "[230]\tcv-test-auc:0.8401685999999999+0.010270442046961764\tcv-train-auc:0.8792525999999998+0.001891972579082485\n",
      "[231]\tcv-test-auc:0.8401392+0.010264819499630767\tcv-train-auc:0.8793436+0.0018731545157834788\n",
      "[232]\tcv-test-auc:0.8401271999999999+0.010274183985115294\tcv-train-auc:0.8794124+0.0018958454156391524\n",
      "[233]\tcv-test-auc:0.8401156000000001+0.010291149471268989\tcv-train-auc:0.8794826+0.0019010056917326493\n",
      "[234]\tcv-test-auc:0.8400914+0.010309799660517161\tcv-train-auc:0.8795494000000001+0.0019151643898109405\n",
      "[235]\tcv-test-auc:0.8400782000000001+0.010319891053688518\tcv-train-auc:0.8796098000000001+0.0019293905151627506\n",
      "[236]\tcv-test-auc:0.8400694+0.010331674222506249\tcv-train-auc:0.8797025999999999+0.001907340829532057\n",
      "[237]\tcv-test-auc:0.8400562+0.0103580978060646\tcv-train-auc:0.879783+0.0018854817951919037\n"
     ]
    },
    {
     "ename": "KeyboardInterrupt",
     "evalue": "",
     "output_type": "error",
     "traceback": [
      "\u001b[1;31m---------------------------------------------------------------------------\u001b[0m",
      "\u001b[1;31mKeyboardInterrupt\u001b[0m                         Traceback (most recent call last)",
      "\u001b[1;32m<ipython-input-13-a0c8ac738ffe>\u001b[0m in \u001b[0;36m<module>\u001b[1;34m()\u001b[0m\n\u001b[1;32m----> 1\u001b[1;33m \u001b[0mxgb\u001b[0m\u001b[1;33m.\u001b[0m\u001b[0mcv\u001b[0m\u001b[1;33m(\u001b[0m\u001b[0mparams\u001b[0m\u001b[1;33m,\u001b[0m \u001b[0mdtrain\u001b[0m\u001b[1;33m,\u001b[0m \u001b[0mnum_boost_round\u001b[0m\u001b[1;33m=\u001b[0m\u001b[1;36m560\u001b[0m\u001b[1;33m,\u001b[0m \u001b[0mnfold\u001b[0m\u001b[1;33m=\u001b[0m\u001b[1;36m5\u001b[0m\u001b[1;33m,\u001b[0m \u001b[0mstratified\u001b[0m\u001b[1;33m=\u001b[0m\u001b[1;32mTrue\u001b[0m\u001b[1;33m,\u001b[0m \u001b[0mverbose_eval\u001b[0m\u001b[1;33m=\u001b[0m\u001b[1;32mTrue\u001b[0m\u001b[1;33m)\u001b[0m\u001b[1;33m\u001b[0m\u001b[0m\n\u001b[0m",
      "\u001b[1;32m/home/libfun/vrt/lib/python3.4/site-packages/xgboost-0.4-py3.4.egg/xgboost/training.py\u001b[0m in \u001b[0;36mcv\u001b[1;34m(params, dtrain, num_boost_round, nfold, stratified, folds, metrics, obj, feval, maximize, early_stopping_rounds, fpreproc, as_pandas, verbose_eval, show_stdv, seed)\u001b[0m\n\u001b[0;32m    455\u001b[0m         \u001b[1;32mfor\u001b[0m \u001b[0mfold\u001b[0m \u001b[1;32min\u001b[0m \u001b[0mcvfolds\u001b[0m\u001b[1;33m:\u001b[0m\u001b[1;33m\u001b[0m\u001b[0m\n\u001b[0;32m    456\u001b[0m             \u001b[0mfold\u001b[0m\u001b[1;33m.\u001b[0m\u001b[0mupdate\u001b[0m\u001b[1;33m(\u001b[0m\u001b[0mi\u001b[0m\u001b[1;33m,\u001b[0m \u001b[0mobj\u001b[0m\u001b[1;33m)\u001b[0m\u001b[1;33m\u001b[0m\u001b[0m\n\u001b[1;32m--> 457\u001b[1;33m         res = aggcv([f.eval(i, feval) for f in cvfolds],\n\u001b[0m\u001b[0;32m    458\u001b[0m                     \u001b[0mshow_stdv\u001b[0m\u001b[1;33m=\u001b[0m\u001b[0mshow_stdv\u001b[0m\u001b[1;33m,\u001b[0m \u001b[0mverbose_eval\u001b[0m\u001b[1;33m=\u001b[0m\u001b[0mverbose_eval\u001b[0m\u001b[1;33m,\u001b[0m\u001b[1;33m\u001b[0m\u001b[0m\n\u001b[0;32m    459\u001b[0m                     as_pandas=as_pandas, trial=i)\n",
      "\u001b[1;32m/home/libfun/vrt/lib/python3.4/site-packages/xgboost-0.4-py3.4.egg/xgboost/training.py\u001b[0m in \u001b[0;36m<listcomp>\u001b[1;34m(.0)\u001b[0m\n\u001b[0;32m    455\u001b[0m         \u001b[1;32mfor\u001b[0m \u001b[0mfold\u001b[0m \u001b[1;32min\u001b[0m \u001b[0mcvfolds\u001b[0m\u001b[1;33m:\u001b[0m\u001b[1;33m\u001b[0m\u001b[0m\n\u001b[0;32m    456\u001b[0m             \u001b[0mfold\u001b[0m\u001b[1;33m.\u001b[0m\u001b[0mupdate\u001b[0m\u001b[1;33m(\u001b[0m\u001b[0mi\u001b[0m\u001b[1;33m,\u001b[0m \u001b[0mobj\u001b[0m\u001b[1;33m)\u001b[0m\u001b[1;33m\u001b[0m\u001b[0m\n\u001b[1;32m--> 457\u001b[1;33m         res = aggcv([f.eval(i, feval) for f in cvfolds],\n\u001b[0m\u001b[0;32m    458\u001b[0m                     \u001b[0mshow_stdv\u001b[0m\u001b[1;33m=\u001b[0m\u001b[0mshow_stdv\u001b[0m\u001b[1;33m,\u001b[0m \u001b[0mverbose_eval\u001b[0m\u001b[1;33m=\u001b[0m\u001b[0mverbose_eval\u001b[0m\u001b[1;33m,\u001b[0m\u001b[1;33m\u001b[0m\u001b[0m\n\u001b[0;32m    459\u001b[0m                     as_pandas=as_pandas, trial=i)\n",
      "\u001b[1;32m/home/libfun/vrt/lib/python3.4/site-packages/xgboost-0.4-py3.4.egg/xgboost/training.py\u001b[0m in \u001b[0;36meval\u001b[1;34m(self, iteration, feval)\u001b[0m\n\u001b[0;32m    255\u001b[0m     \u001b[1;32mdef\u001b[0m \u001b[0meval\u001b[0m\u001b[1;33m(\u001b[0m\u001b[0mself\u001b[0m\u001b[1;33m,\u001b[0m \u001b[0miteration\u001b[0m\u001b[1;33m,\u001b[0m \u001b[0mfeval\u001b[0m\u001b[1;33m)\u001b[0m\u001b[1;33m:\u001b[0m\u001b[1;33m\u001b[0m\u001b[0m\n\u001b[0;32m    256\u001b[0m         \u001b[1;34m\"\"\"\"Evaluate the CVPack for one iteration.\"\"\"\u001b[0m\u001b[1;33m\u001b[0m\u001b[0m\n\u001b[1;32m--> 257\u001b[1;33m         \u001b[1;32mreturn\u001b[0m \u001b[0mself\u001b[0m\u001b[1;33m.\u001b[0m\u001b[0mbst\u001b[0m\u001b[1;33m.\u001b[0m\u001b[0meval_set\u001b[0m\u001b[1;33m(\u001b[0m\u001b[0mself\u001b[0m\u001b[1;33m.\u001b[0m\u001b[0mwatchlist\u001b[0m\u001b[1;33m,\u001b[0m \u001b[0miteration\u001b[0m\u001b[1;33m,\u001b[0m \u001b[0mfeval\u001b[0m\u001b[1;33m)\u001b[0m\u001b[1;33m\u001b[0m\u001b[0m\n\u001b[0m\u001b[0;32m    258\u001b[0m \u001b[1;33m\u001b[0m\u001b[0m\n\u001b[0;32m    259\u001b[0m \u001b[1;33m\u001b[0m\u001b[0m\n",
      "\u001b[1;32m/home/libfun/vrt/lib/python3.4/site-packages/xgboost-0.4-py3.4.egg/xgboost/core.py\u001b[0m in \u001b[0;36meval_set\u001b[1;34m(self, evals, iteration, feval)\u001b[0m\n\u001b[0;32m    809\u001b[0m             _check_call(_LIB.XGBoosterEvalOneIter(self.handle, iteration,\n\u001b[0;32m    810\u001b[0m                                                   \u001b[0mdmats\u001b[0m\u001b[1;33m,\u001b[0m \u001b[0mevnames\u001b[0m\u001b[1;33m,\u001b[0m \u001b[0mlen\u001b[0m\u001b[1;33m(\u001b[0m\u001b[0mevals\u001b[0m\u001b[1;33m)\u001b[0m\u001b[1;33m,\u001b[0m\u001b[1;33m\u001b[0m\u001b[0m\n\u001b[1;32m--> 811\u001b[1;33m                                                   ctypes.byref(msg)))\n\u001b[0m\u001b[0;32m    812\u001b[0m             \u001b[1;32mreturn\u001b[0m \u001b[0mmsg\u001b[0m\u001b[1;33m.\u001b[0m\u001b[0mvalue\u001b[0m\u001b[1;33m\u001b[0m\u001b[0m\n\u001b[0;32m    813\u001b[0m         \u001b[1;32melse\u001b[0m\u001b[1;33m:\u001b[0m\u001b[1;33m\u001b[0m\u001b[0m\n",
      "\u001b[1;31mKeyboardInterrupt\u001b[0m: "
     ]
    }
   ],
   "source": [
    "xgb.cv(params, dtrain, num_boost_round=560, nfold=5, stratified=True, verbose_eval=True)"
   ]
  },
  {
   "cell_type": "code",
   "execution_count": 14,
   "metadata": {
    "collapsed": true
   },
   "outputs": [],
   "source": [
    "dtest = xgb.DMatrix(test)"
   ]
  },
  {
   "cell_type": "code",
   "execution_count": 15,
   "metadata": {
    "collapsed": true
   },
   "outputs": [],
   "source": [
    "gbm = xgb.train(params, dtrain, num_boost_round=256)"
   ]
  },
  {
   "cell_type": "code",
   "execution_count": 16,
   "metadata": {
    "collapsed": true
   },
   "outputs": [],
   "source": [
    "preds = gbm.predict(dtest)"
   ]
  },
  {
   "cell_type": "code",
   "execution_count": 17,
   "metadata": {
    "collapsed": false
   },
   "outputs": [
    {
     "data": {
      "text/plain": [
       "array([ 0.53241587,  0.61659712,  0.03572532, ...,  0.07458355,\n",
       "        0.62134498,  0.02381196], dtype=float32)"
      ]
     },
     "execution_count": 17,
     "metadata": {},
     "output_type": "execute_result"
    }
   ],
   "source": [
    "preds"
   ]
  },
  {
   "cell_type": "code",
   "execution_count": 18,
   "metadata": {
    "collapsed": true
   },
   "outputs": [],
   "source": [
    "sample = pd.read_csv('data/sample_submission.csv', index_col='ID')\n",
    "sample.TARGET = preds\n",
    "sample.to_csv('submission/init_xgb_w.csv', index_label='ID')"
   ]
  }
 ],
 "metadata": {
  "kernelspec": {
   "display_name": "Python 3",
   "language": "python",
   "name": "python3"
  },
  "language_info": {
   "codemirror_mode": {
    "name": "ipython",
    "version": 3
   },
   "file_extension": ".py",
   "mimetype": "text/x-python",
   "name": "python",
   "nbconvert_exporter": "python",
   "pygments_lexer": "ipython3",
   "version": "3.4.3"
  }
 },
 "nbformat": 4,
 "nbformat_minor": 0
}
