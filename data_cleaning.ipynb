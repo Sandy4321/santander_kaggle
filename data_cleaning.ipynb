{
 "cells": [
  {
   "cell_type": "code",
   "execution_count": 2,
   "metadata": {
    "collapsed": true
   },
   "outputs": [],
   "source": [
    "import numpy as np\n",
    "import pandas as pd\n",
    "import matplotlib.pyplot as plt\n",
    "%matplotlib inline"
   ]
  },
  {
   "cell_type": "code",
   "execution_count": 64,
   "metadata": {
    "collapsed": true
   },
   "outputs": [],
   "source": [
    "from bot import sendMessage\n",
    "    \n",
    "from __future__ import print_function\n",
    "import seaborn; seaborn.set()"
   ]
  },
  {
   "cell_type": "code",
   "execution_count": 4,
   "metadata": {
    "collapsed": true
   },
   "outputs": [],
   "source": [
    "r_train = pd.read_csv('data/r_train.csv', index_col=0)\n",
    "r_test = pd.read_csv('data/r_test.csv', index_col=0)\n",
    "r_target = pd.read_csv('data/target.csv', index_col=0)['0']"
   ]
  },
  {
   "cell_type": "code",
   "execution_count": 140,
   "metadata": {
    "collapsed": true
   },
   "outputs": [],
   "source": [
    "droplist = set(['ind_var6', 'saldo_medio_var17_hace3', 'delta_imp_trasp_var33_out_1y3', \n",
    "                'saldo_medio_var17_hace2', 'ind_var20_0', 'delta_imp_reemb_var33_1y3',\n",
    "                'delta_imp_reemb_var13_1y3', 'num_var13_medio_0', 'ind_var20', 'ind_var18_0',\n",
    "                'delta_imp_amort_var18_1y3', 'delta_imp_amort_var34_1y3', 'saldo_medio_var12_ult1',\n",
    "                'delta_imp_aport_var13_1y3', 'delta_imp_venta_var44_1y3', 'saldo_medio_var17_ult3',\n",
    "                'num_meses_var13_medio_ult3', 'delta_num_aport_var33_1y3', 'delta_num_aport_var17_1y3',\n",
    "                'delta_num_compra_var44_1y3', 'imp_reemb_var33_ult1', 'delta_imp_trasp_var17_out_1y3',\n",
    "                'imp_reemb_var17_hace3', 'ind_var34_0', 'delta_imp_trasp_var17_in_1y3'])\n",
    "\n",
    "droplist = ['imp_op_var39_efect_ult3', 'num_op_var41_ult3', 'imp_op_var39_efect_ult1', \n",
    "            'delta_imp_aport_var13_1y3', 'delta_imp_reemb_var33_1y3', 'num_trasp_var33_out_ult1', \n",
    "            'ind_var18_0', 'delta_imp_reemb_var13_1y3', 'saldo_medio_var13_medio_ult3', \n",
    "            'ind_var20_0', 'imp_trasp_var17_in_hace3', 'num_op_var41_ult1', 'num_var1_0', \n",
    "            'num_var44', 'ind_var40_0', 'ind_var13_largo_0', 'num_var34_0', 'ind_var24', \n",
    "            'num_op_var41_efect_ult1', 'saldo_var24', 'imp_op_var41_ult1', 'ind_var20', \n",
    "            'ind_var39_0', 'num_var40', 'num_trasp_var17_in_ult1', 'num_var8_0', \n",
    "            'saldo_medio_var17_ult3', 'ind_var6_0', 'num_var8', 'num_var6', 'num_var13_medio_0', \n",
    "            'num_var4', 'ind_var14', 'num_var1', 'saldo_var1', 'saldo_medio_var33_ult3', \n",
    "            'num_reemb_var17_hace3', 'num_op_var41_efect_ult3', 'delta_num_venta_var44_1y3', \n",
    "            'delta_num_aport_var33_1y3', 'saldo_medio_var17_hace3', 'saldo_medio_var17_hace2', \n",
    "            'ind_var34_0', 'saldo_medio_var33_ult1', 'num_var45_ult3', 'saldo_medio_var12_ult1', \n",
    "            'num_var18_0', 'saldo_medio_var13_medio_hace2', 'num_reemb_var33_ult1', 'ind_var13_corto_0', \n",
    "            'ind_var13', 'num_op_var41_hace3', 'num_op_var41_hace2', 'ind_var7_emit_ult1', \n",
    "            'num_var12', 'saldo_medio_var13_largo_ult1', 'ind_var24_0', 'saldo_var17', \n",
    "            'num_var5', 'delta_num_compra_var44_1y3', 'saldo_var26', 'saldo_var34', \n",
    "            'saldo_medio_var13_corto_ult1', 'saldo_var13_corto', 'saldo_var18', \n",
    "            'delta_num_aport_var17_1y3', 'num_meses_var13_medio_ult3', 'num_trasp_var17_out_ult1', \n",
    "            'ind_var44_0', 'imp_trasp_var33_out_ult1', 'num_var40_0', 'ind_var1', 'num_var13_corto']\n",
    "#droplist = []"
   ]
  },
  {
   "cell_type": "code",
   "execution_count": 141,
   "metadata": {
    "collapsed": false
   },
   "outputs": [],
   "source": [
    "data = r_train.drop(droplist, axis=1)"
   ]
  },
  {
   "cell_type": "code",
   "execution_count": 142,
   "metadata": {
    "collapsed": false
   },
   "outputs": [
    {
     "name": "stdout",
     "output_type": "stream",
     "text": [
      "Wall time: 12.7 s\n"
     ]
    }
   ],
   "source": [
    "%%time\n",
    "dc = data.corr()"
   ]
  },
  {
   "cell_type": "code",
   "execution_count": 143,
   "metadata": {
    "collapsed": false
   },
   "outputs": [
    {
     "name": "stdout",
     "output_type": "stream",
     "text": [
      "0\n"
     ]
    }
   ],
   "source": [
    "#Find correlations\n",
    "def bad_feature_pairs(corr, columns, th):\n",
    "    bad_fts = set()\n",
    "    bad_count = {ft:0 for ft in columns}\n",
    "    for ft1 in columns:\n",
    "        for ft2 in columns:\n",
    "            if ft1 == ft2: \n",
    "                continue\n",
    "            if corr[ft1][ft2] > th:\n",
    "                pair = tuple(sorted([ft1, ft2]))\n",
    "                if pair not in bad_fts:\n",
    "                    bad_fts.add(pair)\n",
    "                    bad_count[ft1] += 1\n",
    "                    bad_count[ft2] += 1\n",
    "    return bad_fts, bad_count\n",
    "\n",
    "corr_th = .98\n",
    "bad_fts, bad_count = bad_feature_pairs(dc, dc.columns, corr_th)\n",
    "print(len(bad_fts))"
   ]
  },
  {
   "cell_type": "code",
   "execution_count": 144,
   "metadata": {
    "collapsed": false
   },
   "outputs": [],
   "source": [
    "for ft1, ft2 in sorted(list(bad_fts), key=lambda x: -dc[x[0]][x[1]]):\n",
    "    print(ft1, ft2, dc[ft1][ft2])"
   ]
  },
  {
   "cell_type": "code",
   "execution_count": 145,
   "metadata": {
    "collapsed": false
   },
   "outputs": [],
   "source": [
    "for ft in sorted(bad_count, key=lambda x: -bad_count[x]):\n",
    "    if bad_count[ft] > 0:\n",
    "        print(ft, bad_count[ft])"
   ]
  },
  {
   "cell_type": "code",
   "execution_count": 146,
   "metadata": {
    "collapsed": false
   },
   "outputs": [
    {
     "data": {
      "text/plain": [
       "0"
      ]
     },
     "execution_count": 146,
     "metadata": {},
     "output_type": "execute_result"
    }
   ],
   "source": [
    "correlated = set(map(lambda x: x[0], bad_fts) + map(lambda x: x[1], bad_fts))\n",
    "len(correlated)"
   ]
  },
  {
   "cell_type": "code",
   "execution_count": 148,
   "metadata": {
    "collapsed": false
   },
   "outputs": [
    {
     "name": "stdout",
     "output_type": "stream",
     "text": [
      "num_var45_hace2 0\n",
      "0 set([])\n"
     ]
    }
   ],
   "source": [
    "to_drop = set()\n",
    "while True:\n",
    "    _, bc = bad_feature_pairs(dc, set(dc.columns).difference(to_drop), corr_th)\n",
    "    #print(bc)\n",
    "    bcs = sorted(bc, key=lambda x: -bc[x])\n",
    "    print(bcs[0], bc[bcs[0]])\n",
    "    if bc[bcs[0]] == 0:\n",
    "        break\n",
    "    to_drop.add(bcs[0])\n",
    "print(len(to_drop), to_drop)"
   ]
  }
 ],
 "metadata": {
  "kernelspec": {
   "display_name": "Python 2",
   "language": "python",
   "name": "python2"
  },
  "language_info": {
   "codemirror_mode": {
    "name": "ipython",
    "version": 2
   },
   "file_extension": ".py",
   "mimetype": "text/x-python",
   "name": "python",
   "nbconvert_exporter": "python",
   "pygments_lexer": "ipython2",
   "version": "2.7.11"
  }
 },
 "nbformat": 4,
 "nbformat_minor": 0
}
