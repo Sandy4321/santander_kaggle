{
 "cells": [
  {
   "cell_type": "code",
   "execution_count": 3,
   "metadata": {
    "collapsed": true
   },
   "outputs": [],
   "source": [
    "import numpy as np\n",
    "import pandas as pd\n",
    "import matplotlib.pyplot as plt\n",
    "%matplotlib inline\n",
    "from __future__ import print_function, division\n",
    "import seaborn; seaborn.set()"
   ]
  },
  {
   "cell_type": "code",
   "execution_count": 4,
   "metadata": {
    "collapsed": true
   },
   "outputs": [],
   "source": [
    "from bot import sendMessage"
   ]
  },
  {
   "cell_type": "code",
   "execution_count": 3,
   "metadata": {
    "collapsed": true
   },
   "outputs": [],
   "source": [
    "r_train = pd.read_csv('data/r_train.csv', index_col=0)\n",
    "r_test = pd.read_csv('data/r_test.csv', index_col=0)\n",
    "r_target = pd.read_csv('data/target.csv', index_col=0)['0']"
   ]
  },
  {
   "cell_type": "code",
   "execution_count": 4,
   "metadata": {
    "collapsed": true
   },
   "outputs": [],
   "source": [
    "droplist = set(['ind_var6', 'saldo_medio_var17_hace3', 'delta_imp_trasp_var33_out_1y3', \n",
    "                'saldo_medio_var17_hace2', 'ind_var20_0', 'delta_imp_reemb_var33_1y3',\n",
    "                'delta_imp_reemb_var13_1y3', 'num_var13_medio_0', 'ind_var20', 'ind_var18_0',\n",
    "                'delta_imp_amort_var18_1y3', 'delta_imp_amort_var34_1y3', 'saldo_medio_var12_ult1',\n",
    "                'delta_imp_aport_var13_1y3', 'delta_imp_venta_var44_1y3', 'saldo_medio_var17_ult3',\n",
    "                'num_meses_var13_medio_ult3', 'delta_num_aport_var33_1y3', 'delta_num_aport_var17_1y3',\n",
    "                'delta_num_compra_var44_1y3', 'imp_reemb_var33_ult1', 'delta_imp_trasp_var17_out_1y3',\n",
    "                'imp_reemb_var17_hace3', 'ind_var34_0', 'delta_imp_trasp_var17_in_1y3'])\n",
    "\n",
    "droplist = ['imp_op_var39_efect_ult3', 'num_op_var41_ult3', 'imp_op_var39_efect_ult1', \n",
    "            'delta_imp_aport_var13_1y3', 'delta_imp_reemb_var33_1y3', 'num_trasp_var33_out_ult1', \n",
    "            'ind_var18_0', 'delta_imp_reemb_var13_1y3', 'saldo_medio_var13_medio_ult3', \n",
    "            'ind_var20_0', 'imp_trasp_var17_in_hace3', 'num_op_var41_ult1', 'num_var1_0', \n",
    "            'num_var44', 'ind_var40_0', 'ind_var13_largo_0', 'num_var34_0', 'ind_var24', \n",
    "            'num_op_var41_efect_ult1', 'saldo_var24', 'imp_op_var41_ult1', 'ind_var20', \n",
    "            'ind_var39_0', 'num_var40', 'num_trasp_var17_in_ult1', 'num_var8_0', \n",
    "            'saldo_medio_var17_ult3', 'ind_var6_0', 'num_var8', 'num_var6', 'num_var13_medio_0', \n",
    "            'num_var4', 'ind_var14', 'num_var1', 'saldo_var1', 'saldo_medio_var33_ult3', \n",
    "            'num_reemb_var17_hace3', 'num_op_var41_efect_ult3', 'delta_num_venta_var44_1y3', \n",
    "            'delta_num_aport_var33_1y3', 'saldo_medio_var17_hace3', 'saldo_medio_var17_hace2', \n",
    "            'ind_var34_0', 'saldo_medio_var33_ult1', 'num_var45_ult3', 'saldo_medio_var12_ult1', \n",
    "            'num_var18_0', 'saldo_medio_var13_medio_hace2', 'num_reemb_var33_ult1', 'ind_var13_corto_0', \n",
    "            'ind_var13', 'num_op_var41_hace3', 'num_op_var41_hace2', 'ind_var7_emit_ult1', \n",
    "            'num_var12', 'saldo_medio_var13_largo_ult1', 'ind_var24_0', 'saldo_var17', \n",
    "            'num_var5', 'delta_num_compra_var44_1y3', 'saldo_var26', 'saldo_var34', \n",
    "            'saldo_medio_var13_corto_ult1', 'saldo_var13_corto', 'saldo_var18', \n",
    "            'delta_num_aport_var17_1y3', 'num_meses_var13_medio_ult3', 'num_trasp_var17_out_ult1', \n",
    "            'ind_var44_0', 'imp_trasp_var33_out_ult1', 'num_var40_0', 'ind_var1', 'num_var13_corto']\n",
    "droplist = []"
   ]
  },
  {
   "cell_type": "code",
   "execution_count": 5,
   "metadata": {
    "collapsed": false
   },
   "outputs": [],
   "source": [
    "data = r_train.drop(droplist, axis=1)"
   ]
  },
  {
   "cell_type": "code",
   "execution_count": 6,
   "metadata": {
    "collapsed": false
   },
   "outputs": [
    {
     "name": "stdout",
     "output_type": "stream",
     "text": [
      "Wall time: 22.9 s\n"
     ]
    }
   ],
   "source": [
    "%%time\n",
    "dc = data.corr()"
   ]
  },
  {
   "cell_type": "code",
   "execution_count": 7,
   "metadata": {
    "collapsed": false
   },
   "outputs": [
    {
     "name": "stdout",
     "output_type": "stream",
     "text": [
      "148\n"
     ]
    }
   ],
   "source": [
    "#Find correlations\n",
    "def bad_feature_pairs(corr, columns, th):\n",
    "    bad_fts = dict()\n",
    "    bad_count = {ft:0 for ft in columns}\n",
    "    for ft1 in columns:\n",
    "        for ft2 in columns:\n",
    "            if ft1 == ft2: \n",
    "                continue\n",
    "            if corr[ft1][ft2] > th:\n",
    "                pair = tuple(sorted([ft1, ft2]))\n",
    "                if pair not in bad_fts:\n",
    "                    bad_fts[pair] = corr[ft1][ft2]\n",
    "                    bad_count[ft1] += 1\n",
    "                    bad_count[ft2] += 1\n",
    "    return bad_fts, bad_count\n",
    "\n",
    "corr_th = .95\n",
    "bad_fts, bad_count = bad_feature_pairs(dc, dc.columns, corr_th)\n",
    "print(len(bad_fts))"
   ]
  },
  {
   "cell_type": "code",
   "execution_count": 8,
   "metadata": {
    "collapsed": false
   },
   "outputs": [
    {
     "name": "stdout",
     "output_type": "stream",
     "text": [
      "ind_var6 num_var6 1.00000000001\n",
      "delta_imp_trasp_var33_out_1y3 num_trasp_var33_out_ult1 1.0\n",
      "delta_imp_reemb_var33_1y3 num_reemb_var33_ult1 1.0\n",
      "ind_var20_0 num_var20_0 1.0\n",
      "delta_imp_reemb_var13_1y3 num_reemb_var13_ult1 1.0\n",
      "ind_var20 num_var20 1.0\n",
      "ind_var13_medio_0 num_var13_medio_0 1.0\n",
      "num_meses_var13_medio_ult3 num_var13_medio_0 1.0\n",
      "delta_imp_amort_var18_1y3 num_var18_0 1.0\n",
      "ind_var18_0 num_var18_0 1.0\n",
      "delta_imp_amort_var34_1y3 num_var34_0 1.0\n",
      "delta_imp_aport_var13_1y3 delta_num_aport_var13_1y3 1.0\n",
      "delta_imp_venta_var44_1y3 delta_num_venta_var44_1y3 1.0\n",
      "delta_imp_aport_var33_1y3 delta_num_aport_var33_1y3 1.0\n",
      "delta_imp_aport_var17_1y3 delta_num_aport_var17_1y3 1.0\n",
      "ind_var13_medio_0 num_meses_var13_medio_ult3 1.0\n",
      "delta_imp_compra_var44_1y3 delta_num_compra_var44_1y3 1.0\n",
      "delta_imp_amort_var18_1y3 ind_var18_0 1.0\n",
      "imp_reemb_var33_ult1 num_reemb_var33_ult1 1.0\n",
      "delta_imp_trasp_var17_out_1y3 num_trasp_var17_out_ult1 1.0\n",
      "imp_reemb_var17_hace3 num_reemb_var17_hace3 1.0\n",
      "ind_var34_0 num_var34_0 1.0\n",
      "delta_imp_trasp_var17_in_1y3 num_trasp_var17_in_ult1 1.0\n",
      "delta_imp_amort_var34_1y3 ind_var34_0 0.999999999999\n",
      "ind_var7_emit_ult1 num_var7_emit_ult1 0.999999999999\n",
      "ind_var40 num_var40 0.999999999998\n",
      "delta_imp_reemb_var33_1y3 imp_reemb_var33_ult1 0.999999999998\n",
      "ind_var44 num_var44 0.999999999997\n",
      "ind_var8 num_var8 0.999999999997\n",
      "imp_trasp_var33_out_ult1 num_trasp_var33_out_ult1 0.999999999997\n",
      "delta_imp_trasp_var33_out_1y3 imp_trasp_var33_out_ult1 0.999999999996\n",
      "ind_var6_0 num_var6_0 0.999999999995\n",
      "saldo_var1 saldo_var18 0.99986210623\n",
      "imp_amort_var18_ult1 saldo_var18 0.99980451772\n",
      "ind_var8_0 num_var8_0 0.999793191936\n",
      "imp_trasp_var17_in_hace3 num_trasp_var17_in_hace3 0.999754969178\n",
      "imp_amort_var18_ult1 saldo_var1 0.999685035725\n",
      "ind_var13_corto num_var13_corto 0.999669910602\n",
      "ind_var24 num_var24 0.999460783261\n",
      "ind_var40_0 num_var40_0 0.999419825291\n",
      "imp_op_var39_efect_ult3 imp_op_var41_efect_ult3 0.999270934254\n",
      "num_op_var39_efect_ult3 num_op_var41_efect_ult3 0.999244416638\n",
      "num_op_var39_efect_ult1 num_op_var41_efect_ult1 0.99896594905\n",
      "ind_var1_0 num_var1_0 0.998848549317\n",
      "saldo_medio_var33_ult1 saldo_var33 0.998625555138\n",
      "imp_op_var39_efect_ult1 imp_op_var41_efect_ult1 0.998378134203\n",
      "imp_aport_var17_hace3 saldo_medio_var17_hace3 0.998288290766\n",
      "ind_var1 num_var1 0.998267957381\n",
      "ind_var1_0 ind_var40_0 0.998256430742\n",
      "saldo_medio_var17_ult3 saldo_var17 0.997856898055\n",
      "num_med_var45_ult3 num_var45_ult3 0.997806009995\n",
      "saldo_medio_var17_ult1 saldo_var17 0.997788811109\n",
      "num_var1_0 num_var40_0 0.997691193418\n",
      "ind_var1_0 num_var40_0 0.997677267607\n",
      "ind_var24_0 num_var24_0 0.997448385603\n",
      "saldo_medio_var17_ult1 saldo_medio_var17_ult3 0.997296550339\n",
      "ind_var40_0 num_var1_0 0.997114974328\n",
      "saldo_medio_var13_medio_ult3 saldo_var13_medio 0.997011176626\n",
      "saldo_var12 saldo_var24 0.996932397338\n",
      "ind_var44_0 num_var44_0 0.996587101779\n",
      "imp_aport_var17_hace3 saldo_medio_var17_hace2 0.99594222827\n",
      "ind_var1 num_var40 0.99472171699\n",
      "ind_var1 ind_var40 0.994721716988\n",
      "ind_var13_corto_0 num_var13_corto_0 0.994177401338\n",
      "ind_var5 num_var5 0.99370918937\n",
      "saldo_medio_var17_hace2 saldo_medio_var17_hace3 0.993662635933\n",
      "ind_var40 num_var1 0.993035632752\n",
      "num_var1 num_var40 0.99303563275\n",
      "num_op_var39_hace2 num_op_var41_hace2 0.99259644747\n",
      "ind_var12 num_var12 0.992315732112\n",
      "saldo_medio_var33_ult1 saldo_medio_var33_ult3 0.992025032949\n",
      "ind_var13_largo ind_var13_largo_0 0.99146990709\n",
      "imp_op_var39_ult1 imp_op_var41_ult1 0.99110268492\n",
      "saldo_medio_var33_ult3 saldo_var33 0.990496819413\n",
      "ind_var39_0 ind_var41_0 0.989558996664\n",
      "num_op_var39_hace3 num_op_var41_hace3 0.989115763672\n",
      "imp_amort_var34_ult1 saldo_var34 0.989083410731\n",
      "num_op_var39_ult3 num_op_var41_ult3 0.98886065786\n",
      "saldo_medio_var13_corto_ult1 saldo_var13_corto 0.988666590104\n",
      "saldo_medio_var13_corto_ult1 saldo_medio_var13_corto_ult3 0.988372945853\n",
      "saldo_medio_var17_hace2 saldo_medio_var17_ult3 0.987702770157\n",
      "num_var13_medio_0 saldo_medio_var13_medio_hace2 0.987170405369\n",
      "ind_var13_medio_0 saldo_medio_var13_medio_hace2 0.987170405369\n",
      "num_meses_var13_medio_ult3 saldo_medio_var13_medio_hace2 0.987170405369\n",
      "saldo_medio_var13_largo_ult1 saldo_medio_var13_largo_ult3 0.987061840983\n",
      "saldo_medio_var17_hace2 saldo_var17 0.986626064106\n",
      "num_op_var39_ult1 num_op_var41_ult1 0.986411001795\n",
      "saldo_medio_var12_ult1 saldo_var12 0.986397264709\n",
      "saldo_medio_var12_ult1 saldo_medio_var12_ult3 0.98593972437\n",
      "ind_var14 num_var14 0.985881163\n",
      "ind_var13 ind_var13_0 0.985841426083\n",
      "saldo_var25 saldo_var26 0.9852327534\n",
      "saldo_medio_var12_ult1 saldo_var24 0.984635679498\n",
      "num_var35 num_var4 0.9831250593\n",
      "ind_var13_corto ind_var13_corto_0 0.982100365511\n",
      "saldo_medio_var17_hace2 saldo_medio_var17_ult1 0.982002063846\n",
      "imp_aport_var17_hace3 saldo_var17 0.98191022713\n",
      "ind_var13_corto_0 num_var13_corto 0.981776184592\n",
      "imp_aport_var17_hace3 saldo_medio_var17_ult3 0.981472285928\n",
      "saldo_medio_var13_corto_ult3 saldo_var13_corto 0.980454537711\n",
      "saldo_medio_var17_hace3 saldo_medio_var17_ult3 0.979377339495\n",
      "num_var13_largo num_var13_largo_0 0.979173074536\n",
      "ind_var25_0 ind_var26_0 0.978999995736\n",
      "ind_var25_cte ind_var26_cte 0.978690753528\n",
      "saldo_medio_var17_hace3 saldo_var17 0.978625305748\n",
      "saldo_var12 saldo_var42 0.978414707704\n",
      "imp_compra_var44_ult1 imp_venta_var44_ult1 0.978413699169\n",
      "num_var13 num_var13_0 0.977916637354\n",
      "num_var13_corto num_var13_corto_0 0.976784703738\n",
      "ind_var13_corto num_var13_corto_0 0.97647547084\n",
      "saldo_var24 saldo_var42 0.975267284266\n",
      "num_var25_0 num_var26_0 0.974991604312\n",
      "imp_aport_var17_hace3 saldo_medio_var17_ult1 0.974771532061\n",
      "saldo_var17 saldo_var31 0.974017830937\n",
      "num_op_var39_comer_ult1 num_op_var41_comer_ult1 0.973519793184\n",
      "saldo_medio_var12_ult3 saldo_var12 0.973449997304\n",
      "ind_var10cte_ult1 ind_var9_cte_ult1 0.9728565907\n",
      "ind_var6 saldo_var6 0.972434322965\n",
      "num_var6 saldo_var6 0.972434322964\n",
      "saldo_medio_var17_ult3 saldo_var31 0.97224212349\n",
      "saldo_medio_var17_ult1 saldo_var31 0.9721554168\n",
      "saldo_medio_var12_ult3 saldo_var24 0.972076872024\n",
      "saldo_medio_var17_hace3 saldo_medio_var17_ult1 0.971487668355\n",
      "imp_trasp_var33_in_hace3 num_trasp_var33_in_hace3 0.969721021563\n",
      "ind_var13 num_var13 0.968383760509\n",
      "saldo_medio_var44_ult1 saldo_medio_var44_ult3 0.968166996043\n",
      "ind_var10_ult1 ind_var9_ult1 0.967572532725\n",
      "saldo_medio_var13_medio_hace2 saldo_medio_var13_medio_ult3 0.967345779969\n",
      "saldo_medio_var12_ult1 saldo_var42 0.965057925583\n",
      "ind_var33 num_var33 0.963774035526\n",
      "ind_var33 num_meses_var33_ult3 0.963139235566\n",
      "imp_op_var39_comer_ult1 imp_op_var41_comer_ult1 0.961780958161\n",
      "saldo_medio_var17_hace2 saldo_var31 0.961097624303\n",
      "ind_var13_corto_0 num_meses_var13_corto_ult3 0.960856926546\n",
      "imp_op_var39_comer_ult3 imp_op_var41_comer_ult3 0.959839763821\n",
      "num_op_var39_comer_ult3 num_op_var41_comer_ult3 0.95785932424\n",
      "ind_var13_0 num_var13_0 0.957759433707\n",
      "ind_var13_corto num_meses_var13_corto_ult3 0.956652273902\n",
      "num_meses_var13_corto_ult3 num_var13_corto 0.956245834353\n",
      "num_op_var40_ult1 num_op_var40_ult3 0.9559640651\n",
      "imp_aport_var17_hace3 saldo_var31 0.955852566862\n",
      "num_meses_var13_corto_ult3 num_var13_corto_0 0.955846215046\n",
      "ind_var13_0 num_var13 0.954672827453\n",
      "saldo_medio_var17_hace3 saldo_var31 0.952655833899\n",
      "saldo_medio_var12_ult3 saldo_var42 0.95244718021\n",
      "ind_var12 num_meses_var12_ult3 0.952130855495\n",
      "saldo_medio_var29_ult1 saldo_medio_var29_ult3 0.950235818741\n",
      "num_var39_0 num_var41_0 0.950177370035\n"
     ]
    }
   ],
   "source": [
    "for fts in sorted(bad_fts.keys(), key=lambda x: -bad_fts[x]):\n",
    "    print(fts[0], fts[1], bad_fts[fts])"
   ]
  },
  {
   "cell_type": "code",
   "execution_count": 9,
   "metadata": {
    "collapsed": false,
    "scrolled": true
   },
   "outputs": [
    {
     "name": "stdout",
     "output_type": "stream",
     "text": [
      "saldo_var17 6\n",
      "saldo_medio_var17_hace2 6\n",
      "saldo_medio_var17_ult1 6\n",
      "saldo_medio_var17_ult3 6\n",
      "saldo_medio_var17_hace3 6\n",
      "imp_aport_var17_hace3 6\n",
      "saldo_var31 6\n",
      "saldo_var24 4\n",
      "saldo_medio_var12_ult1 4\n",
      "saldo_var12 4\n",
      "num_var13_corto 4\n",
      "num_var13_corto_0 4\n",
      "saldo_medio_var13_medio_hace2 4\n",
      "ind_var13_corto_0 4\n",
      "ind_var13_corto 4\n",
      "saldo_medio_var12_ult3 4\n",
      "saldo_var42 4\n",
      "num_meses_var13_corto_ult3 4\n",
      "num_var13_medio_0 3\n",
      "num_var40 3\n",
      "num_var1 3\n",
      "num_var40_0 3\n",
      "ind_var1 3\n",
      "ind_var40_0 3\n",
      "num_meses_var13_medio_ult3 3\n",
      "ind_var13_medio_0 3\n",
      "ind_var13_0 3\n",
      "num_var1_0 3\n",
      "ind_var40 3\n",
      "ind_var1_0 3\n",
      "num_var13 3\n",
      "delta_imp_reemb_var33_1y3 2\n",
      "ind_var13 2\n",
      "ind_var12 2\n",
      "saldo_var18 2\n",
      "imp_trasp_var33_out_ult1 2\n",
      "saldo_medio_var33_ult1 2\n",
      "num_var6 2\n",
      "num_reemb_var33_ult1 2\n",
      "saldo_medio_var33_ult3 2\n",
      "saldo_var13_corto 2\n",
      "ind_var6 2\n",
      "saldo_medio_var13_medio_ult3 2\n",
      "num_trasp_var33_out_ult1 2\n",
      "saldo_var1 2\n",
      "saldo_var6 2\n",
      "ind_var34_0 2\n",
      "num_var13_0 2\n",
      "saldo_medio_var13_corto_ult1 2\n",
      "saldo_medio_var13_corto_ult3 2\n",
      "ind_var18_0 2\n",
      "imp_amort_var18_ult1 2\n",
      "num_var34_0 2\n",
      "num_var18_0 2\n",
      "delta_imp_amort_var18_1y3 2\n",
      "imp_reemb_var33_ult1 2\n",
      "delta_imp_amort_var34_1y3 2\n",
      "saldo_var33 2\n",
      "ind_var33 2\n",
      "delta_imp_trasp_var33_out_1y3 2\n",
      "imp_op_var39_efect_ult3 1\n",
      "imp_op_var39_efect_ult1 1\n",
      "num_var41_0 1\n",
      "imp_trasp_var17_in_hace3 1\n",
      "delta_imp_aport_var13_1y3 1\n",
      "ind_var25_0 1\n",
      "num_op_var41_hace3 1\n",
      "ind_var24 1\n",
      "ind_var26_cte 1\n",
      "imp_op_var41_ult1 1\n",
      "ind_var20 1\n",
      "ind_var39_0 1\n",
      "imp_op_var39_ult1 1\n",
      "delta_num_aport_var13_1y3 1\n",
      "num_meses_var33_ult3 1\n",
      "num_op_var40_ult1 1\n",
      "saldo_medio_var13_largo_ult1 1\n",
      "ind_var7_emit_ult1 1\n",
      "ind_var14 1\n",
      "delta_num_compra_var44_1y3 1\n",
      "saldo_medio_var13_largo_ult3 1\n",
      "num_var45_ult3 1\n",
      "imp_reemb_var17_hace3 1\n",
      "ind_var44_0 1\n",
      "num_op_var41_ult3 1\n",
      "num_op_var41_ult1 1\n",
      "saldo_medio_var29_ult3 1\n",
      "imp_amort_var34_ult1 1\n",
      "ind_var20_0 1\n",
      "num_op_var41_efect_ult1 1\n",
      "num_var6_0 1\n",
      "num_reemb_var17_hace3 1\n",
      "ind_var13_largo_0 1\n",
      "num_var44 1\n",
      "imp_trasp_var33_in_hace3 1\n",
      "num_var8 1\n",
      "num_var4 1\n",
      "num_var5 1\n",
      "num_var7_emit_ult1 1\n",
      "delta_num_aport_var33_1y3 1\n",
      "num_var44_0 1\n",
      "num_var8_0 1\n",
      "imp_op_var41_comer_ult3 1\n",
      "ind_var6_0 1\n",
      "saldo_var25 1\n",
      "ind_var24_0 1\n",
      "ind_var10cte_ult1 1\n",
      "saldo_var26 1\n",
      "saldo_medio_var44_ult1 1\n",
      "ind_var8 1\n",
      "ind_var5 1\n",
      "num_op_var39_hace3 1\n",
      "imp_op_var39_comer_ult1 1\n",
      "imp_op_var39_comer_ult3 1\n",
      "imp_op_var41_efect_ult1 1\n",
      "imp_op_var41_efect_ult3 1\n",
      "num_var24_0 1\n",
      "num_trasp_var17_in_hace3 1\n",
      "saldo_medio_var29_ult1 1\n",
      "num_var26_0 1\n",
      "ind_var8_0 1\n",
      "num_var24 1\n",
      "num_var20 1\n",
      "saldo_var13_medio 1\n",
      "saldo_medio_var44_ult3 1\n",
      "delta_num_venta_var44_1y3 1\n",
      "num_var39_0 1\n",
      "num_trasp_var33_in_hace3 1\n",
      "num_trasp_var17_in_ult1 1\n",
      "num_var13_largo_0 1\n",
      "num_op_var39_comer_ult3 1\n",
      "num_op_var39_comer_ult1 1\n",
      "num_op_var41_hace2 1\n",
      "num_meses_var12_ult3 1\n",
      "num_var35 1\n",
      "num_var33 1\n",
      "num_var20_0 1\n",
      "num_op_var39_efect_ult1 1\n",
      "imp_op_var41_comer_ult1 1\n",
      "num_trasp_var17_out_ult1 1\n",
      "ind_var25_cte 1\n",
      "num_op_var41_comer_ult3 1\n",
      "num_op_var39_hace2 1\n",
      "ind_var13_largo 1\n",
      "delta_imp_venta_var44_1y3 1\n",
      "ind_var9_cte_ult1 1\n",
      "delta_imp_reemb_var13_1y3 1\n",
      "num_var25_0 1\n",
      "ind_var10_ult1 1\n",
      "ind_var41_0 1\n",
      "num_med_var45_ult3 1\n",
      "ind_var26_0 1\n",
      "num_op_var41_comer_ult1 1\n",
      "ind_var44 1\n",
      "delta_imp_trasp_var17_in_1y3 1\n",
      "num_op_var39_efect_ult3 1\n",
      "delta_num_aport_var17_1y3 1\n",
      "num_reemb_var13_ult1 1\n",
      "imp_venta_var44_ult1 1\n",
      "num_var13_largo 1\n",
      "num_op_var41_efect_ult3 1\n",
      "ind_var9_ult1 1\n",
      "delta_imp_aport_var17_1y3 1\n",
      "num_op_var39_ult1 1\n",
      "num_op_var39_ult3 1\n",
      "num_var14 1\n",
      "delta_imp_aport_var33_1y3 1\n",
      "num_var12 1\n",
      "saldo_var34 1\n",
      "num_op_var40_ult3 1\n",
      "imp_compra_var44_ult1 1\n",
      "delta_imp_trasp_var17_out_1y3 1\n",
      "delta_imp_compra_var44_1y3 1\n"
     ]
    }
   ],
   "source": [
    "for ft in sorted(bad_count, key=lambda x: -bad_count[x]):\n",
    "    if bad_count[ft] > 0:\n",
    "        print(ft, bad_count[ft])"
   ]
  },
  {
   "cell_type": "code",
   "execution_count": 10,
   "metadata": {
    "collapsed": false
   },
   "outputs": [
    {
     "data": {
      "text/plain": [
       "173"
      ]
     },
     "execution_count": 10,
     "metadata": {},
     "output_type": "execute_result"
    }
   ],
   "source": [
    "correlated = set(map(lambda x: x[0], bad_fts) + map(lambda x: x[1], bad_fts))\n",
    "len(correlated)"
   ]
  },
  {
   "cell_type": "code",
   "execution_count": 11,
   "metadata": {
    "collapsed": false,
    "scrolled": true
   },
   "outputs": [
    {
     "name": "stdout",
     "output_type": "stream",
     "text": [
      "delta_imp_venta_var44_1y3 1.0\n",
      "delta_imp_reemb_var33_1y3 1.0\n",
      "ind_var13_medio_0 1.0\n",
      "delta_imp_aport_var13_1y3 1.0\n",
      "ind_var20 1.0\n",
      "delta_imp_aport_var33_1y3 1.0\n",
      "delta_imp_amort_var34_1y3 1.0\n",
      "ind_var6 1.00000000001\n",
      "delta_imp_aport_var17_1y3 1.0\n",
      "ind_var18_0 1.0\n",
      "delta_imp_trasp_var33_out_1y3 1.0\n",
      "delta_imp_amort_var18_1y3 1.0\n",
      "ind_var20_0 1.0\n",
      "num_meses_var13_medio_ult3 1.0\n",
      "delta_imp_reemb_var13_1y3 1.0\n",
      "15 set(['delta_imp_aport_var13_1y3', 'delta_imp_reemb_var33_1y3', 'delta_imp_venta_var44_1y3', 'ind_var20', 'ind_var18_0', 'delta_imp_amort_var34_1y3', 'delta_imp_reemb_var13_1y3', 'delta_imp_aport_var17_1y3', 'ind_var20_0', 'num_meses_var13_medio_ult3', 'delta_imp_trasp_var33_out_1y3', 'delta_imp_amort_var18_1y3', 'ind_var13_medio_0', 'ind_var6', 'delta_imp_aport_var33_1y3'])\n"
     ]
    }
   ],
   "source": [
    "to_drop = set()\n",
    "drop_type = 'identical'\n",
    "while True:\n",
    "    bf, bc = bad_feature_pairs(dc, set(dc.columns).difference(to_drop), corr_th)\n",
    "    #print(bc)\n",
    "    if drop_type == 'identical':\n",
    "        ident = filter(lambda x: bf[x] >= 1., bf.keys())\n",
    "        if len(ident) == 0:\n",
    "            break\n",
    "        to_drop.add(ident[0][0])\n",
    "        print(ident[0][0], bf[ident[0]])\n",
    "    else:\n",
    "        bcs = sorted(bc, key=lambda x: -bc[x])\n",
    "        print(bcs[0], bc[bcs[0]])\n",
    "        if bc[bcs[0]] == 0:\n",
    "            break\n",
    "        to_drop.add(bcs[0])\n",
    "print(len(to_drop), to_drop)"
   ]
  },
  {
   "cell_type": "code",
   "execution_count": 14,
   "metadata": {
    "collapsed": true
   },
   "outputs": [],
   "source": [
    "c_train = r_train.drop(to_drop, axis=1)\n",
    "c_test = r_test.drop(to_drop, axis=1)\n",
    "c_test.to_csv('./data/c_test.csv')\n",
    "c_train.to_csv('./data/c_train.csv')"
   ]
  },
  {
   "cell_type": "code",
   "execution_count": 5,
   "metadata": {
    "collapsed": false
   },
   "outputs": [],
   "source": [
    "target = pd.read_csv('./data/target.csv', index_col=0)['0']\n",
    "c_test = pd.read_csv('./data/c_test.csv', index_col=0)\n",
    "c_train = pd.read_csv('./data/c_train.csv', index_col=0)"
   ]
  },
  {
   "cell_type": "code",
   "execution_count": 7,
   "metadata": {
    "collapsed": false
   },
   "outputs": [
    {
     "name": "stdout",
     "output_type": "stream",
     "text": [
      "0.0388\n",
      "0.0383636363636\n",
      "0.0391666666667\n",
      "0.0396923076923\n",
      "0.0398571428571\n",
      "0.0403333333333\n",
      "0.0400625\n",
      "0.0401764705882\n",
      "0.0405555555556\n",
      "0.0401052631579\n",
      "0.04065\n",
      "0.0400476190476\n",
      "0.0402272727273\n",
      "0.0407826086957\n",
      "0.0412083333333\n",
      "0.04108\n",
      "0.0408076923077\n",
      "0.0405925925926\n",
      "0.0404285714286\n",
      "0.0406206896552\n",
      "0.0402666666667\n",
      "0.0401612903226\n",
      "0.04\n",
      "0.0398484848485\n",
      "0.0396764705882\n",
      "0.0394285714286\n",
      "0.0393888888889\n",
      "0.0391891891892\n",
      "0.0389736842105\n",
      "0.0387948717949\n",
      "0.0388\n",
      "0.0387073170732\n",
      "0.0386666666667\n",
      "0.0387906976744\n",
      "0.0386363636364\n",
      "0.0386444444444\n",
      "0.0386086956522\n",
      "0.0387021276596\n",
      "0.03875\n",
      "0.0386326530612\n",
      "0.03872\n",
      "0.0386274509804\n",
      "0.0387115384615\n",
      "0.038679245283\n",
      "0.0386666666667\n",
      "0.0387090909091\n",
      "0.0386607142857\n",
      "0.0386140350877\n",
      "0.0385\n",
      "0.0385423728814\n",
      "0.0386333333333\n",
      "0.0386393442623\n",
      "0.0386935483871\n",
      "0.0387777777778\n",
      "0.038828125\n",
      "0.0389692307692\n",
      "0.0390757575758\n",
      "0.039223880597\n",
      "0.0392058823529\n",
      "0.0392753623188\n",
      "0.0393285714286\n",
      "0.0393661971831\n",
      "0.0393472222222\n",
      "0.0393424657534\n",
      "0.0394864864865\n",
      "0.03952\n",
      "0.0395526315789\n"
     ]
    }
   ],
   "source": [
    "for l in range(10000, len(target), 1000):\n",
    "    print(target[:l].mean())"
   ]
  },
  {
   "cell_type": "code",
   "execution_count": 5,
   "metadata": {
    "collapsed": false
   },
   "outputs": [
    {
     "data": {
      "text/plain": [
       "0L"
      ]
     },
     "execution_count": 5,
     "metadata": {},
     "output_type": "execute_result"
    }
   ],
   "source": [
    "from sklearn.cross_validation import StratifiedKFold as SSS\n",
    "sss = SSS(target, 5)\n",
    "for train_idx, test_idx in sss:\n",
    "    c_train80 = c_train.loc[train_idx]\n",
    "    c_train20 = c_train.loc[test_idx]\n",
    "    target80 = target.loc[train_idx]\n",
    "    target20 = target.loc[test_idx]\n",
    "    break\n",
    "c_train80.to_csv('./data/c_train80.csv')\n",
    "c_train20.to_csv('./data/c_train20.csv')\n",
    "target80.to_csv('./data/target80.csv', header=True)\n",
    "target20.to_csv('./data/target20.csv', header=True)\n",
    "c_train80[:].isnull().sum().sum()"
   ]
  },
  {
   "cell_type": "code",
   "execution_count": 23,
   "metadata": {
    "collapsed": false
   },
   "outputs": [
    {
     "name": "stdout",
     "output_type": "stream",
     "text": [
      "0.0395685345962 0.0395922393949 0.0395626079092\n"
     ]
    }
   ],
   "source": [
    "print(target.mean(), target20.mean(), target80.mean())"
   ]
  },
  {
   "cell_type": "code",
   "execution_count": 86,
   "metadata": {
    "collapsed": false
   },
   "outputs": [],
   "source": [
    "c_train80 = pd.read_csv('./data/c_train80.csv', index_col=0)\n",
    "c_train20 = pd.read_csv('./data/c_train20.csv', index_col=0)\n",
    "target80 = pd.read_csv('./data/target80.csv', index_col=0)['0']\n",
    "target20 = pd.read_csv('./data/target20.csv', index_col=0)['0']"
   ]
  },
  {
   "cell_type": "code",
   "execution_count": 10,
   "metadata": {
    "collapsed": false
   },
   "outputs": [],
   "source": [
    "def smooth_target_mean(train, test, target, C):\n",
    "    res = np.zeros(test.shape)\n",
    "    mean_target = target.mean()\n",
    "    for val in train.unique():\n",
    "        cat_size = train.value_counts()[val]\n",
    "        cat_mean = target.iloc[np.where(train == val)].mean()\n",
    "        res[np.where(test == val)] = float(cat_mean * cat_size + mean_target * C) / float(cat_size + C)\n",
    "    return res\n",
    "\n",
    "def smooth_target_mean_cv(train, target, C, cv=None):\n",
    "    if cv == None:\n",
    "        cv = [([x for x in range(len(train))], [x for x in range(len(train))])]\n",
    "    if type(cv) == int:\n",
    "        from sklearn.cross_validation import StratifiedKFold\n",
    "        cv = StratifiedKFold(target, cv)\n",
    "    #(среднее значение * размер категории + глобальное среднее значение * C) / (размер категории + С)\n",
    "    res = np.zeros(train.shape)\n",
    "    for trx, tsx in cv:\n",
    "        Xtrain, Ytrain = train.iloc[trx], target.iloc[trx]\n",
    "        Xtest, Ytest = train.iloc[tsx], target.iloc[tsx]\n",
    "        \n",
    "        mean_target = Ytrain.mean()\n",
    "        cv_res = res[tsx]\n",
    "        for val in Xtrain.unique():\n",
    "            cat_size = Xtrain.value_counts()[val]\n",
    "            cat_mean = Ytrain.iloc[np.where(Xtrain == val)].mean()\n",
    "            #map(print, map(type, [cat_size]))\n",
    "            #print(val)\n",
    "            cv_res[np.where(Xtest == val)] = float(cat_mean * cat_size + mean_target * C) / float(cat_size + C)\n",
    "        res[tsx] = cv_res\n",
    "    return res"
   ]
  },
  {
   "cell_type": "code",
   "execution_count": 7,
   "metadata": {
    "collapsed": false
   },
   "outputs": [
    {
     "data": {
      "text/plain": [
       "var38                      46677\n",
       "saldo_medio_var5_ult3      14522\n",
       "saldo_var30                13942\n",
       "saldo_var42                12929\n",
       "saldo_medio_var5_ult1      12251\n",
       "saldo_medio_var5_hace2     12074\n",
       "saldo_var5                  9658\n",
       "imp_op_var39_comer_ult3     7435\n",
       "imp_op_var41_comer_ult3     7330\n",
       "imp_op_var39_ult1           6669\n",
       "saldo_medio_var5_hace3      6591\n",
       "imp_op_var41_ult1           6581\n",
       "imp_op_var39_comer_ult1     6195\n",
       "imp_op_var41_comer_ult1     6097\n",
       "saldo_var37                 3327\n",
       "dtype: int64"
      ]
     },
     "execution_count": 7,
     "metadata": {},
     "output_type": "execute_result"
    }
   ],
   "source": [
    "uniqs = c_train80.apply(lambda x: len(x.unique())).sort_values(ascending=False)\n",
    "uniqs[:15]"
   ]
  },
  {
   "cell_type": "code",
   "execution_count": 9,
   "metadata": {
    "collapsed": false
   },
   "outputs": [
    {
     "name": "stdout",
     "output_type": "stream",
     "text": [
      "278 0.217558630655\n"
     ]
    }
   ],
   "source": [
    "good_cols = filter(lambda x: uniqs[x] < 5000, c_train80.columns)\n",
    "print (len(good_cols), uniqs[good_cols].sum() / uniqs.sum())"
   ]
  },
  {
   "cell_type": "code",
   "execution_count": 13,
   "metadata": {
    "collapsed": false
   },
   "outputs": [
    {
     "name": "stdout",
     "output_type": "stream",
     "text": [
      "n0 1.000000% "
     ]
    }
   ],
   "source": [
    "#%%time\n",
    "import sys\n",
    "for C in range(10, 60, 10):\n",
    "    pass#print (C)\n",
    "\n",
    "stm_train80 = c_train80.copy()\n",
    "C = 10\n",
    "for i in range(len(good_cols)):\n",
    "    col = good_cols[i]\n",
    "    #print(col, c_train80[col].shape, target80.shape)\n",
    "    stm_train80[col + '_stm%d' % C] = smooth_target_mean_cv(c_train80[col], target80, C=C, cv=10)\n",
    "    print('\\r%.2f%%' % (100 * uniqs[good_cols[:i + 1]].sum() / uniqs[good_cols].sum()), col, end=' ')\n",
    "    sys.stdout.flush()"
   ]
  },
  {
   "cell_type": "code",
   "execution_count": 15,
   "metadata": {
    "collapsed": false,
    "scrolled": true
   },
   "outputs": [
    {
     "name": "stdout",
     "output_type": "stream",
     "text": [
      "100.000000%n0 Wall time: 2min 5s\n"
     ]
    }
   ],
   "source": [
    "%%time\n",
    "stm_train20 = c_train20.copy()\n",
    "C = 10\n",
    "for i in range(len(good_cols)):\n",
    "    col = good_cols[i]\n",
    "    stm_train20[col + '_stm%d' % C] = smooth_target_mean(c_train80[col], c_train20[col], target80, C=C)\n",
    "    print('\\r%.2f%%' % (100 * uniqs[good_cols[:i + 1]].sum() / uniqs[good_cols].sum()), col, end=' ')\n",
    "    sys.stdout.flush()"
   ]
  },
  {
   "cell_type": "code",
   "execution_count": null,
   "metadata": {
    "collapsed": true
   },
   "outputs": [],
   "source": [
    "sendMessage('olou')"
   ]
  },
  {
   "cell_type": "code",
   "execution_count": 16,
   "metadata": {
    "collapsed": false
   },
   "outputs": [],
   "source": [
    "stm_train20.to_csv('./data/stm_train20.csv')\n",
    "stm_train80.to_csv('./data/stm_train80.csv')"
   ]
  },
  {
   "cell_type": "code",
   "execution_count": 17,
   "metadata": {
    "collapsed": false
   },
   "outputs": [
    {
     "name": "stdout",
     "output_type": "stream",
     "text": [
      "(60815, 570) (15205, 570) (60815L,) (15205L,)\n"
     ]
    }
   ],
   "source": [
    "print(stm_train80.shape, stm_train20.shape, target80.shape, target20.shape)"
   ]
  },
  {
   "cell_type": "code",
   "execution_count": 19,
   "metadata": {
    "collapsed": false
   },
   "outputs": [
    {
     "name": "stdout",
     "output_type": "stream",
     "text": [
      "Wall time: 1e+03 µs\n"
     ]
    }
   ],
   "source": [
    "%%time\n",
    "params = [(col, c_train[col], c_test[col], target, 20) for col in c_test.columns[:4]]"
   ]
  },
  {
   "cell_type": "code",
   "execution_count": null,
   "metadata": {
    "collapsed": true
   },
   "outputs": [],
   "source": [
    "import multiprocessing as mp\n",
    "pool = mp.Pool(4)\n",
    "def zip_smt(args):\n",
    "    return args[0], smooth_mean_target(*args[1:])\n",
    "\n",
    "try:\n",
    "    res = pool.map(zip_smt, params)\n",
    "    for col, feat in res:\n",
    "        c_test[col + '_stm'] = feat\n",
    "finally:\n",
    "    pool.terminate()\n",
    "    pool.stop()\n",
    "    del pool"
   ]
  },
  {
   "cell_type": "code",
   "execution_count": null,
   "metadata": {
    "collapsed": true
   },
   "outputs": [],
   "source": [
    "def devar(col):\n",
    "    spl = col.split('_')\n",
    "    for i in range(len(spl)):\n",
    "        if spl[i].startswith('var'):\n",
    "            spl[i] = 'varN'\n",
    "    return '_'.join(spl)\n",
    "\n",
    "from collections import Counter\n",
    "Counter(map(devar, c_train.columns));"
   ]
  }
 ],
 "metadata": {
  "kernelspec": {
   "display_name": "Python 2",
   "language": "python",
   "name": "python2"
  },
  "language_info": {
   "codemirror_mode": {
    "name": "ipython",
    "version": 2
   },
   "file_extension": ".py",
   "mimetype": "text/x-python",
   "name": "python",
   "nbconvert_exporter": "python",
   "pygments_lexer": "ipython2",
   "version": "2.7.11"
  }
 },
 "nbformat": 4,
 "nbformat_minor": 0
}
