{
 "cells": [
  {
   "cell_type": "code",
   "execution_count": 1,
   "metadata": {
    "collapsed": true
   },
   "outputs": [],
   "source": [
    "import numpy as np\n",
    "import pandas as pd\n",
    "import matplotlib.pyplot as plt\n",
    "%matplotlib inline"
   ]
  },
  {
   "cell_type": "code",
   "execution_count": 2,
   "metadata": {
    "collapsed": true
   },
   "outputs": [],
   "source": [
    "from bot import sendMessage\n",
    "    \n",
    "from __future__ import print_function\n",
    "import seaborn; seaborn.set()"
   ]
  },
  {
   "cell_type": "code",
   "execution_count": 3,
   "metadata": {
    "collapsed": true
   },
   "outputs": [],
   "source": [
    "r_train = pd.read_csv('data/r_train.csv', index_col=0)\n",
    "r_test = pd.read_csv('data/r_test.csv', index_col=0)\n",
    "r_target = pd.read_csv('data/target.csv', index_col=0)['0']"
   ]
  },
  {
   "cell_type": "code",
   "execution_count": 4,
   "metadata": {
    "collapsed": true
   },
   "outputs": [],
   "source": [
    "droplist = set(['ind_var6', 'saldo_medio_var17_hace3', 'delta_imp_trasp_var33_out_1y3', \n",
    "                'saldo_medio_var17_hace2', 'ind_var20_0', 'delta_imp_reemb_var33_1y3',\n",
    "                'delta_imp_reemb_var13_1y3', 'num_var13_medio_0', 'ind_var20', 'ind_var18_0',\n",
    "                'delta_imp_amort_var18_1y3', 'delta_imp_amort_var34_1y3', 'saldo_medio_var12_ult1',\n",
    "                'delta_imp_aport_var13_1y3', 'delta_imp_venta_var44_1y3', 'saldo_medio_var17_ult3',\n",
    "                'num_meses_var13_medio_ult3', 'delta_num_aport_var33_1y3', 'delta_num_aport_var17_1y3',\n",
    "                'delta_num_compra_var44_1y3', 'imp_reemb_var33_ult1', 'delta_imp_trasp_var17_out_1y3',\n",
    "                'imp_reemb_var17_hace3', 'ind_var34_0', 'delta_imp_trasp_var17_in_1y3'])\n",
    "\n",
    "droplist = ['imp_op_var39_efect_ult3', 'num_op_var41_ult3', 'imp_op_var39_efect_ult1', \n",
    "            'delta_imp_aport_var13_1y3', 'delta_imp_reemb_var33_1y3', 'num_trasp_var33_out_ult1', \n",
    "            'ind_var18_0', 'delta_imp_reemb_var13_1y3', 'saldo_medio_var13_medio_ult3', \n",
    "            'ind_var20_0', 'imp_trasp_var17_in_hace3', 'num_op_var41_ult1', 'num_var1_0', \n",
    "            'num_var44', 'ind_var40_0', 'ind_var13_largo_0', 'num_var34_0', 'ind_var24', \n",
    "            'num_op_var41_efect_ult1', 'saldo_var24', 'imp_op_var41_ult1', 'ind_var20', \n",
    "            'ind_var39_0', 'num_var40', 'num_trasp_var17_in_ult1', 'num_var8_0', \n",
    "            'saldo_medio_var17_ult3', 'ind_var6_0', 'num_var8', 'num_var6', 'num_var13_medio_0', \n",
    "            'num_var4', 'ind_var14', 'num_var1', 'saldo_var1', 'saldo_medio_var33_ult3', \n",
    "            'num_reemb_var17_hace3', 'num_op_var41_efect_ult3', 'delta_num_venta_var44_1y3', \n",
    "            'delta_num_aport_var33_1y3', 'saldo_medio_var17_hace3', 'saldo_medio_var17_hace2', \n",
    "            'ind_var34_0', 'saldo_medio_var33_ult1', 'num_var45_ult3', 'saldo_medio_var12_ult1', \n",
    "            'num_var18_0', 'saldo_medio_var13_medio_hace2', 'num_reemb_var33_ult1', 'ind_var13_corto_0', \n",
    "            'ind_var13', 'num_op_var41_hace3', 'num_op_var41_hace2', 'ind_var7_emit_ult1', \n",
    "            'num_var12', 'saldo_medio_var13_largo_ult1', 'ind_var24_0', 'saldo_var17', \n",
    "            'num_var5', 'delta_num_compra_var44_1y3', 'saldo_var26', 'saldo_var34', \n",
    "            'saldo_medio_var13_corto_ult1', 'saldo_var13_corto', 'saldo_var18', \n",
    "            'delta_num_aport_var17_1y3', 'num_meses_var13_medio_ult3', 'num_trasp_var17_out_ult1', \n",
    "            'ind_var44_0', 'imp_trasp_var33_out_ult1', 'num_var40_0', 'ind_var1', 'num_var13_corto']\n",
    "droplist = []"
   ]
  },
  {
   "cell_type": "code",
   "execution_count": 5,
   "metadata": {
    "collapsed": false
   },
   "outputs": [],
   "source": [
    "data = r_train.drop(droplist, axis=1)"
   ]
  },
  {
   "cell_type": "code",
   "execution_count": 6,
   "metadata": {
    "collapsed": false
   },
   "outputs": [
    {
     "name": "stdout",
     "output_type": "stream",
     "text": [
      "Wall time: 21.6 s\n"
     ]
    }
   ],
   "source": [
    "%%time\n",
    "dc = data.corr()"
   ]
  },
  {
   "cell_type": "code",
   "execution_count": 13,
   "metadata": {
    "collapsed": false
   },
   "outputs": [
    {
     "name": "stdout",
     "output_type": "stream",
     "text": [
      "148\n"
     ]
    }
   ],
   "source": [
    "#Find correlations\n",
    "def bad_feature_pairs(corr, columns, th):\n",
    "    bad_fts = dict()\n",
    "    bad_count = {ft:0 for ft in columns}\n",
    "    for ft1 in columns:\n",
    "        for ft2 in columns:\n",
    "            if ft1 == ft2: \n",
    "                continue\n",
    "            if corr[ft1][ft2] > th:\n",
    "                pair = tuple(sorted([ft1, ft2]))\n",
    "                if pair not in bad_fts:\n",
    "                    bad_fts[pair] = corr[ft1][ft2]\n",
    "                    bad_count[ft1] += 1\n",
    "                    bad_count[ft2] += 1\n",
    "    return bad_fts, bad_count\n",
    "\n",
    "corr_th = .95\n",
    "bad_fts, bad_count = bad_feature_pairs(dc, dc.columns, corr_th)\n",
    "print(len(bad_fts))"
   ]
  },
  {
   "cell_type": "code",
   "execution_count": 18,
   "metadata": {
    "collapsed": false
   },
   "outputs": [
    {
     "name": "stdout",
     "output_type": "stream",
     "text": [
      "ind_var6 num_var6 1.00000000001\n",
      "delta_imp_trasp_var33_out_1y3 num_trasp_var33_out_ult1 1.0\n",
      "delta_imp_reemb_var33_1y3 num_reemb_var33_ult1 1.0\n",
      "ind_var20_0 num_var20_0 1.0\n",
      "delta_imp_reemb_var13_1y3 num_reemb_var13_ult1 1.0\n",
      "ind_var20 num_var20 1.0\n",
      "ind_var13_medio_0 num_var13_medio_0 1.0\n",
      "num_meses_var13_medio_ult3 num_var13_medio_0 1.0\n",
      "delta_imp_amort_var18_1y3 num_var18_0 1.0\n",
      "ind_var18_0 num_var18_0 1.0\n",
      "delta_imp_amort_var34_1y3 num_var34_0 1.0\n",
      "delta_imp_aport_var13_1y3 delta_num_aport_var13_1y3 1.0\n",
      "delta_imp_venta_var44_1y3 delta_num_venta_var44_1y3 1.0\n",
      "delta_imp_aport_var33_1y3 delta_num_aport_var33_1y3 1.0\n",
      "delta_imp_aport_var17_1y3 delta_num_aport_var17_1y3 1.0\n",
      "ind_var13_medio_0 num_meses_var13_medio_ult3 1.0\n",
      "delta_imp_compra_var44_1y3 delta_num_compra_var44_1y3 1.0\n",
      "delta_imp_amort_var18_1y3 ind_var18_0 1.0\n",
      "imp_reemb_var33_ult1 num_reemb_var33_ult1 1.0\n",
      "delta_imp_trasp_var17_out_1y3 num_trasp_var17_out_ult1 1.0\n",
      "imp_reemb_var17_hace3 num_reemb_var17_hace3 1.0\n",
      "ind_var34_0 num_var34_0 1.0\n",
      "delta_imp_trasp_var17_in_1y3 num_trasp_var17_in_ult1 1.0\n",
      "delta_imp_amort_var34_1y3 ind_var34_0 0.999999999999\n",
      "ind_var7_emit_ult1 num_var7_emit_ult1 0.999999999999\n",
      "ind_var40 num_var40 0.999999999998\n",
      "delta_imp_reemb_var33_1y3 imp_reemb_var33_ult1 0.999999999998\n",
      "ind_var44 num_var44 0.999999999997\n",
      "ind_var8 num_var8 0.999999999997\n",
      "imp_trasp_var33_out_ult1 num_trasp_var33_out_ult1 0.999999999997\n",
      "delta_imp_trasp_var33_out_1y3 imp_trasp_var33_out_ult1 0.999999999996\n",
      "ind_var6_0 num_var6_0 0.999999999995\n",
      "saldo_var1 saldo_var18 0.99986210623\n",
      "imp_amort_var18_ult1 saldo_var18 0.99980451772\n",
      "ind_var8_0 num_var8_0 0.999793191936\n",
      "imp_trasp_var17_in_hace3 num_trasp_var17_in_hace3 0.999754969178\n",
      "imp_amort_var18_ult1 saldo_var1 0.999685035725\n",
      "ind_var13_corto num_var13_corto 0.999669910602\n",
      "ind_var24 num_var24 0.999460783261\n",
      "ind_var40_0 num_var40_0 0.999419825291\n",
      "imp_op_var39_efect_ult3 imp_op_var41_efect_ult3 0.999270934254\n",
      "num_op_var39_efect_ult3 num_op_var41_efect_ult3 0.999244416638\n",
      "num_op_var39_efect_ult1 num_op_var41_efect_ult1 0.99896594905\n",
      "ind_var1_0 num_var1_0 0.998848549317\n",
      "saldo_medio_var33_ult1 saldo_var33 0.998625555138\n",
      "imp_op_var39_efect_ult1 imp_op_var41_efect_ult1 0.998378134203\n",
      "imp_aport_var17_hace3 saldo_medio_var17_hace3 0.998288290766\n",
      "ind_var1 num_var1 0.998267957381\n",
      "ind_var1_0 ind_var40_0 0.998256430742\n",
      "saldo_medio_var17_ult3 saldo_var17 0.997856898055\n",
      "num_med_var45_ult3 num_var45_ult3 0.997806009995\n",
      "saldo_medio_var17_ult1 saldo_var17 0.997788811109\n",
      "num_var1_0 num_var40_0 0.997691193418\n",
      "ind_var1_0 num_var40_0 0.997677267607\n",
      "ind_var24_0 num_var24_0 0.997448385603\n",
      "saldo_medio_var17_ult1 saldo_medio_var17_ult3 0.997296550339\n",
      "ind_var40_0 num_var1_0 0.997114974328\n",
      "saldo_medio_var13_medio_ult3 saldo_var13_medio 0.997011176626\n",
      "saldo_var12 saldo_var24 0.996932397338\n",
      "ind_var44_0 num_var44_0 0.996587101779\n",
      "imp_aport_var17_hace3 saldo_medio_var17_hace2 0.99594222827\n",
      "ind_var1 num_var40 0.99472171699\n",
      "ind_var1 ind_var40 0.994721716988\n",
      "ind_var13_corto_0 num_var13_corto_0 0.994177401338\n",
      "ind_var5 num_var5 0.99370918937\n",
      "saldo_medio_var17_hace2 saldo_medio_var17_hace3 0.993662635933\n",
      "ind_var40 num_var1 0.993035632752\n",
      "num_var1 num_var40 0.99303563275\n",
      "num_op_var39_hace2 num_op_var41_hace2 0.99259644747\n",
      "ind_var12 num_var12 0.992315732112\n",
      "saldo_medio_var33_ult1 saldo_medio_var33_ult3 0.992025032949\n",
      "ind_var13_largo ind_var13_largo_0 0.99146990709\n",
      "imp_op_var39_ult1 imp_op_var41_ult1 0.99110268492\n",
      "saldo_medio_var33_ult3 saldo_var33 0.990496819413\n",
      "ind_var39_0 ind_var41_0 0.989558996664\n",
      "num_op_var39_hace3 num_op_var41_hace3 0.989115763672\n",
      "imp_amort_var34_ult1 saldo_var34 0.989083410731\n",
      "num_op_var39_ult3 num_op_var41_ult3 0.98886065786\n",
      "saldo_medio_var13_corto_ult1 saldo_var13_corto 0.988666590104\n",
      "saldo_medio_var13_corto_ult1 saldo_medio_var13_corto_ult3 0.988372945853\n",
      "saldo_medio_var17_hace2 saldo_medio_var17_ult3 0.987702770157\n",
      "num_var13_medio_0 saldo_medio_var13_medio_hace2 0.987170405369\n",
      "ind_var13_medio_0 saldo_medio_var13_medio_hace2 0.987170405369\n",
      "num_meses_var13_medio_ult3 saldo_medio_var13_medio_hace2 0.987170405369\n",
      "saldo_medio_var13_largo_ult1 saldo_medio_var13_largo_ult3 0.987061840983\n",
      "saldo_medio_var17_hace2 saldo_var17 0.986626064106\n",
      "num_op_var39_ult1 num_op_var41_ult1 0.986411001795\n",
      "saldo_medio_var12_ult1 saldo_var12 0.986397264709\n",
      "saldo_medio_var12_ult1 saldo_medio_var12_ult3 0.98593972437\n",
      "ind_var14 num_var14 0.985881163\n",
      "ind_var13 ind_var13_0 0.985841426083\n",
      "saldo_var25 saldo_var26 0.9852327534\n",
      "saldo_medio_var12_ult1 saldo_var24 0.984635679498\n",
      "num_var35 num_var4 0.9831250593\n",
      "ind_var13_corto ind_var13_corto_0 0.982100365511\n",
      "saldo_medio_var17_hace2 saldo_medio_var17_ult1 0.982002063846\n",
      "imp_aport_var17_hace3 saldo_var17 0.98191022713\n",
      "ind_var13_corto_0 num_var13_corto 0.981776184592\n",
      "imp_aport_var17_hace3 saldo_medio_var17_ult3 0.981472285928\n",
      "saldo_medio_var13_corto_ult3 saldo_var13_corto 0.980454537711\n",
      "saldo_medio_var17_hace3 saldo_medio_var17_ult3 0.979377339495\n",
      "num_var13_largo num_var13_largo_0 0.979173074536\n",
      "ind_var25_0 ind_var26_0 0.978999995736\n",
      "ind_var25_cte ind_var26_cte 0.978690753528\n",
      "saldo_medio_var17_hace3 saldo_var17 0.978625305748\n",
      "saldo_var12 saldo_var42 0.978414707704\n",
      "imp_compra_var44_ult1 imp_venta_var44_ult1 0.978413699169\n",
      "num_var13 num_var13_0 0.977916637354\n",
      "num_var13_corto num_var13_corto_0 0.976784703738\n",
      "ind_var13_corto num_var13_corto_0 0.97647547084\n",
      "saldo_var24 saldo_var42 0.975267284266\n",
      "num_var25_0 num_var26_0 0.974991604312\n",
      "imp_aport_var17_hace3 saldo_medio_var17_ult1 0.974771532061\n",
      "saldo_var17 saldo_var31 0.974017830937\n",
      "num_op_var39_comer_ult1 num_op_var41_comer_ult1 0.973519793184\n",
      "saldo_medio_var12_ult3 saldo_var12 0.973449997304\n",
      "ind_var10cte_ult1 ind_var9_cte_ult1 0.9728565907\n",
      "ind_var6 saldo_var6 0.972434322965\n",
      "num_var6 saldo_var6 0.972434322964\n",
      "saldo_medio_var17_ult3 saldo_var31 0.97224212349\n",
      "saldo_medio_var17_ult1 saldo_var31 0.9721554168\n",
      "saldo_medio_var12_ult3 saldo_var24 0.972076872024\n",
      "saldo_medio_var17_hace3 saldo_medio_var17_ult1 0.971487668355\n",
      "imp_trasp_var33_in_hace3 num_trasp_var33_in_hace3 0.969721021563\n",
      "ind_var13 num_var13 0.968383760509\n",
      "saldo_medio_var44_ult1 saldo_medio_var44_ult3 0.968166996043\n",
      "ind_var10_ult1 ind_var9_ult1 0.967572532725\n",
      "saldo_medio_var13_medio_hace2 saldo_medio_var13_medio_ult3 0.967345779969\n",
      "saldo_medio_var12_ult1 saldo_var42 0.965057925583\n",
      "ind_var33 num_var33 0.963774035526\n",
      "ind_var33 num_meses_var33_ult3 0.963139235566\n",
      "imp_op_var39_comer_ult1 imp_op_var41_comer_ult1 0.961780958161\n",
      "saldo_medio_var17_hace2 saldo_var31 0.961097624303\n",
      "ind_var13_corto_0 num_meses_var13_corto_ult3 0.960856926546\n",
      "imp_op_var39_comer_ult3 imp_op_var41_comer_ult3 0.959839763821\n",
      "num_op_var39_comer_ult3 num_op_var41_comer_ult3 0.95785932424\n",
      "ind_var13_0 num_var13_0 0.957759433707\n",
      "ind_var13_corto num_meses_var13_corto_ult3 0.956652273902\n",
      "num_meses_var13_corto_ult3 num_var13_corto 0.956245834353\n",
      "num_op_var40_ult1 num_op_var40_ult3 0.9559640651\n",
      "imp_aport_var17_hace3 saldo_var31 0.955852566862\n",
      "num_meses_var13_corto_ult3 num_var13_corto_0 0.955846215046\n",
      "ind_var13_0 num_var13 0.954672827453\n",
      "saldo_medio_var17_hace3 saldo_var31 0.952655833899\n",
      "saldo_medio_var12_ult3 saldo_var42 0.95244718021\n",
      "ind_var12 num_meses_var12_ult3 0.952130855495\n",
      "saldo_medio_var29_ult1 saldo_medio_var29_ult3 0.950235818741\n",
      "num_var39_0 num_var41_0 0.950177370035\n"
     ]
    }
   ],
   "source": [
    "for fts in sorted(bad_fts.keys(), key=lambda x: -bad_fts[x]):\n",
    "    print(fts[0], fts[1], bad_fts[fts])"
   ]
  },
  {
   "cell_type": "code",
   "execution_count": 155,
   "metadata": {
    "collapsed": false
   },
   "outputs": [
    {
     "name": "stdout",
     "output_type": "stream",
     "text": [
      "saldo_var17 6\n",
      "saldo_medio_var17_hace2 6\n",
      "saldo_medio_var17_ult1 6\n",
      "saldo_medio_var17_ult3 6\n",
      "saldo_medio_var17_hace3 6\n",
      "imp_aport_var17_hace3 6\n",
      "saldo_var31 6\n",
      "saldo_var24 4\n",
      "saldo_medio_var12_ult1 4\n",
      "saldo_var12 4\n",
      "num_var13_corto 4\n",
      "num_var13_corto_0 4\n",
      "saldo_medio_var13_medio_hace2 4\n",
      "ind_var13_corto_0 4\n",
      "ind_var13_corto 4\n",
      "saldo_medio_var12_ult3 4\n",
      "saldo_var42 4\n",
      "num_meses_var13_corto_ult3 4\n",
      "num_var13_medio_0 3\n",
      "num_var40 3\n",
      "num_var1 3\n",
      "num_var40_0 3\n",
      "ind_var1 3\n",
      "ind_var40_0 3\n",
      "num_meses_var13_medio_ult3 3\n",
      "ind_var13_medio_0 3\n",
      "ind_var13_0 3\n",
      "num_var1_0 3\n",
      "ind_var40 3\n",
      "ind_var1_0 3\n",
      "num_var13 3\n",
      "delta_imp_reemb_var33_1y3 2\n",
      "ind_var13 2\n",
      "ind_var12 2\n",
      "saldo_var18 2\n",
      "imp_trasp_var33_out_ult1 2\n",
      "saldo_medio_var33_ult1 2\n",
      "num_var6 2\n",
      "num_reemb_var33_ult1 2\n",
      "saldo_medio_var33_ult3 2\n",
      "saldo_var13_corto 2\n",
      "ind_var6 2\n",
      "saldo_medio_var13_medio_ult3 2\n",
      "num_trasp_var33_out_ult1 2\n",
      "saldo_var1 2\n",
      "saldo_var6 2\n",
      "ind_var34_0 2\n",
      "num_var13_0 2\n",
      "saldo_medio_var13_corto_ult1 2\n",
      "saldo_medio_var13_corto_ult3 2\n",
      "ind_var18_0 2\n",
      "imp_amort_var18_ult1 2\n",
      "num_var34_0 2\n",
      "num_var18_0 2\n",
      "delta_imp_amort_var18_1y3 2\n",
      "imp_reemb_var33_ult1 2\n",
      "delta_imp_amort_var34_1y3 2\n",
      "saldo_var33 2\n",
      "ind_var33 2\n",
      "delta_imp_trasp_var33_out_1y3 2\n",
      "imp_op_var39_efect_ult3 1\n",
      "imp_op_var39_efect_ult1 1\n",
      "num_var41_0 1\n",
      "imp_trasp_var17_in_hace3 1\n",
      "delta_imp_aport_var13_1y3 1\n",
      "ind_var25_0 1\n",
      "num_op_var41_hace3 1\n",
      "ind_var24 1\n",
      "ind_var26_cte 1\n",
      "imp_op_var41_ult1 1\n",
      "ind_var20 1\n",
      "ind_var39_0 1\n",
      "imp_op_var39_ult1 1\n",
      "delta_num_aport_var13_1y3 1\n",
      "num_meses_var33_ult3 1\n",
      "num_op_var40_ult1 1\n",
      "saldo_medio_var13_largo_ult1 1\n",
      "ind_var7_emit_ult1 1\n",
      "ind_var14 1\n",
      "delta_num_compra_var44_1y3 1\n",
      "saldo_medio_var13_largo_ult3 1\n",
      "num_var45_ult3 1\n",
      "imp_reemb_var17_hace3 1\n",
      "ind_var44_0 1\n",
      "num_op_var41_ult3 1\n",
      "num_op_var41_ult1 1\n",
      "saldo_medio_var29_ult3 1\n",
      "imp_amort_var34_ult1 1\n",
      "ind_var20_0 1\n",
      "num_op_var41_efect_ult1 1\n",
      "num_var6_0 1\n",
      "num_reemb_var17_hace3 1\n",
      "ind_var13_largo_0 1\n",
      "num_var44 1\n",
      "imp_trasp_var33_in_hace3 1\n",
      "num_var8 1\n",
      "num_var4 1\n",
      "num_var5 1\n",
      "num_var7_emit_ult1 1\n",
      "delta_num_aport_var33_1y3 1\n",
      "num_var44_0 1\n",
      "num_var8_0 1\n",
      "imp_op_var41_comer_ult3 1\n",
      "ind_var6_0 1\n",
      "saldo_var25 1\n",
      "ind_var24_0 1\n",
      "ind_var10cte_ult1 1\n",
      "saldo_var26 1\n",
      "saldo_medio_var44_ult1 1\n",
      "ind_var8 1\n",
      "ind_var5 1\n",
      "num_op_var39_hace3 1\n",
      "imp_op_var39_comer_ult1 1\n",
      "imp_op_var39_comer_ult3 1\n",
      "imp_op_var41_efect_ult1 1\n",
      "imp_op_var41_efect_ult3 1\n",
      "num_var24_0 1\n",
      "num_trasp_var17_in_hace3 1\n",
      "saldo_medio_var29_ult1 1\n",
      "num_var26_0 1\n",
      "ind_var8_0 1\n",
      "num_var24 1\n",
      "num_var20 1\n",
      "saldo_var13_medio 1\n",
      "saldo_medio_var44_ult3 1\n",
      "delta_num_venta_var44_1y3 1\n",
      "num_var39_0 1\n",
      "num_trasp_var33_in_hace3 1\n",
      "num_trasp_var17_in_ult1 1\n",
      "num_var13_largo_0 1\n",
      "num_op_var39_comer_ult3 1\n",
      "num_op_var39_comer_ult1 1\n",
      "num_op_var41_hace2 1\n",
      "num_meses_var12_ult3 1\n",
      "num_var35 1\n",
      "num_var33 1\n",
      "num_var20_0 1\n",
      "num_op_var39_efect_ult1 1\n",
      "imp_op_var41_comer_ult1 1\n",
      "num_trasp_var17_out_ult1 1\n",
      "ind_var25_cte 1\n",
      "num_op_var41_comer_ult3 1\n",
      "num_op_var39_hace2 1\n",
      "ind_var13_largo 1\n",
      "delta_imp_venta_var44_1y3 1\n",
      "ind_var9_cte_ult1 1\n",
      "delta_imp_reemb_var13_1y3 1\n",
      "num_var25_0 1\n",
      "ind_var10_ult1 1\n",
      "ind_var41_0 1\n",
      "num_med_var45_ult3 1\n",
      "ind_var26_0 1\n",
      "num_op_var41_comer_ult1 1\n",
      "ind_var44 1\n",
      "delta_imp_trasp_var17_in_1y3 1\n",
      "num_op_var39_efect_ult3 1\n",
      "delta_num_aport_var17_1y3 1\n",
      "num_reemb_var13_ult1 1\n",
      "imp_venta_var44_ult1 1\n",
      "num_var13_largo 1\n",
      "num_op_var41_efect_ult3 1\n",
      "ind_var9_ult1 1\n",
      "delta_imp_aport_var17_1y3 1\n",
      "num_op_var39_ult1 1\n",
      "num_op_var39_ult3 1\n",
      "num_var14 1\n",
      "delta_imp_aport_var33_1y3 1\n",
      "num_var12 1\n",
      "saldo_var34 1\n",
      "num_op_var40_ult3 1\n",
      "imp_compra_var44_ult1 1\n",
      "delta_imp_trasp_var17_out_1y3 1\n",
      "delta_imp_compra_var44_1y3 1\n"
     ]
    }
   ],
   "source": [
    "for ft in sorted(bad_count, key=lambda x: -bad_count[x]):\n",
    "    if bad_count[ft] > 0:\n",
    "        print(ft, bad_count[ft])"
   ]
  },
  {
   "cell_type": "code",
   "execution_count": 19,
   "metadata": {
    "collapsed": false
   },
   "outputs": [
    {
     "data": {
      "text/plain": [
       "173"
      ]
     },
     "execution_count": 19,
     "metadata": {},
     "output_type": "execute_result"
    }
   ],
   "source": [
    "correlated = set(map(lambda x: x[0], bad_fts) + map(lambda x: x[1], bad_fts))\n",
    "len(correlated)"
   ]
  },
  {
   "cell_type": "code",
   "execution_count": 23,
   "metadata": {
    "collapsed": false
   },
   "outputs": [
    {
     "name": "stdout",
     "output_type": "stream",
     "text": [
      "delta_imp_venta_var44_1y3 1.0\n",
      "delta_imp_reemb_var33_1y3 1.0\n",
      "ind_var13_medio_0 1.0\n",
      "delta_imp_aport_var13_1y3 1.0\n",
      "ind_var20 1.0\n",
      "delta_imp_aport_var33_1y3 1.0\n",
      "delta_imp_amort_var34_1y3 1.0\n",
      "ind_var6 1.00000000001\n",
      "delta_imp_aport_var17_1y3 1.0\n",
      "ind_var18_0 1.0\n",
      "delta_imp_trasp_var33_out_1y3 1.0\n",
      "delta_imp_amort_var18_1y3 1.0\n",
      "ind_var20_0 1.0\n",
      "num_meses_var13_medio_ult3 1.0\n",
      "delta_imp_reemb_var13_1y3 1.0\n",
      "15 set(['delta_imp_aport_var13_1y3', 'delta_imp_reemb_var33_1y3', 'delta_imp_venta_var44_1y3', 'ind_var20', 'ind_var18_0', 'delta_imp_amort_var34_1y3', 'delta_imp_reemb_var13_1y3', 'delta_imp_aport_var17_1y3', 'ind_var20_0', 'num_meses_var13_medio_ult3', 'delta_imp_trasp_var33_out_1y3', 'delta_imp_amort_var18_1y3', 'ind_var13_medio_0', 'ind_var6', 'delta_imp_aport_var33_1y3'])\n"
     ]
    }
   ],
   "source": [
    "to_drop = set()\n",
    "drop_type = 'identical'\n",
    "while True:\n",
    "    bf, bc = bad_feature_pairs(dc, set(dc.columns).difference(to_drop), corr_th)\n",
    "    #print(bc)\n",
    "    if drop_type == 'identical':\n",
    "        ident = filter(lambda x: bf[x] >= 1., bf.keys())\n",
    "        if len(ident) == 0:\n",
    "            break\n",
    "        to_drop.add(ident[0][0])\n",
    "        print(ident[0][0], bf[ident[0]])\n",
    "    else:\n",
    "        bcs = sorted(bc, key=lambda x: -bc[x])\n",
    "        print(bcs[0], bc[bcs[0]])\n",
    "        if bc[bcs[0]] == 0:\n",
    "            break\n",
    "        to_drop.add(bcs[0])\n",
    "print(len(to_drop), to_drop)"
   ]
  },
  {
   "cell_type": "code",
   "execution_count": 24,
   "metadata": {
    "collapsed": true
   },
   "outputs": [],
   "source": [
    "r_train.drop(to_drop, axis=1).to_csv('./data/c_train.csv')\n",
    "r_test.drop(to_drop, axis=1).to_csv('./data/c_test.csv')"
   ]
  }
 ],
 "metadata": {
  "kernelspec": {
   "display_name": "Python 2",
   "language": "python",
   "name": "python2"
  },
  "language_info": {
   "codemirror_mode": {
    "name": "ipython",
    "version": 2
   },
   "file_extension": ".py",
   "mimetype": "text/x-python",
   "name": "python",
   "nbconvert_exporter": "python",
   "pygments_lexer": "ipython2",
   "version": "2.7.11"
  }
 },
 "nbformat": 4,
 "nbformat_minor": 0
}
