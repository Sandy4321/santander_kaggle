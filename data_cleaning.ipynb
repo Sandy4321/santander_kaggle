{
 "cells": [
  {
   "cell_type": "code",
   "execution_count": 1,
   "metadata": {
    "collapsed": true
   },
   "outputs": [],
   "source": [
    "import numpy as np\n",
    "import pandas as pd\n",
    "import matplotlib.pyplot as plt\n",
    "%matplotlib inline"
   ]
  },
  {
   "cell_type": "code",
   "execution_count": 2,
   "metadata": {
    "collapsed": true
   },
   "outputs": [],
   "source": [
    "from bot import sendMessage\n",
    "    \n",
    "from __future__ import print_function\n",
    "import seaborn; seaborn.set()"
   ]
  },
  {
   "cell_type": "code",
   "execution_count": 3,
   "metadata": {
    "collapsed": true
   },
   "outputs": [],
   "source": [
    "r_train = pd.read_csv('data/r_train.csv', index_col=0)\n",
    "r_test = pd.read_csv('data/r_test.csv', index_col=0)\n",
    "r_target = pd.read_csv('data/target.csv', index_col=0)['0']"
   ]
  },
  {
   "cell_type": "code",
   "execution_count": 4,
   "metadata": {
    "collapsed": true
   },
   "outputs": [],
   "source": [
    "droplist = set(['ind_var6', 'saldo_medio_var17_hace3', 'delta_imp_trasp_var33_out_1y3', \n",
    "                'saldo_medio_var17_hace2', 'ind_var20_0', 'delta_imp_reemb_var33_1y3',\n",
    "                'delta_imp_reemb_var13_1y3', 'num_var13_medio_0', 'ind_var20', 'ind_var18_0',\n",
    "                'delta_imp_amort_var18_1y3', 'delta_imp_amort_var34_1y3', 'saldo_medio_var12_ult1',\n",
    "                'delta_imp_aport_var13_1y3', 'delta_imp_venta_var44_1y3', 'saldo_medio_var17_ult3',\n",
    "                'num_meses_var13_medio_ult3', 'delta_num_aport_var33_1y3', 'delta_num_aport_var17_1y3',\n",
    "                'delta_num_compra_var44_1y3', 'imp_reemb_var33_ult1', 'delta_imp_trasp_var17_out_1y3',\n",
    "                'imp_reemb_var17_hace3', 'ind_var34_0', 'delta_imp_trasp_var17_in_1y3'])\n",
    "\n",
    "droplist = ['imp_op_var39_efect_ult3', 'num_op_var41_ult3', 'imp_op_var39_efect_ult1', \n",
    "            'delta_imp_aport_var13_1y3', 'delta_imp_reemb_var33_1y3', 'num_trasp_var33_out_ult1', \n",
    "            'ind_var18_0', 'delta_imp_reemb_var13_1y3', 'saldo_medio_var13_medio_ult3', \n",
    "            'ind_var20_0', 'imp_trasp_var17_in_hace3', 'num_op_var41_ult1', 'num_var1_0', \n",
    "            'num_var44', 'ind_var40_0', 'ind_var13_largo_0', 'num_var34_0', 'ind_var24', \n",
    "            'num_op_var41_efect_ult1', 'saldo_var24', 'imp_op_var41_ult1', 'ind_var20', \n",
    "            'ind_var39_0', 'num_var40', 'num_trasp_var17_in_ult1', 'num_var8_0', \n",
    "            'saldo_medio_var17_ult3', 'ind_var6_0', 'num_var8', 'num_var6', 'num_var13_medio_0', \n",
    "            'num_var4', 'ind_var14', 'num_var1', 'saldo_var1', 'saldo_medio_var33_ult3', \n",
    "            'num_reemb_var17_hace3', 'num_op_var41_efect_ult3', 'delta_num_venta_var44_1y3', \n",
    "            'delta_num_aport_var33_1y3', 'saldo_medio_var17_hace3', 'saldo_medio_var17_hace2', \n",
    "            'ind_var34_0', 'saldo_medio_var33_ult1', 'num_var45_ult3', 'saldo_medio_var12_ult1', \n",
    "            'num_var18_0', 'saldo_medio_var13_medio_hace2', 'num_reemb_var33_ult1', 'ind_var13_corto_0', \n",
    "            'ind_var13', 'num_op_var41_hace3', 'num_op_var41_hace2', 'ind_var7_emit_ult1', \n",
    "            'num_var12', 'saldo_medio_var13_largo_ult1', 'ind_var24_0', 'saldo_var17', \n",
    "            'num_var5', 'delta_num_compra_var44_1y3', 'saldo_var26', 'saldo_var34', \n",
    "            'saldo_medio_var13_corto_ult1', 'saldo_var13_corto', 'saldo_var18', \n",
    "            'delta_num_aport_var17_1y3', 'num_meses_var13_medio_ult3', 'num_trasp_var17_out_ult1', \n",
    "            'ind_var44_0', 'imp_trasp_var33_out_ult1', 'num_var40_0', 'ind_var1', 'num_var13_corto']\n",
    "droplist = []"
   ]
  },
  {
   "cell_type": "code",
   "execution_count": 5,
   "metadata": {
    "collapsed": false
   },
   "outputs": [],
   "source": [
    "data = r_train.drop(droplist, axis=1)"
   ]
  },
  {
   "cell_type": "code",
   "execution_count": 6,
   "metadata": {
    "collapsed": false
   },
   "outputs": [
    {
     "name": "stdout",
     "output_type": "stream",
     "text": [
      "Wall time: 22.9 s\n"
     ]
    }
   ],
   "source": [
    "%%time\n",
    "dc = data.corr()"
   ]
  },
  {
   "cell_type": "code",
   "execution_count": 7,
   "metadata": {
    "collapsed": false
   },
   "outputs": [
    {
     "name": "stdout",
     "output_type": "stream",
     "text": [
      "148\n"
     ]
    }
   ],
   "source": [
    "#Find correlations\n",
    "def bad_feature_pairs(corr, columns, th):\n",
    "    bad_fts = dict()\n",
    "    bad_count = {ft:0 for ft in columns}\n",
    "    for ft1 in columns:\n",
    "        for ft2 in columns:\n",
    "            if ft1 == ft2: \n",
    "                continue\n",
    "            if corr[ft1][ft2] > th:\n",
    "                pair = tuple(sorted([ft1, ft2]))\n",
    "                if pair not in bad_fts:\n",
    "                    bad_fts[pair] = corr[ft1][ft2]\n",
    "                    bad_count[ft1] += 1\n",
    "                    bad_count[ft2] += 1\n",
    "    return bad_fts, bad_count\n",
    "\n",
    "corr_th = .95\n",
    "bad_fts, bad_count = bad_feature_pairs(dc, dc.columns, corr_th)\n",
    "print(len(bad_fts))"
   ]
  },
  {
   "cell_type": "code",
   "execution_count": 8,
   "metadata": {
    "collapsed": false
   },
   "outputs": [
    {
     "name": "stdout",
     "output_type": "stream",
     "text": [
      "ind_var6 num_var6 1.00000000001\n",
      "delta_imp_trasp_var33_out_1y3 num_trasp_var33_out_ult1 1.0\n",
      "delta_imp_reemb_var33_1y3 num_reemb_var33_ult1 1.0\n",
      "ind_var20_0 num_var20_0 1.0\n",
      "delta_imp_reemb_var13_1y3 num_reemb_var13_ult1 1.0\n",
      "ind_var20 num_var20 1.0\n",
      "ind_var13_medio_0 num_var13_medio_0 1.0\n",
      "num_meses_var13_medio_ult3 num_var13_medio_0 1.0\n",
      "delta_imp_amort_var18_1y3 num_var18_0 1.0\n",
      "ind_var18_0 num_var18_0 1.0\n",
      "delta_imp_amort_var34_1y3 num_var34_0 1.0\n",
      "delta_imp_aport_var13_1y3 delta_num_aport_var13_1y3 1.0\n",
      "delta_imp_venta_var44_1y3 delta_num_venta_var44_1y3 1.0\n",
      "delta_imp_aport_var33_1y3 delta_num_aport_var33_1y3 1.0\n",
      "delta_imp_aport_var17_1y3 delta_num_aport_var17_1y3 1.0\n",
      "ind_var13_medio_0 num_meses_var13_medio_ult3 1.0\n",
      "delta_imp_compra_var44_1y3 delta_num_compra_var44_1y3 1.0\n",
      "delta_imp_amort_var18_1y3 ind_var18_0 1.0\n",
      "imp_reemb_var33_ult1 num_reemb_var33_ult1 1.0\n",
      "delta_imp_trasp_var17_out_1y3 num_trasp_var17_out_ult1 1.0\n",
      "imp_reemb_var17_hace3 num_reemb_var17_hace3 1.0\n",
      "ind_var34_0 num_var34_0 1.0\n",
      "delta_imp_trasp_var17_in_1y3 num_trasp_var17_in_ult1 1.0\n",
      "delta_imp_amort_var34_1y3 ind_var34_0 0.999999999999\n",
      "ind_var7_emit_ult1 num_var7_emit_ult1 0.999999999999\n",
      "ind_var40 num_var40 0.999999999998\n",
      "delta_imp_reemb_var33_1y3 imp_reemb_var33_ult1 0.999999999998\n",
      "ind_var44 num_var44 0.999999999997\n",
      "ind_var8 num_var8 0.999999999997\n",
      "imp_trasp_var33_out_ult1 num_trasp_var33_out_ult1 0.999999999997\n",
      "delta_imp_trasp_var33_out_1y3 imp_trasp_var33_out_ult1 0.999999999996\n",
      "ind_var6_0 num_var6_0 0.999999999995\n",
      "saldo_var1 saldo_var18 0.99986210623\n",
      "imp_amort_var18_ult1 saldo_var18 0.99980451772\n",
      "ind_var8_0 num_var8_0 0.999793191936\n",
      "imp_trasp_var17_in_hace3 num_trasp_var17_in_hace3 0.999754969178\n",
      "imp_amort_var18_ult1 saldo_var1 0.999685035725\n",
      "ind_var13_corto num_var13_corto 0.999669910602\n",
      "ind_var24 num_var24 0.999460783261\n",
      "ind_var40_0 num_var40_0 0.999419825291\n",
      "imp_op_var39_efect_ult3 imp_op_var41_efect_ult3 0.999270934254\n",
      "num_op_var39_efect_ult3 num_op_var41_efect_ult3 0.999244416638\n",
      "num_op_var39_efect_ult1 num_op_var41_efect_ult1 0.99896594905\n",
      "ind_var1_0 num_var1_0 0.998848549317\n",
      "saldo_medio_var33_ult1 saldo_var33 0.998625555138\n",
      "imp_op_var39_efect_ult1 imp_op_var41_efect_ult1 0.998378134203\n",
      "imp_aport_var17_hace3 saldo_medio_var17_hace3 0.998288290766\n",
      "ind_var1 num_var1 0.998267957381\n",
      "ind_var1_0 ind_var40_0 0.998256430742\n",
      "saldo_medio_var17_ult3 saldo_var17 0.997856898055\n",
      "num_med_var45_ult3 num_var45_ult3 0.997806009995\n",
      "saldo_medio_var17_ult1 saldo_var17 0.997788811109\n",
      "num_var1_0 num_var40_0 0.997691193418\n",
      "ind_var1_0 num_var40_0 0.997677267607\n",
      "ind_var24_0 num_var24_0 0.997448385603\n",
      "saldo_medio_var17_ult1 saldo_medio_var17_ult3 0.997296550339\n",
      "ind_var40_0 num_var1_0 0.997114974328\n",
      "saldo_medio_var13_medio_ult3 saldo_var13_medio 0.997011176626\n",
      "saldo_var12 saldo_var24 0.996932397338\n",
      "ind_var44_0 num_var44_0 0.996587101779\n",
      "imp_aport_var17_hace3 saldo_medio_var17_hace2 0.99594222827\n",
      "ind_var1 num_var40 0.99472171699\n",
      "ind_var1 ind_var40 0.994721716988\n",
      "ind_var13_corto_0 num_var13_corto_0 0.994177401338\n",
      "ind_var5 num_var5 0.99370918937\n",
      "saldo_medio_var17_hace2 saldo_medio_var17_hace3 0.993662635933\n",
      "ind_var40 num_var1 0.993035632752\n",
      "num_var1 num_var40 0.99303563275\n",
      "num_op_var39_hace2 num_op_var41_hace2 0.99259644747\n",
      "ind_var12 num_var12 0.992315732112\n",
      "saldo_medio_var33_ult1 saldo_medio_var33_ult3 0.992025032949\n",
      "ind_var13_largo ind_var13_largo_0 0.99146990709\n",
      "imp_op_var39_ult1 imp_op_var41_ult1 0.99110268492\n",
      "saldo_medio_var33_ult3 saldo_var33 0.990496819413\n",
      "ind_var39_0 ind_var41_0 0.989558996664\n",
      "num_op_var39_hace3 num_op_var41_hace3 0.989115763672\n",
      "imp_amort_var34_ult1 saldo_var34 0.989083410731\n",
      "num_op_var39_ult3 num_op_var41_ult3 0.98886065786\n",
      "saldo_medio_var13_corto_ult1 saldo_var13_corto 0.988666590104\n",
      "saldo_medio_var13_corto_ult1 saldo_medio_var13_corto_ult3 0.988372945853\n",
      "saldo_medio_var17_hace2 saldo_medio_var17_ult3 0.987702770157\n",
      "num_var13_medio_0 saldo_medio_var13_medio_hace2 0.987170405369\n",
      "ind_var13_medio_0 saldo_medio_var13_medio_hace2 0.987170405369\n",
      "num_meses_var13_medio_ult3 saldo_medio_var13_medio_hace2 0.987170405369\n",
      "saldo_medio_var13_largo_ult1 saldo_medio_var13_largo_ult3 0.987061840983\n",
      "saldo_medio_var17_hace2 saldo_var17 0.986626064106\n",
      "num_op_var39_ult1 num_op_var41_ult1 0.986411001795\n",
      "saldo_medio_var12_ult1 saldo_var12 0.986397264709\n",
      "saldo_medio_var12_ult1 saldo_medio_var12_ult3 0.98593972437\n",
      "ind_var14 num_var14 0.985881163\n",
      "ind_var13 ind_var13_0 0.985841426083\n",
      "saldo_var25 saldo_var26 0.9852327534\n",
      "saldo_medio_var12_ult1 saldo_var24 0.984635679498\n",
      "num_var35 num_var4 0.9831250593\n",
      "ind_var13_corto ind_var13_corto_0 0.982100365511\n",
      "saldo_medio_var17_hace2 saldo_medio_var17_ult1 0.982002063846\n",
      "imp_aport_var17_hace3 saldo_var17 0.98191022713\n",
      "ind_var13_corto_0 num_var13_corto 0.981776184592\n",
      "imp_aport_var17_hace3 saldo_medio_var17_ult3 0.981472285928\n",
      "saldo_medio_var13_corto_ult3 saldo_var13_corto 0.980454537711\n",
      "saldo_medio_var17_hace3 saldo_medio_var17_ult3 0.979377339495\n",
      "num_var13_largo num_var13_largo_0 0.979173074536\n",
      "ind_var25_0 ind_var26_0 0.978999995736\n",
      "ind_var25_cte ind_var26_cte 0.978690753528\n",
      "saldo_medio_var17_hace3 saldo_var17 0.978625305748\n",
      "saldo_var12 saldo_var42 0.978414707704\n",
      "imp_compra_var44_ult1 imp_venta_var44_ult1 0.978413699169\n",
      "num_var13 num_var13_0 0.977916637354\n",
      "num_var13_corto num_var13_corto_0 0.976784703738\n",
      "ind_var13_corto num_var13_corto_0 0.97647547084\n",
      "saldo_var24 saldo_var42 0.975267284266\n",
      "num_var25_0 num_var26_0 0.974991604312\n",
      "imp_aport_var17_hace3 saldo_medio_var17_ult1 0.974771532061\n",
      "saldo_var17 saldo_var31 0.974017830937\n",
      "num_op_var39_comer_ult1 num_op_var41_comer_ult1 0.973519793184\n",
      "saldo_medio_var12_ult3 saldo_var12 0.973449997304\n",
      "ind_var10cte_ult1 ind_var9_cte_ult1 0.9728565907\n",
      "ind_var6 saldo_var6 0.972434322965\n",
      "num_var6 saldo_var6 0.972434322964\n",
      "saldo_medio_var17_ult3 saldo_var31 0.97224212349\n",
      "saldo_medio_var17_ult1 saldo_var31 0.9721554168\n",
      "saldo_medio_var12_ult3 saldo_var24 0.972076872024\n",
      "saldo_medio_var17_hace3 saldo_medio_var17_ult1 0.971487668355\n",
      "imp_trasp_var33_in_hace3 num_trasp_var33_in_hace3 0.969721021563\n",
      "ind_var13 num_var13 0.968383760509\n",
      "saldo_medio_var44_ult1 saldo_medio_var44_ult3 0.968166996043\n",
      "ind_var10_ult1 ind_var9_ult1 0.967572532725\n",
      "saldo_medio_var13_medio_hace2 saldo_medio_var13_medio_ult3 0.967345779969\n",
      "saldo_medio_var12_ult1 saldo_var42 0.965057925583\n",
      "ind_var33 num_var33 0.963774035526\n",
      "ind_var33 num_meses_var33_ult3 0.963139235566\n",
      "imp_op_var39_comer_ult1 imp_op_var41_comer_ult1 0.961780958161\n",
      "saldo_medio_var17_hace2 saldo_var31 0.961097624303\n",
      "ind_var13_corto_0 num_meses_var13_corto_ult3 0.960856926546\n",
      "imp_op_var39_comer_ult3 imp_op_var41_comer_ult3 0.959839763821\n",
      "num_op_var39_comer_ult3 num_op_var41_comer_ult3 0.95785932424\n",
      "ind_var13_0 num_var13_0 0.957759433707\n",
      "ind_var13_corto num_meses_var13_corto_ult3 0.956652273902\n",
      "num_meses_var13_corto_ult3 num_var13_corto 0.956245834353\n",
      "num_op_var40_ult1 num_op_var40_ult3 0.9559640651\n",
      "imp_aport_var17_hace3 saldo_var31 0.955852566862\n",
      "num_meses_var13_corto_ult3 num_var13_corto_0 0.955846215046\n",
      "ind_var13_0 num_var13 0.954672827453\n",
      "saldo_medio_var17_hace3 saldo_var31 0.952655833899\n",
      "saldo_medio_var12_ult3 saldo_var42 0.95244718021\n",
      "ind_var12 num_meses_var12_ult3 0.952130855495\n",
      "saldo_medio_var29_ult1 saldo_medio_var29_ult3 0.950235818741\n",
      "num_var39_0 num_var41_0 0.950177370035\n"
     ]
    }
   ],
   "source": [
    "for fts in sorted(bad_fts.keys(), key=lambda x: -bad_fts[x]):\n",
    "    print(fts[0], fts[1], bad_fts[fts])"
   ]
  },
  {
   "cell_type": "code",
   "execution_count": 9,
   "metadata": {
    "collapsed": false
   },
   "outputs": [
    {
     "name": "stdout",
     "output_type": "stream",
     "text": [
      "saldo_var17 6\n",
      "saldo_medio_var17_hace2 6\n",
      "saldo_medio_var17_ult1 6\n",
      "saldo_medio_var17_ult3 6\n",
      "saldo_medio_var17_hace3 6\n",
      "imp_aport_var17_hace3 6\n",
      "saldo_var31 6\n",
      "saldo_var24 4\n",
      "saldo_medio_var12_ult1 4\n",
      "saldo_var12 4\n",
      "num_var13_corto 4\n",
      "num_var13_corto_0 4\n",
      "saldo_medio_var13_medio_hace2 4\n",
      "ind_var13_corto_0 4\n",
      "ind_var13_corto 4\n",
      "saldo_medio_var12_ult3 4\n",
      "saldo_var42 4\n",
      "num_meses_var13_corto_ult3 4\n",
      "num_var13_medio_0 3\n",
      "num_var40 3\n",
      "num_var1 3\n",
      "num_var40_0 3\n",
      "ind_var1 3\n",
      "ind_var40_0 3\n",
      "num_meses_var13_medio_ult3 3\n",
      "ind_var13_medio_0 3\n",
      "ind_var13_0 3\n",
      "num_var1_0 3\n",
      "ind_var40 3\n",
      "ind_var1_0 3\n",
      "num_var13 3\n",
      "delta_imp_reemb_var33_1y3 2\n",
      "ind_var13 2\n",
      "ind_var12 2\n",
      "saldo_var18 2\n",
      "imp_trasp_var33_out_ult1 2\n",
      "saldo_medio_var33_ult1 2\n",
      "num_var6 2\n",
      "num_reemb_var33_ult1 2\n",
      "saldo_medio_var33_ult3 2\n",
      "saldo_var13_corto 2\n",
      "ind_var6 2\n",
      "saldo_medio_var13_medio_ult3 2\n",
      "num_trasp_var33_out_ult1 2\n",
      "saldo_var1 2\n",
      "saldo_var6 2\n",
      "ind_var34_0 2\n",
      "num_var13_0 2\n",
      "saldo_medio_var13_corto_ult1 2\n",
      "saldo_medio_var13_corto_ult3 2\n",
      "ind_var18_0 2\n",
      "imp_amort_var18_ult1 2\n",
      "num_var34_0 2\n",
      "num_var18_0 2\n",
      "delta_imp_amort_var18_1y3 2\n",
      "imp_reemb_var33_ult1 2\n",
      "delta_imp_amort_var34_1y3 2\n",
      "saldo_var33 2\n",
      "ind_var33 2\n",
      "delta_imp_trasp_var33_out_1y3 2\n",
      "imp_op_var39_efect_ult3 1\n",
      "imp_op_var39_efect_ult1 1\n",
      "num_var41_0 1\n",
      "imp_trasp_var17_in_hace3 1\n",
      "delta_imp_aport_var13_1y3 1\n",
      "ind_var25_0 1\n",
      "num_op_var41_hace3 1\n",
      "ind_var24 1\n",
      "ind_var26_cte 1\n",
      "imp_op_var41_ult1 1\n",
      "ind_var20 1\n",
      "ind_var39_0 1\n",
      "imp_op_var39_ult1 1\n",
      "delta_num_aport_var13_1y3 1\n",
      "num_meses_var33_ult3 1\n",
      "num_op_var40_ult1 1\n",
      "saldo_medio_var13_largo_ult1 1\n",
      "ind_var7_emit_ult1 1\n",
      "ind_var14 1\n",
      "delta_num_compra_var44_1y3 1\n",
      "saldo_medio_var13_largo_ult3 1\n",
      "num_var45_ult3 1\n",
      "imp_reemb_var17_hace3 1\n",
      "ind_var44_0 1\n",
      "num_op_var41_ult3 1\n",
      "num_op_var41_ult1 1\n",
      "saldo_medio_var29_ult3 1\n",
      "imp_amort_var34_ult1 1\n",
      "ind_var20_0 1\n",
      "num_op_var41_efect_ult1 1\n",
      "num_var6_0 1\n",
      "num_reemb_var17_hace3 1\n",
      "ind_var13_largo_0 1\n",
      "num_var44 1\n",
      "imp_trasp_var33_in_hace3 1\n",
      "num_var8 1\n",
      "num_var4 1\n",
      "num_var5 1\n",
      "num_var7_emit_ult1 1\n",
      "delta_num_aport_var33_1y3 1\n",
      "num_var44_0 1\n",
      "num_var8_0 1\n",
      "imp_op_var41_comer_ult3 1\n",
      "ind_var6_0 1\n",
      "saldo_var25 1\n",
      "ind_var24_0 1\n",
      "ind_var10cte_ult1 1\n",
      "saldo_var26 1\n",
      "saldo_medio_var44_ult1 1\n",
      "ind_var8 1\n",
      "ind_var5 1\n",
      "num_op_var39_hace3 1\n",
      "imp_op_var39_comer_ult1 1\n",
      "imp_op_var39_comer_ult3 1\n",
      "imp_op_var41_efect_ult1 1\n",
      "imp_op_var41_efect_ult3 1\n",
      "num_var24_0 1\n",
      "num_trasp_var17_in_hace3 1\n",
      "saldo_medio_var29_ult1 1\n",
      "num_var26_0 1\n",
      "ind_var8_0 1\n",
      "num_var24 1\n",
      "num_var20 1\n",
      "saldo_var13_medio 1\n",
      "saldo_medio_var44_ult3 1\n",
      "delta_num_venta_var44_1y3 1\n",
      "num_var39_0 1\n",
      "num_trasp_var33_in_hace3 1\n",
      "num_trasp_var17_in_ult1 1\n",
      "num_var13_largo_0 1\n",
      "num_op_var39_comer_ult3 1\n",
      "num_op_var39_comer_ult1 1\n",
      "num_op_var41_hace2 1\n",
      "num_meses_var12_ult3 1\n",
      "num_var35 1\n",
      "num_var33 1\n",
      "num_var20_0 1\n",
      "num_op_var39_efect_ult1 1\n",
      "imp_op_var41_comer_ult1 1\n",
      "num_trasp_var17_out_ult1 1\n",
      "ind_var25_cte 1\n",
      "num_op_var41_comer_ult3 1\n",
      "num_op_var39_hace2 1\n",
      "ind_var13_largo 1\n",
      "delta_imp_venta_var44_1y3 1\n",
      "ind_var9_cte_ult1 1\n",
      "delta_imp_reemb_var13_1y3 1\n",
      "num_var25_0 1\n",
      "ind_var10_ult1 1\n",
      "ind_var41_0 1\n",
      "num_med_var45_ult3 1\n",
      "ind_var26_0 1\n",
      "num_op_var41_comer_ult1 1\n",
      "ind_var44 1\n",
      "delta_imp_trasp_var17_in_1y3 1\n",
      "num_op_var39_efect_ult3 1\n",
      "delta_num_aport_var17_1y3 1\n",
      "num_reemb_var13_ult1 1\n",
      "imp_venta_var44_ult1 1\n",
      "num_var13_largo 1\n",
      "num_op_var41_efect_ult3 1\n",
      "ind_var9_ult1 1\n",
      "delta_imp_aport_var17_1y3 1\n",
      "num_op_var39_ult1 1\n",
      "num_op_var39_ult3 1\n",
      "num_var14 1\n",
      "delta_imp_aport_var33_1y3 1\n",
      "num_var12 1\n",
      "saldo_var34 1\n",
      "num_op_var40_ult3 1\n",
      "imp_compra_var44_ult1 1\n",
      "delta_imp_trasp_var17_out_1y3 1\n",
      "delta_imp_compra_var44_1y3 1\n"
     ]
    }
   ],
   "source": [
    "for ft in sorted(bad_count, key=lambda x: -bad_count[x]):\n",
    "    if bad_count[ft] > 0:\n",
    "        print(ft, bad_count[ft])"
   ]
  },
  {
   "cell_type": "code",
   "execution_count": 10,
   "metadata": {
    "collapsed": false
   },
   "outputs": [
    {
     "data": {
      "text/plain": [
       "173"
      ]
     },
     "execution_count": 10,
     "metadata": {},
     "output_type": "execute_result"
    }
   ],
   "source": [
    "correlated = set(map(lambda x: x[0], bad_fts) + map(lambda x: x[1], bad_fts))\n",
    "len(correlated)"
   ]
  },
  {
   "cell_type": "code",
   "execution_count": 11,
   "metadata": {
    "collapsed": false
   },
   "outputs": [
    {
     "name": "stdout",
     "output_type": "stream",
     "text": [
      "delta_imp_venta_var44_1y3 1.0\n",
      "delta_imp_reemb_var33_1y3 1.0\n",
      "ind_var13_medio_0 1.0\n",
      "delta_imp_aport_var13_1y3 1.0\n",
      "ind_var20 1.0\n",
      "delta_imp_aport_var33_1y3 1.0\n",
      "delta_imp_amort_var34_1y3 1.0\n",
      "ind_var6 1.00000000001\n",
      "delta_imp_aport_var17_1y3 1.0\n",
      "ind_var18_0 1.0\n",
      "delta_imp_trasp_var33_out_1y3 1.0\n",
      "delta_imp_amort_var18_1y3 1.0\n",
      "ind_var20_0 1.0\n",
      "num_meses_var13_medio_ult3 1.0\n",
      "delta_imp_reemb_var13_1y3 1.0\n",
      "15 set(['delta_imp_aport_var13_1y3', 'delta_imp_reemb_var33_1y3', 'delta_imp_venta_var44_1y3', 'ind_var20', 'ind_var18_0', 'delta_imp_amort_var34_1y3', 'delta_imp_reemb_var13_1y3', 'delta_imp_aport_var17_1y3', 'ind_var20_0', 'num_meses_var13_medio_ult3', 'delta_imp_trasp_var33_out_1y3', 'delta_imp_amort_var18_1y3', 'ind_var13_medio_0', 'ind_var6', 'delta_imp_aport_var33_1y3'])\n"
     ]
    }
   ],
   "source": [
    "to_drop = set()\n",
    "drop_type = 'identical'\n",
    "while True:\n",
    "    bf, bc = bad_feature_pairs(dc, set(dc.columns).difference(to_drop), corr_th)\n",
    "    #print(bc)\n",
    "    if drop_type == 'identical':\n",
    "        ident = filter(lambda x: bf[x] >= 1., bf.keys())\n",
    "        if len(ident) == 0:\n",
    "            break\n",
    "        to_drop.add(ident[0][0])\n",
    "        print(ident[0][0], bf[ident[0]])\n",
    "    else:\n",
    "        bcs = sorted(bc, key=lambda x: -bc[x])\n",
    "        print(bcs[0], bc[bcs[0]])\n",
    "        if bc[bcs[0]] == 0:\n",
    "            break\n",
    "        to_drop.add(bcs[0])\n",
    "print(len(to_drop), to_drop)"
   ]
  },
  {
   "cell_type": "code",
   "execution_count": 14,
   "metadata": {
    "collapsed": true
   },
   "outputs": [],
   "source": [
    "c_train = r_train.drop(to_drop, axis=1)\n",
    "c_test = r_test.drop(to_drop, axis=1)\n",
    "c_test.to_csv('./data/c_test.csv')\n",
    "c_train.to_csv('./data/c_train.csv')"
   ]
  },
  {
   "cell_type": "code",
   "execution_count": 22,
   "metadata": {
    "collapsed": false
   },
   "outputs": [],
   "source": [
    "target = pd.read_csv('./data/target.csv', index_col=0)['0']\n",
    "c_test = pd.read_csv('./data/c_test.csv', index_col=0)\n",
    "c_train = pd.read_csv('./data/c_train.csv', index_col=0)"
   ]
  },
  {
   "cell_type": "code",
   "execution_count": null,
   "metadata": {
    "collapsed": true
   },
   "outputs": [],
   "source": [
    "data = pd.concat((c_train, c_test))\n",
    "train_data = data.iloc[:len(c_train), :]"
   ]
  },
  {
   "cell_type": "code",
   "execution_count": 123,
   "metadata": {
    "collapsed": false
   },
   "outputs": [],
   "source": [
    "#select values with max %\n",
    "values_max_fts = []\n",
    "for col in data.columns:\n",
    "    vc = data[col].value_counts()\n",
    "    #print (vc.argmax(), vc.max(), vc[vc.argmax()])\n",
    "    values_max_fts.append((col, vc.max() / float(len(data)), vc.argmax()))"
   ]
  },
  {
   "cell_type": "code",
   "execution_count": 125,
   "metadata": {
    "collapsed": false,
    "scrolled": true
   },
   "outputs": [
    {
     "name": "stdout",
     "output_type": "stream",
     "text": [
      "('imp_reemb_var17_hace3', 0.99999341403337771, 0.0)\n",
      "('imp_reemb_var33_ult1', 0.99999341403337771, 0)\n",
      "('num_reemb_var17_hace3', 0.99999341403337771, 0)\n",
      "('num_reemb_var33_ult1', 0.99999341403337771, 0)\n",
      "('saldo_medio_var29_hace3', 0.99999341403337771, 0.0)\n",
      "('imp_trasp_var33_out_ult1', 0.99998682806675532, 0)\n",
      "('num_trasp_var33_out_ult1', 0.99998682806675532, 0)\n",
      "('num_var18_0', 0.99998024210013303, 0)\n",
      "('saldo_var18', 0.99998024210013303, 0)\n",
      "('imp_amort_var18_ult1', 0.99998024210013303, 0.0)\n",
      "('ind_var34_0', 0.99997365613351075, 0)\n",
      "('num_var6', 0.99997365613351075, 0)\n",
      "('num_var34_0', 0.99997365613351075, 0)\n",
      "('saldo_var6', 0.99997365613351075, 0.0)\n",
      "('saldo_var34', 0.99997365613351075, 0)\n",
      "('delta_imp_trasp_var17_out_1y3', 0.99997365613351075, 0)\n",
      "('imp_amort_var34_ult1', 0.99997365613351075, 0.0)\n",
      "('imp_trasp_var17_out_ult1', 0.99997365613351075, 0.0)\n",
      "('num_trasp_var17_out_ult1', 0.99997365613351075, 0)\n",
      "('imp_var7_emit_ult1', 0.99996707016688835, 0.0)\n"
     ]
    }
   ],
   "source": [
    "map(print, sorted(values_max_fts, key=lambda x: -x[1])[:20]);"
   ]
  },
  {
   "cell_type": "code",
   "execution_count": 149,
   "metadata": {
    "collapsed": false
   },
   "outputs": [
    {
     "name": "stdout",
     "output_type": "stream",
     "text": [
      "('ind_var6_0', 0.0, 1.00010524654002)\n",
      "('ind_var33_0', 0.0, 1.0007503653094272)\n",
      "('ind_var33', 0.0, 1.0006318117201076)\n",
      "('ind_var34_0', 0.0, 1.0000263095582627)\n",
      "('num_var6_0', 0.0, 1.00010524654002)\n",
      "('num_var6', 0.0, 1.0000263095582627)\n",
      "('num_var13_medio_0', 0.0, 1.0000263095582627)\n",
      "('num_var18_0', 0.0, 1.0000263095582627)\n",
      "('num_var20_0', 0.0, 1.003643852978454)\n",
      "('num_var20', 0.0, 1.0027039504055926)\n",
      "('num_op_var40_hace3', 0.0, 1.0000920895110046)\n",
      "('num_var33_0', 0.0, 1.0007503653094272)\n",
      "('num_var33', 0.0, 1.0006318117201076)\n",
      "('num_var34_0', 0.0, 1.0000263095582627)\n",
      "('saldo_var6', 0.0, 1.0000263095582627)\n",
      "('saldo_var13_medio', 0.0, 1.0000263095582627)\n",
      "('saldo_var18', 0.0, 1.0000263095582627)\n",
      "('saldo_var20', 0.0, 1.0027039504055926)\n",
      "('saldo_var33', 0.0, 1.0006318117201076)\n",
      "('saldo_var34', 0.0, 1.0000263095582627)\n"
     ]
    }
   ],
   "source": [
    "#find target mean for selected frequent values and for other values\n",
    "from __future__ import division\n",
    "tg_mean = target.mean()\n",
    "#target.loc[np.where(train_data.n0 != 340)]\n",
    "count_th = .99\n",
    "mean_tg = []\n",
    "for col, _, val in filter(lambda x: x[1] > count_th, values_max_fts):\n",
    "    val_mean = target.loc[np.where(train_data[col] == val)].mean()\n",
    "    other_mean = target.loc[np.where(train_data[col] != val)].mean()\n",
    "    mean_tg.append((col, other_mean / tg_mean, val_mean / tg_mean))\n",
    "map(print, sorted(mean_tg, key=lambda x: x[1])[:20]);"
   ]
  },
  {
   "cell_type": "code",
   "execution_count": 150,
   "metadata": {
    "collapsed": false
   },
   "outputs": [
    {
     "name": "stdout",
     "output_type": "stream",
     "text": [
      "79 ['ind_var6_0', 'ind_var33_0', 'ind_var33', 'ind_var34_0', 'num_var6_0', 'num_var6', 'num_var13_medio_0', 'num_var18_0', 'num_var20_0', 'num_var20', 'num_op_var40_hace3', 'num_var33_0', 'num_var33', 'num_var34_0', 'saldo_var6', 'saldo_var13_medio', 'saldo_var18', 'saldo_var20', 'saldo_var33', 'saldo_var34', 'delta_imp_trasp_var17_in_1y3', 'delta_imp_trasp_var17_out_1y3', 'delta_imp_trasp_var33_in_1y3', 'delta_num_aport_var33_1y3', 'delta_num_venta_var44_1y3', 'imp_amort_var18_ult1', 'imp_amort_var34_ult1', 'imp_aport_var17_hace3', 'imp_aport_var33_hace3', 'imp_aport_var33_ult1', 'imp_var7_emit_ult1', 'imp_compra_var44_hace3', 'imp_reemb_var17_hace3', 'imp_reemb_var33_ult1', 'imp_trasp_var17_in_hace3', 'imp_trasp_var17_in_ult1', 'imp_trasp_var17_out_ult1', 'imp_trasp_var33_in_hace3', 'imp_trasp_var33_in_ult1', 'imp_trasp_var33_out_ult1', 'imp_venta_var44_hace3', 'imp_venta_var44_ult1', 'ind_var7_emit_ult1', 'num_aport_var17_hace3', 'num_aport_var33_hace3', 'num_aport_var33_ult1', 'num_var7_emit_ult1', 'num_compra_var44_hace3', 'num_meses_var13_largo_ult3', 'num_meses_var29_ult3', 'num_meses_var33_ult3', 'num_reemb_var17_hace3', 'num_reemb_var33_ult1', 'num_trasp_var17_in_hace3', 'num_trasp_var17_in_ult1', 'num_trasp_var17_out_ult1', 'num_trasp_var33_in_hace3', 'num_trasp_var33_in_ult1', 'num_trasp_var33_out_ult1', 'num_venta_var44_hace3', 'num_venta_var44_ult1', 'saldo_medio_var13_largo_hace2', 'saldo_medio_var13_largo_hace3', 'saldo_medio_var13_largo_ult1', 'saldo_medio_var13_largo_ult3', 'saldo_medio_var13_medio_hace2', 'saldo_medio_var13_medio_ult3', 'saldo_medio_var17_hace2', 'saldo_medio_var17_hace3', 'saldo_medio_var29_hace2', 'saldo_medio_var29_hace3', 'saldo_medio_var29_ult1', 'saldo_medio_var29_ult3', 'saldo_medio_var33_hace2', 'saldo_medio_var33_hace3', 'saldo_medio_var33_ult1', 'saldo_medio_var33_ult3', 'saldo_medio_var44_hace2', 'saldo_medio_var44_hace3']\n"
     ]
    }
   ],
   "source": [
    "to_drop2 = [col[0] for col in filter(lambda x: x[1] == 0, mean_tg)]\n",
    "print(len(to_drop2), to_drop2)"
   ]
  },
  {
   "cell_type": "code",
   "execution_count": 175,
   "metadata": {
    "collapsed": false
   },
   "outputs": [
    {
     "data": {
      "text/plain": [
       "(151838, 292)"
      ]
     },
     "execution_count": 175,
     "metadata": {},
     "output_type": "execute_result"
    }
   ],
   "source": [
    "data.shape"
   ]
  },
  {
   "cell_type": "code",
   "execution_count": 179,
   "metadata": {
    "collapsed": false
   },
   "outputs": [],
   "source": [
    "#binirzaing to_drop2\n",
    "for col in to_drop2:\n",
    "    val = data[col].value_counts().argmax()\n",
    "    bin_col = (data[col] == val)\n",
    "    data[col + '_bin'] = bin_col"
   ]
  },
  {
   "cell_type": "code",
   "execution_count": 180,
   "metadata": {
    "collapsed": false
   },
   "outputs": [
    {
     "data": {
      "text/plain": [
       "(151838, 371)"
      ]
     },
     "execution_count": 180,
     "metadata": {},
     "output_type": "execute_result"
    }
   ],
   "source": [
    "data.shape"
   ]
  },
  {
   "cell_type": "code",
   "execution_count": 181,
   "metadata": {
    "collapsed": false
   },
   "outputs": [],
   "source": [
    "cc_data = data.drop(to_drop2, axis=1)\n",
    "cc_train = cc_data.iloc[:len(c_train), :]\n",
    "cc_test = cc_data.iloc[len(c_train):, :]\n",
    "cc_test.to_csv('./data/cc_test.csv')\n",
    "cc_train.to_csv('./data/cc_train.csv')"
   ]
  },
  {
   "cell_type": "code",
   "execution_count": 39,
   "metadata": {
    "collapsed": false
   },
   "outputs": [],
   "source": [
    "def devar(col):\n",
    "    spl = col.split('_')\n",
    "    for i in range(len(spl)):\n",
    "        if spl[i].startswith('var'):\n",
    "            spl[i] = 'varN'\n",
    "    return '_'.join(spl)\n",
    "\n",
    "from collections import Counter\n",
    "Counter(map(devar, c_train.columns));"
   ]
  },
  {
   "cell_type": "code",
   "execution_count": 34,
   "metadata": {
    "collapsed": false
   },
   "outputs": [
    {
     "data": {
      "text/plain": [
       "var38                            57736\n",
       "saldo_medio_var5_ult3            17330\n",
       "saldo_var30                      16940\n",
       "saldo_var42                      15730\n",
       "saldo_medio_var5_ult1            14778\n",
       "saldo_medio_var5_hace2           14486\n",
       "saldo_var5                       11642\n",
       "imp_op_var39_comer_ult3           9099\n",
       "imp_op_var41_comer_ult3           8961\n",
       "imp_op_var39_ult1                 8149\n",
       "imp_op_var41_ult1                 8032\n",
       "saldo_medio_var5_hace3            7787\n",
       "imp_op_var39_comer_ult1           7551\n",
       "imp_op_var41_comer_ult1           7421\n",
       "saldo_var37                       4041\n",
       "imp_trans_var37_ult1              3831\n",
       "saldo_medio_var12_ult3            3447\n",
       "saldo_medio_var12_ult1            3405\n",
       "saldo_var12                       3059\n",
       "saldo_medio_var12_hace2           2834\n",
       "saldo_var24                       2614\n",
       "saldo_medio_var13_corto_ult3      2576\n",
       "imp_var43_emit_ult1               2342\n",
       "saldo_medio_var8_ult3             2173\n",
       "saldo_medio_var8_ult1             2116\n",
       "saldo_var8                        1989\n",
       "saldo_medio_var13_corto_hace2     1628\n",
       "saldo_var26                       1592\n",
       "saldo_var25                       1524\n",
       "saldo_medio_var8_hace2            1325\n",
       "                                 ...  \n",
       "ind_var10_ult1                       2\n",
       "num_var7_emit_ult1                   2\n",
       "num_var18_0                          2\n",
       "num_var20_0                          2\n",
       "num_var20                            2\n",
       "ind_var10cte_ult1                    2\n",
       "ind_var9_cte_ult1                    2\n",
       "ind_var9_ult1                        2\n",
       "num_var6_0                           2\n",
       "num_var44                            2\n",
       "imp_reemb_var17_hace3                2\n",
       "ind_var44                            2\n",
       "ind_var25_0                          2\n",
       "ind_var43_emit_ult1                  2\n",
       "ind_var30                            2\n",
       "ind_var31_0                          2\n",
       "ind_var31                            2\n",
       "ind_var32_cte                        2\n",
       "ind_var32_0                          2\n",
       "ind_var33_0                          2\n",
       "ind_var33                            2\n",
       "ind_var34_0                          2\n",
       "ind_var37_cte                        2\n",
       "ind_var37_0                          2\n",
       "ind_var39_0                          2\n",
       "ind_var40_0                          2\n",
       "ind_var40                            2\n",
       "ind_var41_0                          2\n",
       "ind_var44_0                          2\n",
       "ind_var30_0                          2\n",
       "dtype: int64"
      ]
     },
     "execution_count": 34,
     "metadata": {},
     "output_type": "execute_result"
    }
   ],
   "source": [
    "uniqs = c_train.apply(lambda x: len(x.unique())).sort_values(ascending=False)\n",
    "\n",
    "#map(print, [(col, len(c_train[col].unique())) for col in c_train.columns])\n",
    "uniqs"
   ]
  },
  {
   "cell_type": "code",
   "execution_count": 41,
   "metadata": {
    "collapsed": false
   },
   "outputs": [
    {
     "data": {
      "text/plain": [
       "array([[<matplotlib.axes._subplots.AxesSubplot object at 0x0000000017F8CE80>,\n",
       "        <matplotlib.axes._subplots.AxesSubplot object at 0x00000000189EC518>]], dtype=object)"
      ]
     },
     "execution_count": 41,
     "metadata": {},
     "output_type": "execute_result"
    },
    {
     "data": {
      "image/png": "[encoded data removed]",
      "text/plain": [
       "<matplotlib.figure.Figure at 0x15a88860>"
      ]
     },
     "metadata": {},
     "output_type": "display_data"
    }
   ],
   "source": [
    "var38vc = pd.DataFrame()\n",
    "var38vc['train'] = c_train.var38.value_counts()\n",
    "var38vc['test'] = c_test.var38.value_counts()\n",
    "var38vc.hist()"
   ]
  },
  {
   "cell_type": "code",
   "execution_count": 16,
   "metadata": {
    "collapsed": false
   },
   "outputs": [],
   "source": [
    "def smooth_target_mean(train, test, target, C):\n",
    "    \n",
    "    res = np.zeros(test.shape)\n",
    "        \n",
    "    mean_target = target.mean()\n",
    "    #print(Xtest)\n",
    "    for val in train.unique():\n",
    "        cat_size = train.value_counts()[val]\n",
    "        cat_mean = target.iloc[np.where(train == val)].mean()\n",
    "        #print(val, cat_size, cat_mean)\n",
    "        res[np.where(test == val)] = float(cat_mean * cat_size + mean_target * C) / float(cat_size + C)\n",
    "        #print(cv_res)\n",
    "    return res"
   ]
  },
  {
   "cell_type": "code",
   "execution_count": 14,
   "metadata": {
    "collapsed": false
   },
   "outputs": [],
   "source": [
    "def smooth_target_mean_cv(train, target, C, cv=None):\n",
    "    if cv == None:\n",
    "        cv = [([x for x in range(len(train))], [x for x in range(len(train))])]\n",
    "    if type(cv) == int:\n",
    "        from sklearn.cross_validation import StratifiedKFold\n",
    "        cv = StratifiedKFold(target, cv)\n",
    "    #(среднее значение * размер категории + глобальное среднее значение * C) / (размер категории + С)\n",
    "    res = np.zeros(train.shape)\n",
    "    for trx, tsx in cv:\n",
    "        Xtrain, Ytrain = train.iloc[trx], target.iloc[trx]\n",
    "        Xtest, Ytest = train.iloc[tsx], target.iloc[tsx]\n",
    "        #print(Xtrain.shape, type(Xtrain), Ytrain.shape, type(Ytrain))\n",
    "        \n",
    "        mean_target = Ytrain.mean()\n",
    "        cv_res = res[tsx]\n",
    "        #print(Xtest)\n",
    "        for val in Xtrain.unique():\n",
    "            cat_size = Xtrain.value_counts()[val]\n",
    "            cat_mean = Ytrain.iloc[np.where(Xtrain == val)].mean()\n",
    "            #print(val, cat_size, cat_mean)\n",
    "            cv_res[np.where(Xtest == val)] = float(cat_mean * cat_size + mean_target * C) / float(cat_size + C)\n",
    "            #print(cv_res)\n",
    "        res[tsx] = cv_res\n",
    "    return res"
   ]
  },
  {
   "cell_type": "code",
   "execution_count": 244,
   "metadata": {
    "collapsed": false
   },
   "outputs": [
    {
     "name": "stdout",
     "output_type": "stream",
     "text": [
      "Series([], dtype: int64)\n",
      "var3 var15 imp_ent_var16_ult1 imp_op_var39_comer_ult1 imp_op_var39_comer_ult3 imp_op_var40_comer_ult1 imp_op_var40_comer_ult3 imp_op_var40_efect_ult1 imp_op_var40_efect_ult3 imp_op_var40_ult1 imp_op_var41_comer_ult1 imp_op_var41_comer_ult3 imp_op_var41_efect_ult1 imp_op_var41_efect_ult3 imp_op_var41_ult1 imp_op_var39_efect_ult1 imp_op_var39_efect_ult3 imp_op_var39_ult1 imp_sal_var16_ult1 ind_var1_0 ind_var1 ind_var5_0 ind_var5 ind_var6_0 ind_var8_0 ind_var8 ind_var12_0 ind_var12 ind_var13_0 ind_var13_corto_0 ind_var13_corto ind_var13_largo_0 ind_var13_largo ind_var13 ind_var14_0 ind_var14 ind_var17_0 ind_var17 ind_var19 ind_var24_0 ind_var24 ind_var25_cte ind_var26_0 ind_var26_cte ind_var25_0 ind_var30_0 ind_var30 ind_var31_0 ind_var31 ind_var32_cte ind_var32_0 ind_var33_0 ind_var33 ind_var34_0 ind_var37_cte ind_var37_0 ind_var39_0 ind_var40_0 ind_var40 ind_var41_0 ind_var44_0 ind_var44 num_var1_0 num_var1 num_var4 num_var5_0 num_var5 num_var6_0 num_var6 num_var8_0 num_var8 num_var12_0 num_var12 num_var13_0 num_var13_corto_0 num_var13_corto num_var13_largo_0 num_var13_largo num_var13_medio_0 num_var13 num_var14_0 num_var14 num_var17_0 num_var17 num_var18_0 num_var20_0 num_var20 num_var24_0 num_var24 num_var26_0 num_var25_0 num_op_var40_hace2 num_op_var40_hace3 num_op_var40_ult1 num_op_var40_ult3 num_op_var41_hace2 num_op_var41_hace3 num_op_var41_ult1 num_op_var41_ult3 num_op_var39_hace2 num_op_var39_hace3 num_op_var39_ult1 num_op_var39_ult3 num_var30_0 num_var30 num_var31_0 num_var31 num_var32_0 num_var33_0 num_var33 num_var34_0 num_var35 num_var37_med_ult2 num_var37_0 num_var39_0 num_var40_0 num_var40 num_var41_0 num_var42_0 num_var42 num_var44_0 num_var44 saldo_var1 saldo_var5 saldo_var6 saldo_var8 saldo_var12 saldo_var13_corto saldo_var13_largo saldo_var13_medio saldo_var13 saldo_var14 saldo_var17 saldo_var18 saldo_var20 saldo_var24 saldo_var26 saldo_var25 saldo_var30 saldo_var31 saldo_var32 saldo_var33 saldo_var34 saldo_var37 saldo_var40 saldo_var42 saldo_var44 var36 delta_imp_compra_var44_1y3 delta_imp_reemb_var17_1y3 delta_imp_trasp_var17_in_1y3 delta_imp_trasp_var17_out_1y3 delta_imp_trasp_var33_in_1y3 delta_num_aport_var13_1y3 delta_num_aport_var17_1y3 delta_num_aport_var33_1y3 delta_num_compra_var44_1y3 delta_num_venta_var44_1y3 imp_amort_var18_ult1 imp_amort_var34_ult1 imp_aport_var13_hace3 imp_aport_var13_ult1 imp_aport_var17_hace3 imp_aport_var17_ult1 imp_aport_var33_hace3 imp_aport_var33_ult1 imp_var7_emit_ult1 imp_var7_recib_ult1 imp_compra_var44_hace3 imp_compra_var44_ult1 imp_reemb_var13_ult1 imp_reemb_var17_hace3 imp_reemb_var17_ult1 imp_reemb_var33_ult1 imp_var43_emit_ult1 imp_trans_var37_ult1 imp_trasp_var17_in_hace3 imp_trasp_var17_in_ult1 imp_trasp_var17_out_ult1 imp_trasp_var33_in_hace3 imp_trasp_var33_in_ult1 imp_trasp_var33_out_ult1 imp_venta_var44_hace3 imp_venta_var44_ult1 ind_var7_emit_ult1 ind_var7_recib_ult1 ind_var10_ult1 ind_var10cte_ult1 ind_var9_cte_ult1 ind_var9_ult1 ind_var43_emit_ult1 ind_var43_recib_ult1 var21 num_aport_var13_hace3 num_aport_var13_ult1 num_aport_var17_hace3 num_aport_var17_ult1 num_aport_var33_hace3 num_aport_var33_ult1 num_var7_emit_ult1 num_var7_recib_ult1 num_compra_var44_hace3 num_compra_var44_ult1 num_ent_var16_ult1 num_var22_hace2 num_var22_hace3 num_var22_ult1 num_var22_ult3 num_med_var22_ult3 num_med_var45_ult3 num_meses_var5_ult3 num_meses_var8_ult3 num_meses_var12_ult3 num_meses_var13_corto_ult3 num_meses_var13_largo_ult3 num_meses_var17_ult3 num_meses_var29_ult3 num_meses_var33_ult3 num_meses_var39_vig_ult3 num_meses_var44_ult3 num_op_var39_comer_ult1 num_op_var39_comer_ult3 num_op_var40_comer_ult1 num_op_var40_comer_ult3 num_op_var40_efect_ult1 num_op_var40_efect_ult3 num_op_var41_comer_ult1 num_op_var41_comer_ult3 num_op_var41_efect_ult1 num_op_var41_efect_ult3 num_op_var39_efect_ult1 num_op_var39_efect_ult3 num_reemb_var13_ult1 num_reemb_var17_hace3 num_reemb_var17_ult1 num_reemb_var33_ult1 num_sal_var16_ult1 num_var43_emit_ult1 num_var43_recib_ult1 num_trasp_var11_ult1 num_trasp_var17_in_hace3 num_trasp_var17_in_ult1 num_trasp_var17_out_ult1 num_trasp_var33_in_hace3 num_trasp_var33_in_ult1 num_trasp_var33_out_ult1 num_venta_var44_hace3 num_venta_var44_ult1 num_var45_hace2 num_var45_hace3 num_var45_ult1 num_var45_ult3 saldo_medio_var5_hace2 saldo_medio_var5_hace3 saldo_medio_var5_ult1 saldo_medio_var5_ult3 saldo_medio_var8_hace2 saldo_medio_var8_hace3 saldo_medio_var8_ult1 saldo_medio_var8_ult3 saldo_medio_var12_hace2 saldo_medio_var12_hace3 saldo_medio_var12_ult1 saldo_medio_var12_ult3 saldo_medio_var13_corto_hace2 saldo_medio_var13_corto_hace3 saldo_medio_var13_corto_ult1 saldo_medio_var13_corto_ult3 saldo_medio_var13_largo_hace2 saldo_medio_var13_largo_hace3 saldo_medio_var13_largo_ult1 saldo_medio_var13_largo_ult3 saldo_medio_var13_medio_hace2 saldo_medio_var13_medio_ult3 saldo_medio_var17_hace2 saldo_medio_var17_hace3 saldo_medio_var17_ult1 saldo_medio_var17_ult3 saldo_medio_var29_hace2 saldo_medio_var29_hace3 saldo_medio_var29_ult1 saldo_medio_var29_ult3 saldo_medio_var33_hace2 saldo_medio_var33_hace3 saldo_medio_var33_ult1 saldo_medio_var33_ult3 saldo_medio_var44_hace2 saldo_medio_var44_hace3 saldo_medio_var44_ult1 saldo_medio_var44_ult3 var38 n0 Wall time: 7h 31min 58s\n"
     ]
    }
   ],
   "source": [
    "%%time\n",
    "a = pd.Series(['a', 'a', 'a', 'b', 'b', 'b'])\n",
    "b = pd.Series([1, 2, 3, 4, 5, 6])\n",
    "\n",
    "print(b[a == 'c'])\n",
    "\n",
    "for col in c_train.columns:\n",
    "    c_train[col + '_stm'] = smooth_target_mean_cv(c_train[col], target, 20, 10)\n",
    "    print(col, end=' ')"
   ]
  },
  {
   "cell_type": "code",
   "execution_count": 247,
   "metadata": {
    "collapsed": true
   },
   "outputs": [],
   "source": [
    "sendMessage('olou')\n",
    "c_train.to_csv('./data/stm_train.csv')"
   ]
  },
  {
   "cell_type": "code",
   "execution_count": 18,
   "metadata": {
    "collapsed": false
   },
   "outputs": [
    {
     "name": "stdout",
     "output_type": "stream",
     "text": [
      "var3 var15 imp_ent_var16_ult1 imp_op_var39_comer_ult1 imp_op_var39_comer_ult3 imp_op_var40_comer_ult1 imp_op_var40_comer_ult3 imp_op_var40_efect_ult1 imp_op_var40_efect_ult3 imp_op_var40_ult1 imp_op_var41_comer_ult1 imp_op_var41_comer_ult3 imp_op_var41_efect_ult1 imp_op_var41_efect_ult3 imp_op_var41_ult1 imp_op_var39_efect_ult1 imp_op_var39_efect_ult3 imp_op_var39_ult1 imp_sal_var16_ult1 ind_var1_0 ind_var1 ind_var5_0 ind_var5 ind_var6_0 ind_var8_0 ind_var8 ind_var12_0 ind_var12 ind_var13_0 ind_var13_corto_0 ind_var13_corto ind_var13_largo_0 ind_var13_largo ind_var13 ind_var14_0 ind_var14 ind_var17_0 ind_var17 ind_var19 ind_var24_0 ind_var24 ind_var25_cte ind_var26_0 ind_var26_cte ind_var25_0 ind_var30_0 ind_var30 ind_var31_0 ind_var31 ind_var32_cte ind_var32_0 ind_var33_0 ind_var33 ind_var34_0 ind_var37_cte ind_var37_0 ind_var39_0 ind_var40_0 ind_var40 ind_var41_0 ind_var44_0 ind_var44 num_var1_0 num_var1 num_var4 num_var5_0 num_var5 num_var6_0 num_var6 num_var8_0 num_var8 num_var12_0 num_var12 num_var13_0 num_var13_corto_0 num_var13_corto num_var13_largo_0 num_var13_largo num_var13_medio_0 num_var13 num_var14_0 num_var14 num_var17_0 num_var17 num_var18_0 num_var20_0 num_var20 num_var24_0 num_var24 num_var26_0 num_var25_0 num_op_var40_hace2 num_op_var40_hace3 num_op_var40_ult1 num_op_var40_ult3 num_op_var41_hace2 num_op_var41_hace3 num_op_var41_ult1 num_op_var41_ult3 num_op_var39_hace2 num_op_var39_hace3 num_op_var39_ult1 num_op_var39_ult3 num_var30_0 num_var30 num_var31_0 num_var31 num_var32_0 num_var33_0 num_var33 num_var34_0 num_var35 num_var37_med_ult2 num_var37_0 num_var39_0 num_var40_0 num_var40 num_var41_0 num_var42_0 num_var42 num_var44_0 num_var44 saldo_var1 saldo_var5 saldo_var6 saldo_var8 saldo_var12 saldo_var13_corto saldo_var13_largo saldo_var13_medio saldo_var13 saldo_var14 saldo_var17 saldo_var18 saldo_var20 saldo_var24 saldo_var26 saldo_var25 saldo_var30 saldo_var31 saldo_var32 saldo_var33 saldo_var34 saldo_var37 saldo_var40 saldo_var42 saldo_var44 var36 delta_imp_compra_var44_1y3 delta_imp_reemb_var17_1y3 delta_imp_trasp_var17_in_1y3 delta_imp_trasp_var17_out_1y3 delta_imp_trasp_var33_in_1y3 delta_num_aport_var13_1y3 delta_num_aport_var17_1y3 delta_num_aport_var33_1y3 delta_num_compra_var44_1y3 delta_num_venta_var44_1y3 imp_amort_var18_ult1 imp_amort_var34_ult1 imp_aport_var13_hace3 imp_aport_var13_ult1 imp_aport_var17_hace3 imp_aport_var17_ult1 imp_aport_var33_hace3 imp_aport_var33_ult1 imp_var7_emit_ult1 imp_var7_recib_ult1 imp_compra_var44_hace3 imp_compra_var44_ult1 imp_reemb_var13_ult1 imp_reemb_var17_hace3 imp_reemb_var17_ult1 imp_reemb_var33_ult1 imp_var43_emit_ult1 imp_trans_var37_ult1 imp_trasp_var17_in_hace3 imp_trasp_var17_in_ult1 imp_trasp_var17_out_ult1 imp_trasp_var33_in_hace3 imp_trasp_var33_in_ult1 imp_trasp_var33_out_ult1 imp_venta_var44_hace3 imp_venta_var44_ult1 ind_var7_emit_ult1 ind_var7_recib_ult1 ind_var10_ult1 ind_var10cte_ult1 ind_var9_cte_ult1 ind_var9_ult1 ind_var43_emit_ult1 ind_var43_recib_ult1 var21 num_aport_var13_hace3 num_aport_var13_ult1 num_aport_var17_hace3 num_aport_var17_ult1 num_aport_var33_hace3 num_aport_var33_ult1 num_var7_emit_ult1 num_var7_recib_ult1 num_compra_var44_hace3 num_compra_var44_ult1 num_ent_var16_ult1 num_var22_hace2 num_var22_hace3 num_var22_ult1 num_var22_ult3 num_med_var22_ult3 num_med_var45_ult3 num_meses_var5_ult3 num_meses_var8_ult3 num_meses_var12_ult3 num_meses_var13_corto_ult3 num_meses_var13_largo_ult3 num_meses_var17_ult3 num_meses_var29_ult3 num_meses_var33_ult3 num_meses_var39_vig_ult3 num_meses_var44_ult3 num_op_var39_comer_ult1 num_op_var39_comer_ult3 num_op_var40_comer_ult1 num_op_var40_comer_ult3 num_op_var40_efect_ult1 num_op_var40_efect_ult3 num_op_var41_comer_ult1 num_op_var41_comer_ult3 num_op_var41_efect_ult1 num_op_var41_efect_ult3 num_op_var39_efect_ult1 num_op_var39_efect_ult3 num_reemb_var13_ult1 num_reemb_var17_hace3 num_reemb_var17_ult1 num_reemb_var33_ult1 num_sal_var16_ult1 num_var43_emit_ult1 num_var43_recib_ult1 num_trasp_var11_ult1 num_trasp_var17_in_hace3 num_trasp_var17_in_ult1 num_trasp_var17_out_ult1 num_trasp_var33_in_hace3 num_trasp_var33_in_ult1 num_trasp_var33_out_ult1 num_venta_var44_hace3 num_venta_var44_ult1 num_var45_hace2 num_var45_hace3 num_var45_ult1 num_var45_ult3 saldo_medio_var5_hace2 saldo_medio_var5_hace3 saldo_medio_var5_ult1 saldo_medio_var5_ult3 saldo_medio_var8_hace2 saldo_medio_var8_hace3 saldo_medio_var8_ult1 saldo_medio_var8_ult3 saldo_medio_var12_hace2 saldo_medio_var12_hace3 saldo_medio_var12_ult1 saldo_medio_var12_ult3 saldo_medio_var13_corto_hace2 saldo_medio_var13_corto_hace3 saldo_medio_var13_corto_ult1 saldo_medio_var13_corto_ult3 saldo_medio_var13_largo_hace2 saldo_medio_var13_largo_hace3 saldo_medio_var13_largo_ult1 saldo_medio_var13_largo_ult3 saldo_medio_var13_medio_hace2 saldo_medio_var13_medio_ult3 saldo_medio_var17_hace2 saldo_medio_var17_hace3 saldo_medio_var17_ult1 saldo_medio_var17_ult3 saldo_medio_var29_hace2 saldo_medio_var29_hace3 saldo_medio_var29_ult1 saldo_medio_var29_ult3 saldo_medio_var33_hace2 saldo_medio_var33_hace3 saldo_medio_var33_ult1 saldo_medio_var33_ult3 saldo_medio_var44_hace2 saldo_medio_var44_hace3 saldo_medio_var44_ult1 saldo_medio_var44_ult3 var38 n0 "
     ]
    },
    {
     "ename": "KeyError",
     "evalue": "'var3_stm'",
     "output_type": "error",
     "traceback": [
      "\u001b[1;31m---------------------------------------------------------------------------\u001b[0m",
      "\u001b[1;31mKeyError\u001b[0m                                  Traceback (most recent call last)",
      "\u001b[1;32m<ipython-input-18-df610901edbd>\u001b[0m in \u001b[0;36m<module>\u001b[1;34m()\u001b[0m\n\u001b[1;32m----> 1\u001b[1;33m \u001b[0mget_ipython\u001b[0m\u001b[1;33m(\u001b[0m\u001b[1;33m)\u001b[0m\u001b[1;33m.\u001b[0m\u001b[0mrun_cell_magic\u001b[0m\u001b[1;33m(\u001b[0m\u001b[1;34mu'time'\u001b[0m\u001b[1;33m,\u001b[0m \u001b[1;34mu''\u001b[0m\u001b[1;33m,\u001b[0m \u001b[1;34mu\"for col in c_test.columns[:]:\\n    c_test[col + '_stm'] = smooth_target_mean(c_train[col], c_test[col], target, 20)\\n    print(col, end=' ')\"\u001b[0m\u001b[1;33m)\u001b[0m\u001b[1;33m\u001b[0m\u001b[0m\n\u001b[0m",
      "\u001b[1;32mC:\\dev\\Anaconda\\lib\\site-packages\\IPython\\core\\interactiveshell.pyc\u001b[0m in \u001b[0;36mrun_cell_magic\u001b[1;34m(self, magic_name, line, cell)\u001b[0m\n\u001b[0;32m   2118\u001b[0m             \u001b[0mmagic_arg_s\u001b[0m \u001b[1;33m=\u001b[0m \u001b[0mself\u001b[0m\u001b[1;33m.\u001b[0m\u001b[0mvar_expand\u001b[0m\u001b[1;33m(\u001b[0m\u001b[0mline\u001b[0m\u001b[1;33m,\u001b[0m \u001b[0mstack_depth\u001b[0m\u001b[1;33m)\u001b[0m\u001b[1;33m\u001b[0m\u001b[0m\n\u001b[0;32m   2119\u001b[0m             \u001b[1;32mwith\u001b[0m \u001b[0mself\u001b[0m\u001b[1;33m.\u001b[0m\u001b[0mbuiltin_trap\u001b[0m\u001b[1;33m:\u001b[0m\u001b[1;33m\u001b[0m\u001b[0m\n\u001b[1;32m-> 2120\u001b[1;33m                 \u001b[0mresult\u001b[0m \u001b[1;33m=\u001b[0m \u001b[0mfn\u001b[0m\u001b[1;33m(\u001b[0m\u001b[0mmagic_arg_s\u001b[0m\u001b[1;33m,\u001b[0m \u001b[0mcell\u001b[0m\u001b[1;33m)\u001b[0m\u001b[1;33m\u001b[0m\u001b[0m\n\u001b[0m\u001b[0;32m   2121\u001b[0m             \u001b[1;32mreturn\u001b[0m \u001b[0mresult\u001b[0m\u001b[1;33m\u001b[0m\u001b[0m\n\u001b[0;32m   2122\u001b[0m \u001b[1;33m\u001b[0m\u001b[0m\n",
      "\u001b[1;32m<decorator-gen-61>\u001b[0m in \u001b[0;36mtime\u001b[1;34m(self, line, cell, local_ns)\u001b[0m\n",
      "\u001b[1;32mC:\\dev\\Anaconda\\lib\\site-packages\\IPython\\core\\magic.pyc\u001b[0m in \u001b[0;36m<lambda>\u001b[1;34m(f, *a, **k)\u001b[0m\n\u001b[0;32m    191\u001b[0m     \u001b[1;31m# but it's overkill for just that one bit of state.\u001b[0m\u001b[1;33m\u001b[0m\u001b[1;33m\u001b[0m\u001b[0m\n\u001b[0;32m    192\u001b[0m     \u001b[1;32mdef\u001b[0m \u001b[0mmagic_deco\u001b[0m\u001b[1;33m(\u001b[0m\u001b[0marg\u001b[0m\u001b[1;33m)\u001b[0m\u001b[1;33m:\u001b[0m\u001b[1;33m\u001b[0m\u001b[0m\n\u001b[1;32m--> 193\u001b[1;33m         \u001b[0mcall\u001b[0m \u001b[1;33m=\u001b[0m \u001b[1;32mlambda\u001b[0m \u001b[0mf\u001b[0m\u001b[1;33m,\u001b[0m \u001b[1;33m*\u001b[0m\u001b[0ma\u001b[0m\u001b[1;33m,\u001b[0m \u001b[1;33m**\u001b[0m\u001b[0mk\u001b[0m\u001b[1;33m:\u001b[0m \u001b[0mf\u001b[0m\u001b[1;33m(\u001b[0m\u001b[1;33m*\u001b[0m\u001b[0ma\u001b[0m\u001b[1;33m,\u001b[0m \u001b[1;33m**\u001b[0m\u001b[0mk\u001b[0m\u001b[1;33m)\u001b[0m\u001b[1;33m\u001b[0m\u001b[0m\n\u001b[0m\u001b[0;32m    194\u001b[0m \u001b[1;33m\u001b[0m\u001b[0m\n\u001b[0;32m    195\u001b[0m         \u001b[1;32mif\u001b[0m \u001b[0mcallable\u001b[0m\u001b[1;33m(\u001b[0m\u001b[0marg\u001b[0m\u001b[1;33m)\u001b[0m\u001b[1;33m:\u001b[0m\u001b[1;33m\u001b[0m\u001b[0m\n",
      "\u001b[1;32mC:\\dev\\Anaconda\\lib\\site-packages\\IPython\\core\\magics\\execution.pyc\u001b[0m in \u001b[0;36mtime\u001b[1;34m(self, line, cell, local_ns)\u001b[0m\n\u001b[0;32m   1175\u001b[0m         \u001b[1;32melse\u001b[0m\u001b[1;33m:\u001b[0m\u001b[1;33m\u001b[0m\u001b[0m\n\u001b[0;32m   1176\u001b[0m             \u001b[0mst\u001b[0m \u001b[1;33m=\u001b[0m \u001b[0mclock2\u001b[0m\u001b[1;33m(\u001b[0m\u001b[1;33m)\u001b[0m\u001b[1;33m\u001b[0m\u001b[0m\n\u001b[1;32m-> 1177\u001b[1;33m             \u001b[1;32mexec\u001b[0m\u001b[1;33m(\u001b[0m\u001b[0mcode\u001b[0m\u001b[1;33m,\u001b[0m \u001b[0mglob\u001b[0m\u001b[1;33m,\u001b[0m \u001b[0mlocal_ns\u001b[0m\u001b[1;33m)\u001b[0m\u001b[1;33m\u001b[0m\u001b[0m\n\u001b[0m\u001b[0;32m   1178\u001b[0m             \u001b[0mend\u001b[0m \u001b[1;33m=\u001b[0m \u001b[0mclock2\u001b[0m\u001b[1;33m(\u001b[0m\u001b[1;33m)\u001b[0m\u001b[1;33m\u001b[0m\u001b[0m\n\u001b[0;32m   1179\u001b[0m             \u001b[0mout\u001b[0m \u001b[1;33m=\u001b[0m \u001b[0mNone\u001b[0m\u001b[1;33m\u001b[0m\u001b[0m\n",
      "\u001b[1;32m<timed exec>\u001b[0m in \u001b[0;36m<module>\u001b[1;34m()\u001b[0m\n",
      "\u001b[1;32mC:\\dev\\Anaconda\\lib\\site-packages\\pandas\\core\\frame.pyc\u001b[0m in \u001b[0;36m__getitem__\u001b[1;34m(self, key)\u001b[0m\n\u001b[0;32m   1990\u001b[0m             \u001b[1;32mreturn\u001b[0m \u001b[0mself\u001b[0m\u001b[1;33m.\u001b[0m\u001b[0m_getitem_multilevel\u001b[0m\u001b[1;33m(\u001b[0m\u001b[0mkey\u001b[0m\u001b[1;33m)\u001b[0m\u001b[1;33m\u001b[0m\u001b[0m\n\u001b[0;32m   1991\u001b[0m         \u001b[1;32melse\u001b[0m\u001b[1;33m:\u001b[0m\u001b[1;33m\u001b[0m\u001b[0m\n\u001b[1;32m-> 1992\u001b[1;33m             \u001b[1;32mreturn\u001b[0m \u001b[0mself\u001b[0m\u001b[1;33m.\u001b[0m\u001b[0m_getitem_column\u001b[0m\u001b[1;33m(\u001b[0m\u001b[0mkey\u001b[0m\u001b[1;33m)\u001b[0m\u001b[1;33m\u001b[0m\u001b[0m\n\u001b[0m\u001b[0;32m   1993\u001b[0m \u001b[1;33m\u001b[0m\u001b[0m\n\u001b[0;32m   1994\u001b[0m     \u001b[1;32mdef\u001b[0m \u001b[0m_getitem_column\u001b[0m\u001b[1;33m(\u001b[0m\u001b[0mself\u001b[0m\u001b[1;33m,\u001b[0m \u001b[0mkey\u001b[0m\u001b[1;33m)\u001b[0m\u001b[1;33m:\u001b[0m\u001b[1;33m\u001b[0m\u001b[0m\n",
      "\u001b[1;32mC:\\dev\\Anaconda\\lib\\site-packages\\pandas\\core\\frame.pyc\u001b[0m in \u001b[0;36m_getitem_column\u001b[1;34m(self, key)\u001b[0m\n\u001b[0;32m   1997\u001b[0m         \u001b[1;31m# get column\u001b[0m\u001b[1;33m\u001b[0m\u001b[1;33m\u001b[0m\u001b[0m\n\u001b[0;32m   1998\u001b[0m         \u001b[1;32mif\u001b[0m \u001b[0mself\u001b[0m\u001b[1;33m.\u001b[0m\u001b[0mcolumns\u001b[0m\u001b[1;33m.\u001b[0m\u001b[0mis_unique\u001b[0m\u001b[1;33m:\u001b[0m\u001b[1;33m\u001b[0m\u001b[0m\n\u001b[1;32m-> 1999\u001b[1;33m             \u001b[1;32mreturn\u001b[0m \u001b[0mself\u001b[0m\u001b[1;33m.\u001b[0m\u001b[0m_get_item_cache\u001b[0m\u001b[1;33m(\u001b[0m\u001b[0mkey\u001b[0m\u001b[1;33m)\u001b[0m\u001b[1;33m\u001b[0m\u001b[0m\n\u001b[0m\u001b[0;32m   2000\u001b[0m \u001b[1;33m\u001b[0m\u001b[0m\n\u001b[0;32m   2001\u001b[0m         \u001b[1;31m# duplicate columns & possible reduce dimensionality\u001b[0m\u001b[1;33m\u001b[0m\u001b[1;33m\u001b[0m\u001b[0m\n",
      "\u001b[1;32mC:\\dev\\Anaconda\\lib\\site-packages\\pandas\\core\\generic.pyc\u001b[0m in \u001b[0;36m_get_item_cache\u001b[1;34m(self, item)\u001b[0m\n\u001b[0;32m   1343\u001b[0m         \u001b[0mres\u001b[0m \u001b[1;33m=\u001b[0m \u001b[0mcache\u001b[0m\u001b[1;33m.\u001b[0m\u001b[0mget\u001b[0m\u001b[1;33m(\u001b[0m\u001b[0mitem\u001b[0m\u001b[1;33m)\u001b[0m\u001b[1;33m\u001b[0m\u001b[0m\n\u001b[0;32m   1344\u001b[0m         \u001b[1;32mif\u001b[0m \u001b[0mres\u001b[0m \u001b[1;32mis\u001b[0m \u001b[0mNone\u001b[0m\u001b[1;33m:\u001b[0m\u001b[1;33m\u001b[0m\u001b[0m\n\u001b[1;32m-> 1345\u001b[1;33m             \u001b[0mvalues\u001b[0m \u001b[1;33m=\u001b[0m \u001b[0mself\u001b[0m\u001b[1;33m.\u001b[0m\u001b[0m_data\u001b[0m\u001b[1;33m.\u001b[0m\u001b[0mget\u001b[0m\u001b[1;33m(\u001b[0m\u001b[0mitem\u001b[0m\u001b[1;33m)\u001b[0m\u001b[1;33m\u001b[0m\u001b[0m\n\u001b[0m\u001b[0;32m   1346\u001b[0m             \u001b[0mres\u001b[0m \u001b[1;33m=\u001b[0m \u001b[0mself\u001b[0m\u001b[1;33m.\u001b[0m\u001b[0m_box_item_values\u001b[0m\u001b[1;33m(\u001b[0m\u001b[0mitem\u001b[0m\u001b[1;33m,\u001b[0m \u001b[0mvalues\u001b[0m\u001b[1;33m)\u001b[0m\u001b[1;33m\u001b[0m\u001b[0m\n\u001b[0;32m   1347\u001b[0m             \u001b[0mcache\u001b[0m\u001b[1;33m[\u001b[0m\u001b[0mitem\u001b[0m\u001b[1;33m]\u001b[0m \u001b[1;33m=\u001b[0m \u001b[0mres\u001b[0m\u001b[1;33m\u001b[0m\u001b[0m\n",
      "\u001b[1;32mC:\\dev\\Anaconda\\lib\\site-packages\\pandas\\core\\internals.pyc\u001b[0m in \u001b[0;36mget\u001b[1;34m(self, item, fastpath)\u001b[0m\n\u001b[0;32m   3223\u001b[0m \u001b[1;33m\u001b[0m\u001b[0m\n\u001b[0;32m   3224\u001b[0m             \u001b[1;32mif\u001b[0m \u001b[1;32mnot\u001b[0m \u001b[0misnull\u001b[0m\u001b[1;33m(\u001b[0m\u001b[0mitem\u001b[0m\u001b[1;33m)\u001b[0m\u001b[1;33m:\u001b[0m\u001b[1;33m\u001b[0m\u001b[0m\n\u001b[1;32m-> 3225\u001b[1;33m                 \u001b[0mloc\u001b[0m \u001b[1;33m=\u001b[0m \u001b[0mself\u001b[0m\u001b[1;33m.\u001b[0m\u001b[0mitems\u001b[0m\u001b[1;33m.\u001b[0m\u001b[0mget_loc\u001b[0m\u001b[1;33m(\u001b[0m\u001b[0mitem\u001b[0m\u001b[1;33m)\u001b[0m\u001b[1;33m\u001b[0m\u001b[0m\n\u001b[0m\u001b[0;32m   3226\u001b[0m             \u001b[1;32melse\u001b[0m\u001b[1;33m:\u001b[0m\u001b[1;33m\u001b[0m\u001b[0m\n\u001b[0;32m   3227\u001b[0m                 \u001b[0mindexer\u001b[0m \u001b[1;33m=\u001b[0m \u001b[0mnp\u001b[0m\u001b[1;33m.\u001b[0m\u001b[0marange\u001b[0m\u001b[1;33m(\u001b[0m\u001b[0mlen\u001b[0m\u001b[1;33m(\u001b[0m\u001b[0mself\u001b[0m\u001b[1;33m.\u001b[0m\u001b[0mitems\u001b[0m\u001b[1;33m)\u001b[0m\u001b[1;33m)\u001b[0m\u001b[1;33m[\u001b[0m\u001b[0misnull\u001b[0m\u001b[1;33m(\u001b[0m\u001b[0mself\u001b[0m\u001b[1;33m.\u001b[0m\u001b[0mitems\u001b[0m\u001b[1;33m)\u001b[0m\u001b[1;33m]\u001b[0m\u001b[1;33m\u001b[0m\u001b[0m\n",
      "\u001b[1;32mC:\\dev\\Anaconda\\lib\\site-packages\\pandas\\indexes\\base.pyc\u001b[0m in \u001b[0;36mget_loc\u001b[1;34m(self, key, method, tolerance)\u001b[0m\n\u001b[0;32m   1876\u001b[0m                 \u001b[1;32mreturn\u001b[0m \u001b[0mself\u001b[0m\u001b[1;33m.\u001b[0m\u001b[0m_engine\u001b[0m\u001b[1;33m.\u001b[0m\u001b[0mget_loc\u001b[0m\u001b[1;33m(\u001b[0m\u001b[0mkey\u001b[0m\u001b[1;33m)\u001b[0m\u001b[1;33m\u001b[0m\u001b[0m\n\u001b[0;32m   1877\u001b[0m             \u001b[1;32mexcept\u001b[0m \u001b[0mKeyError\u001b[0m\u001b[1;33m:\u001b[0m\u001b[1;33m\u001b[0m\u001b[0m\n\u001b[1;32m-> 1878\u001b[1;33m                 \u001b[1;32mreturn\u001b[0m \u001b[0mself\u001b[0m\u001b[1;33m.\u001b[0m\u001b[0m_engine\u001b[0m\u001b[1;33m.\u001b[0m\u001b[0mget_loc\u001b[0m\u001b[1;33m(\u001b[0m\u001b[0mself\u001b[0m\u001b[1;33m.\u001b[0m\u001b[0m_maybe_cast_indexer\u001b[0m\u001b[1;33m(\u001b[0m\u001b[0mkey\u001b[0m\u001b[1;33m)\u001b[0m\u001b[1;33m)\u001b[0m\u001b[1;33m\u001b[0m\u001b[0m\n\u001b[0m\u001b[0;32m   1879\u001b[0m \u001b[1;33m\u001b[0m\u001b[0m\n\u001b[0;32m   1880\u001b[0m         \u001b[0mindexer\u001b[0m \u001b[1;33m=\u001b[0m \u001b[0mself\u001b[0m\u001b[1;33m.\u001b[0m\u001b[0mget_indexer\u001b[0m\u001b[1;33m(\u001b[0m\u001b[1;33m[\u001b[0m\u001b[0mkey\u001b[0m\u001b[1;33m]\u001b[0m\u001b[1;33m,\u001b[0m \u001b[0mmethod\u001b[0m\u001b[1;33m=\u001b[0m\u001b[0mmethod\u001b[0m\u001b[1;33m,\u001b[0m \u001b[0mtolerance\u001b[0m\u001b[1;33m=\u001b[0m\u001b[0mtolerance\u001b[0m\u001b[1;33m)\u001b[0m\u001b[1;33m\u001b[0m\u001b[0m\n",
      "\u001b[1;32mpandas\\index.pyx\u001b[0m in \u001b[0;36mpandas.index.IndexEngine.get_loc (pandas\\index.c:4027)\u001b[1;34m()\u001b[0m\n",
      "\u001b[1;32mpandas\\index.pyx\u001b[0m in \u001b[0;36mpandas.index.IndexEngine.get_loc (pandas\\index.c:3891)\u001b[1;34m()\u001b[0m\n",
      "\u001b[1;32mpandas\\hashtable.pyx\u001b[0m in \u001b[0;36mpandas.hashtable.PyObjectHashTable.get_item (pandas\\hashtable.c:12408)\u001b[1;34m()\u001b[0m\n",
      "\u001b[1;32mpandas\\hashtable.pyx\u001b[0m in \u001b[0;36mpandas.hashtable.PyObjectHashTable.get_item (pandas\\hashtable.c:12359)\u001b[1;34m()\u001b[0m\n",
      "\u001b[1;31mKeyError\u001b[0m: 'var3_stm'"
     ]
    }
   ],
   "source": [
    "%%time\n",
    "for col in c_test.columns[:]:\n",
    "    c_test[col + '_stm'] = smooth_target_mean(c_train[col], c_test[col], target, 20)\n",
    "    print(col, end=' ')"
   ]
  },
  {
   "cell_type": "code",
   "execution_count": null,
   "metadata": {
    "collapsed": true
   },
   "outputs": [],
   "source": [
    "drop_stm = filter(lambda x: x.endswith('_stm_stm'), c_test.columns)"
   ]
  },
  {
   "cell_type": "code",
   "execution_count": 19,
   "metadata": {
    "collapsed": false
   },
   "outputs": [
    {
     "data": {
      "text/plain": [
       "(75818, 584)"
      ]
     },
     "execution_count": 19,
     "metadata": {},
     "output_type": "execute_result"
    }
   ],
   "source": [
    "c_test.shape"
   ]
  },
  {
   "cell_type": "code",
   "execution_count": 21,
   "metadata": {
    "collapsed": false
   },
   "outputs": [],
   "source": [
    "sendMessage('olou')\n",
    "c_test.to_csv('./data/stm_test.csv')"
   ]
  },
  {
   "cell_type": "code",
   "execution_count": null,
   "metadata": {
    "collapsed": true
   },
   "outputs": [],
   "source": []
  },
  {
   "cell_type": "code",
   "execution_count": 19,
   "metadata": {
    "collapsed": false
   },
   "outputs": [
    {
     "name": "stdout",
     "output_type": "stream",
     "text": [
      "Wall time: 1e+03 µs\n"
     ]
    }
   ],
   "source": [
    "%%time\n",
    "params = [(col, c_train[col], c_test[col], target, 20) for col in c_test.columns[:4]]"
   ]
  },
  {
   "cell_type": "code",
   "execution_count": null,
   "metadata": {
    "collapsed": true
   },
   "outputs": [],
   "source": [
    "import multiprocessing as mp\n",
    "pool = mp.Pool(4)\n",
    "def zip_smt(args):\n",
    "    return args[0], smooth_mean_target(*args[1:])\n",
    "\n",
    "try:\n",
    "    res = pool.map(zip_smt, params)\n",
    "    for col, feat in res:\n",
    "        c_test[col + '_stm'] = feat\n",
    "finally:\n",
    "    pool.terminate()\n",
    "    pool.stop()\n",
    "    del pool"
   ]
  }
 ],
 "metadata": {
  "kernelspec": {
   "display_name": "Python 2",
   "language": "python",
   "name": "python2"
  },
  "language_info": {
   "codemirror_mode": {
    "name": "ipython",
    "version": 2
   },
   "file_extension": ".py",
   "mimetype": "text/x-python",
   "name": "python",
   "nbconvert_exporter": "python",
   "pygments_lexer": "ipython2",
   "version": "2.7.11"
  }
 },
 "nbformat": 4,
 "nbformat_minor": 0
}
