{
 "cells": [
  {
   "cell_type": "code",
   "execution_count": 1,
   "metadata": {
    "collapsed": true
   },
   "outputs": [],
   "source": [
    "import numpy as np\n",
    "import pandas as pd\n",
    "from sklearn.ensemble import RandomForestClassifier, ExtraTreesClassifier\n",
    "from sklearn.cross_validation import cross_val_score, StratifiedKFold\n",
    "from tqdm import *"
   ]
  },
  {
   "cell_type": "code",
   "execution_count": 2,
   "metadata": {
    "collapsed": true
   },
   "outputs": [],
   "source": [
    "train = pd.read_csv('stm_train.csv', index_col=0)\n",
    "target = pd.read_csv('target.csv', index_col=0)\n",
    "test = pd.read_csv('stm_test.csv.gz', index_col=0)"
   ]
  },
  {
   "cell_type": "code",
   "execution_count": 3,
   "metadata": {
    "collapsed": false
   },
   "outputs": [],
   "source": [
    "target = target.loc[:, '0'].values"
   ]
  },
  {
   "cell_type": "code",
   "execution_count": 4,
   "metadata": {
    "collapsed": true
   },
   "outputs": [],
   "source": [
    "strain = train.ix[:, :292]\n",
    "stest = test.ix[:, :292]"
   ]
  },
  {
   "cell_type": "code",
   "execution_count": 24,
   "metadata": {
    "collapsed": false
   },
   "outputs": [],
   "source": [
    "cn = []\n",
    "for c in strain.columns:\n",
    "    cn.append((c, len(strain[c].unique())))"
   ]
  },
  {
   "cell_type": "code",
   "execution_count": 26,
   "metadata": {
    "collapsed": false
   },
   "outputs": [],
   "source": [
    "mask = strain.columns[list(map(lambda x: x[1] < 500, cn))]"
   ]
  },
  {
   "cell_type": "code",
   "execution_count": 27,
   "metadata": {
    "collapsed": false
   },
   "outputs": [],
   "source": [
    "from fastFM import mcmc"
   ]
  },
  {
   "cell_type": "code",
   "execution_count": 28,
   "metadata": {
    "collapsed": true
   },
   "outputs": [],
   "source": [
    "fm = mcmc.FMClassification(n_iter=500, rank=30)"
   ]
  },
  {
   "cell_type": "code",
   "execution_count": 29,
   "metadata": {
    "collapsed": true
   },
   "outputs": [],
   "source": [
    "from sklearn.preprocessing import OneHotEncoder, LabelEncoder"
   ]
  },
  {
   "cell_type": "code",
   "execution_count": 30,
   "metadata": {
    "collapsed": true
   },
   "outputs": [],
   "source": [
    "le = LabelEncoder()"
   ]
  },
  {
   "cell_type": "code",
   "execution_count": 31,
   "metadata": {
    "collapsed": false
   },
   "outputs": [],
   "source": [
    "for i in range(len(mask)):\n",
    "    strain.loc[:, mask[i]] = le.fit_transform(strain[mask[i]])"
   ]
  },
  {
   "cell_type": "code",
   "execution_count": 32,
   "metadata": {
    "collapsed": true
   },
   "outputs": [],
   "source": [
    "ohe = OneHotEncoder()"
   ]
  },
  {
   "cell_type": "code",
   "execution_count": 33,
   "metadata": {
    "collapsed": true
   },
   "outputs": [],
   "source": [
    "ctr = ohe.fit_transform(strain[mask])"
   ]
  },
  {
   "cell_type": "code",
   "execution_count": 5,
   "metadata": {
    "collapsed": true
   },
   "outputs": [],
   "source": [
    "from sklearn.cross_validation import train_test_split"
   ]
  },
  {
   "cell_type": "code",
   "execution_count": 6,
   "metadata": {
    "collapsed": false
   },
   "outputs": [],
   "source": [
    "X_train, X_test, y_train, y_test = train_test_split(strain, target, test_size=.2, stratify=target)"
   ]
  },
  {
   "cell_type": "code",
   "execution_count": 8,
   "metadata": {
    "collapsed": true
   },
   "outputs": [],
   "source": [
    "from sklearn.linear_model import LogisticRegression"
   ]
  },
  {
   "cell_type": "code",
   "execution_count": 9,
   "metadata": {
    "collapsed": true
   },
   "outputs": [],
   "source": [
    "from sklearn.preprocessing import StandardScaler"
   ]
  },
  {
   "cell_type": "code",
   "execution_count": 10,
   "metadata": {
    "collapsed": true
   },
   "outputs": [],
   "source": [
    "sc = StandardScaler()"
   ]
  },
  {
   "cell_type": "code",
   "execution_count": 11,
   "metadata": {
    "collapsed": true
   },
   "outputs": [],
   "source": [
    "sctr = sc.fit_transform(X_train)\n",
    "scts = sc.transform(X_test)"
   ]
  },
  {
   "cell_type": "code",
   "execution_count": 15,
   "metadata": {
    "collapsed": true
   },
   "outputs": [],
   "source": [
    "lr = LogisticRegression(C=100)"
   ]
  },
  {
   "cell_type": "code",
   "execution_count": 16,
   "metadata": {
    "collapsed": false
   },
   "outputs": [
    {
     "data": {
      "text/plain": [
       "LogisticRegression(C=100, class_weight=None, dual=False, fit_intercept=True,\n",
       "          intercept_scaling=1, max_iter=100, multi_class='ovr', n_jobs=1,\n",
       "          penalty='l2', random_state=None, solver='liblinear', tol=0.0001,\n",
       "          verbose=0, warm_start=False)"
      ]
     },
     "execution_count": 16,
     "metadata": {},
     "output_type": "execute_result"
    }
   ],
   "source": [
    "lr.fit(sctr, y_train)"
   ]
  },
  {
   "cell_type": "code",
   "execution_count": 17,
   "metadata": {
    "collapsed": false
   },
   "outputs": [
    {
     "data": {
      "text/plain": [
       "0.77213277114453449"
      ]
     },
     "execution_count": 17,
     "metadata": {},
     "output_type": "execute_result"
    }
   ],
   "source": [
    "roc_auc_score(y_test, lr.predict_proba(scts)[:, 1])"
   ]
  },
  {
   "cell_type": "code",
   "execution_count": null,
   "metadata": {
    "collapsed": false
   },
   "outputs": [],
   "source": [
    "preds = fm.fit_predict_proba(X_train, y_train, X_test)"
   ]
  },
  {
   "cell_type": "code",
   "execution_count": 7,
   "metadata": {
    "collapsed": false
   },
   "outputs": [],
   "source": [
    "from sklearn.metrics import roc_auc_score"
   ]
  },
  {
   "cell_type": "code",
   "execution_count": null,
   "metadata": {
    "collapsed": false
   },
   "outputs": [],
   "source": [
    "roc_auc_score(y_test, preds)"
   ]
  },
  {
   "cell_type": "code",
   "execution_count": null,
   "metadata": {
    "collapsed": true
   },
   "outputs": [],
   "source": []
  },
  {
   "cell_type": "code",
   "execution_count": null,
   "metadata": {
    "collapsed": true
   },
   "outputs": [],
   "source": []
  },
  {
   "cell_type": "code",
   "execution_count": null,
   "metadata": {
    "collapsed": true
   },
   "outputs": [],
   "source": []
  },
  {
   "cell_type": "code",
   "execution_count": 26,
   "metadata": {
    "collapsed": true
   },
   "outputs": [],
   "source": [
    "def smooth_target_mean_cv(train, target, C, cv=None):\n",
    "    if cv == None:\n",
    "        cv = [([x for x in range(len(train))], [x for x in range(len(train))])]\n",
    "    if type(cv) == int:\n",
    "        from sklearn.cross_validation import StratifiedKFold\n",
    "        cv = StratifiedKFold(target, cv)\n",
    "    #(среднее значение * размер категории + глобальное среднее значение * C) / (размер категории + С)\n",
    "    res = np.zeros(train.shape)\n",
    "    for trx, tsx in cv:\n",
    "        Xtrain, Ytrain = train.iloc[trx], target[trx]\n",
    "        Xtest, Ytest = train.iloc[tsx], target[tsx]\n",
    "        #print(Xtrain.shape, type(Xtrain), Ytrain.shape, type(Ytrain))\n",
    "        \n",
    "        mean_target = Ytrain.mean()\n",
    "        cv_res = res[tsx]\n",
    "        #print(Xtest)\n",
    "        for val in Xtrain.unique():\n",
    "            cat_size = Xtrain.value_counts()[val]\n",
    "            cat_mean = Ytrain[np.where(Xtrain == val)].mean()\n",
    "            #print(val, cat_size, cat_mean)\n",
    "            cv_res[np.where(Xtest == val)] = float(cat_mean * cat_size + mean_target * C) / float(cat_size + C)\n",
    "            #print(cv_res)\n",
    "        res[tsx] = cv_res\n",
    "    return res"
   ]
  },
  {
   "cell_type": "code",
   "execution_count": 27,
   "metadata": {
    "collapsed": true
   },
   "outputs": [],
   "source": [
    "skf = StratifiedKFold(target, n_folds=10, random_state=42)"
   ]
  },
  {
   "cell_type": "code",
   "execution_count": 37,
   "metadata": {
    "collapsed": false
   },
   "outputs": [],
   "source": [
    "kektrain = train.loc[:, strain.columns.union([i+'_stm' for i in mask])]"
   ]
  },
  {
   "cell_type": "code",
   "execution_count": 38,
   "metadata": {
    "collapsed": true
   },
   "outputs": [],
   "source": [
    "kektest = test.loc[:, strain.columns.union([i+'_stm' for i in mask])]"
   ]
  },
  {
   "cell_type": "code",
   "execution_count": 39,
   "metadata": {
    "collapsed": true
   },
   "outputs": [],
   "source": [
    "import xgboost as xgb"
   ]
  },
  {
   "cell_type": "code",
   "execution_count": 40,
   "metadata": {
    "collapsed": true
   },
   "outputs": [],
   "source": [
    "params = {'objective': 'binary:logistic', \n",
    "          'eval_metric': 'auc',\n",
    "          'eta': 0.0202048,\n",
    "          'max_depth': 5,\n",
    "          'subsample': 0.6815,\n",
    "          'colsample_bytree': 0.701,\n",
    "          'silent': 1,\n",
    "          'seed': 0\n",
    "}"
   ]
  },
  {
   "cell_type": "code",
   "execution_count": 41,
   "metadata": {
    "collapsed": true
   },
   "outputs": [],
   "source": [
    "dtrain = xgb.DMatrix(kektrain, target)\n",
    "dktrain = xgb.DMatrix(kektrain, target, missing=0)"
   ]
  },
  {
   "cell_type": "code",
   "execution_count": 42,
   "metadata": {
    "collapsed": false,
    "scrolled": true
   },
   "outputs": [
    {
     "name": "stderr",
     "output_type": "stream",
     "text": [
      "Will train until cv error hasn't decreased in 300 rounds.\n",
      "[0]\tcv-test-auc:0.7990869+0.012084441066511936\tcv-train-auc:0.8058143999999998+0.005722398783726992\n",
      "[1]\tcv-test-auc:0.8078372999999999+0.012803365432963334\tcv-train-auc:0.8172885000000001+0.005586635539392206\n",
      "[2]\tcv-test-auc:0.8108215+0.011622471778842923\tcv-train-auc:0.8218501+0.006032536356293262\n",
      "[3]\tcv-test-auc:0.8138019+0.010183201691511374\tcv-train-auc:0.8251742999999999+0.006084132888916897\n",
      "[4]\tcv-test-auc:0.8155060000000001+0.01257017604490883\tcv-train-auc:0.8283891000000001+0.004733374197124071\n",
      "[5]\tcv-test-auc:0.8171422999999999+0.01274978385738361\tcv-train-auc:0.8307667000000001+0.003963999849899093\n",
      "[6]\tcv-test-auc:0.8187840000000002+0.011781132042380307\tcv-train-auc:0.8326300999999999+0.002538578714556633\n",
      "[7]\tcv-test-auc:0.8194072+0.011782686720778075\tcv-train-auc:0.8339165999999999+0.0023872785426087167\n",
      "[8]\tcv-test-auc:0.8203502+0.012128260615603537\tcv-train-auc:0.8347163+0.0023922024182748344\n",
      "[9]\tcv-test-auc:0.8210698000000001+0.011069394895837813\tcv-train-auc:0.8357568000000001+0.0028439274533644523\n",
      "[10]\tcv-test-auc:0.8214325+0.011071423786035822\tcv-train-auc:0.8362352+0.0029957818612175308\n",
      "[11]\tcv-test-auc:0.8221515+0.01081984265366183\tcv-train-auc:0.8371327000000001+0.003054716060454715\n",
      "[12]\tcv-test-auc:0.8222845+0.010822899345831503\tcv-train-auc:0.8376979999999999+0.002782677415727518\n",
      "[13]\tcv-test-auc:0.8223454+0.0107092164437927\tcv-train-auc:0.838137+0.002703439660876494\n",
      "[14]\tcv-test-auc:0.8230443+0.0110975776460451\tcv-train-auc:0.8385757+0.0023079849674553744\n",
      "[15]\tcv-test-auc:0.8230646+0.010869193504579816\tcv-train-auc:0.8391917+0.0021477002607440377\n",
      "[16]\tcv-test-auc:0.8231563+0.010936144147276044\tcv-train-auc:0.8395277+0.0021998229042357233\n",
      "[17]\tcv-test-auc:0.8236948+0.010705545430289842\tcv-train-auc:0.840105+0.0023149815550021083\n",
      "[18]\tcv-test-auc:0.8239643000000001+0.010924843907809399\tcv-train-auc:0.8402811+0.0023999662268457058\n",
      "[19]\tcv-test-auc:0.8246239+0.01083700797683566\tcv-train-auc:0.8409931+0.002300821525021018\n",
      "[20]\tcv-test-auc:0.8245192000000001+0.011059526534169539\tcv-train-auc:0.8412447999999999+0.002169499149573484\n",
      "[21]\tcv-test-auc:0.8249731+0.011064324755266346\tcv-train-auc:0.8417005000000002+0.002150579561420601\n",
      "[22]\tcv-test-auc:0.8250857+0.011360225235883311\tcv-train-auc:0.8419193+0.002028248409342397\n",
      "[23]\tcv-test-auc:0.8249831999999999+0.01138808129405477\tcv-train-auc:0.8422322+0.001999941289138268\n",
      "[24]\tcv-test-auc:0.8254754+0.011828906248677431\tcv-train-auc:0.8424046000000001+0.0019459400401862273\n",
      "[25]\tcv-test-auc:0.8255741999999999+0.011733075895092461\tcv-train-auc:0.8427344999999999+0.0018638400816593838\n",
      "[26]\tcv-test-auc:0.8255122+0.011682541408443646\tcv-train-auc:0.8431474999999999+0.0018381909721244985\n",
      "[27]\tcv-test-auc:0.8258507999999999+0.012044037037472123\tcv-train-auc:0.8434379+0.001728857972766986\n",
      "[28]\tcv-test-auc:0.8260099999999999+0.011960266318105109\tcv-train-auc:0.8438285000000001+0.0015865613918156468\n",
      "[29]\tcv-test-auc:0.8261441999999999+0.011925580185466871\tcv-train-auc:0.8440393+0.0014897664280013705\n",
      "[30]\tcv-test-auc:0.8263659999999999+0.011814613840494311\tcv-train-auc:0.8442484+0.001526911143452699\n",
      "[31]\tcv-test-auc:0.8265741999999999+0.011698744247140371\tcv-train-auc:0.8446693000000002+0.0015164375391027484\n",
      "[32]\tcv-test-auc:0.8267382000000001+0.011623558635805135\tcv-train-auc:0.8448507000000001+0.001639808650422379\n",
      "[33]\tcv-test-auc:0.82691+0.011582639371058735\tcv-train-auc:0.8450257999999999+0.001600135919226859\n",
      "[34]\tcv-test-auc:0.8270807999999998+0.01183466538436975\tcv-train-auc:0.8452586+0.0015032639954445674\n",
      "[35]\tcv-test-auc:0.8271776+0.011636166492449312\tcv-train-auc:0.8455354999999999+0.001567382547433777\n",
      "[36]\tcv-test-auc:0.8274973000000001+0.011616859059573721\tcv-train-auc:0.8458498000000001+0.00158040809919465\n",
      "[37]\tcv-test-auc:0.8275441000000001+0.011728122632800203\tcv-train-auc:0.8460580999999999+0.0015270510436786245\n",
      "[38]\tcv-test-auc:0.8274741999999999+0.011645944099127406\tcv-train-auc:0.8462009+0.0015776130355698726\n",
      "[39]\tcv-test-auc:0.8275996999999998+0.011662879404761066\tcv-train-auc:0.8463213000000002+0.0015277220984197377\n",
      "[40]\tcv-test-auc:0.8278487+0.011571360897059603\tcv-train-auc:0.8465243000000001+0.0014992766289114402\n",
      "[41]\tcv-test-auc:0.8279505+0.011685958037319855\tcv-train-auc:0.8468509+0.0015027812515465925\n",
      "[42]\tcv-test-auc:0.8280381+0.01181773362747697\tcv-train-auc:0.8469372999999999+0.0014004675683499186\n",
      "[43]\tcv-test-auc:0.8281296999999999+0.011794321396756992\tcv-train-auc:0.8470715+0.001432678488007691\n",
      "[44]\tcv-test-auc:0.8283576+0.011885812418173198\tcv-train-auc:0.8473523000000001+0.0013998282073168769\n",
      "[45]\tcv-test-auc:0.8285229000000001+0.012046598552703586\tcv-train-auc:0.8475218+0.001439787539882172\n",
      "[46]\tcv-test-auc:0.8287507999999999+0.012100691920712638\tcv-train-auc:0.8477112+0.001488083989565121\n",
      "[47]\tcv-test-auc:0.8288052+0.012009749404546282\tcv-train-auc:0.8478646+0.0013992740403509256\n",
      "[48]\tcv-test-auc:0.8290357+0.011841612939545014\tcv-train-auc:0.8480618+0.0013057094470057212\n",
      "[49]\tcv-test-auc:0.8292334+0.011730154288840368\tcv-train-auc:0.8482474999999999+0.0012747765490469304\n",
      "[50]\tcv-test-auc:0.8293894999999999+0.0118107916267285\tcv-train-auc:0.8484363+0.0013311438727650789\n",
      "[51]\tcv-test-auc:0.8296123+0.011961233808014947\tcv-train-auc:0.8486302+0.0013185522211880854\n",
      "[52]\tcv-test-auc:0.8298763999999998+0.012024238979661057\tcv-train-auc:0.8490681999999999+0.0011236731553258684\n",
      "[53]\tcv-test-auc:0.8300059000000001+0.012063884270416396\tcv-train-auc:0.8491883+0.0011274879201126837\n",
      "[54]\tcv-test-auc:0.8301139000000001+0.011885497915106444\tcv-train-auc:0.8493276+0.0010987983618480815\n",
      "[55]\tcv-test-auc:0.8302185999999999+0.011908424792557576\tcv-train-auc:0.8494921+0.0011031330336817948\n",
      "[56]\tcv-test-auc:0.8303292000000001+0.01190635383986214\tcv-train-auc:0.8496563+0.0010894036946880463\n",
      "[57]\tcv-test-auc:0.8303974000000001+0.011901608968538655\tcv-train-auc:0.8497951+0.0011364544381540272\n",
      "[58]\tcv-test-auc:0.8305358999999999+0.011959107077453556\tcv-train-auc:0.8499905999999999+0.0012285053683236313\n",
      "[59]\tcv-test-auc:0.8307378+0.012017340486147516\tcv-train-auc:0.8501901000000001+0.0012322981335699463\n",
      "[60]\tcv-test-auc:0.8306822+0.012007115488742505\tcv-train-auc:0.8502278000000001+0.0012324585834826347\n",
      "[61]\tcv-test-auc:0.8308242+0.012004768809102492\tcv-train-auc:0.8504206+0.0011841375933564432\n",
      "[62]\tcv-test-auc:0.8308017+0.011930397085177012\tcv-train-auc:0.8505731999999998+0.0011911950134213917\n",
      "[63]\tcv-test-auc:0.8308924+0.011961914137795819\tcv-train-auc:0.8506371999999999+0.0012189567506683714\n",
      "[64]\tcv-test-auc:0.8308606+0.011807924705044463\tcv-train-auc:0.8506955999999999+0.0011972094386530612\n",
      "[65]\tcv-test-auc:0.8309510999999998+0.011803867658102565\tcv-train-auc:0.8508435999999999+0.001248919869327085\n",
      "[66]\tcv-test-auc:0.8309772000000001+0.011927403219477413\tcv-train-auc:0.8509469999999999+0.0012280210910240923\n",
      "[67]\tcv-test-auc:0.8309077+0.012151304671104262\tcv-train-auc:0.8511165+0.0012073046218746954\n",
      "[68]\tcv-test-auc:0.8311069+0.012091048758895996\tcv-train-auc:0.8512924999999999+0.0012267514214379307\n",
      "[69]\tcv-test-auc:0.8310198+0.012118744157708776\tcv-train-auc:0.8514578+0.0012676085200092433\n",
      "[70]\tcv-test-auc:0.8312231999999999+0.012254148218460551\tcv-train-auc:0.8516101+0.0012826846416793122\n",
      "[71]\tcv-test-auc:0.8313981+0.012174141665431697\tcv-train-auc:0.851783+0.001194097650948178\n",
      "[72]\tcv-test-auc:0.8316863+0.012233609459599408\tcv-train-auc:0.8519364000000001+0.0011918860012601815\n",
      "[73]\tcv-test-auc:0.8318694000000001+0.01235934118147079\tcv-train-auc:0.8520429+0.0011668604415267748\n",
      "[74]\tcv-test-auc:0.8319036000000001+0.012315550967780527\tcv-train-auc:0.8521848000000001+0.0011147575341750472\n",
      "[75]\tcv-test-auc:0.8319993+0.012355150262542334\tcv-train-auc:0.8522998999999999+0.0011321056001981414\n",
      "[76]\tcv-test-auc:0.8320578000000001+0.012383322282812468\tcv-train-auc:0.8524404000000001+0.0011179477805335928\n",
      "[77]\tcv-test-auc:0.8320900999999999+0.012372116572761504\tcv-train-auc:0.8525436000000001+0.001146091724077963\n",
      "[78]\tcv-test-auc:0.8321622999999999+0.012242997835906034\tcv-train-auc:0.8526538+0.0011503607955767729\n",
      "[79]\tcv-test-auc:0.8321769+0.012375843279954708\tcv-train-auc:0.8527818999999999+0.0011627668252921467\n",
      "[80]\tcv-test-auc:0.8323084000000002+0.012362993279946412\tcv-train-auc:0.8529030000000001+0.0010860411594410303\n",
      "[81]\tcv-test-auc:0.8324271+0.012303496766773274\tcv-train-auc:0.8529968+0.0011333243842784051\n",
      "[82]\tcv-test-auc:0.8326442000000001+0.012265917477302716\tcv-train-auc:0.8531040999999998+0.001170994999989308\n",
      "[83]\tcv-test-auc:0.8326191999999999+0.01216270181168641\tcv-train-auc:0.8532759999999999+0.0011931308394304502\n",
      "[84]\tcv-test-auc:0.8326091999999999+0.012114057749573415\tcv-train-auc:0.8533839000000001+0.0011800807133412526\n",
      "[85]\tcv-test-auc:0.8326222+0.01206943527096441\tcv-train-auc:0.8535556999999999+0.001120032593275742\n",
      "[86]\tcv-test-auc:0.8326784+0.011808616389738472\tcv-train-auc:0.8536687000000001+0.001188751870661009\n",
      "[87]\tcv-test-auc:0.8328351000000002+0.01177419578102894\tcv-train-auc:0.8537750999999998+0.0012220248319899153\n",
      "[88]\tcv-test-auc:0.8327560999999999+0.011690358116413703\tcv-train-auc:0.8539394+0.0012220481332582507\n",
      "[89]\tcv-test-auc:0.8328312999999999+0.011652821667304436\tcv-train-auc:0.8540566999999999+0.001191104113837254\n",
      "[90]\tcv-test-auc:0.8329321999999999+0.011617020709286862\tcv-train-auc:0.854175+0.0012004674089703786\n",
      "[91]\tcv-test-auc:0.832981+0.011557276599614624\tcv-train-auc:0.8543326+0.0012640382272700468\n",
      "[92]\tcv-test-auc:0.8330873000000001+0.011630353563413274\tcv-train-auc:0.8544333+0.0012363567486773305\n",
      "[93]\tcv-test-auc:0.8331199+0.01162915723042732\tcv-train-auc:0.8544985+0.0012601766741215242\n",
      "[94]\tcv-test-auc:0.8332371999999999+0.011588814786681167\tcv-train-auc:0.8546526999999999+0.0012504017794293123\n",
      "[95]\tcv-test-auc:0.8333349999999999+0.011645704976513864\tcv-train-auc:0.8547805+0.0012665463473556747\n",
      "[96]\tcv-test-auc:0.8334686000000001+0.011673093687621974\tcv-train-auc:0.8549215+0.0012423187392935889\n",
      "[97]\tcv-test-auc:0.8334835+0.011701697092729762\tcv-train-auc:0.8550337999999998+0.0012455563255027995\n",
      "[98]\tcv-test-auc:0.8335571999999999+0.011725163980090011\tcv-train-auc:0.8551694+0.0012624489058967975\n",
      "[99]\tcv-test-auc:0.8337283+0.011773130951875132\tcv-train-auc:0.8553046+0.0012780238808410387\n",
      "[100]\tcv-test-auc:0.8337788999999999+0.011831034387998348\tcv-train-auc:0.8554114+0.0013152499534308919\n",
      "[101]\tcv-test-auc:0.8338243000000001+0.011900424127315791\tcv-train-auc:0.8555415+0.0013376824174668523\n",
      "[102]\tcv-test-auc:0.8338761+0.011849074828441254\tcv-train-auc:0.8556376+0.001327214617158819\n",
      "[103]\tcv-test-auc:0.8340042999999999+0.01179255963775464\tcv-train-auc:0.8557328+0.0012873242637346837\n",
      "[104]\tcv-test-auc:0.8341203+0.011766592081397239\tcv-train-auc:0.8558713000000001+0.0012982827927689813\n",
      "[105]\tcv-test-auc:0.8341774000000001+0.011791704017655788\tcv-train-auc:0.8559517999999999+0.0013193714260965339\n",
      "[106]\tcv-test-auc:0.8342794000000001+0.01180202564138884\tcv-train-auc:0.8560909999999999+0.0013259374042540694\n",
      "[107]\tcv-test-auc:0.8343569000000001+0.011767959062216348\tcv-train-auc:0.8562023999999999+0.001305411444717737\n",
      "[108]\tcv-test-auc:0.8344712000000001+0.011595752082551612\tcv-train-auc:0.8563552+0.001354148647674983\n",
      "[109]\tcv-test-auc:0.8345524+0.011600448984414364\tcv-train-auc:0.8564586000000001+0.00136083931454084\n",
      "[110]\tcv-test-auc:0.8345895999999999+0.01162690725171573\tcv-train-auc:0.8565787+0.0013663756474703464\n",
      "[111]\tcv-test-auc:0.8346826+0.011598288056433143\tcv-train-auc:0.8566730999999999+0.0013640024523438319\n",
      "[112]\tcv-test-auc:0.8346591+0.01154247179290467\tcv-train-auc:0.8567487+0.0013346200995039768\n",
      "[113]\tcv-test-auc:0.8346626+0.011575569214513824\tcv-train-auc:0.8568334999999999+0.0013048547237144788\n",
      "[114]\tcv-test-auc:0.8346786999999999+0.011522379745955246\tcv-train-auc:0.8569673+0.0013379216755849406\n",
      "[115]\tcv-test-auc:0.8347184999999999+0.011508709921185774\tcv-train-auc:0.8570639999999999+0.0013125428754901492\n",
      "[116]\tcv-test-auc:0.8347165000000001+0.011459861842535446\tcv-train-auc:0.8571456999999999+0.0013468258276406813\n",
      "[117]\tcv-test-auc:0.8348242999999999+0.011570844861547483\tcv-train-auc:0.8572321+0.0013381983746814138\n",
      "[118]\tcv-test-auc:0.8348760000000001+0.011578209170679213\tcv-train-auc:0.8573394000000001+0.0013598543451414195\n",
      "[119]\tcv-test-auc:0.8349491+0.01153325667320382\tcv-train-auc:0.857429+0.0013489123766946575\n",
      "[120]\tcv-test-auc:0.8349853000000002+0.011543932969746488\tcv-train-auc:0.8575411+0.001374567528352097\n",
      "[121]\tcv-test-auc:0.8350626000000002+0.011436060284905802\tcv-train-auc:0.8576568999999999+0.001391269524571009\n",
      "[122]\tcv-test-auc:0.8351287000000001+0.011446411901115571\tcv-train-auc:0.8577635000000001+0.0013741515382227766\n",
      "[123]\tcv-test-auc:0.8351609999999999+0.011445539183454815\tcv-train-auc:0.8578889999999999+0.0013428114536300443\n",
      "[124]\tcv-test-auc:0.83521+0.011342677073777611\tcv-train-auc:0.8580147+0.0013363245152282497\n",
      "[125]\tcv-test-auc:0.8352975+0.01132076745852507\tcv-train-auc:0.8581025+0.0013068836405740322\n",
      "[126]\tcv-test-auc:0.8353057999999999+0.011383947863548915\tcv-train-auc:0.8581947999999999+0.0012931110393156454\n",
      "[127]\tcv-test-auc:0.8354206000000002+0.011423190134108781\tcv-train-auc:0.8583721000000001+0.0012545607558026195\n",
      "[128]\tcv-test-auc:0.8354832+0.011333777744423965\tcv-train-auc:0.8585250999999999+0.0012537115657119862\n",
      "[129]\tcv-test-auc:0.8354908+0.011293009349150495\tcv-train-auc:0.8586175+0.001238219144578214\n",
      "[130]\tcv-test-auc:0.8355987+0.01126857880169454\tcv-train-auc:0.8587342999999998+0.0012267227111291369\n",
      "[131]\tcv-test-auc:0.8356429999999999+0.011244762958817765\tcv-train-auc:0.8588688+0.0012204645672857467\n",
      "[132]\tcv-test-auc:0.8356305+0.011200073510919471\tcv-train-auc:0.8589764000000001+0.0011762270359076035\n",
      "[133]\tcv-test-auc:0.8356131000000001+0.011158173241619794\tcv-train-auc:0.859138+0.0011520947877670456\n",
      "[134]\tcv-test-auc:0.8355843000000001+0.011144798903973104\tcv-train-auc:0.8592071000000001+0.0011531337693433399\n",
      "[135]\tcv-test-auc:0.8356861999999999+0.011093846788197506\tcv-train-auc:0.8593325999999999+0.0011367612942038542\n",
      "[136]\tcv-test-auc:0.8357208+0.011114550164536573\tcv-train-auc:0.8594443999999999+0.00116278348801486\n",
      "[137]\tcv-test-auc:0.8357116+0.011054307750374963\tcv-train-auc:0.8596489999999999+0.0011787259223415688\n",
      "[138]\tcv-test-auc:0.8357495+0.011074013971907387\tcv-train-auc:0.859821+0.0012249521623312557\n",
      "[139]\tcv-test-auc:0.8357954+0.011129644200961679\tcv-train-auc:0.8599823000000001+0.0012424572467493414\n",
      "[140]\tcv-test-auc:0.8357746+0.011244093758058052\tcv-train-auc:0.8601297999999999+0.0012416187659664367\n",
      "[141]\tcv-test-auc:0.83585+0.011248313384681276\tcv-train-auc:0.8602672+0.00126462680661133\n",
      "[142]\tcv-test-auc:0.8358763+0.011243765704158007\tcv-train-auc:0.8604197000000001+0.0012629549516906824\n",
      "[143]\tcv-test-auc:0.8359335+0.011289769734144285\tcv-train-auc:0.8605775+0.0012570810833037033\n",
      "[144]\tcv-test-auc:0.8359658+0.011302704019835255\tcv-train-auc:0.8607222999999999+0.0012593923177469464\n",
      "[145]\tcv-test-auc:0.8359991999999998+0.011282124948785147\tcv-train-auc:0.8608437+0.0012588126985377994\n",
      "[146]\tcv-test-auc:0.8360949+0.011294824181455861\tcv-train-auc:0.8609959000000001+0.0012379794384398948\n",
      "[147]\tcv-test-auc:0.8361798+0.01131764906506646\tcv-train-auc:0.8611321999999999+0.0012576925538461215\n",
      "[148]\tcv-test-auc:0.8362902999999999+0.011323408656848881\tcv-train-auc:0.8612552000000001+0.0012724177615861918\n",
      "[149]\tcv-test-auc:0.8363868+0.011304544730328605\tcv-train-auc:0.8613675000000001+0.0012821649854835302\n",
      "[150]\tcv-test-auc:0.8364231999999999+0.011303981553417356\tcv-train-auc:0.8615033000000001+0.0012306576331376495\n",
      "[151]\tcv-test-auc:0.8364858999999999+0.01130470440524651\tcv-train-auc:0.8616183000000002+0.0012033799940168533\n",
      "[152]\tcv-test-auc:0.8365004+0.011269275107122004\tcv-train-auc:0.8617466+0.0011858388760704348\n",
      "[153]\tcv-test-auc:0.8365593+0.011245219055669822\tcv-train-auc:0.8619261999999999+0.0011480339542017048\n",
      "[154]\tcv-test-auc:0.8367065+0.011216904931842825\tcv-train-auc:0.8620607999999998+0.0011409289022546799\n",
      "[155]\tcv-test-auc:0.8367842000000001+0.011160728943935513\tcv-train-auc:0.8622097999999999+0.0011452717406799178\n",
      "[156]\tcv-test-auc:0.8368622+0.011028308472290757\tcv-train-auc:0.8623578999999999+0.0011770468512340786\n",
      "[157]\tcv-test-auc:0.8369688999999999+0.011088208885568478\tcv-train-auc:0.862519+0.0011220186272963672\n",
      "[158]\tcv-test-auc:0.8369817999999999+0.011073691586819643\tcv-train-auc:0.8626547+0.001103484394996142\n",
      "[159]\tcv-test-auc:0.8370777+0.010985002294492272\tcv-train-auc:0.8627800999999999+0.0010920993040928265\n",
      "[160]\tcv-test-auc:0.8371257999999999+0.010933130885524046\tcv-train-auc:0.8629419+0.0010774007100424637\n",
      "[161]\tcv-test-auc:0.8371662000000001+0.01091815885394603\tcv-train-auc:0.8630918+0.0011153252261112134\n"
     ]
    },
    {
     "ename": "KeyboardInterrupt",
     "evalue": "",
     "output_type": "error",
     "traceback": [
      "\u001b[1;31m---------------------------------------------------------------------------\u001b[0m",
      "\u001b[1;31mKeyboardInterrupt\u001b[0m                         Traceback (most recent call last)",
      "\u001b[1;32m<ipython-input-42-0370fa4aa7a4>\u001b[0m in \u001b[0;36m<module>\u001b[1;34m()\u001b[0m\n\u001b[0;32m      1\u001b[0m res = xgb.cv(params, dtrain, num_boost_round=1000, nfold=10, stratified=True, early_stopping_rounds=300,\n\u001b[1;32m----> 2\u001b[1;33m              verbose_eval=True)\n\u001b[0m",
      "\u001b[1;32m/home/libfun/vrt/lib/python3.4/site-packages/xgboost-0.4-py3.4.egg/xgboost/training.py\u001b[0m in \u001b[0;36mcv\u001b[1;34m(params, dtrain, num_boost_round, nfold, stratified, folds, metrics, obj, feval, maximize, early_stopping_rounds, fpreproc, as_pandas, verbose_eval, show_stdv, seed)\u001b[0m\n\u001b[0;32m    455\u001b[0m         \u001b[1;32mfor\u001b[0m \u001b[0mfold\u001b[0m \u001b[1;32min\u001b[0m \u001b[0mcvfolds\u001b[0m\u001b[1;33m:\u001b[0m\u001b[1;33m\u001b[0m\u001b[0m\n\u001b[0;32m    456\u001b[0m             \u001b[0mfold\u001b[0m\u001b[1;33m.\u001b[0m\u001b[0mupdate\u001b[0m\u001b[1;33m(\u001b[0m\u001b[0mi\u001b[0m\u001b[1;33m,\u001b[0m \u001b[0mobj\u001b[0m\u001b[1;33m)\u001b[0m\u001b[1;33m\u001b[0m\u001b[0m\n\u001b[1;32m--> 457\u001b[1;33m         res = aggcv([f.eval(i, feval) for f in cvfolds],\n\u001b[0m\u001b[0;32m    458\u001b[0m                     \u001b[0mshow_stdv\u001b[0m\u001b[1;33m=\u001b[0m\u001b[0mshow_stdv\u001b[0m\u001b[1;33m,\u001b[0m \u001b[0mverbose_eval\u001b[0m\u001b[1;33m=\u001b[0m\u001b[0mverbose_eval\u001b[0m\u001b[1;33m,\u001b[0m\u001b[1;33m\u001b[0m\u001b[0m\n\u001b[0;32m    459\u001b[0m                     as_pandas=as_pandas, trial=i)\n",
      "\u001b[1;32m/home/libfun/vrt/lib/python3.4/site-packages/xgboost-0.4-py3.4.egg/xgboost/training.py\u001b[0m in \u001b[0;36m<listcomp>\u001b[1;34m(.0)\u001b[0m\n\u001b[0;32m    455\u001b[0m         \u001b[1;32mfor\u001b[0m \u001b[0mfold\u001b[0m \u001b[1;32min\u001b[0m \u001b[0mcvfolds\u001b[0m\u001b[1;33m:\u001b[0m\u001b[1;33m\u001b[0m\u001b[0m\n\u001b[0;32m    456\u001b[0m             \u001b[0mfold\u001b[0m\u001b[1;33m.\u001b[0m\u001b[0mupdate\u001b[0m\u001b[1;33m(\u001b[0m\u001b[0mi\u001b[0m\u001b[1;33m,\u001b[0m \u001b[0mobj\u001b[0m\u001b[1;33m)\u001b[0m\u001b[1;33m\u001b[0m\u001b[0m\n\u001b[1;32m--> 457\u001b[1;33m         res = aggcv([f.eval(i, feval) for f in cvfolds],\n\u001b[0m\u001b[0;32m    458\u001b[0m                     \u001b[0mshow_stdv\u001b[0m\u001b[1;33m=\u001b[0m\u001b[0mshow_stdv\u001b[0m\u001b[1;33m,\u001b[0m \u001b[0mverbose_eval\u001b[0m\u001b[1;33m=\u001b[0m\u001b[0mverbose_eval\u001b[0m\u001b[1;33m,\u001b[0m\u001b[1;33m\u001b[0m\u001b[0m\n\u001b[0;32m    459\u001b[0m                     as_pandas=as_pandas, trial=i)\n",
      "\u001b[1;32m/home/libfun/vrt/lib/python3.4/site-packages/xgboost-0.4-py3.4.egg/xgboost/training.py\u001b[0m in \u001b[0;36meval\u001b[1;34m(self, iteration, feval)\u001b[0m\n\u001b[0;32m    255\u001b[0m     \u001b[1;32mdef\u001b[0m \u001b[0meval\u001b[0m\u001b[1;33m(\u001b[0m\u001b[0mself\u001b[0m\u001b[1;33m,\u001b[0m \u001b[0miteration\u001b[0m\u001b[1;33m,\u001b[0m \u001b[0mfeval\u001b[0m\u001b[1;33m)\u001b[0m\u001b[1;33m:\u001b[0m\u001b[1;33m\u001b[0m\u001b[0m\n\u001b[0;32m    256\u001b[0m         \u001b[1;34m\"\"\"\"Evaluate the CVPack for one iteration.\"\"\"\u001b[0m\u001b[1;33m\u001b[0m\u001b[0m\n\u001b[1;32m--> 257\u001b[1;33m         \u001b[1;32mreturn\u001b[0m \u001b[0mself\u001b[0m\u001b[1;33m.\u001b[0m\u001b[0mbst\u001b[0m\u001b[1;33m.\u001b[0m\u001b[0meval_set\u001b[0m\u001b[1;33m(\u001b[0m\u001b[0mself\u001b[0m\u001b[1;33m.\u001b[0m\u001b[0mwatchlist\u001b[0m\u001b[1;33m,\u001b[0m \u001b[0miteration\u001b[0m\u001b[1;33m,\u001b[0m \u001b[0mfeval\u001b[0m\u001b[1;33m)\u001b[0m\u001b[1;33m\u001b[0m\u001b[0m\n\u001b[0m\u001b[0;32m    258\u001b[0m \u001b[1;33m\u001b[0m\u001b[0m\n\u001b[0;32m    259\u001b[0m \u001b[1;33m\u001b[0m\u001b[0m\n",
      "\u001b[1;32m/home/libfun/vrt/lib/python3.4/site-packages/xgboost-0.4-py3.4.egg/xgboost/core.py\u001b[0m in \u001b[0;36meval_set\u001b[1;34m(self, evals, iteration, feval)\u001b[0m\n\u001b[0;32m    809\u001b[0m             _check_call(_LIB.XGBoosterEvalOneIter(self.handle, iteration,\n\u001b[0;32m    810\u001b[0m                                                   \u001b[0mdmats\u001b[0m\u001b[1;33m,\u001b[0m \u001b[0mevnames\u001b[0m\u001b[1;33m,\u001b[0m \u001b[0mlen\u001b[0m\u001b[1;33m(\u001b[0m\u001b[0mevals\u001b[0m\u001b[1;33m)\u001b[0m\u001b[1;33m,\u001b[0m\u001b[1;33m\u001b[0m\u001b[0m\n\u001b[1;32m--> 811\u001b[1;33m                                                   ctypes.byref(msg)))\n\u001b[0m\u001b[0;32m    812\u001b[0m             \u001b[1;32mreturn\u001b[0m \u001b[0mmsg\u001b[0m\u001b[1;33m.\u001b[0m\u001b[0mvalue\u001b[0m\u001b[1;33m\u001b[0m\u001b[0m\n\u001b[0;32m    813\u001b[0m         \u001b[1;32melse\u001b[0m\u001b[1;33m:\u001b[0m\u001b[1;33m\u001b[0m\u001b[0m\n",
      "\u001b[1;31mKeyboardInterrupt\u001b[0m: "
     ]
    }
   ],
   "source": [
    "res = xgb.cv(params, dtrain, num_boost_round=1000, nfold=10, stratified=True, early_stopping_rounds=300,\n",
    "             verbose_eval=True)"
   ]
  },
  {
   "cell_type": "code",
   "execution_count": 43,
   "metadata": {
    "collapsed": false
   },
   "outputs": [
    {
     "name": "stderr",
     "output_type": "stream",
     "text": [
      "Will train until cv error hasn't decreased in 300 rounds.\n",
      "[0]\tcv-test-auc:0.7977873999999999+0.012805475072795999\tcv-train-auc:0.804816+0.003742168943273412\n",
      "[1]\tcv-test-auc:0.8058588999999999+0.012669438112639408\tcv-train-auc:0.8147399+0.007954593647069587\n",
      "[2]\tcv-test-auc:0.8120993999999999+0.014021454954461747\tcv-train-auc:0.8230249000000001+0.0047190470319758366\n",
      "[3]\tcv-test-auc:0.8141594+0.014000972424799646\tcv-train-auc:0.826634+0.0027881818807244025\n",
      "[4]\tcv-test-auc:0.8151575+0.014008076857656085\tcv-train-auc:0.8282733999999999+0.0024758512556290555\n",
      "[5]\tcv-test-auc:0.8167145+0.014267816870495647\tcv-train-auc:0.8306479000000001+0.0024007262422025507\n",
      "[6]\tcv-test-auc:0.8167595000000001+0.015046153682918428\tcv-train-auc:0.8317422999999999+0.0022131822812411933\n",
      "[7]\tcv-test-auc:0.8182509000000001+0.014384741564936094\tcv-train-auc:0.832456+0.002538041370821204\n",
      "[8]\tcv-test-auc:0.81924+0.014299045520593318\tcv-train-auc:0.8337230999999999+0.002688838055740788\n",
      "[9]\tcv-test-auc:0.8196821+0.013684693847141762\tcv-train-auc:0.8354782999999999+0.0023506824562241685\n",
      "[10]\tcv-test-auc:0.8205081+0.014605068602714613\tcv-train-auc:0.8358244000000001+0.0019256131075581948\n",
      "[11]\tcv-test-auc:0.821356+0.015250915375806128\tcv-train-auc:0.8367568999999999+0.0016209939204080786\n",
      "[12]\tcv-test-auc:0.8219930999999999+0.014614715368080212\tcv-train-auc:0.8374227000000001+0.0018731521054094781\n",
      "[13]\tcv-test-auc:0.8222839000000001+0.013943095427128075\tcv-train-auc:0.8379351000000002+0.0018479072731065341\n",
      "[14]\tcv-test-auc:0.8229169000000001+0.013687348000617213\tcv-train-auc:0.8388221+0.0020935230808376572\n",
      "[15]\tcv-test-auc:0.8229281+0.01384115764269738\tcv-train-auc:0.8394131+0.0018156581423825235\n",
      "[16]\tcv-test-auc:0.8227834999999999+0.013643238011923728\tcv-train-auc:0.8399108999999999+0.0018698051476023006\n",
      "[17]\tcv-test-auc:0.8229947+0.013632273684532598\tcv-train-auc:0.840409+0.00166475818063766\n",
      "[18]\tcv-test-auc:0.8232091+0.01310572424133821\tcv-train-auc:0.8407055+0.0017329402903735601\n",
      "[19]\tcv-test-auc:0.8234872000000001+0.013036008774160905\tcv-train-auc:0.8409555000000001+0.001640956687423541\n",
      "[20]\tcv-test-auc:0.8241131999999999+0.012779046973855282\tcv-train-auc:0.841105+0.0016741680919190839\n",
      "[21]\tcv-test-auc:0.8246420999999999+0.012873912330367943\tcv-train-auc:0.8416658+0.0016419509006057416\n",
      "[22]\tcv-test-auc:0.8252008999999999+0.013147902756333419\tcv-train-auc:0.8421807000000001+0.0016239365166163214\n",
      "[23]\tcv-test-auc:0.8252865+0.013153780059359351\tcv-train-auc:0.8424351+0.0017308430575878274\n",
      "[24]\tcv-test-auc:0.825357+0.013328758794426427\tcv-train-auc:0.8425587999999999+0.0017852315704132119\n",
      "[25]\tcv-test-auc:0.8255922+0.01340825766309702\tcv-train-auc:0.8429506+0.0015992753484000406\n",
      "[26]\tcv-test-auc:0.825871+0.01352256314461129\tcv-train-auc:0.8434046000000001+0.001501022464855216\n",
      "[27]\tcv-test-auc:0.8258547999999999+0.013367192703032296\tcv-train-auc:0.8436682999999998+0.0014706612152361861\n",
      "[28]\tcv-test-auc:0.8259640999999999+0.013473146844371573\tcv-train-auc:0.8438855999999999+0.001323582577703412\n",
      "[29]\tcv-test-auc:0.8257823999999999+0.013555131376714862\tcv-train-auc:0.8439099999999999+0.0014493774525636785\n",
      "[30]\tcv-test-auc:0.8260622999999999+0.013574321707179317\tcv-train-auc:0.8441265+0.0013935708988063688\n",
      "[31]\tcv-test-auc:0.8261201+0.013678333490962985\tcv-train-auc:0.8442386000000001+0.0013554945370601733\n",
      "[32]\tcv-test-auc:0.8262829999999999+0.01339706508904095\tcv-train-auc:0.8443654+0.0015199165240236102\n",
      "[33]\tcv-test-auc:0.8266067999999999+0.013264453730176753\tcv-train-auc:0.8446207000000001+0.001603725353668764\n",
      "[34]\tcv-test-auc:0.8267013000000001+0.013349294483604742\tcv-train-auc:0.8447901+0.0015365140057936506\n",
      "[35]\tcv-test-auc:0.8266317000000001+0.013274935179126132\tcv-train-auc:0.8450335000000001+0.0015605960559991177\n",
      "[36]\tcv-test-auc:0.8265699+0.013378709926222334\tcv-train-auc:0.8453023+0.001540013964222424\n",
      "[37]\tcv-test-auc:0.8266619000000001+0.013427433153436277\tcv-train-auc:0.8454105999999999+0.0014482675995823474\n",
      "[38]\tcv-test-auc:0.8269886999999999+0.013631062152671757\tcv-train-auc:0.8457425000000001+0.0013837412511015273\n",
      "[39]\tcv-test-auc:0.8271191+0.013438695617134852\tcv-train-auc:0.8460003+0.001241969729904869\n",
      "[40]\tcv-test-auc:0.8269289000000001+0.013364442513251334\tcv-train-auc:0.8461829+0.0012396771716862399\n",
      "[41]\tcv-test-auc:0.8271143999999999+0.013304646731123679\tcv-train-auc:0.8462987+0.0012574986322060192\n",
      "[42]\tcv-test-auc:0.8273917+0.013321276508278013\tcv-train-auc:0.8465941000000001+0.0010744845694564496\n",
      "[43]\tcv-test-auc:0.8277381+0.013220823306057759\tcv-train-auc:0.8467874999999999+0.001114120841740228\n",
      "[44]\tcv-test-auc:0.827996+0.013182138582187636\tcv-train-auc:0.8469549000000001+0.0011361312820268633\n",
      "[45]\tcv-test-auc:0.8281177+0.013245396695078624\tcv-train-auc:0.8470983000000001+0.0010896047953271818\n",
      "[46]\tcv-test-auc:0.8282252+0.012982119039663766\tcv-train-auc:0.8472167+0.0012184158608619696\n",
      "[47]\tcv-test-auc:0.8281426999999999+0.013193989730555349\tcv-train-auc:0.8472866+0.0011658999270949505\n",
      "[48]\tcv-test-auc:0.8283048+0.013193297925840983\tcv-train-auc:0.8475436999999999+0.001208150408682623\n",
      "[49]\tcv-test-auc:0.8283479+0.013240706517780684\tcv-train-auc:0.8476661999999999+0.0011592183400895623\n",
      "[50]\tcv-test-auc:0.8285301+0.013194496227215344\tcv-train-auc:0.8477574999999999+0.0011854614502378284\n",
      "[51]\tcv-test-auc:0.8287656+0.013195564203170694\tcv-train-auc:0.8479638999999999+0.0011130184589664208\n",
      "[52]\tcv-test-auc:0.8288032+0.013118391683434366\tcv-train-auc:0.848232+0.0011683902601442608\n",
      "[53]\tcv-test-auc:0.8289681+0.013154835296954501\tcv-train-auc:0.8484389+0.0011863230967995154\n",
      "[54]\tcv-test-auc:0.8291723+0.01302883379316813\tcv-train-auc:0.8486411+0.0012155824488696597\n",
      "[55]\tcv-test-auc:0.8293196+0.013104064103933553\tcv-train-auc:0.8487317000000001+0.0011628821995369775\n",
      "[56]\tcv-test-auc:0.8295096000000001+0.012989361463905759\tcv-train-auc:0.8488857+0.0011819531335886418\n",
      "[57]\tcv-test-auc:0.8295470999999999+0.012997497424119774\tcv-train-auc:0.8490613+0.001153541507705735\n",
      "[58]\tcv-test-auc:0.8298648+0.01305706165107603\tcv-train-auc:0.8493849000000001+0.0011316386746660781\n",
      "[59]\tcv-test-auc:0.8298938999999999+0.01327174704739357\tcv-train-auc:0.8495436+0.0011526305739481219\n",
      "[60]\tcv-test-auc:0.8299939000000001+0.013245149462727847\tcv-train-auc:0.8496722+0.0011792595812627638\n",
      "[61]\tcv-test-auc:0.8301401+0.013129255504026124\tcv-train-auc:0.8498657+0.0011406709472937555\n",
      "[62]\tcv-test-auc:0.8300895+0.013124650481060431\tcv-train-auc:0.8500601+0.0011286036018018006\n",
      "[63]\tcv-test-auc:0.8302409+0.0130381873774693\tcv-train-auc:0.8502837+0.0011830779391062882\n",
      "[64]\tcv-test-auc:0.8304531+0.012975922090163778\tcv-train-auc:0.8503799000000001+0.0012208333588168384\n",
      "[65]\tcv-test-auc:0.8303782+0.012909836596951956\tcv-train-auc:0.8505686000000001+0.0011970236589140637\n",
      "[66]\tcv-test-auc:0.8303261000000001+0.012785120073350899\tcv-train-auc:0.8506583999999998+0.0011899827897915074\n",
      "[67]\tcv-test-auc:0.8304528999999998+0.01298527622694256\tcv-train-auc:0.8508131999999999+0.0011601133392905873\n",
      "[68]\tcv-test-auc:0.8306848+0.012797151509613386\tcv-train-auc:0.8509784999999999+0.001201608775766896\n",
      "[69]\tcv-test-auc:0.8307990000000001+0.012816115308470015\tcv-train-auc:0.8510741+0.0012704501131488761\n",
      "[70]\tcv-test-auc:0.8309046+0.012846635491053669\tcv-train-auc:0.8512166999999999+0.0012386170554291654\n",
      "[71]\tcv-test-auc:0.8310782+0.012809131662997294\tcv-train-auc:0.8513558+0.0012820256471693468\n",
      "[72]\tcv-test-auc:0.8311447+0.012796766451334495\tcv-train-auc:0.8515098+0.0012321906346016423\n",
      "[73]\tcv-test-auc:0.8311865999999999+0.012800595659577712\tcv-train-auc:0.8516609+0.0012507146317206166\n",
      "[74]\tcv-test-auc:0.8312668000000001+0.01287958209570479\tcv-train-auc:0.8518293+0.001201663434577236\n",
      "[75]\tcv-test-auc:0.8313453000000001+0.012659580601662924\tcv-train-auc:0.8520433000000001+0.001242270586466563\n",
      "[76]\tcv-test-auc:0.8314448999999999+0.012818022776153874\tcv-train-auc:0.8521902000000001+0.0012104093357207832\n",
      "[77]\tcv-test-auc:0.8315151000000001+0.012733767898387363\tcv-train-auc:0.8523324999999999+0.001159011928325158\n",
      "[78]\tcv-test-auc:0.8316268000000001+0.012732636386860337\tcv-train-auc:0.8524682+0.0011091946447761118\n",
      "[79]\tcv-test-auc:0.8317668000000001+0.01266684104897507\tcv-train-auc:0.8526102000000002+0.0010832799084262526\n",
      "[80]\tcv-test-auc:0.8318733999999999+0.012721672242280125\tcv-train-auc:0.8527823+0.0010129906268075614\n",
      "[81]\tcv-test-auc:0.8320857+0.012658806302728557\tcv-train-auc:0.852949+0.001017737981997337\n",
      "[82]\tcv-test-auc:0.8322805000000001+0.01249612237656147\tcv-train-auc:0.8531267999999999+0.0010573780591633254\n",
      "[83]\tcv-test-auc:0.832293+0.012447480500085142\tcv-train-auc:0.8532569999999999+0.0010500194283916857\n",
      "[84]\tcv-test-auc:0.8324073999999999+0.012438025150320282\tcv-train-auc:0.8534377000000001+0.000958587194781989\n",
      "[85]\tcv-test-auc:0.8324821+0.012316380770745917\tcv-train-auc:0.8535505999999999+0.0009881619502895343\n",
      "[86]\tcv-test-auc:0.8326437+0.012318555013068703\tcv-train-auc:0.8537337+0.000951415477065618\n",
      "[87]\tcv-test-auc:0.8326509+0.012295154244254114\tcv-train-auc:0.8538419000000002+0.000979934635575279\n",
      "[88]\tcv-test-auc:0.8328064999999999+0.012270087214441467\tcv-train-auc:0.8539596999999999+0.0009591925823316073\n",
      "[89]\tcv-test-auc:0.8329022+0.012269208742213154\tcv-train-auc:0.8540861+0.0009754328731388832\n",
      "[90]\tcv-test-auc:0.8329174+0.012253583248992922\tcv-train-auc:0.8542235999999999+0.0009846642270337689\n",
      "[91]\tcv-test-auc:0.8329596+0.012260207618144154\tcv-train-auc:0.8543087+0.0009947308228862748\n",
      "[92]\tcv-test-auc:0.8330050999999999+0.012278286512783454\tcv-train-auc:0.8544518+0.0009835198828696998\n",
      "[93]\tcv-test-auc:0.8329983999999999+0.012292967584761613\tcv-train-auc:0.8545477+0.0009394233390756262\n",
      "[94]\tcv-test-auc:0.8332164000000001+0.012322585590694839\tcv-train-auc:0.8546862000000001+0.0009565336167642039\n",
      "[95]\tcv-test-auc:0.8332872+0.012379684897443862\tcv-train-auc:0.8548142999999999+0.000891862102569694\n",
      "[96]\tcv-test-auc:0.8333295999999999+0.01233082349399262\tcv-train-auc:0.8549719999999998+0.0008724033470820614\n",
      "[97]\tcv-test-auc:0.8333883+0.012330404949149066\tcv-train-auc:0.8550541+0.0008971605709124905\n",
      "[98]\tcv-test-auc:0.8334873999999999+0.012327593627306179\tcv-train-auc:0.8551544+0.000908681704448814\n",
      "[99]\tcv-test-auc:0.8335319+0.0123129328955371\tcv-train-auc:0.8552246+0.0009179251821363152\n",
      "[100]\tcv-test-auc:0.8336357000000001+0.012338342198610002\tcv-train-auc:0.8553483+0.0008862834817370883\n",
      "[101]\tcv-test-auc:0.8337118+0.0122993322241494\tcv-train-auc:0.8554736999999999+0.0009028180381450228\n",
      "[102]\tcv-test-auc:0.8337664+0.012303527203204783\tcv-train-auc:0.8556077+0.0009382360097544687\n",
      "[103]\tcv-test-auc:0.8338491999999998+0.012239348829084\tcv-train-auc:0.8557214999999999+0.0009102969021149055\n",
      "[104]\tcv-test-auc:0.8338183999999998+0.012152110534388664\tcv-train-auc:0.855823+0.0009318418320723723\n",
      "[105]\tcv-test-auc:0.8338458+0.01206699497638082\tcv-train-auc:0.8559467+0.0009211207358430393\n",
      "[106]\tcv-test-auc:0.8339138+0.012082201114035483\tcv-train-auc:0.8561116+0.000963773956900696\n",
      "[107]\tcv-test-auc:0.8338884999999999+0.01208287277306187\tcv-train-auc:0.8562630999999999+0.0009416983009435505\n",
      "[108]\tcv-test-auc:0.8339483+0.012016932812078131\tcv-train-auc:0.8563919999999999+0.0009303230621671386\n",
      "[109]\tcv-test-auc:0.8340854+0.01204479999169766\tcv-train-auc:0.8565074000000001+0.0008825526839798343\n",
      "[110]\tcv-test-auc:0.8341310999999999+0.011986158045428904\tcv-train-auc:0.8566554999999999+0.0008747655971744676\n",
      "[111]\tcv-test-auc:0.8342639999999999+0.01193534301140943\tcv-train-auc:0.8567597000000001+0.0008975539036737592\n",
      "[112]\tcv-test-auc:0.8344286000000001+0.011870702887360984\tcv-train-auc:0.8568602999999999+0.0008727342149818777\n",
      "[113]\tcv-test-auc:0.8343884000000001+0.011891720045477021\tcv-train-auc:0.8569530000000001+0.0008770573527426893\n",
      "[114]\tcv-test-auc:0.8344781000000001+0.011887480283474703\tcv-train-auc:0.8570945999999999+0.0008766111110406898\n",
      "[115]\tcv-test-auc:0.8345676000000001+0.011946406264647094\tcv-train-auc:0.8572521+0.0008993610454094675\n",
      "[116]\tcv-test-auc:0.8346235+0.011881829633941058\tcv-train-auc:0.8573742+0.0009362807057714998\n",
      "[117]\tcv-test-auc:0.8347139+0.011830530177891433\tcv-train-auc:0.8575225999999999+0.000886015259462285\n",
      "[118]\tcv-test-auc:0.8347802+0.01181098480059983\tcv-train-auc:0.8576713999999999+0.0008744341255920859\n",
      "[119]\tcv-test-auc:0.8348385+0.011786980684212552\tcv-train-auc:0.8577624+0.000905634716649049\n",
      "[120]\tcv-test-auc:0.8349987999999999+0.011846678655218112\tcv-train-auc:0.8579031+0.0008890663023644694\n",
      "[121]\tcv-test-auc:0.8350039+0.011873644861204168\tcv-train-auc:0.8580152+0.0009046154763212923\n",
      "[122]\tcv-test-auc:0.8349681+0.011902344831586755\tcv-train-auc:0.8581520000000001+0.0008769973774191138\n",
      "[123]\tcv-test-auc:0.8350686999999999+0.01178472874571154\tcv-train-auc:0.8582777+0.000913083243740676\n",
      "[124]\tcv-test-auc:0.8350700999999999+0.011732978227628315\tcv-train-auc:0.8583912999999999+0.0009346601574904135\n",
      "[125]\tcv-test-auc:0.8351008+0.011735270749326563\tcv-train-auc:0.8585288999999999+0.0008918429738468617\n",
      "[126]\tcv-test-auc:0.8351419+0.011737680694668769\tcv-train-auc:0.8586808999999999+0.0008961109808500297\n",
      "[127]\tcv-test-auc:0.8351172+0.011741086319416958\tcv-train-auc:0.8587939+0.000867386470957434\n",
      "[128]\tcv-test-auc:0.8351133000000001+0.011733198635069648\tcv-train-auc:0.8589294000000001+0.0008716125515387911\n",
      "[129]\tcv-test-auc:0.8351990999999999+0.011708029103568211\tcv-train-auc:0.8590499000000001+0.0008653109787816285\n",
      "[130]\tcv-test-auc:0.8352257+0.011632303547019376\tcv-train-auc:0.8591595+0.0008896482731956655\n",
      "[131]\tcv-test-auc:0.8352541+0.01163210087172562\tcv-train-auc:0.8592901+0.0008769742812648425\n",
      "[132]\tcv-test-auc:0.8352627+0.011639691319360664\tcv-train-auc:0.8594193000000001+0.0009035550951657617\n",
      "[133]\tcv-test-auc:0.8354067000000001+0.011655669127510433\tcv-train-auc:0.8595480999999999+0.0008979228753072371\n",
      "[134]\tcv-test-auc:0.8355078+0.011642803509464552\tcv-train-auc:0.8596622+0.0008965107695951161\n",
      "[135]\tcv-test-auc:0.8355832+0.011581074110806819\tcv-train-auc:0.8598221+0.000952597233882196\n",
      "[136]\tcv-test-auc:0.835613+0.011577216539393219\tcv-train-auc:0.8599469000000001+0.000972969418841098\n",
      "[137]\tcv-test-auc:0.8356017999999998+0.011603113485612371\tcv-train-auc:0.8600673999999999+0.000963906447742731\n",
      "[138]\tcv-test-auc:0.8355555000000001+0.011592881956183297\tcv-train-auc:0.8601661999999999+0.0009751722719601993\n",
      "[139]\tcv-test-auc:0.8355836999999999+0.011638641269924963\tcv-train-auc:0.8603297+0.000974635731953217\n",
      "[140]\tcv-test-auc:0.8356166999999999+0.011577524701334043\tcv-train-auc:0.8604637+0.0009664117186789473\n",
      "[141]\tcv-test-auc:0.8356638999999999+0.011583445682956345\tcv-train-auc:0.8605748+0.0009554816377094806\n",
      "[142]\tcv-test-auc:0.8356931999999999+0.011564678567085202\tcv-train-auc:0.8606837+0.0009788085665746876\n",
      "[143]\tcv-test-auc:0.8357502+0.011587863822120108\tcv-train-auc:0.8607975+0.000968392921287634\n",
      "[144]\tcv-test-auc:0.8358436999999999+0.011593532481948731\tcv-train-auc:0.8609392+0.000978170721295609\n",
      "[145]\tcv-test-auc:0.8359126+0.011621378259053426\tcv-train-auc:0.8610654999999999+0.0009737744348667388\n",
      "[146]\tcv-test-auc:0.835933+0.011645075654541714\tcv-train-auc:0.8611948+0.0009806776024769853\n",
      "[147]\tcv-test-auc:0.8360032000000001+0.011579795143265695\tcv-train-auc:0.8613377+0.0009703400486427359\n",
      "[148]\tcv-test-auc:0.8359297+0.01158457412294469\tcv-train-auc:0.8614748999999999+0.0009779075058511514\n",
      "[149]\tcv-test-auc:0.8360178000000001+0.0115606133038001\tcv-train-auc:0.8616199+0.000964693365790394\n",
      "[150]\tcv-test-auc:0.8360426999999999+0.011522756233210875\tcv-train-auc:0.8617496000000001+0.0009551405341623845\n",
      "[151]\tcv-test-auc:0.8360603+0.011519907630272056\tcv-train-auc:0.8619096+0.0009560812936147216\n",
      "[152]\tcv-test-auc:0.8360502999999999+0.011467091087542639\tcv-train-auc:0.8620224000000001+0.0009377165030007673\n",
      "[153]\tcv-test-auc:0.8362510000000001+0.011561084447403716\tcv-train-auc:0.8621732+0.0009440393847716496\n",
      "[154]\tcv-test-auc:0.8362997999999999+0.011564632590791638\tcv-train-auc:0.8623102000000001+0.0009313089498120281\n",
      "[155]\tcv-test-auc:0.8363354+0.011518854554164674\tcv-train-auc:0.8624559999999999+0.000917359362518307\n",
      "[156]\tcv-test-auc:0.836384+0.011547265832221916\tcv-train-auc:0.8626355+0.000935991052307671\n",
      "[157]\tcv-test-auc:0.8363913000000001+0.011449771334397897\tcv-train-auc:0.8627656+0.0009188871747935255\n",
      "[158]\tcv-test-auc:0.8364339000000001+0.01147560272447595\tcv-train-auc:0.8628800999999999+0.0009154166756182663\n",
      "[159]\tcv-test-auc:0.8365438000000001+0.011382942789981858\tcv-train-auc:0.8630454999999999+0.0008861903012333149\n",
      "[160]\tcv-test-auc:0.8366358999999999+0.011355228552961852\tcv-train-auc:0.8631683000000001+0.0008693109972846178\n",
      "[161]\tcv-test-auc:0.8367150000000001+0.011343500561995835\tcv-train-auc:0.8633402+0.0008686778229009918\n",
      "[162]\tcv-test-auc:0.8367458000000001+0.011316766197107725\tcv-train-auc:0.8635128000000002+0.0008742197435427638\n",
      "[163]\tcv-test-auc:0.8367260000000002+0.01131785059099119\tcv-train-auc:0.8636503000000001+0.0008776852567976638\n",
      "[164]\tcv-test-auc:0.8367728+0.011297399371536804\tcv-train-auc:0.8637779999999999+0.0008619020826056754\n",
      "[165]\tcv-test-auc:0.8368358+0.011280605762103369\tcv-train-auc:0.8639235+0.0008218966175864175\n",
      "[166]\tcv-test-auc:0.8369254999999999+0.011280362425471962\tcv-train-auc:0.8640721000000001+0.0008376682457870754\n",
      "[167]\tcv-test-auc:0.8370279+0.011348600516803822\tcv-train-auc:0.8642443+0.0008561853829633015\n",
      "[168]\tcv-test-auc:0.8371057000000001+0.011348545863237284\tcv-train-auc:0.8643981999999999+0.0008741508794252868\n",
      "[169]\tcv-test-auc:0.8371649+0.011323885061673856\tcv-train-auc:0.8645723000000001+0.000876115979765247\n",
      "[170]\tcv-test-auc:0.8371995999999999+0.011298362414084598\tcv-train-auc:0.8646795+0.000875415130095434\n",
      "[171]\tcv-test-auc:0.8372835000000001+0.011343608572672104\tcv-train-auc:0.8648047+0.0008853818441779743\n",
      "[172]\tcv-test-auc:0.8372488+0.011289580078993191\tcv-train-auc:0.8649557000000001+0.0008828535609035061\n",
      "[173]\tcv-test-auc:0.8372915000000001+0.01129257066615037\tcv-train-auc:0.8651086000000001+0.0008582143322037902\n",
      "[174]\tcv-test-auc:0.8373191999999999+0.01128535892030022\tcv-train-auc:0.8652555+0.0008640022280063808\n",
      "[175]\tcv-test-auc:0.8373506+0.011294689258231055\tcv-train-auc:0.8653802+0.0008728674355250189\n",
      "[176]\tcv-test-auc:0.8373386+0.011264447471580667\tcv-train-auc:0.8655034+0.0009027162566388356\n",
      "[177]\tcv-test-auc:0.8373859999999999+0.011242186228665657\tcv-train-auc:0.8656554+0.0008959093927401317\n",
      "[178]\tcv-test-auc:0.837466+0.011280017109916107\tcv-train-auc:0.8657654000000001+0.0009069178794135614\n",
      "[179]\tcv-test-auc:0.8375116+0.011325971968886385\tcv-train-auc:0.8659203+0.0009041338451800129\n",
      "[180]\tcv-test-auc:0.8375371999999999+0.011353743213583798\tcv-train-auc:0.8660506+0.000883026862558584\n",
      "[181]\tcv-test-auc:0.8375090999999999+0.011386570383131168\tcv-train-auc:0.866206+0.0008598663849691832\n",
      "[182]\tcv-test-auc:0.8376132000000001+0.011382192238756124\tcv-train-auc:0.8663399+0.0008818951695071382\n",
      "[183]\tcv-test-auc:0.8376096000000001+0.011407775122257621\tcv-train-auc:0.8665068+0.0008463457685839701\n",
      "[184]\tcv-test-auc:0.8377083000000001+0.011393663248051536\tcv-train-auc:0.8666246000000001+0.0008530928671604443\n",
      "[185]\tcv-test-auc:0.8377524000000001+0.011401168678692538\tcv-train-auc:0.8667925000000001+0.0008423067434136063\n",
      "[186]\tcv-test-auc:0.8378004000000001+0.01139128349397029\tcv-train-auc:0.8669242+0.0008468241612046779\n",
      "[187]\tcv-test-auc:0.8378353000000001+0.011389324071690991\tcv-train-auc:0.8670408000000001+0.0008281800287377163\n",
      "[188]\tcv-test-auc:0.8379562999999999+0.011331606603213857\tcv-train-auc:0.8671854+0.0008543294680625107\n",
      "[189]\tcv-test-auc:0.8379303+0.011258943192413749\tcv-train-auc:0.8673212999999999+0.000871451782946145\n",
      "[190]\tcv-test-auc:0.8379958999999999+0.011223794763358776\tcv-train-auc:0.8674868+0.000889759720373979\n",
      "[191]\tcv-test-auc:0.8379442000000001+0.011224406664051332\tcv-train-auc:0.8676313999999999+0.0008764671357215893\n",
      "[192]\tcv-test-auc:0.8379849+0.011255598850794236\tcv-train-auc:0.8677912000000001+0.0008789810919468068\n",
      "[193]\tcv-test-auc:0.8380286+0.011213123910846617\tcv-train-auc:0.8679661+0.0008956372535798201\n",
      "[194]\tcv-test-auc:0.8380889+0.011216705375911422\tcv-train-auc:0.8681091999999999+0.0008831989356877581\n",
      "[195]\tcv-test-auc:0.8381072999999999+0.011217717450979053\tcv-train-auc:0.868266+0.0008754988292396438\n",
      "[196]\tcv-test-auc:0.8381249999999998+0.011194516461196517\tcv-train-auc:0.8683799000000001+0.0008626532849297099\n",
      "[197]\tcv-test-auc:0.8382437999999999+0.011219713898313097\tcv-train-auc:0.8685141999999999+0.0008709922846960424\n",
      "[198]\tcv-test-auc:0.8383435+0.011204225544409597\tcv-train-auc:0.8686510999999999+0.0008711572131366491\n",
      "[199]\tcv-test-auc:0.8383936000000001+0.01116258316161632\tcv-train-auc:0.8687818+0.0008787894855993723\n",
      "[200]\tcv-test-auc:0.8384288+0.011158059372489452\tcv-train-auc:0.8689389000000001+0.0008873144256688243\n",
      "[201]\tcv-test-auc:0.8384974+0.011186677122362987\tcv-train-auc:0.8690597+0.0008804677222930898\n",
      "[202]\tcv-test-auc:0.8384807000000001+0.011199655584436502\tcv-train-auc:0.8692071+0.0008803094285533864\n",
      "[203]\tcv-test-auc:0.838516+0.011212446780252756\tcv-train-auc:0.8693236000000001+0.0009078903237726318\n",
      "[204]\tcv-test-auc:0.8385221999999999+0.01123129530196762\tcv-train-auc:0.8694722+0.0009022302145239885\n",
      "[205]\tcv-test-auc:0.8385938999999999+0.01121157677090961\tcv-train-auc:0.8695929+0.0009061096456831286\n",
      "[206]\tcv-test-auc:0.8385891000000001+0.01122532153169787\tcv-train-auc:0.8697287999999999+0.0008831017834881713\n",
      "[207]\tcv-test-auc:0.838627+0.011240689222641109\tcv-train-auc:0.8698427000000001+0.000877460318191087\n",
      "[208]\tcv-test-auc:0.8386962+0.011269322968128999\tcv-train-auc:0.8699937+0.0008649803523780281\n",
      "[209]\tcv-test-auc:0.8387298+0.011205250812007723\tcv-train-auc:0.8701367+0.0008707987195672696\n",
      "[210]\tcv-test-auc:0.8387701999999999+0.011182149031380319\tcv-train-auc:0.8702766000000001+0.0008600278135037275\n",
      "[211]\tcv-test-auc:0.8388390000000001+0.011231979620707997\tcv-train-auc:0.8704129999999999+0.0008455910359032998\n",
      "[212]\tcv-test-auc:0.8389405+0.011228721514491294\tcv-train-auc:0.8705598+0.000833611396275252\n",
      "[213]\tcv-test-auc:0.8389241999999999+0.01126837745906659\tcv-train-auc:0.8706748+0.000833336762659601\n",
      "[214]\tcv-test-auc:0.8389369+0.011281023813909812\tcv-train-auc:0.8708062999999999+0.0008092515122012423\n",
      "[215]\tcv-test-auc:0.8390243+0.011262761775426117\tcv-train-auc:0.8709508000000001+0.0007886010144553385\n",
      "[216]\tcv-test-auc:0.8390963000000001+0.011208573736653554\tcv-train-auc:0.8710815000000001+0.0008036193439682607\n",
      "[217]\tcv-test-auc:0.839133+0.01121024189747928\tcv-train-auc:0.8712148+0.0008089643749881769\n",
      "[218]\tcv-test-auc:0.8391714+0.011205446454291777\tcv-train-auc:0.8713787000000002+0.0008312870803759775\n",
      "[219]\tcv-test-auc:0.8391586999999999+0.011209306838961996\tcv-train-auc:0.8715250000000001+0.0008173821627610795\n",
      "[220]\tcv-test-auc:0.8392218+0.011194460860622098\tcv-train-auc:0.8716549999999998+0.0008143345749751626\n",
      "[221]\tcv-test-auc:0.8392793999999999+0.011120053571813414\tcv-train-auc:0.8717914+0.0007946254715272926\n",
      "[222]\tcv-test-auc:0.8393358+0.01114409844536558\tcv-train-auc:0.8719349+0.0007993894482666179\n",
      "[223]\tcv-test-auc:0.8393773999999998+0.011137056641680519\tcv-train-auc:0.8720678000000002+0.0007731464026948751\n",
      "[224]\tcv-test-auc:0.8394324+0.011107673601614325\tcv-train-auc:0.8722046000000001+0.0007962357942217852\n",
      "[225]\tcv-test-auc:0.8394600000000001+0.011111852068849733\tcv-train-auc:0.8723436+0.0007919918181395649\n",
      "[226]\tcv-test-auc:0.8394752999999999+0.011050596952653745\tcv-train-auc:0.8724753+0.0007902633801461447\n",
      "[227]\tcv-test-auc:0.8395195000000001+0.01106450203353048\tcv-train-auc:0.8725925999999999+0.0007929647154823434\n",
      "[228]\tcv-test-auc:0.8395547999999999+0.01105131575695854\tcv-train-auc:0.8727222999999998+0.0007847622633638628\n",
      "[229]\tcv-test-auc:0.8395929000000001+0.011076876793121799\tcv-train-auc:0.8728476000000001+0.0007883352332605679\n",
      "[230]\tcv-test-auc:0.8395828+0.011088694673404982\tcv-train-auc:0.8729899+0.00080091515780387\n",
      "[231]\tcv-test-auc:0.8395934+0.011048672456001237\tcv-train-auc:0.8731278+0.0008046114341717995\n",
      "[232]\tcv-test-auc:0.8396106+0.01105994231630528\tcv-train-auc:0.8732393999999999+0.0007992694414275925\n",
      "[233]\tcv-test-auc:0.8396091+0.011077761131654712\tcv-train-auc:0.8733755000000001+0.0008093024465550415\n",
      "[234]\tcv-test-auc:0.839691+0.011066675878510214\tcv-train-auc:0.8735037+0.0007979471223082549\n",
      "[235]\tcv-test-auc:0.8397352999999999+0.011046721921457062\tcv-train-auc:0.8736370000000001+0.0007911668597710502\n",
      "[236]\tcv-test-auc:0.8397387999999999+0.011038116640079476\tcv-train-auc:0.8737704+0.0007757905903012672\n",
      "[237]\tcv-test-auc:0.8397879999999999+0.011055859749472213\tcv-train-auc:0.8738925999999999+0.0007648994966660827\n",
      "[238]\tcv-test-auc:0.8397781+0.01105895208824054\tcv-train-auc:0.8740017+0.0007745783433584979\n",
      "[239]\tcv-test-auc:0.8397795+0.01107884214392461\tcv-train-auc:0.8741412000000001+0.0007456139483673803\n",
      "[240]\tcv-test-auc:0.8398711999999999+0.011125560532395672\tcv-train-auc:0.8742729+0.0007497161396155324\n",
      "[241]\tcv-test-auc:0.8399677000000001+0.011114037916527016\tcv-train-auc:0.8744023999999999+0.0007374066991830192\n",
      "[242]\tcv-test-auc:0.839992+0.011106254553178582\tcv-train-auc:0.8745512+0.0007261776366702512\n",
      "[243]\tcv-test-auc:0.8400394999999999+0.011114144494741813\tcv-train-auc:0.8746957+0.0007323603006717473\n",
      "[244]\tcv-test-auc:0.8400598+0.011132751455053675\tcv-train-auc:0.8748410999999999+0.000740266364223035\n",
      "[245]\tcv-test-auc:0.8401031+0.01113079310247029\tcv-train-auc:0.8749723000000001+0.0007541895053632168\n",
      "[246]\tcv-test-auc:0.8401548+0.01115416375888395\tcv-train-auc:0.8750978+0.0007410327658072818\n",
      "[247]\tcv-test-auc:0.8401926+0.011179470508033914\tcv-train-auc:0.8752289+0.0007414822250061008\n",
      "[248]\tcv-test-auc:0.840217+0.011223955906898416\tcv-train-auc:0.8753446000000003+0.0007461262895783797\n",
      "[249]\tcv-test-auc:0.8402232999999999+0.011216682870171538\tcv-train-auc:0.8754523000000001+0.0007442650132849246\n",
      "[250]\tcv-test-auc:0.8402436+0.011225817994248814\tcv-train-auc:0.8755965+0.0007412336001558448\n",
      "[251]\tcv-test-auc:0.8403099+0.01121176964131889\tcv-train-auc:0.8757242999999999+0.000735639456527454\n",
      "[252]\tcv-test-auc:0.8403180000000001+0.0112075514810328\tcv-train-auc:0.8758342000000001+0.0007535495736844387\n",
      "[253]\tcv-test-auc:0.8403141999999999+0.011202400589159464\tcv-train-auc:0.8759688999999999+0.0007612364218821856\n",
      "[254]\tcv-test-auc:0.8402942999999998+0.011222948392022477\tcv-train-auc:0.8760987+0.0007785029287035532\n",
      "[255]\tcv-test-auc:0.8403046999999999+0.011238574856715616\tcv-train-auc:0.8762410999999999+0.0007727640584292224\n",
      "[256]\tcv-test-auc:0.8403191+0.01117516029817918\tcv-train-auc:0.8763698+0.0007883709532954627\n"
     ]
    },
    {
     "ename": "KeyboardInterrupt",
     "evalue": "",
     "output_type": "error",
     "traceback": [
      "\u001b[1;31m---------------------------------------------------------------------------\u001b[0m",
      "\u001b[1;31mKeyboardInterrupt\u001b[0m                         Traceback (most recent call last)",
      "\u001b[1;32m<ipython-input-43-67e76193e93f>\u001b[0m in \u001b[0;36m<module>\u001b[1;34m()\u001b[0m\n\u001b[0;32m      1\u001b[0m res2 = xgb.cv(params, dktrain, num_boost_round=1000, nfold=10, stratified=True, early_stopping_rounds=300,\n\u001b[1;32m----> 2\u001b[1;33m               verbose_eval=True)\n\u001b[0m",
      "\u001b[1;32m/home/libfun/vrt/lib/python3.4/site-packages/xgboost-0.4-py3.4.egg/xgboost/training.py\u001b[0m in \u001b[0;36mcv\u001b[1;34m(params, dtrain, num_boost_round, nfold, stratified, folds, metrics, obj, feval, maximize, early_stopping_rounds, fpreproc, as_pandas, verbose_eval, show_stdv, seed)\u001b[0m\n\u001b[0;32m    454\u001b[0m     \u001b[1;32mfor\u001b[0m \u001b[0mi\u001b[0m \u001b[1;32min\u001b[0m \u001b[0mrange\u001b[0m\u001b[1;33m(\u001b[0m\u001b[0mnum_boost_round\u001b[0m\u001b[1;33m)\u001b[0m\u001b[1;33m:\u001b[0m\u001b[1;33m\u001b[0m\u001b[0m\n\u001b[0;32m    455\u001b[0m         \u001b[1;32mfor\u001b[0m \u001b[0mfold\u001b[0m \u001b[1;32min\u001b[0m \u001b[0mcvfolds\u001b[0m\u001b[1;33m:\u001b[0m\u001b[1;33m\u001b[0m\u001b[0m\n\u001b[1;32m--> 456\u001b[1;33m             \u001b[0mfold\u001b[0m\u001b[1;33m.\u001b[0m\u001b[0mupdate\u001b[0m\u001b[1;33m(\u001b[0m\u001b[0mi\u001b[0m\u001b[1;33m,\u001b[0m \u001b[0mobj\u001b[0m\u001b[1;33m)\u001b[0m\u001b[1;33m\u001b[0m\u001b[0m\n\u001b[0m\u001b[0;32m    457\u001b[0m         res = aggcv([f.eval(i, feval) for f in cvfolds],\n\u001b[0;32m    458\u001b[0m                     \u001b[0mshow_stdv\u001b[0m\u001b[1;33m=\u001b[0m\u001b[0mshow_stdv\u001b[0m\u001b[1;33m,\u001b[0m \u001b[0mverbose_eval\u001b[0m\u001b[1;33m=\u001b[0m\u001b[0mverbose_eval\u001b[0m\u001b[1;33m,\u001b[0m\u001b[1;33m\u001b[0m\u001b[0m\n",
      "\u001b[1;32m/home/libfun/vrt/lib/python3.4/site-packages/xgboost-0.4-py3.4.egg/xgboost/training.py\u001b[0m in \u001b[0;36mupdate\u001b[1;34m(self, iteration, fobj)\u001b[0m\n\u001b[0;32m    251\u001b[0m     \u001b[1;32mdef\u001b[0m \u001b[0mupdate\u001b[0m\u001b[1;33m(\u001b[0m\u001b[0mself\u001b[0m\u001b[1;33m,\u001b[0m \u001b[0miteration\u001b[0m\u001b[1;33m,\u001b[0m \u001b[0mfobj\u001b[0m\u001b[1;33m)\u001b[0m\u001b[1;33m:\u001b[0m\u001b[1;33m\u001b[0m\u001b[0m\n\u001b[0;32m    252\u001b[0m         \u001b[1;34m\"\"\"\"Update the boosters for one iteration\"\"\"\u001b[0m\u001b[1;33m\u001b[0m\u001b[0m\n\u001b[1;32m--> 253\u001b[1;33m         \u001b[0mself\u001b[0m\u001b[1;33m.\u001b[0m\u001b[0mbst\u001b[0m\u001b[1;33m.\u001b[0m\u001b[0mupdate\u001b[0m\u001b[1;33m(\u001b[0m\u001b[0mself\u001b[0m\u001b[1;33m.\u001b[0m\u001b[0mdtrain\u001b[0m\u001b[1;33m,\u001b[0m \u001b[0miteration\u001b[0m\u001b[1;33m,\u001b[0m \u001b[0mfobj\u001b[0m\u001b[1;33m)\u001b[0m\u001b[1;33m\u001b[0m\u001b[0m\n\u001b[0m\u001b[0;32m    254\u001b[0m \u001b[1;33m\u001b[0m\u001b[0m\n\u001b[0;32m    255\u001b[0m     \u001b[1;32mdef\u001b[0m \u001b[0meval\u001b[0m\u001b[1;33m(\u001b[0m\u001b[0mself\u001b[0m\u001b[1;33m,\u001b[0m \u001b[0miteration\u001b[0m\u001b[1;33m,\u001b[0m \u001b[0mfeval\u001b[0m\u001b[1;33m)\u001b[0m\u001b[1;33m:\u001b[0m\u001b[1;33m\u001b[0m\u001b[0m\n",
      "\u001b[1;32m/home/libfun/vrt/lib/python3.4/site-packages/xgboost-0.4-py3.4.egg/xgboost/core.py\u001b[0m in \u001b[0;36mupdate\u001b[1;34m(self, dtrain, iteration, fobj)\u001b[0m\n\u001b[0;32m    748\u001b[0m \u001b[1;33m\u001b[0m\u001b[0m\n\u001b[0;32m    749\u001b[0m         \u001b[1;32mif\u001b[0m \u001b[0mfobj\u001b[0m \u001b[1;32mis\u001b[0m \u001b[1;32mNone\u001b[0m\u001b[1;33m:\u001b[0m\u001b[1;33m\u001b[0m\u001b[0m\n\u001b[1;32m--> 750\u001b[1;33m             \u001b[0m_check_call\u001b[0m\u001b[1;33m(\u001b[0m\u001b[0m_LIB\u001b[0m\u001b[1;33m.\u001b[0m\u001b[0mXGBoosterUpdateOneIter\u001b[0m\u001b[1;33m(\u001b[0m\u001b[0mself\u001b[0m\u001b[1;33m.\u001b[0m\u001b[0mhandle\u001b[0m\u001b[1;33m,\u001b[0m \u001b[0miteration\u001b[0m\u001b[1;33m,\u001b[0m \u001b[0mdtrain\u001b[0m\u001b[1;33m.\u001b[0m\u001b[0mhandle\u001b[0m\u001b[1;33m)\u001b[0m\u001b[1;33m)\u001b[0m\u001b[1;33m\u001b[0m\u001b[0m\n\u001b[0m\u001b[0;32m    751\u001b[0m         \u001b[1;32melse\u001b[0m\u001b[1;33m:\u001b[0m\u001b[1;33m\u001b[0m\u001b[0m\n\u001b[0;32m    752\u001b[0m             \u001b[0mpred\u001b[0m \u001b[1;33m=\u001b[0m \u001b[0mself\u001b[0m\u001b[1;33m.\u001b[0m\u001b[0mpredict\u001b[0m\u001b[1;33m(\u001b[0m\u001b[0mdtrain\u001b[0m\u001b[1;33m)\u001b[0m\u001b[1;33m\u001b[0m\u001b[0m\n",
      "\u001b[1;31mKeyboardInterrupt\u001b[0m: "
     ]
    }
   ],
   "source": [
    "res2 = xgb.cv(params, dktrain, num_boost_round=1000, nfold=10, stratified=True, early_stopping_rounds=300,\n",
    "              verbose_eval=True)"
   ]
  },
  {
   "cell_type": "code",
   "execution_count": null,
   "metadata": {
    "collapsed": true
   },
   "outputs": [],
   "source": []
  },
  {
   "cell_type": "code",
   "execution_count": 10,
   "metadata": {
    "collapsed": true
   },
   "outputs": [],
   "source": [
    "skf = StratifiedKFold(target, n_folds=10, random_state=42)"
   ]
  },
  {
   "cell_type": "code",
   "execution_count": 11,
   "metadata": {
    "collapsed": true
   },
   "outputs": [],
   "source": [
    "res = cross_val_score(RandomForestClassifier(n_estimators=1500, max_depth=50, \n",
    "                                             max_features=50, n_jobs=-1,\n",
    "                                             random_state=0),\n",
    "                      train, target, scoring='roc_auc', cv=skf)"
   ]
  },
  {
   "cell_type": "code",
   "execution_count": 12,
   "metadata": {
    "collapsed": false
   },
   "outputs": [
    {
     "name": "stdout",
     "output_type": "stream",
     "text": [
      "[ 0.81980316  0.82652889  0.80696928  0.82204208  0.82376237  0.83331324\n",
      "  0.83998096  0.85333348  0.84990458  0.81490572] 0.829054374932 0.0142084848769\n"
     ]
    }
   ],
   "source": [
    "print(res, np.mean(res), np.std(res))"
   ]
  },
  {
   "cell_type": "code",
   "execution_count": 13,
   "metadata": {
    "collapsed": true
   },
   "outputs": [],
   "source": [
    "rese = cross_val_score(ExtraTreesClassifier(n_estimators=500, max_depth=50, \n",
    "                                             max_features=50, n_jobs=-1,\n",
    "                                             random_state=0),\n",
    "                      train, target, scoring='roc_auc', cv=skf)"
   ]
  },
  {
   "cell_type": "code",
   "execution_count": 14,
   "metadata": {
    "collapsed": false
   },
   "outputs": [
    {
     "name": "stdout",
     "output_type": "stream",
     "text": [
      "[ 0.81169816  0.80918963  0.79401584  0.80832986  0.81212559  0.81999075\n",
      "  0.82329254  0.83714605  0.82650436  0.80781605] 0.815010881689 0.0114272932867\n"
     ]
    }
   ],
   "source": [
    "print(rese, np.mean(rese), np.std(rese))"
   ]
  },
  {
   "cell_type": "code",
   "execution_count": 17,
   "metadata": {
    "collapsed": false
   },
   "outputs": [],
   "source": [
    "st = train.ix[:, :292]"
   ]
  },
  {
   "cell_type": "code",
   "execution_count": 18,
   "metadata": {
    "collapsed": true
   },
   "outputs": [],
   "source": [
    "rest = cross_val_score(RandomForestClassifier(n_estimators=1500, max_depth=50, \n",
    "                                             max_features=50, n_jobs=-1,\n",
    "                                             random_state=0),\n",
    "                      st, target, scoring='roc_auc', cv=skf)"
   ]
  },
  {
   "cell_type": "code",
   "execution_count": 19,
   "metadata": {
    "collapsed": false
   },
   "outputs": [
    {
     "name": "stdout",
     "output_type": "stream",
     "text": [
      "[ 0.78238588  0.7767728   0.76983743  0.76453665  0.75228351  0.78557231\n",
      "  0.79920877  0.79396601  0.80247204  0.76939027] 0.779642567504 0.0152907241562\n"
     ]
    }
   ],
   "source": [
    "print(rest, np.mean(rest), np.std(rest))"
   ]
  },
  {
   "cell_type": "code",
   "execution_count": 20,
   "metadata": {
    "collapsed": true
   },
   "outputs": [],
   "source": [
    "reset = cross_val_score(ExtraTreesClassifier(n_estimators=500, max_depth=50, \n",
    "                                             max_features=50, n_jobs=-1,\n",
    "                                             random_state=0),\n",
    "                      st, target, scoring='roc_auc', cv=skf)"
   ]
  },
  {
   "cell_type": "code",
   "execution_count": 21,
   "metadata": {
    "collapsed": false
   },
   "outputs": [
    {
     "name": "stdout",
     "output_type": "stream",
     "text": [
      "[ 0.77235473  0.75757199  0.74889618  0.73359859  0.72838177  0.74897627\n",
      "  0.76357969  0.76439285  0.77726978  0.75705314] 0.75520750053 0.0148642490642\n"
     ]
    }
   ],
   "source": [
    "print(reset, np.mean(reset), np.std(reset))"
   ]
  },
  {
   "cell_type": "code",
   "execution_count": 23,
   "metadata": {
    "collapsed": false
   },
   "outputs": [],
   "source": [
    "test = pd.read_csv('stm_test.csv.gz', index_col=0)"
   ]
  },
  {
   "cell_type": "code",
   "execution_count": 25,
   "metadata": {
    "collapsed": true
   },
   "outputs": [],
   "source": [
    "clf = RandomForestClassifier(n_estimators=5000, max_depth=50, \n",
    "                                             max_features=50, n_jobs=-1,\n",
    "                                             random_state=0)"
   ]
  },
  {
   "cell_type": "code",
   "execution_count": 26,
   "metadata": {
    "collapsed": false
   },
   "outputs": [
    {
     "data": {
      "text/plain": [
       "RandomForestClassifier(bootstrap=True, class_weight=None, criterion='gini',\n",
       "            max_depth=50, max_features=50, max_leaf_nodes=None,\n",
       "            min_samples_leaf=1, min_samples_split=2,\n",
       "            min_weight_fraction_leaf=0.0, n_estimators=5000, n_jobs=-1,\n",
       "            oob_score=False, random_state=0, verbose=0, warm_start=False)"
      ]
     },
     "execution_count": 26,
     "metadata": {},
     "output_type": "execute_result"
    }
   ],
   "source": [
    "clf.fit(train, target)"
   ]
  },
  {
   "cell_type": "code",
   "execution_count": 27,
   "metadata": {
    "collapsed": true
   },
   "outputs": [],
   "source": [
    "preds = clf.predict_proba(test)[:, 1]"
   ]
  },
  {
   "cell_type": "code",
   "execution_count": 28,
   "metadata": {
    "collapsed": true
   },
   "outputs": [],
   "source": [
    "sub = pd.read_csv('data/sample_submission.csv', index_col='ID')\n",
    "sub.TARGET = preds\n",
    "sub.to_csv('submission/rf.csv')"
   ]
  },
  {
   "cell_type": "code",
   "execution_count": 29,
   "metadata": {
    "collapsed": true
   },
   "outputs": [],
   "source": [
    "clf = ExtraTreesClassifier(n_estimators=5000, max_depth=50, \n",
    "                                             max_features=50, n_jobs=-1,\n",
    "                                             random_state=0)"
   ]
  },
  {
   "cell_type": "code",
   "execution_count": 30,
   "metadata": {
    "collapsed": false
   },
   "outputs": [
    {
     "data": {
      "text/plain": [
       "ExtraTreesClassifier(bootstrap=False, class_weight=None, criterion='gini',\n",
       "           max_depth=50, max_features=50, max_leaf_nodes=None,\n",
       "           min_samples_leaf=1, min_samples_split=2,\n",
       "           min_weight_fraction_leaf=0.0, n_estimators=5000, n_jobs=-1,\n",
       "           oob_score=False, random_state=0, verbose=0, warm_start=False)"
      ]
     },
     "execution_count": 30,
     "metadata": {},
     "output_type": "execute_result"
    }
   ],
   "source": [
    "clf.fit(train, target)"
   ]
  },
  {
   "cell_type": "code",
   "execution_count": 31,
   "metadata": {
    "collapsed": true
   },
   "outputs": [],
   "source": [
    "preds = clf.predict_proba(test)[:, 1]"
   ]
  },
  {
   "cell_type": "code",
   "execution_count": 32,
   "metadata": {
    "collapsed": true
   },
   "outputs": [],
   "source": [
    "sub = pd.read_csv('data/sample_submission.csv', index_col='ID')\n",
    "sub.TARGET = preds\n",
    "sub.to_csv('submission/et.csv')"
   ]
  }
 ],
 "metadata": {
  "kernelspec": {
   "display_name": "Python 3",
   "language": "python",
   "name": "python3"
  },
  "language_info": {
   "codemirror_mode": {
    "name": "ipython",
    "version": 3
   },
   "file_extension": ".py",
   "mimetype": "text/x-python",
   "name": "python",
   "nbconvert_exporter": "python",
   "pygments_lexer": "ipython3",
   "version": "3.4.3"
  }
 },
 "nbformat": 4,
 "nbformat_minor": 0
}
